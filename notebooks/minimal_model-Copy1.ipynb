{
 "cells": [
  {
   "cell_type": "code",
   "execution_count": 1,
   "id": "8a9d61bd",
   "metadata": {},
   "outputs": [
    {
     "name": "stdout",
     "output_type": "stream",
     "text": [
      "1.9.0\n",
      "0.9.0\n"
     ]
    }
   ],
   "source": [
    "from __future__ import print_function, division,unicode_literals\n",
    "import os\n",
    "import pandas as pd\n",
    "from skimage import io, transform\n",
    "import numpy as np\n",
    "import matplotlib.pyplot as plt\n",
    "import librosa\n",
    "\n",
    "from io import open\n",
    "import unicodedata\n",
    "import string\n",
    "import re\n",
    "import random\n",
    "\n",
    "from tqdm.auto import tqdm\n",
    "import json\n",
    "\n",
    "import torch\n",
    "from torch.utils.data import Dataset, DataLoader\n",
    "from torchvision import transforms, utils\n",
    "import torch.nn as nn\n",
    "from torch import optim\n",
    "from torch.nn.utils.rnn import pack_padded_sequence, pad_packed_sequence\n",
    "from torch.utils.data.dataloader import default_collate\n",
    "\n",
    "\n",
    "import torch.nn.functional as Fi\n",
    "\n",
    "\n",
    "import torchaudio\n",
    "import torchaudio.functional as F\n",
    "import torchaudio.transforms as T\n",
    "\n",
    "print(torch.__version__)\n",
    "print(torchaudio.__version__)\n",
    "\n",
    "\n",
    "import string\n",
    "\n",
    "device = torch.device(\"cuda\" if torch.cuda.is_available() else \"cpu\")"
   ]
  },
  {
   "cell_type": "code",
   "execution_count": 146,
   "id": "ca4db402",
   "metadata": {},
   "outputs": [
    {
     "data": {
      "text/plain": [
       "945"
      ]
     },
     "execution_count": 146,
     "metadata": {},
     "output_type": "execute_result"
    }
   ],
   "source": [
    "len(train_text)"
   ]
  },
  {
   "cell_type": "code",
   "execution_count": 2,
   "id": "2119bd40",
   "metadata": {},
   "outputs": [
    {
     "data": {
      "application/vnd.jupyter.widget-view+json": {
       "model_id": "c190af8ef7a642bdacf791b7d3183f6f",
       "version_major": 2,
       "version_minor": 0
      },
      "text/plain": [
       "Reading manifest data: 0it [00:00, ?it/s]"
      ]
     },
     "metadata": {},
     "output_type": "display_data"
    }
   ],
   "source": [
    "table_trans = str.maketrans(dict.fromkeys(string.punctuation))  # OR {key: None for key in string.punctuation}\n",
    "\n",
    "\n",
    "path =\"/Users/dami.osoba/work/bawk/small_dataset/small/CV_unpacked/cv-corpus-6.1-2020-12-11/en/validated.tsv\"\n",
    "meta = pd.read_csv(path,sep=\"\\t\")\n",
    "meta_path = meta.set_index('path')\n",
    "\n",
    "def read_manifest(path):\n",
    "    manifest = []\n",
    "    with open(path, 'r') as f:\n",
    "        for line in tqdm(f, desc=\"Reading manifest data\"):\n",
    "            line = line.replace(\"\\n\", \"\")\n",
    "            data = json.loads(line)\n",
    "            manifest.append(data)\n",
    "    return manifest\n",
    "train_manifest_path = '/Users/dami.osoba/work/bawk/src/data/commonvoice_train_manifest.json'\n",
    "train_manifest_data = read_manifest(train_manifest_path)\n",
    "# keep audio < 4s\n",
    "train_text = [data['text'] for data in train_manifest_data if data['duration']<=8]\n",
    "train_path = [data['audio_filepath'] for data in train_manifest_data if data['duration']<=8]\n",
    "train_path_pd = pd.DataFrame(train_path,columns=['train_path'])\n",
    "\n",
    "# remove unicode\n",
    "sentences = [c.encode(encoding=\"ascii\",errors=\"ignore\").decode().translate(table_trans) for c in train_text]\n",
    "char_dict = sorted(list(set([b for a in sentences for b in a]))) +['EOS','SOS','PAD']\n",
    "char_index = {a:char_dict.index(a) for a in char_dict}\n",
    "dictOfindex = {char_dict.index(a):a for a in char_dict}\n",
    "# char_index['EOS'] = len(char_dict)\n",
    "# char_index['SOS'] = len(char_dict)+1\n",
    "# char_index['PAD'] = len(char_dict)+2"
   ]
  },
  {
   "cell_type": "code",
   "execution_count": null,
   "id": "da452186",
   "metadata": {},
   "outputs": [],
   "source": []
  },
  {
   "cell_type": "markdown",
   "id": "d33f9426",
   "metadata": {},
   "source": [
    "# Create voice dataset"
   ]
  },
  {
   "cell_type": "code",
   "execution_count": 3,
   "id": "4a735473",
   "metadata": {},
   "outputs": [],
   "source": [
    "class VoiceDataset(Dataset):\n",
    "    def __init__(self, transform=None):\n",
    "        \"\"\"\n",
    "        Args:\n",
    "            csv_file (string): Path to the csv file with annotations.\n",
    "            root_dir (string): Directory with all the images.\n",
    "            transform (callable, optional): Optional transform to be applied\n",
    "                on a sample.\n",
    "        \"\"\"\n",
    "#         self.landmarks_frame = pd.read_csv(csv_file)\n",
    "#         self.root_dir = root_dir\n",
    "        self.transform = transform\n",
    "        self.path_frame = train_path_pd\n",
    "\n",
    "    def __len__(self):\n",
    "        return len(self.path_frame)\n",
    "\n",
    "    \n",
    "    def __getitem__(self, idx):\n",
    "        if torch.is_tensor(idx):\n",
    "            idx = idx.tolist()\n",
    "\n",
    "#         waveform, _ = librosa.load(self.path_frame.loc[idx][0],sr=16000)\n",
    "        waveform, _ = torchaudio.load(self.path_frame.loc[idx][0],)\n",
    "        label = self.path_frame.loc[idx][0].split(\"/\")[-1].split(\"wav\")[0]+\"mp3\"\n",
    "        # transcription for audio\n",
    "        trans = meta_path.loc[label]['sentence']\n",
    "#         if len(trans.split(\" \")) == 1:\n",
    "#             waveform = torch.cat([waveform,waveform],dim=1)\n",
    "#             trans = trans +\" \"+trans\n",
    "#             print(trans)\n",
    "        # encode to ascii\n",
    "        trans = trans.encode(encoding=\"ascii\",errors=\"ignore\").decode().translate(table_trans).lower()\n",
    "        chars =[b for a in trans for b in a]\n",
    "        coded = [28]+[char_dict.index(a) for a in chars]+[27]\n",
    "\n",
    "        sample = {'waveform': waveform, 'transcription': coded,'sentence':trans}\n",
    "\n",
    "        if self.transform:\n",
    "            sample = self.transform(sample)\n",
    "\n",
    "        return sample"
   ]
  },
  {
   "cell_type": "markdown",
   "id": "1098d3b1",
   "metadata": {},
   "source": [
    "# Create FFT transform"
   ]
  },
  {
   "cell_type": "code",
   "execution_count": 4,
   "id": "3b88ce88",
   "metadata": {},
   "outputs": [
    {
     "name": "stdout",
     "output_type": "stream",
     "text": [
      "0 torch.Size([1, 226, 80]) that sobered him a little\n",
      "1 torch.Size([1, 363, 80]) open confession is good for the soul\n",
      "2 torch.Size([1, 344, 80]) but the englishman was exultant\n",
      "3 torch.Size([1, 545, 80]) he that considers too much will not bring anything to performance\n"
     ]
    }
   ],
   "source": [
    "window_size = 25/1000\n",
    "stride = 10/1000\n",
    "sample_rate = 16000\n",
    "n_fft =int(window_size *sample_rate)\n",
    "win_length = None\n",
    "hop_length = int(sample_rate*stride)\n",
    "n_mels = 80\n",
    "max_time = 8\n",
    "\n",
    "\n",
    "mel_spectrogram = T.MelSpectrogram(\n",
    "    sample_rate=sample_rate,\n",
    "    n_fft=n_fft,\n",
    "    hop_length=hop_length,\n",
    "    center=True,\n",
    "    pad_mode=\"reflect\",\n",
    "    power=2.0,\n",
    "    norm='slaney',\n",
    "    onesided=True,\n",
    "    n_mels=n_mels,\n",
    "    mel_scale=\"htk\",\n",
    ")\n",
    "\n",
    "# melspec = mel_spectrogram(waveform)\n",
    "\n",
    "\n",
    "class MelSpec(object):\n",
    "    \"\"\"Rescale the image in a sample to a given size.\n",
    "\n",
    "    Args:\n",
    "        output_size (tuple or int): Desired output size. If tuple, output is\n",
    "            matched to output_size. If int, smaller of image edges is matched\n",
    "            to output_size keeping aspect ratio the same.\n",
    "    \"\"\"\n",
    "    def __init__(self):\n",
    "        \n",
    "        self.window_size = 25/1000\n",
    "        self.stride = 10/1000\n",
    "        self.sample_rate = 16000\n",
    "        self.n_fft =int(self.window_size *self.sample_rate)\n",
    "        self.win_length = None\n",
    "        self.hop_length = int(self.sample_rate*self.stride)\n",
    "        self.n_mels = 80\n",
    "        self.max_time = 4\n",
    "        pass\n",
    "#         assert isinstance(output_size, (int, tuple))\n",
    "#         self.output_size = output_size\n",
    "\n",
    "    def mel_spectrogram(self,a):\n",
    "        mel_spec = T.MelSpectrogram(\n",
    "                        sample_rate=self.sample_rate,\n",
    "                        n_fft=self.n_fft,\n",
    "                        hop_length=self.hop_length,\n",
    "                        center=True,\n",
    "                        pad_mode=\"reflect\",\n",
    "                        power=2.0,\n",
    "                        norm='slaney',\n",
    "                        onesided=True,\n",
    "                        n_mels=self.n_mels,\n",
    "                        mel_scale=\"htk\")\n",
    "        return mel_spec(a)\n",
    "        \n",
    "\n",
    "    def __call__(self, sample):\n",
    "        waveform, transcription,sentence = sample['waveform'], sample['transcription'],sample['sentence']\n",
    "        #zero pad waveform\n",
    "        zero_pad = torch.zeros(1, sample_rate*max_time- waveform.size()[1])\n",
    "        padding = torch.cat([waveform,zero_pad],1)\n",
    "        # get spectrogram\n",
    "        wave_spec = self.mel_spectrogram(waveform)\n",
    "        wave_spec = wave_spec.swapaxes(1,2)\n",
    "        #change transcription list to tensor\n",
    "        transcription = torch.tensor(transcription, dtype=torch.long, device=device)\n",
    "\n",
    "        return {'waveform': wave_spec, 'transcription': transcription, 'sentence':sentence}\n",
    "    \n",
    "transformed_dataset = VoiceDataset(transform = MelSpec())\n",
    "\n",
    "for i in range(len(transformed_dataset)):\n",
    "    sample = transformed_dataset[i]\n",
    "\n",
    "    print(i, sample['waveform'].size(), sample['sentence'])\n",
    "\n",
    "    if i == 3:\n",
    "        break"
   ]
  },
  {
   "cell_type": "code",
   "execution_count": 5,
   "id": "f211b1ff",
   "metadata": {},
   "outputs": [],
   "source": [
    "dictOfindex = { i : char_dict[i] for i in range(0, len(char_dict) ) }\n",
    "dictOfchar = { char_dict[i]:i for i in range(0, len(char_dict) ) }"
   ]
  },
  {
   "cell_type": "code",
   "execution_count": 6,
   "id": "2d858ee4",
   "metadata": {},
   "outputs": [
    {
     "name": "stdout",
     "output_type": "stream",
     "text": [
      "tensor([[[0.0000e+00, 0.0000e+00, 0.0000e+00,  ..., 0.0000e+00,\n",
      "          0.0000e+00, 0.0000e+00],\n",
      "         [0.0000e+00, 0.0000e+00, 0.0000e+00,  ..., 0.0000e+00,\n",
      "          0.0000e+00, 0.0000e+00],\n",
      "         [1.0244e-09, 3.5948e-09, 2.2654e-09,  ..., 6.5524e-12,\n",
      "          3.5345e-11, 6.0419e-11],\n",
      "         ...,\n",
      "         [1.4881e-04, 5.2220e-04, 2.5501e-04,  ..., 1.0292e-08,\n",
      "          8.2578e-09, 2.8846e-09],\n",
      "         [3.5113e-05, 1.2322e-04, 4.3283e-05,  ..., 6.6134e-09,\n",
      "          3.6554e-09, 1.6136e-09],\n",
      "         [5.0222e-09, 1.7624e-08, 1.9852e-09,  ..., 7.7279e-10,\n",
      "          2.6851e-10, 2.7837e-10]],\n",
      "\n",
      "        [[0.0000e+00, 0.0000e+00, 0.0000e+00,  ..., 0.0000e+00,\n",
      "          0.0000e+00, 0.0000e+00],\n",
      "         [0.0000e+00, 0.0000e+00, 0.0000e+00,  ..., 0.0000e+00,\n",
      "          0.0000e+00, 0.0000e+00],\n",
      "         [4.2613e-12, 1.4954e-11, 9.9475e-12,  ..., 1.6228e-12,\n",
      "          1.2419e-12, 4.9747e-13],\n",
      "         ...,\n",
      "         [0.0000e+00, 0.0000e+00, 0.0000e+00,  ..., 0.0000e+00,\n",
      "          0.0000e+00, 0.0000e+00],\n",
      "         [0.0000e+00, 0.0000e+00, 0.0000e+00,  ..., 0.0000e+00,\n",
      "          0.0000e+00, 0.0000e+00],\n",
      "         [0.0000e+00, 0.0000e+00, 0.0000e+00,  ..., 0.0000e+00,\n",
      "          0.0000e+00, 0.0000e+00]],\n",
      "\n",
      "        [[0.0000e+00, 0.0000e+00, 0.0000e+00,  ..., 0.0000e+00,\n",
      "          0.0000e+00, 0.0000e+00],\n",
      "         [1.5869e-15, 5.5688e-15, 3.6387e-15,  ..., 5.3715e-16,\n",
      "          6.1181e-16, 6.5865e-16],\n",
      "         [2.9742e-08, 1.0437e-07, 1.4280e-08,  ..., 2.4049e-09,\n",
      "          1.7099e-09, 4.2663e-10],\n",
      "         ...,\n",
      "         [0.0000e+00, 0.0000e+00, 0.0000e+00,  ..., 0.0000e+00,\n",
      "          0.0000e+00, 0.0000e+00],\n",
      "         [0.0000e+00, 0.0000e+00, 0.0000e+00,  ..., 0.0000e+00,\n",
      "          0.0000e+00, 0.0000e+00],\n",
      "         [0.0000e+00, 0.0000e+00, 0.0000e+00,  ..., 0.0000e+00,\n",
      "          0.0000e+00, 0.0000e+00]],\n",
      "\n",
      "        ...,\n",
      "\n",
      "        [[0.0000e+00, 0.0000e+00, 0.0000e+00,  ..., 0.0000e+00,\n",
      "          0.0000e+00, 0.0000e+00],\n",
      "         [3.9293e-10, 1.3789e-09, 7.7490e-10,  ..., 6.2015e-12,\n",
      "          5.2862e-12, 3.0324e-12],\n",
      "         [3.0002e-08, 1.0528e-07, 8.7701e-07,  ..., 1.1439e-09,\n",
      "          5.8155e-10, 2.0939e-10],\n",
      "         ...,\n",
      "         [0.0000e+00, 0.0000e+00, 0.0000e+00,  ..., 0.0000e+00,\n",
      "          0.0000e+00, 0.0000e+00],\n",
      "         [0.0000e+00, 0.0000e+00, 0.0000e+00,  ..., 0.0000e+00,\n",
      "          0.0000e+00, 0.0000e+00],\n",
      "         [0.0000e+00, 0.0000e+00, 0.0000e+00,  ..., 0.0000e+00,\n",
      "          0.0000e+00, 0.0000e+00]],\n",
      "\n",
      "        [[0.0000e+00, 0.0000e+00, 0.0000e+00,  ..., 0.0000e+00,\n",
      "          0.0000e+00, 0.0000e+00],\n",
      "         [0.0000e+00, 0.0000e+00, 0.0000e+00,  ..., 0.0000e+00,\n",
      "          0.0000e+00, 0.0000e+00],\n",
      "         [9.8094e-11, 3.4423e-10, 1.3626e-10,  ..., 4.3238e-11,\n",
      "          6.3829e-12, 7.0060e-12],\n",
      "         ...,\n",
      "         [0.0000e+00, 0.0000e+00, 0.0000e+00,  ..., 0.0000e+00,\n",
      "          0.0000e+00, 0.0000e+00],\n",
      "         [0.0000e+00, 0.0000e+00, 0.0000e+00,  ..., 0.0000e+00,\n",
      "          0.0000e+00, 0.0000e+00],\n",
      "         [0.0000e+00, 0.0000e+00, 0.0000e+00,  ..., 0.0000e+00,\n",
      "          0.0000e+00, 0.0000e+00]],\n",
      "\n",
      "        [[0.0000e+00, 0.0000e+00, 0.0000e+00,  ..., 0.0000e+00,\n",
      "          0.0000e+00, 0.0000e+00],\n",
      "         [1.0468e-14, 3.6733e-14, 2.6553e-14,  ..., 5.4334e-14,\n",
      "          3.5587e-14, 5.4925e-14],\n",
      "         [1.1587e-09, 4.0661e-09, 1.0833e-09,  ..., 3.6467e-10,\n",
      "          9.5307e-11, 5.4263e-11],\n",
      "         ...,\n",
      "         [0.0000e+00, 0.0000e+00, 0.0000e+00,  ..., 0.0000e+00,\n",
      "          0.0000e+00, 0.0000e+00],\n",
      "         [0.0000e+00, 0.0000e+00, 0.0000e+00,  ..., 0.0000e+00,\n",
      "          0.0000e+00, 0.0000e+00],\n",
      "         [0.0000e+00, 0.0000e+00, 0.0000e+00,  ..., 0.0000e+00,\n",
      "          0.0000e+00, 0.0000e+00]]]) tensor([[28,  9, 20,  0,  9, 19,  0,  8, 15, 13,  5,  0, 20, 15,  0, 20,  8,  5,\n",
      "          0, 19, 15, 18, 20,  5, 14, 25,  0, 14,  1, 20,  9, 15, 14,  1, 12,  0,\n",
      "         16,  1, 18, 11,  0, 20,  8,  5,  0, 12,  1, 18,  7,  5, 19, 20,  0, 14,\n",
      "          1, 20, 21, 18,  5,  0,  1, 18,  5,  1,  0, 15,  6,  0,  1, 14,  4, 15,\n",
      "         18, 18,  1, 27],\n",
      "        [28, 20,  8,  5,  0, 22, 15, 20,  5,  0, 23,  1, 19,  0,  4,  5,  3, 12,\n",
      "          1, 18,  5,  4,  0,  9, 12, 12,  5,  7,  1, 12,  0,  1, 14,  4,  0,  9,\n",
      "         14, 22,  1, 12,  9,  4,  0,  2, 25,  0, 20,  8,  5,  0,  3, 18, 15,  1,\n",
      "         20,  9,  1, 14,  0,  7, 15, 22,  5, 18, 14, 13,  5, 14, 20, 27, 29, 29,\n",
      "         29, 29, 29, 29],\n",
      "        [28, 19, 15, 13,  5,  0, 15,  6,  0, 20,  8, 15, 19,  5,  0, 23,  8, 15,\n",
      "          0, 19,  1, 23,  0,  9, 20, 19,  0,  6, 12,  9,  7,  8, 20,  0, 19,  1,\n",
      "         25,  0,  9, 20,  0, 20, 18,  1, 22,  5, 12, 12,  5,  4,  0, 23,  9, 20,\n",
      "          8,  0,  1,  0,  8,  9, 19, 19,  9, 14,  7,  0, 19, 15, 21, 14,  4, 27,\n",
      "         29, 29, 29, 29],\n",
      "        [28, 11,  1, 16,  1, 23,  1,  0, 20,  8,  5,  0, 11,  9, 14,  7,  0, 15,\n",
      "          6,  0,  8,  1, 23,  1,  9,  9,  0, 16, 18,  9, 15, 18,  0, 20, 15,  0,\n",
      "         16,  9, 12,  9,  0, 23,  1, 19,  0,  2, 21, 18,  9,  5,  4,  0,  8,  5,\n",
      "         18,  5, 27, 29, 29, 29, 29, 29, 29, 29, 29, 29, 29, 29, 29, 29, 29, 29,\n",
      "         29, 29, 29, 29],\n",
      "        [28, 20, 18, 25,  0, 20, 15,  0,  8,  1, 22,  5,  0, 20,  8,  5,  0,  3,\n",
      "         15, 21, 18, 20,  0,  4,  5,  3,  9,  4,  5,  0, 20,  8,  5,  0,  3,  1,\n",
      "         19,  5, 27, 29, 29, 29, 29, 29, 29, 29, 29, 29, 29, 29, 29, 29, 29, 29,\n",
      "         29, 29, 29, 29, 29, 29, 29, 29, 29, 29, 29, 29, 29, 29, 29, 29, 29, 29,\n",
      "         29, 29, 29, 29],\n",
      "        [28, 20,  8,  5,  0, 20, 15, 16,  0, 15,  6,  0, 20,  8,  5,  0,  3, 25,\n",
      "         12,  9, 14,  4,  5, 18,  0, 23,  1, 19,  0, 18, 15, 20,  1, 20,  9, 14,\n",
      "          7,  0, 15, 14,  0,  9, 20, 19,  0,  2, 15,  4, 25, 27, 29, 29, 29, 29,\n",
      "         29, 29, 29, 29, 29, 29, 29, 29, 29, 29, 29, 29, 29, 29, 29, 29, 29, 29,\n",
      "         29, 29, 29, 29],\n",
      "        [28, 20,  8,  5,  0,  6, 15, 12, 12, 15, 23,  9, 14,  7,  0, 25,  5,  1,\n",
      "         18,  0,  8,  5,  0, 23,  1, 19,  0, 16,  1, 18,  4, 15, 14,  5,  4, 27,\n",
      "         29, 29, 29, 29, 29, 29, 29, 29, 29, 29, 29, 29, 29, 29, 29, 29, 29, 29,\n",
      "         29, 29, 29, 29, 29, 29, 29, 29, 29, 29, 29, 29, 29, 29, 29, 29, 29, 29,\n",
      "         29, 29, 29, 29],\n",
      "        [28,  9,  0, 12,  9, 11,  5,  4,  0,  8,  5, 14,  4, 18,  9, 24, 27, 29,\n",
      "         29, 29, 29, 29, 29, 29, 29, 29, 29, 29, 29, 29, 29, 29, 29, 29, 29, 29,\n",
      "         29, 29, 29, 29, 29, 29, 29, 29, 29, 29, 29, 29, 29, 29, 29, 29, 29, 29,\n",
      "         29, 29, 29, 29, 29, 29, 29, 29, 29, 29, 29, 29, 29, 29, 29, 29, 29, 29,\n",
      "         29, 29, 29, 29],\n",
      "        [28, 25, 15, 21, 22,  5,  0,  7, 15, 20,  0, 20, 15,  0,  4, 15,  0, 19,\n",
      "         15, 13,  5, 20,  8,  9, 14,  7, 27, 29, 29, 29, 29, 29, 29, 29, 29, 29,\n",
      "         29, 29, 29, 29, 29, 29, 29, 29, 29, 29, 29, 29, 29, 29, 29, 29, 29, 29,\n",
      "         29, 29, 29, 29, 29, 29, 29, 29, 29, 29, 29, 29, 29, 29, 29, 29, 29, 29,\n",
      "         29, 29, 29, 29],\n",
      "        [28, 25,  5, 19, 27, 29, 29, 29, 29, 29, 29, 29, 29, 29, 29, 29, 29, 29,\n",
      "         29, 29, 29, 29, 29, 29, 29, 29, 29, 29, 29, 29, 29, 29, 29, 29, 29, 29,\n",
      "         29, 29, 29, 29, 29, 29, 29, 29, 29, 29, 29, 29, 29, 29, 29, 29, 29, 29,\n",
      "         29, 29, 29, 29, 29, 29, 29, 29, 29, 29, 29, 29, 29, 29, 29, 29, 29, 29,\n",
      "         29, 29, 29, 29]]) tensor([651, 529, 485, 483, 377, 351, 267, 262, 202, 171]) ('it is home to the sorteny national park the largest nature area of andorra', 'the vote was declared illegal and invalid by the croatian government', 'some of those who saw its flight say it travelled with a hissing sound', 'kapawa the king of hawaii prior to pili was buried here', 'try to have the court decide the case', 'the top of the cylinder was rotating on its body', 'the following year he was pardoned', 'i liked hendrix', 'youve got to do something', 'yes')\n"
     ]
    }
   ],
   "source": [
    "def pad_sequence(batch):\n",
    "    # Make all tensor in a batch the same length by padding with zeros\n",
    "    batch = [item.t() for item in batch]    \n",
    "    batch = torch.nn.utils.rnn.pad_sequence(batch, batch_first=True, padding_value=0)\n",
    "    return batch\n",
    "\n",
    "\n",
    "def pad_collate(batch):\n",
    "    max_input_len = float('-inf')\n",
    "    max_target_len = float('-inf')\n",
    "\n",
    "    for elem in batch:\n",
    "        feature = elem['waveform']\n",
    "        feature = feature.squeeze()\n",
    "        trn = elem['transcription']\n",
    "        max_input_len = max_input_len if max_input_len > feature.shape[0] else feature.shape[0]\n",
    "        max_target_len = max_target_len if max_target_len > len(trn) else len(trn)\n",
    "\n",
    "    for i, elem in enumerate(batch):\n",
    "        f = elem['waveform']\n",
    "        trn = elem['transcription']\n",
    "        sentence = elem['sentence']\n",
    "        f = f.squeeze()\n",
    "        input_length = f.shape[0]\n",
    "        input_dim = f.shape[1]\n",
    "        # print('f.shape: ' + str(f.shape))\n",
    "        feature = np.zeros((max_input_len, input_dim), dtype=np.float32)\n",
    "        feature[:f.shape[0], :f.shape[1]] = f\n",
    "        trn = np.pad(trn, (0, max_target_len - len(trn)), 'constant', constant_values=29)\n",
    "        batch[i] = (feature, trn, input_length,sentence)\n",
    "        # print('feature.shape: ' + str(feature.shape))\n",
    "        # print('trn.shape: ' + str(trn.shape))\n",
    "\n",
    "    batch.sort(key=lambda x: x[2], reverse=True)\n",
    "\n",
    "    return default_collate(batch)\n",
    "\n",
    "\n",
    "\n",
    "def collate_fn(batch):\n",
    "\n",
    "    # A data tuple has the form:\n",
    "    # waveform, sample_rate, label, speaker_id, utterance_number\n",
    "\n",
    "    tensors, targets,sentence = [], [],[]\n",
    "\n",
    "    # Gather in lists, and encode labels as indices\n",
    "    for a in batch:\n",
    "        tensors += [a['waveform']]\n",
    "        targets += [a['transcription']]\n",
    "        sentence += [a['sentence']]\n",
    "                   \n",
    "    # Group the list of tensors into a batched tensor\n",
    "    tensors = tensors\n",
    "#     targets = torch.stack(targets)\n",
    "    targets = pad_sequence(targets)\n",
    "\n",
    "    return tensors, targets,sentence\n",
    "\n",
    "\n",
    "train_loader = DataLoader(transformed_dataset, batch_size=10,collate_fn=pad_collate,\n",
    "                        shuffle=True, num_workers=0)\n",
    "\n",
    "iterator = iter(train_loader)\n",
    "x_batch,y,input_lengths,sentence = iterator.next()\n",
    "print(x_batch,y,input_lengths,sentence)"
   ]
  },
  {
   "cell_type": "code",
   "execution_count": 8,
   "id": "ec4a5232",
   "metadata": {},
   "outputs": [
    {
     "data": {
      "text/plain": [
       "[tensor([[[0.0000e+00, 0.0000e+00, 0.0000e+00,  ..., 0.0000e+00,\n",
       "           0.0000e+00, 0.0000e+00],\n",
       "          [0.0000e+00, 0.0000e+00, 0.0000e+00,  ..., 0.0000e+00,\n",
       "           0.0000e+00, 0.0000e+00],\n",
       "          [0.0000e+00, 0.0000e+00, 0.0000e+00,  ..., 0.0000e+00,\n",
       "           0.0000e+00, 0.0000e+00],\n",
       "          ...,\n",
       "          [8.8942e-13, 3.1211e-12, 2.0918e-12,  ..., 1.7051e-14,\n",
       "           3.8083e-14, 6.8343e-14],\n",
       "          [0.0000e+00, 0.0000e+00, 0.0000e+00,  ..., 0.0000e+00,\n",
       "           0.0000e+00, 0.0000e+00],\n",
       "          [0.0000e+00, 0.0000e+00, 0.0000e+00,  ..., 0.0000e+00,\n",
       "           0.0000e+00, 0.0000e+00]],\n",
       " \n",
       "         [[0.0000e+00, 0.0000e+00, 0.0000e+00,  ..., 0.0000e+00,\n",
       "           0.0000e+00, 0.0000e+00],\n",
       "          [0.0000e+00, 0.0000e+00, 0.0000e+00,  ..., 0.0000e+00,\n",
       "           0.0000e+00, 0.0000e+00],\n",
       "          [0.0000e+00, 0.0000e+00, 0.0000e+00,  ..., 0.0000e+00,\n",
       "           0.0000e+00, 0.0000e+00],\n",
       "          ...,\n",
       "          [0.0000e+00, 0.0000e+00, 0.0000e+00,  ..., 0.0000e+00,\n",
       "           0.0000e+00, 0.0000e+00],\n",
       "          [0.0000e+00, 0.0000e+00, 0.0000e+00,  ..., 0.0000e+00,\n",
       "           0.0000e+00, 0.0000e+00],\n",
       "          [0.0000e+00, 0.0000e+00, 0.0000e+00,  ..., 0.0000e+00,\n",
       "           0.0000e+00, 0.0000e+00]],\n",
       " \n",
       "         [[0.0000e+00, 0.0000e+00, 0.0000e+00,  ..., 0.0000e+00,\n",
       "           0.0000e+00, 0.0000e+00],\n",
       "          [0.0000e+00, 0.0000e+00, 0.0000e+00,  ..., 0.0000e+00,\n",
       "           0.0000e+00, 0.0000e+00],\n",
       "          [1.2554e-07, 4.4055e-07, 2.7941e-07,  ..., 6.3882e-09,\n",
       "           6.5102e-10, 3.9129e-09],\n",
       "          ...,\n",
       "          [0.0000e+00, 0.0000e+00, 0.0000e+00,  ..., 0.0000e+00,\n",
       "           0.0000e+00, 0.0000e+00],\n",
       "          [0.0000e+00, 0.0000e+00, 0.0000e+00,  ..., 0.0000e+00,\n",
       "           0.0000e+00, 0.0000e+00],\n",
       "          [0.0000e+00, 0.0000e+00, 0.0000e+00,  ..., 0.0000e+00,\n",
       "           0.0000e+00, 0.0000e+00]],\n",
       " \n",
       "         ...,\n",
       " \n",
       "         [[0.0000e+00, 0.0000e+00, 0.0000e+00,  ..., 0.0000e+00,\n",
       "           0.0000e+00, 0.0000e+00],\n",
       "          [2.7641e-18, 9.6996e-18, 6.3069e-18,  ..., 7.1626e-18,\n",
       "           7.1955e-18, 7.1453e-18],\n",
       "          [1.8430e-10, 6.4674e-10, 6.1667e-11,  ..., 6.1588e-11,\n",
       "           9.3225e-11, 1.0239e-10],\n",
       "          ...,\n",
       "          [0.0000e+00, 0.0000e+00, 0.0000e+00,  ..., 0.0000e+00,\n",
       "           0.0000e+00, 0.0000e+00],\n",
       "          [0.0000e+00, 0.0000e+00, 0.0000e+00,  ..., 0.0000e+00,\n",
       "           0.0000e+00, 0.0000e+00],\n",
       "          [0.0000e+00, 0.0000e+00, 0.0000e+00,  ..., 0.0000e+00,\n",
       "           0.0000e+00, 0.0000e+00]],\n",
       " \n",
       "         [[0.0000e+00, 0.0000e+00, 0.0000e+00,  ..., 0.0000e+00,\n",
       "           0.0000e+00, 0.0000e+00],\n",
       "          [0.0000e+00, 0.0000e+00, 0.0000e+00,  ..., 0.0000e+00,\n",
       "           0.0000e+00, 0.0000e+00],\n",
       "          [0.0000e+00, 0.0000e+00, 0.0000e+00,  ..., 0.0000e+00,\n",
       "           0.0000e+00, 0.0000e+00],\n",
       "          ...,\n",
       "          [0.0000e+00, 0.0000e+00, 0.0000e+00,  ..., 0.0000e+00,\n",
       "           0.0000e+00, 0.0000e+00],\n",
       "          [0.0000e+00, 0.0000e+00, 0.0000e+00,  ..., 0.0000e+00,\n",
       "           0.0000e+00, 0.0000e+00],\n",
       "          [0.0000e+00, 0.0000e+00, 0.0000e+00,  ..., 0.0000e+00,\n",
       "           0.0000e+00, 0.0000e+00]],\n",
       " \n",
       "         [[0.0000e+00, 0.0000e+00, 0.0000e+00,  ..., 0.0000e+00,\n",
       "           0.0000e+00, 0.0000e+00],\n",
       "          [0.0000e+00, 0.0000e+00, 0.0000e+00,  ..., 0.0000e+00,\n",
       "           0.0000e+00, 0.0000e+00],\n",
       "          [3.4530e-12, 1.2117e-11, 2.9564e-11,  ..., 2.7084e-12,\n",
       "           5.7513e-12, 3.5165e-12],\n",
       "          ...,\n",
       "          [0.0000e+00, 0.0000e+00, 0.0000e+00,  ..., 0.0000e+00,\n",
       "           0.0000e+00, 0.0000e+00],\n",
       "          [0.0000e+00, 0.0000e+00, 0.0000e+00,  ..., 0.0000e+00,\n",
       "           0.0000e+00, 0.0000e+00],\n",
       "          [0.0000e+00, 0.0000e+00, 0.0000e+00,  ..., 0.0000e+00,\n",
       "           0.0000e+00, 0.0000e+00]]]),\n",
       " tensor([[28, 19, 15, 13,  5, 23,  8,  5, 18,  5,  0, 25, 15, 21,  0,  1, 18,  5,\n",
       "           0,  8, 15, 12,  4,  9, 14,  7,  0, 20,  8,  5,  0, 16,  5, 18, 19, 15,\n",
       "          14,  0,  9,  0, 12, 15, 22,  5,  0, 20,  8,  5,  0,  2, 15, 25,  0, 19,\n",
       "           1,  9,  4, 27, 29, 29, 29, 29, 29, 29, 29, 29, 29, 29, 29, 29, 29],\n",
       "         [28, 25, 15, 21,  0, 23,  1, 14, 14,  1,  0,  7, 15,  0,  1, 12, 12,  0,\n",
       "          20,  8,  5,  0, 23,  1, 25,  0, 20, 15,  0, 20,  5, 24,  1, 19, 27, 29,\n",
       "          29, 29, 29, 29, 29, 29, 29, 29, 29, 29, 29, 29, 29, 29, 29, 29, 29, 29,\n",
       "          29, 29, 29, 29, 29, 29, 29, 29, 29, 29, 29, 29, 29, 29, 29, 29, 29],\n",
       "         [28, 20,  8,  5,  0, 20, 23,  9, 14, 19,  0, 18,  5, 19, 21, 18,  6,  1,\n",
       "           3,  5,  4,  0, 23,  8,  5, 18,  5,  0, 20,  8,  5, 25,  0, 23,  5, 18,\n",
       "           5,  0, 19,  5,  5, 14,  0, 23, 15, 18, 11,  9, 14,  7,  0, 23,  9, 20,\n",
       "           8,  0,  2,  1, 18, 15, 14,  0, 19, 20, 18, 21,  3, 11,  5, 18, 27],\n",
       "         [28,  1, 14,  1, 12, 25, 19, 20, 19,  0,  1, 18,  5,  0, 19,  5,  5,  9,\n",
       "          14,  7,  0,  6, 18,  1,  7, 13,  5, 14, 20,  1, 20,  9, 15, 14,  0,  9,\n",
       "          14,  0, 20,  8,  5,  0, 13,  1, 18, 11,  5, 20, 27, 29, 29, 29, 29, 29,\n",
       "          29, 29, 29, 29, 29, 29, 29, 29, 29, 29, 29, 29, 29, 29, 29, 29, 29],\n",
       "         [28, 20,  8,  5,  0, 16,  9, 14, 11,  0, 12, 15, 22,  5,  0,  8,  5,  1,\n",
       "          18, 20,  0, 11,  5, 25, 18,  9, 14,  7,  0,  7, 12, 15, 23,  5,  4, 27,\n",
       "          29, 29, 29, 29, 29, 29, 29, 29, 29, 29, 29, 29, 29, 29, 29, 29, 29, 29,\n",
       "          29, 29, 29, 29, 29, 29, 29, 29, 29, 29, 29, 29, 29, 29, 29, 29, 29],\n",
       "         [28, 25, 15, 21, 12, 12,  0, 14, 15, 20,  0, 20, 21, 18, 14,  0, 20,  8,\n",
       "           9, 19,  0, 15, 22,  5, 18,  0, 20, 15,  0, 25, 15, 21, 18,  0,  5, 13,\n",
       "          16, 12, 15, 25,  5, 18, 19,  0, 20,  8,  5, 14, 27, 29, 29, 29, 29, 29,\n",
       "          29, 29, 29, 29, 29, 29, 29, 29, 29, 29, 29, 29, 29, 29, 29, 29, 29],\n",
       "         [28, 20,  8,  5,  0, 18,  5,  3, 20,  1, 14,  7, 12,  5,  0, 23,  1, 19,\n",
       "           0, 16,  1, 18,  1, 12, 12,  5, 12,  0, 20, 15,  0, 20,  8,  5,  0, 19,\n",
       "          17, 21,  1, 18,  5, 27, 29, 29, 29, 29, 29, 29, 29, 29, 29, 29, 29, 29,\n",
       "          29, 29, 29, 29, 29, 29, 29, 29, 29, 29, 29, 29, 29, 29, 29, 29, 29],\n",
       "         [28,  5, 22,  5, 18, 25,  0,  6,  9, 12,  5,  0,  8,  1,  4,  0, 20,  8,\n",
       "           5,  0, 12,  5, 20, 20,  5, 18,  0,  1,  0, 16, 18,  9, 14, 20,  5,  4,\n",
       "           0, 15, 14,  0, 20,  8,  5,  0,  6, 18, 15, 14, 20, 27, 29, 29, 29, 29,\n",
       "          29, 29, 29, 29, 29, 29, 29, 29, 29, 29, 29, 29, 29, 29, 29, 29, 29],\n",
       "         [28, 12, 15, 15, 11,  0, 25, 15, 21,  0, 18,  5,  1, 12, 12, 25,  0, 14,\n",
       "           5,  5,  4,  0, 20, 15,  0, 19, 15, 18, 20,  0, 25, 15, 21, 18, 19,  5,\n",
       "          12,  6,  0, 15, 21, 20, 27, 29, 29, 29, 29, 29, 29, 29, 29, 29, 29, 29,\n",
       "          29, 29, 29, 29, 29, 29, 29, 29, 29, 29, 29, 29, 29, 29, 29, 29, 29],\n",
       "         [28,  7, 15, 15,  4,  0, 23,  5,  5, 11,  5, 14,  4,  0,  9, 19,  0,  5,\n",
       "           4,  9, 20,  5,  4,  0,  2, 25,  0,  1, 13,  5, 12,  9,  1,  0, 12,  5,\n",
       "          19, 20,  5, 18, 27, 29, 29, 29, 29, 29, 29, 29, 29, 29, 29, 29, 29, 29,\n",
       "          29, 29, 29, 29, 29, 29, 29, 29, 29, 29, 29, 29, 29, 29, 29, 29, 29]]),\n",
       " tensor([579, 514, 502, 473, 442, 406, 389, 313, 296, 274]),\n",
       " ('somewhere you are holding the person i love the boy said',\n",
       "  'you wanna go all the way to texas',\n",
       "  'the twins resurfaced where they were seen working with baron strucker',\n",
       "  'analysts are seeing fragmentation in the market',\n",
       "  'the pink love heart keyring glowed',\n",
       "  'youll not turn this over to your employers then',\n",
       "  'the rectangle was parallel to the square',\n",
       "  'every file had the letter a printed on the front',\n",
       "  'look you really need to sort yourself out',\n",
       "  'good weekend is edited by amelia lester')]"
      ]
     },
     "execution_count": 8,
     "metadata": {},
     "output_type": "execute_result"
    }
   ],
   "source": [
    "iterator.next()"
   ]
  },
  {
   "cell_type": "code",
   "execution_count": 152,
   "id": "5a27f506",
   "metadata": {},
   "outputs": [
    {
     "data": {
      "text/plain": [
       "torch.Size([10, 771, 80])"
      ]
     },
     "execution_count": 152,
     "metadata": {},
     "output_type": "execute_result"
    }
   ],
   "source": [
    "x_batch.shape"
   ]
  },
  {
   "cell_type": "code",
   "execution_count": 7,
   "id": "0fcfb74b",
   "metadata": {},
   "outputs": [],
   "source": [
    "d1 = transformed_dataset[10]['waveform']"
   ]
  },
  {
   "cell_type": "code",
   "execution_count": 8,
   "id": "26c4da2b",
   "metadata": {},
   "outputs": [
    {
     "data": {
      "text/plain": [
       "torch.Size([1, 363, 80])"
      ]
     },
     "execution_count": 8,
     "metadata": {},
     "output_type": "execute_result"
    }
   ],
   "source": [
    "d1.shape"
   ]
  },
  {
   "cell_type": "code",
   "execution_count": 36,
   "id": "3e01f5f4",
   "metadata": {},
   "outputs": [],
   "source": [
    "n1 = nn.GRU(80,10)\n",
    "n2 = nn.GRU(10, 10)\n",
    "n3 = nn.GRU(10, 10)"
   ]
  },
  {
   "cell_type": "code",
   "execution_count": 37,
   "id": "26027fcd",
   "metadata": {},
   "outputs": [],
   "source": [
    "o1,o2 = n1(x_batch)\n",
    "b1,b2 = n2(o1)"
   ]
  },
  {
   "cell_type": "code",
   "execution_count": 60,
   "id": "17076086",
   "metadata": {},
   "outputs": [],
   "source": [
    "hmm = nn.GRU(80,10,bidirectional=True)\n",
    "hmm2 = nn.GRU(20,5,bidirectional=True)\n",
    "input_x = x_batch.size(1)\n",
    "enc_len = x_batch.size(2)\n",
    "total_length = x_batch.size(1)\n",
    "packed_input = pack_padded_sequence(x_batch, input_lengths, batch_first=True)\n",
    "hah, oo= hmm(packed_input,oo)\n",
    "wq,tt = hmm2(hah)\n",
    "output, _ = pad_packed_sequence(wq, batch_first=True, total_length=total_length)\n"
   ]
  },
  {
   "cell_type": "code",
   "execution_count": 61,
   "id": "f4169102",
   "metadata": {},
   "outputs": [
    {
     "data": {
      "text/plain": [
       "torch.Size([10, 399, 80])"
      ]
     },
     "execution_count": 61,
     "metadata": {},
     "output_type": "execute_result"
    }
   ],
   "source": [
    "x_batch.shape"
   ]
  },
  {
   "cell_type": "code",
   "execution_count": 62,
   "id": "42e4239f",
   "metadata": {},
   "outputs": [
    {
     "data": {
      "text/plain": [
       "torch.Size([10, 399, 10])"
      ]
     },
     "execution_count": 62,
     "metadata": {},
     "output_type": "execute_result"
    }
   ],
   "source": [
    "output.shape"
   ]
  },
  {
   "cell_type": "code",
   "execution_count": 66,
   "id": "614ac609",
   "metadata": {},
   "outputs": [
    {
     "data": {
      "text/plain": [
       "tensor([[ 9, 20,  0,  3,  1, 14,  0,  8, 15, 23,  5, 22,  5, 18,  0,  2,  5,  0,\n",
       "         19, 12,  1,  9, 14,  0, 23,  9, 20,  8,  0,  1,  0, 19,  9, 12, 22,  5,\n",
       "         18,  0,  2, 21, 12, 12,  5, 20],\n",
       "        [ 9, 12, 12,  0, 15, 23, 14,  0, 20,  8,  1, 20,  0,  8,  5, 19,  0, 23,\n",
       "          9, 20,  8,  0,  1,  0,  8,  1, 18, 19,  8,  0, 19,  5, 20, 29, 29, 29,\n",
       "         29, 29, 29, 29, 29, 29, 29, 29],\n",
       "        [ 4, 15,  0, 18,  9,  7,  8, 20,  0,  1, 14,  4,  0,  6,  5,  1, 18,  0,\n",
       "         14, 15,  0, 13,  1, 14, 29, 29, 29, 29, 29, 29, 29, 29, 29, 29, 29, 29,\n",
       "         29, 29, 29, 29, 29, 29, 29, 29],\n",
       "        [ 1,  0, 13,  1, 14,  0,  9, 19,  0, 11, 14, 15, 23, 14,  0,  2, 25,  0,\n",
       "         20,  8,  5,  0,  3, 15, 13, 16,  1, 14, 25,  0,  8,  5,  0, 11,  5,  5,\n",
       "         16, 19, 29, 29, 29, 29, 29, 29],\n",
       "        [20,  8,  1, 20,  0, 19, 15,  2,  5, 18,  5,  4,  0,  8,  9, 13,  0,  1,\n",
       "          0, 12,  9, 20, 20, 12,  5, 29, 29, 29, 29, 29, 29, 29, 29, 29, 29, 29,\n",
       "         29, 29, 29, 29, 29, 29, 29, 29],\n",
       "        [19,  8,  5,  0, 23, 15, 21, 12,  4,  0, 14,  5, 22,  5, 18,  0, 19, 16,\n",
       "          5,  1, 11,  0, 20, 15,  0,  8,  9, 13, 29, 29, 29, 29, 29, 29, 29, 29,\n",
       "         29, 29, 29, 29, 29, 29, 29, 29],\n",
       "        [ 4,  9, 19,  3, 15, 22,  5, 18, 25,  0,  2,  1, 25,  0,  8,  1, 19,  0,\n",
       "          1,  0, 19,  8, 15, 18, 20,  0,  8,  9, 19, 20, 15, 18, 25, 29, 29, 29,\n",
       "         29, 29, 29, 29, 29, 29, 29, 29],\n",
       "        [ 1,  0, 19, 20, 21,  6,  6,  5,  4,  0,  3,  8,  1,  9, 18,  0, 19, 12,\n",
       "          9, 16, 16,  5,  4,  0,  6, 18, 15, 13,  0, 20,  8,  5,  0, 13, 15, 22,\n",
       "          9, 14,  7,  0, 22,  1, 14, 29],\n",
       "        [20,  8,  9, 19,  0, 22,  9,  5, 23,  0,  9, 19,  0, 23, 18, 15, 14,  7,\n",
       "          0, 20,  8, 15, 21,  7,  8, 29, 29, 29, 29, 29, 29, 29, 29, 29, 29, 29,\n",
       "         29, 29, 29, 29, 29, 29, 29, 29],\n",
       "        [25, 15, 21,  0, 11, 14, 15, 23,  0,  8,  5, 18,  0,  2,  5, 20, 20,  5,\n",
       "         18,  0, 19, 15,  0, 25, 15, 21,  0, 19,  8, 15, 21, 12,  4,  0,  4, 15,\n",
       "          0,  9, 20, 29, 29, 29, 29, 29]])"
      ]
     },
     "execution_count": 66,
     "metadata": {},
     "output_type": "execute_result"
    }
   ],
   "source": [
    "y"
   ]
  },
  {
   "cell_type": "code",
   "execution_count": 70,
   "id": "2bf8daf5",
   "metadata": {},
   "outputs": [],
   "source": [
    "def pad_list(xs, pad_value):\n",
    "        # From: espnet/src/nets/e2e_asr_th.py: pad_list()\n",
    "        n_batch = len(xs)\n",
    "        max_len = max(x.size(0) for x in xs)\n",
    "        pad = xs[0].new(n_batch, max_len, *xs[0].size()[1:]).fill_(pad_value)\n",
    "        for i in range(n_batch):\n",
    "            pad[i, :xs[i].size(0)] = xs[i]\n",
    "        return pad"
   ]
  },
  {
   "cell_type": "code",
   "execution_count": 153,
   "id": "e35c2f6d",
   "metadata": {},
   "outputs": [],
   "source": [
    "ys = [yi[yi != 29] for yi in y]  # parse padded ys\n",
    "# prepare input and output word sequences with sos/eos IDs\n",
    "eos = ys[0].new([27])\n",
    "sos = ys[0].new([28])\n",
    "ys_in = [y for y in ys]\n",
    "ys_out = [y for y in ys]\n",
    "# padding for ys with -1\n",
    "# pys: utt x olen\n",
    "ys_in_pad = pad_list(ys_in, 27)\n",
    "ys_out_pad = pad_list(ys_out, 29)\n",
    "assert ys_in_pad.size() == ys_out_pad.size()\n",
    "batch_size = ys_in_pad.size(0)\n",
    "output_length = ys_in_pad.size(1)"
   ]
  },
  {
   "cell_type": "code",
   "execution_count": 155,
   "id": "d444041b",
   "metadata": {},
   "outputs": [
    {
     "data": {
      "text/plain": [
       "tensor([[28, 15, 18,  9,  7,  9, 14,  1, 12, 12, 25,  0, 20,  9, 20, 12,  5,  4,\n",
       "          0,  2, 18, 15, 11,  5, 14,  0, 23,  9, 14,  7, 19,  0, 20,  8,  5,  0,\n",
       "         19, 20, 15, 18, 25,  0, 23,  1, 19,  0, 18,  5, 10,  5,  3, 20,  5,  4,\n",
       "          0,  2, 25,  0, 20,  8,  5,  0, 19,  1, 20, 21, 18,  4,  1, 25,  0,  5,\n",
       "         22,  5, 14,  9, 14,  7,  0, 16, 15, 19, 20, 27],\n",
       "        [28,  2, 21, 20,  0,  3,  8,  9, 12,  4, 18,  5, 14,  0,  1, 12, 23,  1,\n",
       "         25, 19,  0, 19,  5,  5, 13,  0, 20, 15,  0,  2,  5,  0,  1,  2, 12,  5,\n",
       "          0, 20, 15,  0, 16, 12,  1, 25,  0, 23,  9, 20,  8,  0, 20,  8,  5, 13,\n",
       "          0, 23,  9, 20,  8, 15, 21, 20,  0,  6, 18,  9,  7,  8, 20,  5, 14,  9,\n",
       "         14,  7,  0, 20,  8,  5, 13, 27, 27, 27, 27, 27],\n",
       "        [28,  1, 14,  4,  0,  8,  5,  0,  7,  5, 20, 19,  0,  9, 20,  0, 18,  9,\n",
       "          7,  8, 20,  0,  1, 23,  1, 25, 27, 27, 27, 27, 27, 27, 27, 27, 27, 27,\n",
       "         27, 27, 27, 27, 27, 27, 27, 27, 27, 27, 27, 27, 27, 27, 27, 27, 27, 27,\n",
       "         27, 27, 27, 27, 27, 27, 27, 27, 27, 27, 27, 27, 27, 27, 27, 27, 27, 27,\n",
       "         27, 27, 27, 27, 27, 27, 27, 27, 27, 27, 27, 27],\n",
       "        [28, 20,  8,  5, 14,  0, 19,  8,  5,  0, 20, 15, 15, 11,  0,  2, 15, 20,\n",
       "          8,  0, 15,  6,  0,  8,  9, 19,  0,  8,  1, 14,  4, 19,  0,  9, 14,  0,\n",
       "          8,  5, 18, 19,  0,  1, 14,  4,  0,  2,  5,  7,  1, 14,  0, 17, 21,  9,\n",
       "          5, 20, 12, 25,  0, 20, 15,  0, 16, 18,  1, 25, 27, 27, 27, 27, 27, 27,\n",
       "         27, 27, 27, 27, 27, 27, 27, 27, 27, 27, 27, 27],\n",
       "        [28,  9, 20,  0,  8,  5, 12, 16,  5,  4,  0, 13,  5,  0, 20, 15,  0, 20,\n",
       "         18, 21, 19, 20,  0,  9, 14,  0, 16,  5, 15, 16, 12,  5,  0, 20,  8,  5,\n",
       "          0,  5, 14,  7, 12,  9, 19,  8, 13,  1, 14,  0,  1, 14, 19, 23,  5, 18,\n",
       "          5,  4, 27, 27, 27, 27, 27, 27, 27, 27, 27, 27, 27, 27, 27, 27, 27, 27,\n",
       "         27, 27, 27, 27, 27, 27, 27, 27, 27, 27, 27, 27],\n",
       "        [28,  6,  9, 22,  5,  0, 20, 15,  0, 20,  8,  9, 18, 20,  5,  5, 14,  0,\n",
       "         16,  5, 15, 16, 12,  5,  0, 23, 15, 18, 11,  0, 15, 14,  0, 20,  8,  5,\n",
       "          0,  2, 18,  9,  4,  7,  5,  0,  1, 20,  0,  1, 12, 12,  0, 20,  9, 13,\n",
       "          5, 19, 27, 27, 27, 27, 27, 27, 27, 27, 27, 27, 27, 27, 27, 27, 27, 27,\n",
       "         27, 27, 27, 27, 27, 27, 27, 27, 27, 27, 27, 27],\n",
       "        [28, 25,  5, 19, 27, 27, 27, 27, 27, 27, 27, 27, 27, 27, 27, 27, 27, 27,\n",
       "         27, 27, 27, 27, 27, 27, 27, 27, 27, 27, 27, 27, 27, 27, 27, 27, 27, 27,\n",
       "         27, 27, 27, 27, 27, 27, 27, 27, 27, 27, 27, 27, 27, 27, 27, 27, 27, 27,\n",
       "         27, 27, 27, 27, 27, 27, 27, 27, 27, 27, 27, 27, 27, 27, 27, 27, 27, 27,\n",
       "         27, 27, 27, 27, 27, 27, 27, 27, 27, 27, 27, 27],\n",
       "        [28,  7, 18,  1,  2,  0, 25, 15, 21, 18,  0, 18, 21,  3, 11, 19,  1,  3,\n",
       "         11,  0,  1, 14,  4,  0,  8, 21, 18, 18, 25, 27, 27, 27, 27, 27, 27, 27,\n",
       "         27, 27, 27, 27, 27, 27, 27, 27, 27, 27, 27, 27, 27, 27, 27, 27, 27, 27,\n",
       "         27, 27, 27, 27, 27, 27, 27, 27, 27, 27, 27, 27, 27, 27, 27, 27, 27, 27,\n",
       "         27, 27, 27, 27, 27, 27, 27, 27, 27, 27, 27, 27],\n",
       "        [28, 23,  9, 12, 12,  0, 20,  8,  1, 20,  0, 19, 21,  9, 20,  0, 25, 15,\n",
       "         21, 27, 27, 27, 27, 27, 27, 27, 27, 27, 27, 27, 27, 27, 27, 27, 27, 27,\n",
       "         27, 27, 27, 27, 27, 27, 27, 27, 27, 27, 27, 27, 27, 27, 27, 27, 27, 27,\n",
       "         27, 27, 27, 27, 27, 27, 27, 27, 27, 27, 27, 27, 27, 27, 27, 27, 27, 27,\n",
       "         27, 27, 27, 27, 27, 27, 27, 27, 27, 27, 27, 27],\n",
       "        [28, 14, 15,  0, 14, 15, 20,  0,  6, 15, 18,  0, 20,  8,  5, 13, 27, 27,\n",
       "         27, 27, 27, 27, 27, 27, 27, 27, 27, 27, 27, 27, 27, 27, 27, 27, 27, 27,\n",
       "         27, 27, 27, 27, 27, 27, 27, 27, 27, 27, 27, 27, 27, 27, 27, 27, 27, 27,\n",
       "         27, 27, 27, 27, 27, 27, 27, 27, 27, 27, 27, 27, 27, 27, 27, 27, 27, 27,\n",
       "         27, 27, 27, 27, 27, 27, 27, 27, 27, 27, 27, 27]])"
      ]
     },
     "execution_count": 155,
     "metadata": {},
     "output_type": "execute_result"
    }
   ],
   "source": [
    "ys_in_pad"
   ]
  },
  {
   "cell_type": "code",
   "execution_count": 156,
   "id": "77978dac",
   "metadata": {},
   "outputs": [
    {
     "data": {
      "text/plain": [
       "tensor([[28, 15, 18,  9,  7,  9, 14,  1, 12, 12, 25,  0, 20,  9, 20, 12,  5,  4,\n",
       "          0,  2, 18, 15, 11,  5, 14,  0, 23,  9, 14,  7, 19,  0, 20,  8,  5,  0,\n",
       "         19, 20, 15, 18, 25,  0, 23,  1, 19,  0, 18,  5, 10,  5,  3, 20,  5,  4,\n",
       "          0,  2, 25,  0, 20,  8,  5,  0, 19,  1, 20, 21, 18,  4,  1, 25,  0,  5,\n",
       "         22,  5, 14,  9, 14,  7,  0, 16, 15, 19, 20, 27],\n",
       "        [28,  2, 21, 20,  0,  3,  8,  9, 12,  4, 18,  5, 14,  0,  1, 12, 23,  1,\n",
       "         25, 19,  0, 19,  5,  5, 13,  0, 20, 15,  0,  2,  5,  0,  1,  2, 12,  5,\n",
       "          0, 20, 15,  0, 16, 12,  1, 25,  0, 23,  9, 20,  8,  0, 20,  8,  5, 13,\n",
       "          0, 23,  9, 20,  8, 15, 21, 20,  0,  6, 18,  9,  7,  8, 20,  5, 14,  9,\n",
       "         14,  7,  0, 20,  8,  5, 13, 27, 29, 29, 29, 29],\n",
       "        [28,  1, 14,  4,  0,  8,  5,  0,  7,  5, 20, 19,  0,  9, 20,  0, 18,  9,\n",
       "          7,  8, 20,  0,  1, 23,  1, 25, 27, 29, 29, 29, 29, 29, 29, 29, 29, 29,\n",
       "         29, 29, 29, 29, 29, 29, 29, 29, 29, 29, 29, 29, 29, 29, 29, 29, 29, 29,\n",
       "         29, 29, 29, 29, 29, 29, 29, 29, 29, 29, 29, 29, 29, 29, 29, 29, 29, 29,\n",
       "         29, 29, 29, 29, 29, 29, 29, 29, 29, 29, 29, 29],\n",
       "        [28, 20,  8,  5, 14,  0, 19,  8,  5,  0, 20, 15, 15, 11,  0,  2, 15, 20,\n",
       "          8,  0, 15,  6,  0,  8,  9, 19,  0,  8,  1, 14,  4, 19,  0,  9, 14,  0,\n",
       "          8,  5, 18, 19,  0,  1, 14,  4,  0,  2,  5,  7,  1, 14,  0, 17, 21,  9,\n",
       "          5, 20, 12, 25,  0, 20, 15,  0, 16, 18,  1, 25, 27, 29, 29, 29, 29, 29,\n",
       "         29, 29, 29, 29, 29, 29, 29, 29, 29, 29, 29, 29],\n",
       "        [28,  9, 20,  0,  8,  5, 12, 16,  5,  4,  0, 13,  5,  0, 20, 15,  0, 20,\n",
       "         18, 21, 19, 20,  0,  9, 14,  0, 16,  5, 15, 16, 12,  5,  0, 20,  8,  5,\n",
       "          0,  5, 14,  7, 12,  9, 19,  8, 13,  1, 14,  0,  1, 14, 19, 23,  5, 18,\n",
       "          5,  4, 27, 29, 29, 29, 29, 29, 29, 29, 29, 29, 29, 29, 29, 29, 29, 29,\n",
       "         29, 29, 29, 29, 29, 29, 29, 29, 29, 29, 29, 29],\n",
       "        [28,  6,  9, 22,  5,  0, 20, 15,  0, 20,  8,  9, 18, 20,  5,  5, 14,  0,\n",
       "         16,  5, 15, 16, 12,  5,  0, 23, 15, 18, 11,  0, 15, 14,  0, 20,  8,  5,\n",
       "          0,  2, 18,  9,  4,  7,  5,  0,  1, 20,  0,  1, 12, 12,  0, 20,  9, 13,\n",
       "          5, 19, 27, 29, 29, 29, 29, 29, 29, 29, 29, 29, 29, 29, 29, 29, 29, 29,\n",
       "         29, 29, 29, 29, 29, 29, 29, 29, 29, 29, 29, 29],\n",
       "        [28, 25,  5, 19, 27, 29, 29, 29, 29, 29, 29, 29, 29, 29, 29, 29, 29, 29,\n",
       "         29, 29, 29, 29, 29, 29, 29, 29, 29, 29, 29, 29, 29, 29, 29, 29, 29, 29,\n",
       "         29, 29, 29, 29, 29, 29, 29, 29, 29, 29, 29, 29, 29, 29, 29, 29, 29, 29,\n",
       "         29, 29, 29, 29, 29, 29, 29, 29, 29, 29, 29, 29, 29, 29, 29, 29, 29, 29,\n",
       "         29, 29, 29, 29, 29, 29, 29, 29, 29, 29, 29, 29],\n",
       "        [28,  7, 18,  1,  2,  0, 25, 15, 21, 18,  0, 18, 21,  3, 11, 19,  1,  3,\n",
       "         11,  0,  1, 14,  4,  0,  8, 21, 18, 18, 25, 27, 29, 29, 29, 29, 29, 29,\n",
       "         29, 29, 29, 29, 29, 29, 29, 29, 29, 29, 29, 29, 29, 29, 29, 29, 29, 29,\n",
       "         29, 29, 29, 29, 29, 29, 29, 29, 29, 29, 29, 29, 29, 29, 29, 29, 29, 29,\n",
       "         29, 29, 29, 29, 29, 29, 29, 29, 29, 29, 29, 29],\n",
       "        [28, 23,  9, 12, 12,  0, 20,  8,  1, 20,  0, 19, 21,  9, 20,  0, 25, 15,\n",
       "         21, 27, 29, 29, 29, 29, 29, 29, 29, 29, 29, 29, 29, 29, 29, 29, 29, 29,\n",
       "         29, 29, 29, 29, 29, 29, 29, 29, 29, 29, 29, 29, 29, 29, 29, 29, 29, 29,\n",
       "         29, 29, 29, 29, 29, 29, 29, 29, 29, 29, 29, 29, 29, 29, 29, 29, 29, 29,\n",
       "         29, 29, 29, 29, 29, 29, 29, 29, 29, 29, 29, 29],\n",
       "        [28, 14, 15,  0, 14, 15, 20,  0,  6, 15, 18,  0, 20,  8,  5, 13, 27, 29,\n",
       "         29, 29, 29, 29, 29, 29, 29, 29, 29, 29, 29, 29, 29, 29, 29, 29, 29, 29,\n",
       "         29, 29, 29, 29, 29, 29, 29, 29, 29, 29, 29, 29, 29, 29, 29, 29, 29, 29,\n",
       "         29, 29, 29, 29, 29, 29, 29, 29, 29, 29, 29, 29, 29, 29, 29, 29, 29, 29,\n",
       "         29, 29, 29, 29, 29, 29, 29, 29, 29, 29, 29, 29]])"
      ]
     },
     "execution_count": 156,
     "metadata": {},
     "output_type": "execute_result"
    }
   ],
   "source": [
    "ys_out_pad"
   ]
  },
  {
   "cell_type": "code",
   "execution_count": 14,
   "id": "ffc06547",
   "metadata": {},
   "outputs": [],
   "source": [
    "class Encoder(nn.Module):\n",
    "    def __init__(self, input_size, hidden_size, num_layers, dropout=0.01, bidirectional=True):\n",
    "        super(Encoder, self).__init__()\n",
    "        \n",
    "        self.rnn = nn.GRU(input_size, hidden_size, num_layers, batch_first=True, dropout=dropout,\n",
    "                          bidirectional=bidirectional)\n",
    "        self.rnn2 = nn.GRU(hidden_size, hidden_size)\n",
    "        \n",
    "\n",
    "    def forward(self, input_x, enc_len):\n",
    "        total_length = input_x.size(1)  # get the max sequence length\n",
    "        # print('total_length: ' + str(total_length))\n",
    "        # print('input_x.size(): ' + str(input_x.size()))\n",
    "        packed_input = pack_padded_sequence(input_x, enc_len, batch_first=True)\n",
    "        # print('enc_len: ' + str(enc_len))\n",
    "        packed_output, hidden = self.rnn(packed_input)\n",
    "        output, _ = pad_packed_sequence(packed_output, batch_first=True, total_length=total_length)\n",
    "        return output, hidden\n",
    "    \n",
    "hmm = nn.GRU(80,10,bidirectional=True)\n",
    "input_x = x_batch.size(1)\n",
    "enc_len = x_batch.size(2)\n",
    "total_length =x_batch.size(1)\n",
    "packed_input = pack_padded_sequence(x_batch, input_lengths, batch_first=True)\n",
    "hah, _= hmm(packed_input)\n",
    "output, _ = pad_packed_sequence(hah, batch_first=True, total_length=total_length)\n"
   ]
  },
  {
   "cell_type": "code",
   "execution_count": 72,
   "id": "eae94959",
   "metadata": {},
   "outputs": [
    {
     "data": {
      "text/plain": [
       "torch.Size([10, 651, 80])"
      ]
     },
     "execution_count": 72,
     "metadata": {},
     "output_type": "execute_result"
    }
   ],
   "source": [
    "x_batch.size()"
   ]
  },
  {
   "cell_type": "code",
   "execution_count": 10,
   "id": "1182793e",
   "metadata": {},
   "outputs": [],
   "source": [
    "\n",
    "class Encoder(nn.Module):\n",
    "    def __init__(self, input_dim, hidden_dim):\n",
    "        super(Encoder, self).__init__()\n",
    "\n",
    "        self.blstm = nn.LSTM(input_dim, hidden_dim, 1, bidirectional=True, batch_first=True)\n",
    "        self.pblstm1 = pBLSTM(hidden_dim * 2, hidden_dim)\n",
    "        self.pblstm2 = pBLSTM(hidden_dim * 2, hidden_dim)\n",
    "        self.pblstm3 = pBLSTM(hidden_dim * 2, hidden_dim)\n",
    "        self.mlp1 = nn.Linear(hidden_dim * 2, 128)\n",
    "        self.mlp2 = nn.Linear(hidden_dim * 2, 128)\n",
    "\n",
    "    def forward(self, x):\n",
    "        x, _ = self.blstm(x)\n",
    "        x, _ = self.pblstm1(x)\n",
    "        x, _ = self.pblstm2(x)\n",
    "        x, _ = self.pblstm3(x)\n",
    "        x, lens = rnn.pad_packed_sequence(x, batch_first=True)\n",
    "        keys = self.mlp1(x)\n",
    "        values = self.mlp2(x)\n",
    "        return keys, values, lens\n",
    "\n",
    "\n",
    "class pBLSTM(nn.Module):\n",
    "    def __init__(self, input_dim, hidden_dim):\n",
    "        super(pBLSTM, self).__init__()\n",
    "        self.blstm = nn.LSTM(input_dim * 2, hidden_dim, 1, bidirectional=True, batch_first=True)\n",
    "        self.drop = LockedDrop()\n",
    "\n",
    "    def forward(self, x):\n",
    "        x, lens = rnn.pad_packed_sequence(x, batch_first=True)\n",
    "        batch_size = x.size(0)\n",
    "        seq_length = int(x.size(1) // 2)\n",
    "        feature_dim = x.size(2) * 2\n",
    "        x = x[:, :x.size(1) // 2 * 2, :]\n",
    "        x = self.drop.forward(x, dropout = 0.05)\n",
    "        x = x.contiguous().view(batch_size, seq_length, feature_dim)\n",
    "        x = rnn.pack_padded_sequence(x, lens//2, batch_first=True)\n",
    "        output, _ = self.blstm(x)\n",
    "        return output, lens//2"
   ]
  },
  {
   "cell_type": "code",
   "execution_count": 12,
   "id": "f28f7de9",
   "metadata": {},
   "outputs": [
    {
     "data": {
      "text/plain": [
       "torch.Size([10, 399, 20])"
      ]
     },
     "execution_count": 12,
     "metadata": {},
     "output_type": "execute_result"
    }
   ],
   "source": [
    "output.shape"
   ]
  },
  {
   "cell_type": "code",
   "execution_count": 16,
   "id": "cb3352de",
   "metadata": {},
   "outputs": [],
   "source": [
    "encoder = Encoder(80, 30, 1, dropout=0.0, bidirectional=False)\n",
    "\n",
    "gg, oo = encoder(x_batch,input_lengths)"
   ]
  },
  {
   "cell_type": "code",
   "execution_count": 17,
   "id": "d09c6682",
   "metadata": {},
   "outputs": [
    {
     "data": {
      "text/plain": [
       "torch.Size([10, 399, 30])"
      ]
     },
     "execution_count": 17,
     "metadata": {},
     "output_type": "execute_result"
    }
   ],
   "source": [
    "gg.shape"
   ]
  },
  {
   "cell_type": "code",
   "execution_count": 18,
   "id": "ff37b6fd",
   "metadata": {},
   "outputs": [
    {
     "data": {
      "text/plain": [
       "torch.Size([1, 10, 30])"
      ]
     },
     "execution_count": 18,
     "metadata": {},
     "output_type": "execute_result"
    }
   ],
   "source": [
    "oo.shape"
   ]
  },
  {
   "cell_type": "code",
   "execution_count": 191,
   "id": "a73b16cb",
   "metadata": {},
   "outputs": [],
   "source": [
    "encoder = Encoder(80, 30, 1, dropout=0.0, bidirectional=True)\n",
    "decoder = Decoder(vocab_size=29, embedding_dim=15, hidden_size=30, num_layers=1)"
   ]
  },
  {
   "cell_type": "code",
   "execution_count": 115,
   "id": "5a8f7909",
   "metadata": {},
   "outputs": [
    {
     "data": {
      "text/plain": [
       "torch.Size([10, 63])"
      ]
     },
     "execution_count": 115,
     "metadata": {},
     "output_type": "execute_result"
    }
   ],
   "source": [
    "y.shape"
   ]
  },
  {
   "cell_type": "code",
   "execution_count": 192,
   "id": "5fab4530",
   "metadata": {},
   "outputs": [],
   "source": [
    "ww, wo ,wi = decoder(y,gg,oo)"
   ]
  },
  {
   "cell_type": "code",
   "execution_count": 193,
   "id": "c42627db",
   "metadata": {},
   "outputs": [
    {
     "data": {
      "text/plain": [
       "(torch.Size([640, 29]), torch.Size([640]), torch.Size([10, 64]))"
      ]
     },
     "execution_count": 193,
     "metadata": {},
     "output_type": "execute_result"
    }
   ],
   "source": [
    "ww.shape, wo.shape,wi.shape"
   ]
  },
  {
   "cell_type": "code",
   "execution_count": 223,
   "id": "97627898",
   "metadata": {},
   "outputs": [],
   "source": [
    "hmm = Fi.cross_entropy(ww, wo,\n",
    "                                  ignore_index=29,\n",
    "                                  reduction='none')"
   ]
  },
  {
   "cell_type": "code",
   "execution_count": 211,
   "id": "d30a6fbf",
   "metadata": {},
   "outputs": [
    {
     "data": {
      "text/plain": [
       "tensor(1.9204, grad_fn=<MeanBackward0>)"
      ]
     },
     "execution_count": 211,
     "metadata": {},
     "output_type": "execute_result"
    }
   ],
   "source": [
    "hmm.mean()"
   ]
  },
  {
   "cell_type": "code",
   "execution_count": 221,
   "id": "6b45fcdd",
   "metadata": {},
   "outputs": [
    {
     "data": {
      "text/plain": [
       "tensor(3.3766, grad_fn=<NllLossBackward>)"
      ]
     },
     "execution_count": 221,
     "metadata": {},
     "output_type": "execute_result"
    }
   ],
   "source": [
    "hmm"
   ]
  },
  {
   "cell_type": "code",
   "execution_count": 226,
   "id": "54126ea2",
   "metadata": {},
   "outputs": [
    {
     "data": {
      "text/plain": [
       "torch.Size([364])"
      ]
     },
     "execution_count": 226,
     "metadata": {},
     "output_type": "execute_result"
    }
   ],
   "source": [
    "hmm[hmm >0].shape"
   ]
  },
  {
   "cell_type": "code",
   "execution_count": 222,
   "id": "83f8af66",
   "metadata": {},
   "outputs": [
    {
     "data": {
      "text/plain": [
       "363.9755967541314"
      ]
     },
     "execution_count": 222,
     "metadata": {},
     "output_type": "execute_result"
    }
   ],
   "source": [
    "1229/3.3766"
   ]
  },
  {
   "cell_type": "code",
   "execution_count": 157,
   "id": "fbda53c4",
   "metadata": {},
   "outputs": [],
   "source": [
    "# rnny = nn.ModuleList()\n",
    "rnny = nn.LSTMCell(15, 30,)"
   ]
  },
  {
   "cell_type": "code",
   "execution_count": 188,
   "id": "cd8a3625",
   "metadata": {},
   "outputs": [
    {
     "ename": "IndexError",
     "evalue": "index out of range in self",
     "output_type": "error",
     "traceback": [
      "\u001b[0;31m---------------------------------------------------------------------------\u001b[0m",
      "\u001b[0;31mIndexError\u001b[0m                                Traceback (most recent call last)",
      "\u001b[0;32m<ipython-input-188-9282dd77480b>\u001b[0m in \u001b[0;36m<module>\u001b[0;34m\u001b[0m\n\u001b[0;32m----> 1\u001b[0;31m \u001b[0mem\u001b[0m \u001b[0;34m=\u001b[0m \u001b[0mdecoder\u001b[0m\u001b[0;34m.\u001b[0m\u001b[0membedding\u001b[0m\u001b[0;34m(\u001b[0m\u001b[0my\u001b[0m\u001b[0;34m)\u001b[0m\u001b[0;34m\u001b[0m\u001b[0;34m\u001b[0m\u001b[0m\n\u001b[0m",
      "\u001b[0;32m~/opt/anaconda3/envs/tf/lib/python3.7/site-packages/torch/nn/modules/module.py\u001b[0m in \u001b[0;36m_call_impl\u001b[0;34m(self, *input, **kwargs)\u001b[0m\n\u001b[1;32m   1049\u001b[0m         if not (self._backward_hooks or self._forward_hooks or self._forward_pre_hooks or _global_backward_hooks\n\u001b[1;32m   1050\u001b[0m                 or _global_forward_hooks or _global_forward_pre_hooks):\n\u001b[0;32m-> 1051\u001b[0;31m             \u001b[0;32mreturn\u001b[0m \u001b[0mforward_call\u001b[0m\u001b[0;34m(\u001b[0m\u001b[0;34m*\u001b[0m\u001b[0minput\u001b[0m\u001b[0;34m,\u001b[0m \u001b[0;34m**\u001b[0m\u001b[0mkwargs\u001b[0m\u001b[0;34m)\u001b[0m\u001b[0;34m\u001b[0m\u001b[0;34m\u001b[0m\u001b[0m\n\u001b[0m\u001b[1;32m   1052\u001b[0m         \u001b[0;31m# Do not call functions when jit is used\u001b[0m\u001b[0;34m\u001b[0m\u001b[0;34m\u001b[0m\u001b[0;34m\u001b[0m\u001b[0m\n\u001b[1;32m   1053\u001b[0m         \u001b[0mfull_backward_hooks\u001b[0m\u001b[0;34m,\u001b[0m \u001b[0mnon_full_backward_hooks\u001b[0m \u001b[0;34m=\u001b[0m \u001b[0;34m[\u001b[0m\u001b[0;34m]\u001b[0m\u001b[0;34m,\u001b[0m \u001b[0;34m[\u001b[0m\u001b[0;34m]\u001b[0m\u001b[0;34m\u001b[0m\u001b[0;34m\u001b[0m\u001b[0m\n",
      "\u001b[0;32m~/opt/anaconda3/envs/tf/lib/python3.7/site-packages/torch/nn/modules/sparse.py\u001b[0m in \u001b[0;36mforward\u001b[0;34m(self, input)\u001b[0m\n\u001b[1;32m    158\u001b[0m         return F.embedding(\n\u001b[1;32m    159\u001b[0m             \u001b[0minput\u001b[0m\u001b[0;34m,\u001b[0m \u001b[0mself\u001b[0m\u001b[0;34m.\u001b[0m\u001b[0mweight\u001b[0m\u001b[0;34m,\u001b[0m \u001b[0mself\u001b[0m\u001b[0;34m.\u001b[0m\u001b[0mpadding_idx\u001b[0m\u001b[0;34m,\u001b[0m \u001b[0mself\u001b[0m\u001b[0;34m.\u001b[0m\u001b[0mmax_norm\u001b[0m\u001b[0;34m,\u001b[0m\u001b[0;34m\u001b[0m\u001b[0;34m\u001b[0m\u001b[0m\n\u001b[0;32m--> 160\u001b[0;31m             self.norm_type, self.scale_grad_by_freq, self.sparse)\n\u001b[0m\u001b[1;32m    161\u001b[0m \u001b[0;34m\u001b[0m\u001b[0m\n\u001b[1;32m    162\u001b[0m     \u001b[0;32mdef\u001b[0m \u001b[0mextra_repr\u001b[0m\u001b[0;34m(\u001b[0m\u001b[0mself\u001b[0m\u001b[0;34m)\u001b[0m \u001b[0;34m->\u001b[0m \u001b[0mstr\u001b[0m\u001b[0;34m:\u001b[0m\u001b[0;34m\u001b[0m\u001b[0;34m\u001b[0m\u001b[0m\n",
      "\u001b[0;32m~/opt/anaconda3/envs/tf/lib/python3.7/site-packages/torch/nn/functional.py\u001b[0m in \u001b[0;36membedding\u001b[0;34m(input, weight, padding_idx, max_norm, norm_type, scale_grad_by_freq, sparse)\u001b[0m\n\u001b[1;32m   2041\u001b[0m         \u001b[0;31m# remove once script supports set_grad_enabled\u001b[0m\u001b[0;34m\u001b[0m\u001b[0;34m\u001b[0m\u001b[0;34m\u001b[0m\u001b[0m\n\u001b[1;32m   2042\u001b[0m         \u001b[0m_no_grad_embedding_renorm_\u001b[0m\u001b[0;34m(\u001b[0m\u001b[0mweight\u001b[0m\u001b[0;34m,\u001b[0m \u001b[0minput\u001b[0m\u001b[0;34m,\u001b[0m \u001b[0mmax_norm\u001b[0m\u001b[0;34m,\u001b[0m \u001b[0mnorm_type\u001b[0m\u001b[0;34m)\u001b[0m\u001b[0;34m\u001b[0m\u001b[0;34m\u001b[0m\u001b[0m\n\u001b[0;32m-> 2043\u001b[0;31m     \u001b[0;32mreturn\u001b[0m \u001b[0mtorch\u001b[0m\u001b[0;34m.\u001b[0m\u001b[0membedding\u001b[0m\u001b[0;34m(\u001b[0m\u001b[0mweight\u001b[0m\u001b[0;34m,\u001b[0m \u001b[0minput\u001b[0m\u001b[0;34m,\u001b[0m \u001b[0mpadding_idx\u001b[0m\u001b[0;34m,\u001b[0m \u001b[0mscale_grad_by_freq\u001b[0m\u001b[0;34m,\u001b[0m \u001b[0msparse\u001b[0m\u001b[0;34m)\u001b[0m\u001b[0;34m\u001b[0m\u001b[0;34m\u001b[0m\u001b[0m\n\u001b[0m\u001b[1;32m   2044\u001b[0m \u001b[0;34m\u001b[0m\u001b[0m\n\u001b[1;32m   2045\u001b[0m \u001b[0;34m\u001b[0m\u001b[0m\n",
      "\u001b[0;31mIndexError\u001b[0m: index out of range in self"
     ]
    }
   ],
   "source": [
    "em = decoder.embedding(y)"
   ]
  },
  {
   "cell_type": "markdown",
   "id": "75716ca1",
   "metadata": {},
   "source": [
    "ln = em.size(1)"
   ]
  },
  {
   "cell_type": "code",
   "execution_count": 160,
   "id": "36435c7c",
   "metadata": {},
   "outputs": [],
   "source": [
    "wah = rnny(em[:,0,:],(oo[0],oo[1]))"
   ]
  },
  {
   "cell_type": "code",
   "execution_count": 163,
   "id": "668d8e51",
   "metadata": {},
   "outputs": [
    {
     "ename": "IndexError",
     "evalue": "tuple index out of range",
     "output_type": "error",
     "traceback": [
      "\u001b[0;31m---------------------------------------------------------------------------\u001b[0m",
      "\u001b[0;31mIndexError\u001b[0m                                Traceback (most recent call last)",
      "\u001b[0;32m<ipython-input-163-d0a8c5de1353>\u001b[0m in \u001b[0;36m<module>\u001b[0;34m\u001b[0m\n\u001b[0;32m----> 1\u001b[0;31m \u001b[0mwah\u001b[0m\u001b[0;34m[\u001b[0m\u001b[0;36m2\u001b[0m\u001b[0;34m]\u001b[0m\u001b[0;34m.\u001b[0m\u001b[0mshape\u001b[0m\u001b[0;34m\u001b[0m\u001b[0;34m\u001b[0m\u001b[0m\n\u001b[0m",
      "\u001b[0;31mIndexError\u001b[0m: tuple index out of range"
     ]
    }
   ],
   "source": [
    "wah[2].shape"
   ]
  },
  {
   "cell_type": "code",
   "execution_count": 148,
   "id": "bf95488c",
   "metadata": {},
   "outputs": [
    {
     "data": {
      "text/plain": [
       "torch.Size([10, 15])"
      ]
     },
     "execution_count": 148,
     "metadata": {},
     "output_type": "execute_result"
    }
   ],
   "source": [
    "em[:,i,:].shape"
   ]
  },
  {
   "cell_type": "code",
   "execution_count": 146,
   "id": "8c2704de",
   "metadata": {},
   "outputs": [],
   "source": [
    "for i in range(em.size(1)):\n",
    "    h,c = rnny(em[:,i,:])"
   ]
  },
  {
   "cell_type": "code",
   "execution_count": 52,
   "id": "ab7d8472",
   "metadata": {},
   "outputs": [],
   "source": [
    "class DotProductAttention(nn.Module):\n",
    "    r\"\"\"Dot product attention.\n",
    "    Given a set of vector values, and a vector query, attention is a technique\n",
    "    to compute a weighted sum of the values, dependent on the query.\n",
    "    NOTE: Here we use the terminology in Stanford cs224n-2018-lecture11.\n",
    "    \"\"\"\n",
    "\n",
    "    def __init__(self):\n",
    "        super(DotProductAttention, self).__init__()\n",
    "\n",
    "    def forward(self, queries, values):\n",
    "        \"\"\"\n",
    "        Args:\n",
    "            queries: N x To x H\n",
    "            values : N x Ti x H\n",
    "        Returns:\n",
    "            output: N x To x H\n",
    "            attention_distribution: N x To x Ti\n",
    "        \"\"\"\n",
    "        batch_size = queries.size(0)\n",
    "        input_lengths = values.size(1)\n",
    "        # (N, To, H) * (N, H, Ti) -> (N, To, Ti)\n",
    "        attention_scores = torch.bmm(queries, values.transpose(1, 2))\n",
    "        attention_distribution = Fi.softmax(\n",
    "            attention_scores.view(-1, input_lengths), dim=1).view(batch_size, -1, input_lengths)\n",
    "        # (N, To, Ti) * (N, Ti, H) -> (N, To, H)\n",
    "        attention_output = torch.bmm(attention_distribution, values)\n",
    "\n",
    "        return attention_output, attention_distribution"
   ]
  },
  {
   "cell_type": "code",
   "execution_count": 51,
   "id": "43bd51ec",
   "metadata": {},
   "outputs": [],
   "source": [
    "def pad_list(xs, pad_value):\n",
    "        # From: espnet/src/nets/e2e_asr_th.py: pad_list()\n",
    "        n_batch = len(xs)\n",
    "        max_len = max(x.size(0) for x in xs)\n",
    "        pad = xs[0].new(n_batch, max_len, *xs[0].size()[1:]).fill_(pad_value)\n",
    "        for i in range(n_batch):\n",
    "            pad[i, :xs[i].size(0)] = xs[i]\n",
    "        return pad"
   ]
  },
  {
   "cell_type": "code",
   "execution_count": 141,
   "id": "3bc4e82b",
   "metadata": {},
   "outputs": [],
   "source": [
    "class Decoder(nn.Module):\n",
    "    def __init__(self, vocab_size, embedding_dim, hidden_size, num_layers=1):\n",
    "        super(Decoder, self).__init__()\n",
    "        # Hyper parameters\n",
    "        # embedding + output\n",
    "        self.vocab_size = vocab_size\n",
    "        self.embedding_dim = embedding_dim\n",
    "        # rnn\n",
    "        self.hidden_size = hidden_size\n",
    "        self.num_layers = num_layers\n",
    "        self.encoder_hidden_size = hidden_size  # must be equal now\n",
    "        # Components\n",
    "        self.embedding = nn.Embedding(self.vocab_size, self.embedding_dim)\n",
    "        self.rnn = nn.ModuleList()\n",
    "        self.rnn += [nn.LSTMCell(self.embedding_dim +\n",
    "                                 self.encoder_hidden_size, self.hidden_size)]\n",
    "        for l in range(1, self.num_layers):\n",
    "            self.rnn += [nn.LSTMCell(self.hidden_size, self.hidden_size)]\n",
    "        self.attention = DotProductAttention()\n",
    "        self.mlp = nn.Sequential(\n",
    "            nn.Linear(self.encoder_hidden_size + self.hidden_size,\n",
    "                      self.hidden_size),\n",
    "            nn.Tanh(),\n",
    "            nn.Linear(self.hidden_size, self.vocab_size))\n",
    "\n",
    "    def zero_state(self, encoder_padded_outputs, H=None):\n",
    "        N = encoder_padded_outputs.size(0)\n",
    "        H = self.hidden_size if H == None else H\n",
    "        return encoder_padded_outputs.new_zeros(N, H)\n",
    "\n",
    "    def forward(self, padded_input, encoder_padded_outputs):\n",
    "        \"\"\"\n",
    "        Args:\n",
    "            padded_input: N x To\n",
    "            # encoder_hidden: (num_layers * num_directions) x N x H\n",
    "            encoder_padded_outputs: N x Ti x H\n",
    "        Returns:\n",
    "        \"\"\"\n",
    "        # *********Get Input and Output\n",
    "        # from espnet/Decoder.forward()\n",
    "        ys = [y[y != PAD_token] for y in padded_input]  # parse padded ys\n",
    "        # prepare input and output word sequences with sos/eos IDs\n",
    "\n",
    "        # padding for ys with -1\n",
    "        # pys: utt x olen\n",
    "        ys_in_pad = pad_list(ys, EOS_token)\n",
    "        ys_out_pad = pad_list(ys, PAD_token)\n",
    "        assert ys_in_pad.size() == ys_out_pad.size()\n",
    "        batch_size = ys_in_pad.size(0)\n",
    "        output_length = ys_in_pad.size(1)\n",
    "\n",
    "        # *********Init decoder rnn\n",
    "        h_list = [self.zero_state(encoder_padded_outputs)]\n",
    "        c_list = [self.zero_state(encoder_padded_outputs)]\n",
    "        for l in range(1, self.num_layers):\n",
    "            h_list.append(self.zero_state(encoder_padded_outputs))\n",
    "            c_list.append(self.zero_state(encoder_padded_outputs))\n",
    "        att_c = self.zero_state(encoder_padded_outputs,\n",
    "                                H=encoder_padded_outputs.size(2))\n",
    "        y_all = []\n",
    "\n",
    "        # **********LAS: 1. decoder rnn 2. attention 3. concate and MLP\n",
    "        embedded = self.embedding(ys_in_pad)\n",
    "        for t in range(output_length):\n",
    "            # step 1. decoder RNN: s_i = RNN(s_i−1,y_i−1,c_i−1)\n",
    "            rnn_input = torch.cat((embedded[:, t, :], att_c), dim=1)\n",
    "#             print(rnn_input.size(),embedded.size(),att_c.size())\n",
    "            h_list[0], c_list[0] = self.rnn[0](\n",
    "                rnn_input, (h_list[0], c_list[0]))\n",
    "            for l in range(1, self.num_layers):\n",
    "                h_list[l], c_list[l] = self.rnn[l](\n",
    "                    h_list[l - 1], (h_list[l], c_list[l]))\n",
    "            rnn_output = h_list[-1]  # below unsqueeze: (N x H) -> (N x 1 x H)\n",
    "            # step 2. attention: c_i = AttentionContext(s_i,h)\n",
    "            att_c, att_w = self.attention(rnn_output.unsqueeze(dim=1),\n",
    "                                          encoder_padded_outputs)\n",
    "            att_c = att_c.squeeze(dim=1)\n",
    "            # step 3. concate s_i and c_i, and input to MLP\n",
    "            mlp_input = torch.cat((rnn_output, att_c), dim=1)\n",
    "            predicted_y_t = self.mlp(mlp_input)\n",
    "            y_all.append(predicted_y_t)\n",
    "\n",
    "        y_all = torch.stack(y_all, dim=1)  # N x To x C\n",
    "\n",
    "        # **********Cross Entropy Loss\n",
    "        # F.cross_entropy = NLL(log_softmax(input), target))\n",
    "        y_all = y_all.view(batch_size * output_length, self.vocab_size)\n",
    "#         ce_loss = F.cross_entropy(y_all, ys_out_pad.view(-1),\n",
    "#                                   ignore_index=PAD_token,\n",
    "#                                   reduction='mean')\n",
    "\n",
    "        return y_all, ys_out_pad.view(-1)\n",
    "\n",
    "    def recognize_beam(self, encoder_outputs, char_list, beam =1,nbest=3):\n",
    "        \"\"\"Beam search, decode one utterence now.\n",
    "        Args:\n",
    "            encoder_outputs: T x H\n",
    "            char_list: list of character\n",
    "            args: args.beam\n",
    "        Returns:\n",
    "            nbest_hyps:\n",
    "        \"\"\"\n",
    "        # search params\n",
    "#         beam = args.beam_size\n",
    "#         nbest = args.nbest\n",
    "#         if args.decode_max_len == 0:\n",
    "#             maxlen = encoder_outputs.size(0)\n",
    "#         else:\n",
    "        maxlen = 100\n",
    "\n",
    "        # *********Init decoder rnn\n",
    "        h_list = [self.zero_state(encoder_outputs.unsqueeze(0))]\n",
    "        c_list = [self.zero_state(encoder_outputs.unsqueeze(0))]\n",
    "        for l in range(1, self.num_layers):\n",
    "            h_list.append(self.zero_state(encoder_outputs.unsqueeze(0)))\n",
    "            c_list.append(self.zero_state(encoder_outputs.unsqueeze(0)))\n",
    "        att_c = self.zero_state(encoder_outputs.unsqueeze(0),\n",
    "                                H=encoder_outputs.unsqueeze(0).size(2))\n",
    "        # prepare sos\n",
    "        y = SOS_token\n",
    "        vy = encoder_outputs.new_zeros(1).long()\n",
    "\n",
    "        hyp = {'score': 0.0, 'yseq': [y], 'c_prev': c_list, 'h_prev': h_list,\n",
    "               'a_prev': att_c}\n",
    "        hyps = [hyp]\n",
    "        ended_hyps = []\n",
    "\n",
    "        for i in range(maxlen):\n",
    "            hyps_best_kept = []\n",
    "            for hyp in hyps:\n",
    "                # vy.unsqueeze(1)\n",
    "                vy[0] = hyp['yseq'][i]\n",
    "                embedded = self.embedding(vy)\n",
    "                # embedded.unsqueeze(0)\n",
    "\n",
    "                # step 1. decoder RNN: s_i = RNN(s_i−1,y_i−1,c_i−1)\n",
    "                rnn_input = torch.cat((embedded, hyp['a_prev']), dim=1)\n",
    "                h_list[0], c_list[0] = self.rnn[0](\n",
    "                    rnn_input, (hyp['h_prev'][0], hyp['c_prev'][0]))\n",
    "                for l in range(1, self.num_layers):\n",
    "                    h_list[l], c_list[l] = self.rnn[l](\n",
    "                        h_list[l - 1], (hyp['h_prev'][l], hyp['c_prev'][l]))\n",
    "                rnn_output = h_list[-1]\n",
    "\n",
    "                # step 2. attention: c_i = AttentionContext(s_i,h)\n",
    "                # below unsqueeze: (N x H) -> (N x 1 x H)\n",
    "                att_c, att_w = self.attention(rnn_output.unsqueeze(dim=1),\n",
    "                                              encoder_outputs.unsqueeze(0))\n",
    "                att_c = att_c.squeeze(dim=1)\n",
    "\n",
    "                # step 3. concate s_i and c_i, and input to MLP\n",
    "                mlp_input = torch.cat((rnn_output, att_c), dim=1)\n",
    "                predicted_y_t = self.mlp(mlp_input)\n",
    "                local_scores = Fi.log_softmax(predicted_y_t, dim=1)\n",
    "                # topk scores\n",
    "                local_best_scores, local_best_ids = torch.topk(\n",
    "                    local_scores, beam, dim=1)\n",
    "\n",
    "                for j in range(beam):\n",
    "                    new_hyp = {}\n",
    "                    new_hyp['h_prev'] = h_list[:]\n",
    "                    new_hyp['c_prev'] = c_list[:]\n",
    "                    new_hyp['a_prev'] = att_c[:]\n",
    "                    new_hyp['score'] = hyp['score'] + local_best_scores[0, j]\n",
    "                    new_hyp['yseq'] = [0] * (1 + len(hyp['yseq']))\n",
    "                    new_hyp['yseq'][:len(hyp['yseq'])] = hyp['yseq']\n",
    "                    new_hyp['yseq'][len(hyp['yseq'])] = int(\n",
    "                        local_best_ids[0, j])\n",
    "                    # will be (2 x beam) hyps at most\n",
    "                    hyps_best_kept.append(new_hyp)\n",
    "\n",
    "                hyps_best_kept = sorted(hyps_best_kept,\n",
    "                                        key=lambda x: x['score'],\n",
    "                                        reverse=True)[:beam]\n",
    "            # end for hyp in hyps\n",
    "            hyps = hyps_best_kept\n",
    "\n",
    "            # add eos in the final loop to avoid that there are no ended hyps\n",
    "            if i == maxlen - 1:\n",
    "                for hyp in hyps:\n",
    "                    hyp['yseq'].append(EOS_token)\n",
    "\n",
    "            # add ended hypothes to a final list, and removed them from current hypothes\n",
    "            # (this will be a probmlem, number of hyps < beam)\n",
    "            remained_hyps = []\n",
    "            for hyp in hyps:\n",
    "                if hyp['yseq'][-1] == EOS_token:\n",
    "                    # hyp['score'] += (i + 1) * penalty\n",
    "                    ended_hyps.append(hyp)\n",
    "                else:\n",
    "                    remained_hyps.append(hyp)\n",
    "\n",
    "            hyps = remained_hyps\n",
    "            if len(hyps) > 0:\n",
    "                pass\n",
    "                # print('remeined hypothes: ' + str(len(hyps)))\n",
    "            else:\n",
    "                # print('no hypothesis. Finish decoding.')\n",
    "                break\n",
    "\n",
    "            # for hyp in hyps:\n",
    "            #     print('hypo: ' + ''.join([char_list[int(x)]\n",
    "            #                               for x in hyp['yseq'][1:]]))\n",
    "        # end for i in range(maxlen)\n",
    "        nbest_hyps = sorted(ended_hyps, key=lambda x: x['score'], reverse=True)[\n",
    "                     :min(len(ended_hyps), nbest)]\n",
    "        return nbest_hyps\n"
   ]
  },
  {
   "cell_type": "code",
   "execution_count": 9,
   "id": "95e7aa6f",
   "metadata": {},
   "outputs": [],
   "source": [
    "# class Decoder(nn.Module):\n",
    "#     def __init__(self, vocab_size, embedding_dim, hidden_size, num_layers=1):\n",
    "#         super(Decoder, self).__init__()\n",
    "#         # Hyper parameters\n",
    "#         # embedding + output\n",
    "#         self.vocab_size = vocab_size\n",
    "#         self.embedding_dim = embedding_dim\n",
    "#         # rnn\n",
    "#         self.hidden_size = hidden_size\n",
    "#         self.num_layers = num_layers\n",
    "#         self.encoder_hidden_size = hidden_size  # must be equal now\n",
    "#         # Components\n",
    "#         self.embedding = nn.Embedding(self.vocab_size, self.embedding_dim)\n",
    "#         self.gru = nn.ModuleList()\n",
    "#         self.gru += [nn.LSTMCell(self.embedding_dim, self.hidden_size)]\n",
    "#         self.mlp = nn.Sequential(\n",
    "#             nn.Linear(self.encoder_hidden_size,\n",
    "#                       self.hidden_size),\n",
    "#             nn.Tanh(),\n",
    "#             nn.Linear(self.hidden_size, self.vocab_size))\n",
    "\n",
    "#     def zero_state(self, encoder_padded_outputs, H=None):\n",
    "#         N = encoder_padded_outputs.size(0)\n",
    "#         H = self.hidden_size if H == None else H\n",
    "#         return encoder_padded_outputs.new_zeros(N, H)\n",
    "    \n",
    "#     def pad_list(self,xs, pad_value):\n",
    "#         # From: espnet/src/nets/e2e_asr_th.py: pad_list()\n",
    "#         n_batch = len(xs)\n",
    "#         max_len = max(x.size(0) for x in xs)\n",
    "#         pad = xs[0].new(n_batch, max_len, *xs[0].size()[1:]).fill_(pad_value)\n",
    "#         for i in range(n_batch):\n",
    "#             pad[i, :xs[i].size(0)] = xs[i]\n",
    "#         return pad\n",
    "    \n",
    "#     def get_pads(self,padded_input):\n",
    "#         PAD_token = dictOfchar['PAD']\n",
    "#         EOS_token = dictOfchar['EOS']\n",
    "#         SOS_token = dictOfchar['SOS']\n",
    "#         ys = [y[y != PAD_token] for y in padded_input]  # parse padded ys\n",
    "#         # prepare input and output word sequences with sos/eos IDs\n",
    "# #         eos = ys[0].new([EOS_token])\n",
    "# #         sos = ys[0].new([SOS_token])\n",
    "# #         ys_in = [torch.cat([sos, y], dim=0) for y in ys]\n",
    "# #         ys_out = [torch.cat([y, eos], dim=0) for y in ys]\n",
    "#         # padding for ys with -1\n",
    "#         # pys: utt x olen\n",
    "#         ys_in_pad = self.pad_list(ys, EOS_token)\n",
    "#         ys_out_pad = self.pad_list(ys, PAD_token)\n",
    "#         assert ys_in_pad.size() == ys_out_pad.size()\n",
    "        \n",
    "#         return ys_in_pad, ys_out_pad\n",
    "\n",
    "#     def forward(self, padded_input, encoder_padded_outputs,encoder_hidden):\n",
    "#         \"\"\"\n",
    "#         Args:\n",
    "#             padded_input: N x To\n",
    "#             # encoder_hidden: (num_layers * num_directions) x N x H\n",
    "#             encoder_padded_outputs: N x Ti x H\n",
    "#         Returns:\n",
    "#         \"\"\"\n",
    "#         # *********Get Input and Output\n",
    "#         # from espnet/Decoder.forward()\n",
    "        \n",
    "#         ys_in_pad, ys_out_pad = self.get_pads(padded_input)\n",
    "        \n",
    "# #         ys_in_pad = padded_input\n",
    "# #         ys_out_pad = padded_input\n",
    "\n",
    "#         batch_size = ys_in_pad.size(0)\n",
    "#         output_length = ys_in_pad.size(1)\n",
    "             \n",
    "#         # *********Init decoder rnn\n",
    "#         h_list = encoder_hidden[0]\n",
    "#         c_list = encoder_hidden[1]\n",
    "\n",
    "#         y_all = []\n",
    "        \n",
    "\n",
    "#         # **********LAS: 1. decoder rnn 2. attention 3. concate and MLP\n",
    "#         embedded = self.embedding(ys_in_pad)\n",
    "#         for t in range(output_length):\n",
    "#             # step 1. decoder RNN: s_i = RNN(s_i−1,y_i−1,c_i−1)\n",
    "\n",
    "#             rnn_input = embedded[:, t, :]\n",
    "#             h_list, c_list = self.gru[0](\n",
    "#                 rnn_input, (h_list, c_list))\n",
    "#             rnn_output = h_list # below unsqueeze: (N x H) -> (N x 1 x H)\n",
    "#             mlp_input = rnn_output\n",
    "#             predicted_y_t = self.mlp(mlp_input)\n",
    "#             y_all.append(predicted_y_t)\n",
    "\n",
    "#         y_all = torch.stack(y_all, dim=1)  # N x To x C\n",
    "\n",
    "#         # **********Cross Entropy Loss\n",
    "#         # F.cross_entropy = NLL(log_softmax(input), target))\n",
    "#         y_all = y_all.view(batch_size * output_length, self.vocab_size)\n",
    "# #         ce_loss = F.cross_entropy(y_all, ys_out_pad.view(-1),\n",
    "# #                                   ignore_index=PAD_token,\n",
    "# #                                   reduction='mean')\n",
    "\n",
    "#         return y_all, ys_out_pad.view(-1)\n"
   ]
  },
  {
   "cell_type": "code",
   "execution_count": 299,
   "id": "57be43ac",
   "metadata": {},
   "outputs": [
    {
     "data": {
      "text/plain": [
       "27"
      ]
     },
     "execution_count": 299,
     "metadata": {},
     "output_type": "execute_result"
    }
   ],
   "source": [
    "self.attn = nn.Linear(self.hidden_size * 2, self.max_length)\n",
    "self.attn_combine = nn.Linear(self.hidden_size * 2, self.hidden_size)\n",
    "\n",
    "\n",
    "attn_weights = Fi.softmax(\n",
    "self.attn(torch.cat((embedded[0], hidden[0]), 1)), dim=1)\n",
    "attn_applied = torch.bmm(attn_weights.unsqueeze(0),\n",
    "                     encoder_outputs.unsqueeze(0))\n",
    "\n",
    "output = torch.cat((embedded[0], attn_applied[0]), 1)\n",
    "output = self.attn_combine(output).unsqueeze(0)\n",
    "\n",
    "output = Fi.relu(output)\n",
    "output, hidden = self.gru(output, hidden)\n",
    "\n",
    "output = Fi.log_softmax(self.out(output[0]), dim=1)\n",
    "output_probs = torch.exp(output)"
   ]
  },
  {
   "cell_type": "code",
   "execution_count": 144,
   "id": "c4b53798",
   "metadata": {},
   "outputs": [],
   "source": [
    "PAD_token = dictOfchar['PAD']\n",
    "EOS_token = dictOfchar['EOS']\n",
    "SOS_token = dictOfchar['SOS']\n",
    "\n",
    "\n",
    "def train(features, encoder, decoder, encoder_optimizer,\n",
    "          decoder_optimizer, criterion):\n",
    "\n",
    "    encoder_optimizer.zero_grad()\n",
    "    decoder_optimizer.zero_grad()\n",
    "    \n",
    "    input_tensor = features[0]\n",
    "    target_tensor = features[1]\n",
    "    input_length = features[2]\n",
    "    \n",
    "    batch_size = input_tensor.size(0)\n",
    "    \n",
    "    encoder_output, encoder_hidden = encoder(input_tensor,input_length)\n",
    "    pred,actual = decoder(target_tensor,encoder_output)\n",
    "    loss = criterion(pred,actual,ignore_index=PAD_token,reduction='sum')\n",
    "    \n",
    "    \n",
    "    loss.backward()\n",
    "\n",
    "    encoder_optimizer.step()\n",
    "    decoder_optimizer.step()\n",
    "\n",
    "    return loss.item() /batch_size"
   ]
  },
  {
   "cell_type": "code",
   "execution_count": 55,
   "id": "79eb0847",
   "metadata": {},
   "outputs": [],
   "source": [
    "import time\n",
    "import math\n",
    "\n",
    "\n",
    "def asMinutes(s):\n",
    "    m = math.floor(s / 60)\n",
    "    s -= m * 60\n",
    "    return '%dm %ds' % (m, s)\n",
    "\n",
    "\n",
    "def timeSince(since, percent):\n",
    "    now = time.time()\n",
    "    s = now - since\n",
    "    es = s / (percent)\n",
    "    rs = es - s\n",
    "    return '%s (- %s)' % (asMinutes(s), asMinutes(rs))"
   ]
  },
  {
   "cell_type": "code",
   "execution_count": null,
   "id": "18e6fc43",
   "metadata": {},
   "outputs": [],
   "source": []
  },
  {
   "cell_type": "code",
   "execution_count": 145,
   "id": "6af292ac",
   "metadata": {},
   "outputs": [],
   "source": [
    "import matplotlib.pyplot as plt\n",
    "plt.switch_backend('agg')\n",
    "import matplotlib.ticker as ticker\n",
    "import numpy as np\n",
    "\n",
    "\n",
    "def showPlot(points):\n",
    "    plt.figure()\n",
    "    fig, ax = plt.subplots()\n",
    "    # this locator puts ticks at regular intervals\n",
    "    loc = ticker.MultipleLocator(base=0.2)\n",
    "    ax.yaxis.set_major_locator(loc)\n",
    "    plt.plot(points)\n",
    "\n",
    "\n",
    "def trainIters(encoder, decoder, n_iters, print_every=1000, plot_every=100, learning_rate=0.01):\n",
    "    start = time.time()\n",
    "    plot_losses = []\n",
    "    print_loss_total = 0  # Reset every print_every\n",
    "    plot_loss_total = 0  # Reset every plot_every\n",
    "    \n",
    "    lns = len(transformed_dataset)\n",
    "\n",
    "    encoder_optimizer = optim.Adam(encoder.parameters(), lr=learning_rate)\n",
    "    decoder_optimizer = optim.Adam(decoder.parameters(), lr=learning_rate)\n",
    "    \n",
    "    \n",
    "#     encoder_optimizer = optim.SGD(encoder.parameters(), lr=learning_rate)\n",
    "#     decoder_optimizer = optim.SGD(decoder.parameters(), lr=learning_rate)\n",
    "                      \n",
    "#     criterion = nn.NLLLoss()\n",
    "    criterion = Fi.cross_entropy\n",
    "    train_sampler = DataLoader(transformed_dataset, batch_size=10, shuffle=True, collate_fn=pad_collate)\n",
    "    iterator = iter(train_sampler)\n",
    "    \n",
    "\n",
    "\n",
    "    for i in range(1, n_iters):\n",
    "        \n",
    "        features = iterator.next()            \n",
    "        loss = train(features, encoder,\n",
    "                     decoder, encoder_optimizer, decoder_optimizer, criterion)\n",
    "        print_loss_total += loss\n",
    "        plot_loss_total += loss\n",
    "\n",
    "        if i % print_every == 0:\n",
    "            print_loss_avg = print_loss_total / print_every\n",
    "            print_loss_total = 0\n",
    "            print('%s (%d %d%%) %.4f' % (timeSince(start, i/ n_iters),\n",
    "                                         i, i / n_iters * 100, print_loss_avg))\n",
    "\n",
    "        if i % plot_every == 0:\n",
    "            plot_loss_avg = plot_loss_total / (plot_every*1.0)\n",
    "            plot_losses.append(plot_loss_avg)\n",
    "            plot_loss_total = 0\n",
    "\n",
    "    showPlot(plot_losses)\n",
    "    \n",
    "    \n"
   ]
  },
  {
   "cell_type": "markdown",
   "id": "f291172d",
   "metadata": {},
   "source": [
    "# Train model"
   ]
  },
  {
   "cell_type": "code",
   "execution_count": 57,
   "id": "14c83257",
   "metadata": {},
   "outputs": [],
   "source": [
    "train_sampler = DataLoader(transformed_dataset, batch_size=10, shuffle=True, collate_fn=pad_collate)\n"
   ]
  },
  {
   "cell_type": "code",
   "execution_count": 27,
   "id": "a713ea70",
   "metadata": {},
   "outputs": [
    {
     "data": {
      "text/plain": [
       "<torch.utils.data.dataloader.DataLoader at 0x7fa5ea45cd90>"
      ]
     },
     "execution_count": 27,
     "metadata": {},
     "output_type": "execute_result"
    }
   ],
   "source": [
    "train_sampler"
   ]
  },
  {
   "cell_type": "code",
   "execution_count": 37,
   "id": "93585563",
   "metadata": {},
   "outputs": [
    {
     "name": "stdout",
     "output_type": "stream",
     "text": [
      "13m 47s (- 27m 34s) (1000 33%) 1.2508\n",
      "27m 31s (- 13m 45s) (2000 66%) 0.7098\n"
     ]
    }
   ],
   "source": [
    "trainIters(encoder,decoder, 3000, print_every=1000, plot_every=2000,learning_rate=0.01)"
   ]
  },
  {
   "cell_type": "code",
   "execution_count": 154,
   "id": "6fca33f6",
   "metadata": {},
   "outputs": [
    {
     "name": "stdout",
     "output_type": "stream",
     "text": [
      "0m 9s (- 0m 37s) (10 20%) 8.7194\n",
      "0m 18s (- 0m 27s) (20 40%) 7.7727\n",
      "0m 27s (- 0m 18s) (30 60%) 7.1190\n",
      "0m 36s (- 0m 9s) (40 80%) 6.3002\n"
     ]
    }
   ],
   "source": [
    "trainIters(encoder,decoder, 50, print_every=10, plot_every=2000,learning_rate=0.001)"
   ]
  },
  {
   "cell_type": "code",
   "execution_count": 146,
   "id": "143addc1",
   "metadata": {},
   "outputs": [
    {
     "name": "stdout",
     "output_type": "stream",
     "text": [
      "0m 8s (- 0m 32s) (10 20%) 160.2801\n",
      "0m 16s (- 0m 24s) (20 40%) 128.8693\n",
      "0m 24s (- 0m 16s) (30 60%) 80.2662\n",
      "0m 33s (- 0m 8s) (40 80%) 47.4625\n"
     ]
    }
   ],
   "source": [
    "encoder = Encoder(80, 10, 2, dropout=0.05, bidirectional=True)\n",
    "decoder = Decoder(vocab_size=29, embedding_dim=15, hidden_size=20, num_layers=1)\n",
    "\n",
    "trainIters(encoder,decoder, 50, print_every=10, plot_every=2000,learning_rate=0.01)"
   ]
  },
  {
   "cell_type": "code",
   "execution_count": 70,
   "id": "46f5c57a",
   "metadata": {},
   "outputs": [],
   "source": [
    "def recognize(input, input_length, char_list):\n",
    "        \"\"\"Sequence-to-Sequence beam search, decode one utterence now.\n",
    "        Args:\n",
    "            input: T x D\n",
    "            char_list: list of characters\n",
    "            args: args.beam\n",
    "        Returns:\n",
    "            nbest_hyps:\n",
    "        \"\"\"\n",
    "        encoder_outputs, _ = encoder(input, input_length)\n",
    "        nbest_hyps = decoder.recognize_beam(encoder_outputs[0],\n",
    "                                                 char_list,)\n",
    "        return nbest_hyps\n"
   ]
  },
  {
   "cell_type": "code",
   "execution_count": 74,
   "id": "09d5cc44",
   "metadata": {},
   "outputs": [
    {
     "data": {
      "text/plain": [
       "dict_keys([' ', 'a', 'b', 'c', 'd', 'e', 'f', 'g', 'h', 'i', 'j', 'k', 'l', 'm', 'n', 'o', 'p', 'q', 'r', 's', 't', 'u', 'v', 'w', 'x', 'y', 'z', 'EOS', 'SOS', 'PAD'])"
      ]
     },
     "execution_count": 74,
     "metadata": {},
     "output_type": "execute_result"
    }
   ],
   "source": [
    "char_index.keys()"
   ]
  },
  {
   "cell_type": "code",
   "execution_count": 153,
   "id": "def83f3c",
   "metadata": {},
   "outputs": [
    {
     "name": "stdout",
     "output_type": "stream",
     "text": [
      "('in many films english menatarms and foot soldiers are often seen wearing these helms',) < SOS SOS SOS SOS SOS SOS SOS SOS SOS SOS SOS SOS SOS SOS SOS SOS SOS SOS SOS SOS SOS SOS SOS SOS SOS SOS SOS SOS SOS SOS SOS SOS SOS SOS SOS SOS SOS SOS SOS SOS SOS SOS SOS SOS SOS SOS SOS SOS SOS SOS SOS SOS SOS SOS SOS SOS SOS SOS SOS SOS SOS SOS SOS SOS SOS SOS SOS SOS SOS SOS SOS SOS SOS SOS SOS SOS SOS SOS SOS SOS SOS SOS SOS SOS SOS SOS SOS SOS SOS SOS SOS SOS SOS SOS SOS SOS SOS SOS SOS SOS\n",
      "\n",
      "('new buildings went up as enrollments increased',) < SOS SOS SOS SOS SOS SOS SOS SOS SOS SOS SOS SOS SOS SOS SOS SOS SOS SOS SOS SOS SOS SOS SOS SOS SOS SOS SOS SOS SOS SOS SOS SOS SOS SOS SOS SOS SOS SOS SOS SOS SOS SOS SOS SOS SOS SOS SOS SOS SOS SOS SOS SOS SOS SOS SOS SOS SOS SOS SOS SOS SOS SOS SOS SOS SOS SOS SOS SOS SOS SOS SOS SOS SOS SOS SOS SOS SOS SOS SOS SOS SOS SOS SOS SOS SOS SOS SOS SOS SOS SOS SOS SOS SOS SOS SOS SOS SOS SOS SOS SOS\n",
      "\n",
      "('the paste is finely grained silky and palatable',) < SOS SOS SOS SOS SOS SOS SOS SOS SOS SOS SOS SOS SOS SOS SOS SOS SOS SOS SOS SOS SOS SOS SOS SOS SOS SOS SOS SOS SOS SOS SOS SOS SOS SOS SOS SOS SOS SOS SOS SOS SOS SOS SOS SOS SOS SOS SOS SOS SOS SOS SOS SOS SOS SOS SOS SOS SOS SOS SOS SOS SOS SOS SOS SOS SOS SOS SOS SOS SOS SOS SOS SOS SOS SOS SOS SOS SOS SOS SOS SOS SOS SOS SOS SOS SOS SOS SOS SOS SOS SOS SOS SOS SOS SOS SOS SOS SOS SOS SOS SOS\n",
      "\n",
      "('the couple and homer become acquainted',) < SOS SOS SOS SOS SOS SOS SOS SOS SOS SOS SOS SOS SOS SOS SOS SOS SOS SOS SOS SOS SOS SOS SOS SOS SOS SOS SOS SOS SOS SOS SOS SOS SOS SOS SOS SOS SOS SOS SOS SOS SOS SOS SOS SOS SOS SOS SOS SOS SOS SOS SOS SOS SOS SOS SOS SOS SOS SOS SOS SOS SOS SOS SOS SOS SOS SOS SOS SOS SOS SOS SOS SOS SOS SOS SOS SOS SOS SOS SOS SOS SOS SOS SOS SOS SOS SOS SOS SOS SOS SOS SOS SOS SOS SOS SOS SOS SOS SOS SOS SOS\n",
      "\n",
      "('statutes may originate with national state legislatures or local municipalities',) < SOS SOS SOS SOS SOS SOS SOS SOS SOS SOS SOS SOS SOS SOS SOS SOS SOS SOS SOS SOS SOS SOS SOS SOS SOS SOS SOS SOS SOS SOS SOS SOS SOS SOS SOS SOS SOS SOS SOS SOS SOS SOS SOS SOS SOS SOS SOS SOS SOS SOS SOS SOS SOS SOS SOS SOS SOS SOS SOS SOS SOS SOS SOS SOS SOS SOS SOS SOS SOS SOS SOS SOS SOS SOS SOS SOS SOS SOS SOS SOS SOS SOS SOS SOS SOS SOS SOS SOS SOS SOS SOS SOS SOS SOS SOS SOS SOS SOS SOS SOS\n",
      "\n",
      "('do you realize what youve done',) < SOS SOS SOS SOS SOS SOS SOS SOS SOS SOS SOS SOS SOS SOS SOS SOS SOS SOS SOS SOS SOS SOS SOS SOS SOS SOS SOS SOS SOS SOS SOS SOS SOS SOS SOS SOS SOS SOS SOS SOS SOS SOS SOS SOS SOS SOS SOS SOS SOS SOS SOS SOS SOS SOS SOS SOS SOS SOS SOS SOS SOS SOS SOS SOS SOS SOS SOS SOS SOS SOS SOS SOS SOS SOS SOS SOS SOS SOS SOS SOS SOS SOS SOS SOS SOS SOS SOS SOS SOS SOS SOS SOS SOS SOS SOS SOS SOS SOS SOS SOS\n",
      "\n",
      "('overpenetration is detrimental to stopping power in regards to energy',) < SOS SOS SOS SOS SOS SOS SOS SOS SOS SOS SOS SOS SOS SOS SOS SOS SOS SOS SOS SOS SOS SOS SOS SOS SOS SOS SOS SOS SOS SOS SOS SOS SOS SOS SOS SOS SOS SOS SOS SOS SOS SOS SOS SOS SOS SOS SOS SOS SOS SOS SOS SOS SOS SOS SOS SOS SOS SOS SOS SOS SOS SOS SOS SOS SOS SOS SOS SOS SOS SOS SOS SOS SOS SOS SOS SOS SOS SOS SOS SOS SOS SOS SOS SOS SOS SOS SOS SOS SOS SOS SOS SOS SOS SOS SOS SOS SOS SOS SOS SOS\n",
      "\n",
      "('i think her name is olivia',) < SOS SOS SOS SOS SOS SOS SOS SOS SOS SOS SOS SOS SOS SOS SOS SOS SOS SOS SOS SOS SOS SOS SOS SOS SOS SOS SOS SOS SOS SOS SOS SOS SOS SOS SOS SOS SOS SOS SOS SOS SOS SOS SOS SOS SOS SOS SOS SOS SOS SOS SOS SOS SOS SOS SOS SOS SOS SOS SOS SOS SOS SOS SOS SOS SOS SOS SOS SOS SOS SOS SOS SOS SOS SOS SOS SOS SOS SOS SOS SOS SOS SOS SOS SOS SOS SOS SOS SOS SOS SOS SOS SOS SOS SOS SOS SOS SOS SOS SOS SOS\n",
      "\n",
      "('this view is wrong though',) < SOS SOS SOS SOS SOS SOS SOS SOS SOS SOS SOS SOS SOS SOS SOS SOS SOS SOS SOS SOS SOS SOS SOS SOS SOS SOS SOS SOS SOS SOS SOS SOS SOS SOS SOS SOS SOS SOS SOS SOS SOS SOS SOS SOS SOS SOS SOS SOS SOS SOS SOS SOS SOS SOS SOS SOS SOS SOS SOS SOS SOS SOS SOS SOS SOS SOS SOS SOS SOS SOS SOS SOS SOS SOS SOS SOS SOS SOS SOS SOS SOS SOS SOS SOS SOS SOS SOS SOS SOS SOS SOS SOS SOS SOS SOS SOS SOS SOS SOS SOS\n",
      "\n",
      "('the night was warm and i was thirsty',) < SOS SOS SOS SOS SOS SOS SOS SOS SOS SOS SOS SOS SOS SOS SOS SOS SOS SOS SOS SOS SOS SOS SOS SOS SOS SOS SOS SOS SOS SOS SOS SOS SOS SOS SOS SOS SOS SOS SOS SOS SOS SOS SOS SOS SOS SOS SOS SOS SOS SOS SOS SOS SOS SOS SOS SOS SOS SOS SOS SOS SOS SOS SOS SOS SOS SOS SOS SOS SOS SOS SOS SOS SOS SOS SOS SOS SOS SOS SOS SOS SOS SOS SOS SOS SOS SOS SOS SOS SOS SOS SOS SOS SOS SOS SOS SOS SOS SOS SOS SOS\n",
      "\n"
     ]
    }
   ],
   "source": [
    "def evaluate(encoder, decoder, features, max_length=100,beam=5,nbest=5):\n",
    "    with torch.no_grad():\n",
    "        input_tensor = features[0]\n",
    "        target_tensor = features[1]\n",
    "        input_length = features[2]\n",
    "        decoded_words = []\n",
    "\n",
    "        encoder_outputs, _ = encoder(input_tensor,input_length)\n",
    "        nbest_hyps = decoder.recognize_beam(encoder_outputs[0], char_index.keys(),beam,nbest)\n",
    "        if beam>1:\n",
    "            word_index = nbest_hyps[1]['yseq']\n",
    "        else:\n",
    "            word_index = nbest_hyps['yseq']\n",
    "        decoded_word = [dictOfindex[a] for a in word_index]\n",
    "                \n",
    "    return decoded_word\n",
    "\n",
    "samp_1 = DataLoader(transformed_dataset, batch_size=1,collate_fn=pad_collate,\n",
    "                        shuffle=True, num_workers=0)\n",
    "iterator = iter(samp_1) \n",
    "samp = iterator.next()\n",
    "def evaluateRandomly(encoder, decoder, n=1):\n",
    "    for i in range(n):\n",
    "        iterator = iter(samp_1) \n",
    "        samp = iterator.next()\n",
    "        actual = samp[3]\n",
    "        output_words = evaluate(encoder, decoder, samp, max_length=100)\n",
    "        output_sentence = ' '.join(output_words[1:-1])\n",
    "        print(actual, '<', output_sentence)\n",
    "        print('')\n",
    "        \n",
    "    \n",
    "# def evaluateRandomly(encoder, decoder):\n",
    "#     iterator = iter(samp_1) \n",
    "#     samp = iterator.next()\n",
    "#     actual = samp[3]\n",
    "#     output_words = evaluate(encoder, decoder, samp, max_length=100)\n",
    "#     return output_words\n",
    "\n",
    "evaluateRandomly(encoder, decoder,n=10)"
   ]
  },
  {
   "cell_type": "code",
   "execution_count": null,
   "id": "5dab1d5c",
   "metadata": {},
   "outputs": [],
   "source": [
    "def evaluate(encoder, decoder, features, max_length=100):\n",
    "    with torch.no_grad():\n",
    "        input_tensor = samp[0]\n",
    "        target_tensor = samp[1]\n",
    "        input_length = samp[2]\n",
    "        decoded_words = []\n",
    "\n",
    "        encoder_output, encoder_hidden = encoder(input_tensor,input_length)\n",
    "        dec_input = torch.tensor([[SOS_token]], device=device)  # SOS\n",
    "        h_list = encoder_hidden[0] \n",
    "        c_list = encoder_hidden[1]\n",
    "\n",
    "        for c in range(max_length):\n",
    "            decoder_input = decoder.embedding(dec_input)\n",
    "            print(decoder_input.shape)\n",
    "            rng = decoder_input.size(1)\n",
    "            for rn in range(rng):\n",
    "                h_list, c_list = decoder.gru[0](decoder_input[:,rn,:], (h_list, c_list))\n",
    "            mlp_input = h_list\n",
    "            predicted_y_t = decoder.mlp(mlp_input)\n",
    "            local_scores = Fi.log_softmax(predicted_y_t, dim=1)\n",
    "            # topk scores\n",
    "            topv, topi  = torch.topk(local_scores,1,dim=1)\n",
    "            if topi.item() == EOS_token:\n",
    "                decoded_words.append('EOS')\n",
    "                break\n",
    "            else:\n",
    "                decoded_words.append(dictOfindex[topi.item()])\n",
    "            dec_input = topi\n",
    "    return decoded_words"
   ]
  },
  {
   "cell_type": "code",
   "execution_count": 47,
   "id": "2765110d",
   "metadata": {},
   "outputs": [],
   "source": [
    "def evaluate(encoder, decoder, features, max_length=100):\n",
    "    with torch.no_grad():\n",
    "        input_tensor = samp[0]\n",
    "        target_tensor = samp[1]\n",
    "        input_length = samp[2]\n",
    "        decoded_words = []\n",
    "\n",
    "        encoder_output, encoder_hidden = encoder(input_tensor,input_length)\n",
    "        dec_input = torch.tensor([[SOS_token]], device=device)  # SOS\n",
    "        h_list = encoder_hidden[0] \n",
    "        c_list = encoder_hidden[1]\n",
    "\n",
    "        for c in range(max_length):\n",
    "            decoder_input = decoder.embedding(dec_input)\n",
    "            print(decoder_input.shape)\n",
    "            rng = decoder_input.size(1)\n",
    "            for rn in range(rng):\n",
    "                h_list, c_list = decoder.gru[0](decoder_input[:,rn,:], (h_list, c_list))\n",
    "            mlp_input = h_list\n",
    "            predicted_y_t = decoder.mlp(mlp_input)\n",
    "            local_scores = Fi.log_softmax(predicted_y_t, dim=1)\n",
    "            # topk scores\n",
    "            topv, topi  = torch.topk(local_scores,1,dim=1)\n",
    "            if topi.item() == EOS_token:\n",
    "                decoded_words.append('EOS')\n",
    "                break\n",
    "            else:\n",
    "                decoded_words.append(dictOfindex[topi.item()])\n",
    "            dec_input = topi\n",
    "    return decoded_words"
   ]
  },
  {
   "cell_type": "code",
   "execution_count": 369,
   "id": "c4e27c8c",
   "metadata": {},
   "outputs": [],
   "source": [
    "PATH = \"/Users/dami.osoba/work/bawk/models/dec_model_new\"\n",
    "torch.save(decoder, PATH)"
   ]
  },
  {
   "cell_type": "code",
   "execution_count": 370,
   "id": "35396d01",
   "metadata": {},
   "outputs": [],
   "source": [
    "PATH = \"/Users/dami.osoba/work/bawk/models/enc_model_new\"\n",
    "torch.save(encoder, PATH)"
   ]
  },
  {
   "cell_type": "code",
   "execution_count": 50,
   "id": "6d840b9e",
   "metadata": {},
   "outputs": [
    {
     "data": {
      "text/plain": [
       "AttnDecoderRNN(\n",
       "  (embedding): Embedding(29, 20)\n",
       "  (attn): Linear(in_features=40, out_features=401, bias=True)\n",
       "  (attn_combine): Linear(in_features=40, out_features=20, bias=True)\n",
       "  (dropout): Dropout(p=0.1, inplace=False)\n",
       "  (gru): GRU(20, 20)\n",
       "  (out): Linear(in_features=20, out_features=29, bias=True)\n",
       ")"
      ]
     },
     "execution_count": 50,
     "metadata": {},
     "output_type": "execute_result"
    }
   ],
   "source": [
    "enmodel = torch.load(\"/Users/dami.osoba/work/bawk/models/enc_model\")\n",
    "enmodel.eval()\n",
    "\n",
    "decmodel = torch.load(\"/Users/dami.osoba/work/bawk/models/dec_model\")\n",
    "decmodel.eval()"
   ]
  },
  {
   "cell_type": "code",
   "execution_count": 38,
   "id": "9624dc75",
   "metadata": {},
   "outputs": [],
   "source": [
    "samp_1 = DataLoader(transformed_dataset, batch_size=1,collate_fn=pad_collate,\n",
    "                        shuffle=True, num_workers=0)\n",
    "iterator = iter(samp_1) \n",
    "samp = iterator.next()\n",
    "def evaluateRandomly(encoder, decoder, n=10):\n",
    "    for i in range(n):\n",
    "        iterator = iter(samp_1) \n",
    "        samp = iterator.next()\n",
    "        actual = samp[3]\n",
    "        output_words = evaluate(encoder, decoder, samp, max_length=100)\n",
    "        output_sentence = ' '.join(output_words[1:-1])\n",
    "        print(actual, '<', output_sentence)\n",
    "        print('')"
   ]
  },
  {
   "cell_type": "code",
   "execution_count": 350,
   "id": "83913790",
   "metadata": {},
   "outputs": [
    {
     "data": {
      "text/plain": [
       "('leko resigned when checkmate was threatened',)"
      ]
     },
     "execution_count": 350,
     "metadata": {},
     "output_type": "execute_result"
    }
   ],
   "source": [
    "samp[3]"
   ]
  },
  {
   "cell_type": "code",
   "execution_count": 50,
   "id": "e1af3bbb",
   "metadata": {},
   "outputs": [
    {
     "name": "stdout",
     "output_type": "stream",
     "text": [
      "tensor([[-4.2108,  1.9920, -0.7514,  1.5624, -1.0572, -2.3114, -2.2438, -0.4764,\n",
      "         -0.2071,  3.1390,  0.2886,  1.3643,  0.3756, -0.6130,  1.9835,  2.4134,\n",
      "          3.3584,  1.0319, -2.1851, -1.0358,  1.1629, -2.2862,  1.5015, -1.4075,\n",
      "          0.8473,  0.7278,  0.3577,  0.6738,  5.2853]])\n",
      "tensor([[-0.1890,  0.7388, -0.7611, -1.2252, -2.8896, -0.1966, -1.9070, -0.7227,\n",
      "         -0.4213,  1.2072, -1.8305, -1.1902,  2.4742, -1.9035,  2.8814,  2.8527,\n",
      "         -0.5022, -1.2752, -0.8796,  0.8218,  3.0401, -0.0107, -1.3710, -1.3528,\n",
      "         -1.0532, -1.0844, -1.2606, -2.4830,  0.9997]])\n",
      "tensor([[-0.5448,  0.1583, -1.6746, -0.2019, -3.4715,  1.4210, -2.9040, -1.9961,\n",
      "         -3.1598, -0.2571, -1.3622, -0.8071,  1.1968, -0.1544,  1.4384,  3.1934,\n",
      "         -0.4454, -0.7253,  0.9985,  3.3272,  5.6860,  0.0933, -1.6822, -2.8783,\n",
      "         -1.0313, -3.2746, -0.7978, -3.1367, -0.2179]])\n",
      "tensor([[-0.3953,  0.0254, -1.5135, -0.3808, -3.8299,  1.3812, -2.7266, -1.7901,\n",
      "         -2.9260, -0.2107, -1.4378, -0.9286,  1.3547, -0.4325,  1.7127,  3.1634,\n",
      "         -0.6604, -0.7667,  0.8679,  3.3097,  5.6877,  0.1723, -1.7506, -2.8903,\n",
      "         -1.0989, -3.3591, -0.8795, -3.0348, -0.3654]])\n",
      "tensor([[-0.3383,  0.0729, -1.5166, -0.3130, -3.8178,  1.4627, -2.7112, -1.8166,\n",
      "         -2.9196, -0.2908, -1.4756, -0.9699,  1.2800, -0.3935,  1.6917,  3.1148,\n",
      "         -0.7233, -0.8215,  0.8856,  3.4286,  5.7139,  0.1148, -1.8109, -2.9481,\n",
      "         -1.1485, -3.4478, -0.9190, -3.0240, -0.4989]])\n",
      "tensor([[-0.3118,  0.0629, -1.4935, -0.3396, -3.8556,  1.4517, -2.6872, -1.7923,\n",
      "         -2.8905, -0.2757, -1.4916, -0.9892,  1.2989, -0.4331,  1.7279,  3.1198,\n",
      "         -0.7552, -0.8335,  0.8693,  3.4207,  5.7091,  0.1239, -1.8239, -2.9415,\n",
      "         -1.1620, -3.4513, -0.9345, -3.0211, -0.5203]])\n",
      "tensor([[-0.3029,  0.0688, -1.4935, -0.3311, -3.8530,  1.4636, -2.6839, -1.7953,\n",
      "         -2.8891, -0.2876, -1.4964, -0.9947,  1.2885, -0.4277,  1.7244,  3.1114,\n",
      "         -0.7639, -0.8408,  0.8716,  3.4369,  5.7108,  0.1168, -1.8318, -2.9489,\n",
      "         -1.1694, -3.4629, -0.9401, -3.0188, -0.5395]])\n",
      "tensor([[-0.2978,  0.0681, -1.4907, -0.3334, -3.8571,  1.4646, -2.6803, -1.7927,\n",
      "         -2.8854, -0.2880, -1.4990, -0.9979,  1.2892, -0.4316,  1.7278,  3.1103,\n",
      "         -0.7694, -0.8433,  0.8703,  3.4385,  5.7102,  0.1173, -1.8347, -2.9493,\n",
      "         -1.1723, -3.4652, -0.9430, -3.0180, -0.5456]])\n",
      "tensor([[-0.2956,  0.0689, -1.4905, -0.3322, -3.8569,  1.4671, -2.6793, -1.7929,\n",
      "         -2.8848, -0.2905, -1.4999, -0.9992,  1.2875, -0.4310,  1.7272,  3.1085,\n",
      "         -0.7715, -0.8447,  0.8706,  3.4415,  5.7103,  0.1163, -1.8363, -2.9507,\n",
      "         -1.1739, -3.4674, -0.9443, -3.0173, -0.5497]])\n",
      "tensor([[-0.2944,  0.0690, -1.4901, -0.3322, -3.8574,  1.4679, -2.6785, -1.7926,\n",
      "         -2.8840, -0.2912, -1.5004, -0.9999,  1.2874, -0.4313,  1.7274,  3.1078,\n",
      "         -0.7727, -0.8454,  0.8705,  3.4424,  5.7102,  0.1162, -1.8370, -2.9512,\n",
      "         -1.1746, -3.4683, -0.9450, -3.0170, -0.5515]])\n",
      "tensor([[-0.2938,  0.0692, -1.4900, -0.3319, -3.8574,  1.4686, -2.6782, -1.7926,\n",
      "         -2.8837, -0.2919, -1.5006, -1.0003,  1.2871, -0.4312,  1.7273,  3.1072,\n",
      "         -0.7733, -0.8457,  0.8705,  3.4431,  5.7101,  0.1159, -1.8374, -2.9516,\n",
      "         -1.1750, -3.4688, -0.9453, -3.0167, -0.5525]])\n",
      "tensor([[-0.2935,  0.0693, -1.4899, -0.3318, -3.8574,  1.4689, -2.6780, -1.7925,\n",
      "         -2.8835, -0.2923, -1.5007, -1.0005,  1.2870, -0.4313,  1.7272,  3.1069,\n",
      "         -0.7736, -0.8459,  0.8704,  3.4434,  5.7100,  0.1158, -1.8376, -2.9517,\n",
      "         -1.1751, -3.4690, -0.9455, -3.0166, -0.5530]])\n",
      "tensor([[-0.2933,  0.0693, -1.4899, -0.3317, -3.8574,  1.4692, -2.6780, -1.7925,\n",
      "         -2.8834, -0.2925, -1.5007, -1.0005,  1.2870, -0.4312,  1.7272,  3.1067,\n",
      "         -0.7737, -0.8460,  0.8703,  3.4436,  5.7100,  0.1157, -1.8377, -2.9519,\n",
      "         -1.1752, -3.4692, -0.9456, -3.0165, -0.5533]])\n",
      "tensor([[-0.2932,  0.0694, -1.4898, -0.3317, -3.8574,  1.4693, -2.6779, -1.7925,\n",
      "         -2.8833, -0.2926, -1.5008, -1.0006,  1.2869, -0.4312,  1.7272,  3.1066,\n",
      "         -0.7738, -0.8461,  0.8703,  3.4437,  5.7100,  0.1157, -1.8377, -2.9519,\n",
      "         -1.1753, -3.4692, -0.9456, -3.0164, -0.5534]])\n",
      "tensor([[-0.2932,  0.0694, -1.4898, -0.3316, -3.8573,  1.4694, -2.6779, -1.7925,\n",
      "         -2.8832, -0.2927, -1.5008, -1.0006,  1.2869, -0.4312,  1.7271,  3.1065,\n",
      "         -0.7739, -0.8461,  0.8702,  3.4437,  5.7099,  0.1157, -1.8377, -2.9520,\n",
      "         -1.1753, -3.4693, -0.9456, -3.0163, -0.5535]])\n",
      "tensor([[-0.2932,  0.0694, -1.4898, -0.3316, -3.8573,  1.4694, -2.6779, -1.7925,\n",
      "         -2.8832, -0.2928, -1.5007, -1.0006,  1.2869, -0.4312,  1.7271,  3.1065,\n",
      "         -0.7739, -0.8461,  0.8702,  3.4437,  5.7099,  0.1156, -1.8377, -2.9520,\n",
      "         -1.1753, -3.4693, -0.9456, -3.0163, -0.5535]])\n",
      "tensor([[-0.2932,  0.0695, -1.4898, -0.3316, -3.8573,  1.4694, -2.6778, -1.7925,\n",
      "         -2.8831, -0.2928, -1.5007, -1.0006,  1.2869, -0.4312,  1.7271,  3.1065,\n",
      "         -0.7739, -0.8461,  0.8702,  3.4438,  5.7099,  0.1156, -1.8377, -2.9520,\n",
      "         -1.1753, -3.4693, -0.9456, -3.0163, -0.5536]])\n",
      "tensor([[-0.2932,  0.0695, -1.4898, -0.3315, -3.8573,  1.4694, -2.6778, -1.7925,\n",
      "         -2.8831, -0.2928, -1.5007, -1.0006,  1.2869, -0.4312,  1.7271,  3.1064,\n",
      "         -0.7739, -0.8461,  0.8702,  3.4438,  5.7099,  0.1156, -1.8377, -2.9520,\n",
      "         -1.1753, -3.4693, -0.9456, -3.0163, -0.5536]])\n",
      "tensor([[-0.2932,  0.0695, -1.4898, -0.3315, -3.8573,  1.4695, -2.6778, -1.7925,\n",
      "         -2.8831, -0.2929, -1.5007, -1.0006,  1.2870, -0.4312,  1.7271,  3.1064,\n",
      "         -0.7739, -0.8461,  0.8701,  3.4438,  5.7099,  0.1156, -1.8377, -2.9520,\n",
      "         -1.1753, -3.4693, -0.9456, -3.0162, -0.5536]])\n",
      "tensor([[-0.2932,  0.0695, -1.4898, -0.3315, -3.8573,  1.4695, -2.6778, -1.7925,\n",
      "         -2.8831, -0.2929, -1.5007, -1.0006,  1.2870, -0.4312,  1.7271,  3.1064,\n",
      "         -0.7739, -0.8461,  0.8701,  3.4438,  5.7099,  0.1156, -1.8377, -2.9520,\n",
      "         -1.1753, -3.4693, -0.9456, -3.0162, -0.5536]])\n",
      "tensor([[-0.2932,  0.0695, -1.4898, -0.3315, -3.8573,  1.4695, -2.6778, -1.7925,\n",
      "         -2.8831, -0.2929, -1.5007, -1.0006,  1.2870, -0.4312,  1.7271,  3.1064,\n",
      "         -0.7739, -0.8461,  0.8701,  3.4438,  5.7098,  0.1156, -1.8377, -2.9520,\n",
      "         -1.1753, -3.4693, -0.9456, -3.0162, -0.5536]])\n",
      "tensor([[-0.2932,  0.0695, -1.4898, -0.3315, -3.8573,  1.4695, -2.6778, -1.7925,\n",
      "         -2.8831, -0.2929, -1.5007, -1.0006,  1.2870, -0.4312,  1.7271,  3.1064,\n",
      "         -0.7739, -0.8461,  0.8701,  3.4438,  5.7098,  0.1156, -1.8377, -2.9520,\n",
      "         -1.1753, -3.4693, -0.9456, -3.0162, -0.5536]])\n",
      "tensor([[-0.2932,  0.0695, -1.4898, -0.3315, -3.8573,  1.4695, -2.6778, -1.7925,\n",
      "         -2.8830, -0.2929, -1.5007, -1.0006,  1.2870, -0.4312,  1.7271,  3.1064,\n",
      "         -0.7739, -0.8461,  0.8701,  3.4438,  5.7098,  0.1156, -1.8377, -2.9520,\n",
      "         -1.1753, -3.4693, -0.9456, -3.0162, -0.5536]])\n",
      "tensor([[-0.2932,  0.0695, -1.4898, -0.3315, -3.8573,  1.4695, -2.6778, -1.7925,\n",
      "         -2.8830, -0.2929, -1.5007, -1.0006,  1.2870, -0.4312,  1.7271,  3.1064,\n",
      "         -0.7739, -0.8461,  0.8701,  3.4438,  5.7098,  0.1156, -1.8377, -2.9520,\n",
      "         -1.1753, -3.4693, -0.9456, -3.0162, -0.5536]])\n",
      "tensor([[-0.2932,  0.0695, -1.4898, -0.3315, -3.8573,  1.4695, -2.6778, -1.7925,\n",
      "         -2.8830, -0.2929, -1.5007, -1.0006,  1.2870, -0.4312,  1.7271,  3.1064,\n",
      "         -0.7739, -0.8461,  0.8701,  3.4438,  5.7098,  0.1156, -1.8377, -2.9520,\n",
      "         -1.1753, -3.4693, -0.9456, -3.0162, -0.5536]])\n",
      "tensor([[-0.2932,  0.0695, -1.4898, -0.3315, -3.8572,  1.4695, -2.6778, -1.7925,\n",
      "         -2.8830, -0.2929, -1.5007, -1.0006,  1.2870, -0.4312,  1.7271,  3.1064,\n",
      "         -0.7739, -0.8461,  0.8701,  3.4438,  5.7098,  0.1156, -1.8377, -2.9520,\n",
      "         -1.1753, -3.4693, -0.9456, -3.0162, -0.5536]])\n",
      "tensor([[-0.2932,  0.0695, -1.4898, -0.3315, -3.8572,  1.4695, -2.6778, -1.7925,\n",
      "         -2.8830, -0.2929, -1.5007, -1.0006,  1.2870, -0.4312,  1.7271,  3.1064,\n",
      "         -0.7739, -0.8461,  0.8701,  3.4438,  5.7098,  0.1156, -1.8377, -2.9520,\n",
      "         -1.1753, -3.4693, -0.9456, -3.0162, -0.5536]])\n",
      "tensor([[-0.2932,  0.0695, -1.4898, -0.3315, -3.8572,  1.4695, -2.6778, -1.7925,\n",
      "         -2.8830, -0.2929, -1.5007, -1.0006,  1.2870, -0.4312,  1.7271,  3.1064,\n",
      "         -0.7739, -0.8461,  0.8701,  3.4438,  5.7098,  0.1156, -1.8377, -2.9520,\n",
      "         -1.1753, -3.4693, -0.9456, -3.0162, -0.5536]])\n",
      "tensor([[-0.2932,  0.0695, -1.4898, -0.3315, -3.8572,  1.4695, -2.6778, -1.7925,\n",
      "         -2.8830, -0.2929, -1.5007, -1.0006,  1.2870, -0.4312,  1.7271,  3.1064,\n",
      "         -0.7739, -0.8461,  0.8701,  3.4438,  5.7098,  0.1156, -1.8377, -2.9520,\n",
      "         -1.1753, -3.4693, -0.9456, -3.0162, -0.5536]])\n",
      "tensor([[-0.2932,  0.0695, -1.4898, -0.3315, -3.8572,  1.4695, -2.6778, -1.7925,\n",
      "         -2.8830, -0.2929, -1.5007, -1.0006,  1.2870, -0.4312,  1.7271,  3.1064,\n",
      "         -0.7739, -0.8461,  0.8701,  3.4438,  5.7098,  0.1156, -1.8377, -2.9520,\n",
      "         -1.1753, -3.4693, -0.9456, -3.0162, -0.5536]])\n",
      "tensor([[-0.2932,  0.0695, -1.4898, -0.3315, -3.8572,  1.4695, -2.6778, -1.7925,\n",
      "         -2.8830, -0.2929, -1.5007, -1.0006,  1.2870, -0.4312,  1.7271,  3.1064,\n",
      "         -0.7739, -0.8461,  0.8701,  3.4438,  5.7098,  0.1155, -1.8377, -2.9520,\n",
      "         -1.1753, -3.4693, -0.9456, -3.0162, -0.5536]])\n",
      "tensor([[-0.2932,  0.0695, -1.4898, -0.3315, -3.8572,  1.4695, -2.6778, -1.7925,\n",
      "         -2.8830, -0.2929, -1.5007, -1.0006,  1.2870, -0.4312,  1.7271,  3.1064,\n",
      "         -0.7739, -0.8461,  0.8701,  3.4438,  5.7098,  0.1155, -1.8377, -2.9520,\n",
      "         -1.1753, -3.4693, -0.9456, -3.0162, -0.5536]])\n",
      "tensor([[-0.2932,  0.0695, -1.4898, -0.3315, -3.8572,  1.4695, -2.6778, -1.7925,\n",
      "         -2.8830, -0.2929, -1.5007, -1.0006,  1.2870, -0.4312,  1.7271,  3.1064,\n",
      "         -0.7739, -0.8461,  0.8701,  3.4438,  5.7098,  0.1155, -1.8377, -2.9520,\n",
      "         -1.1753, -3.4693, -0.9456, -3.0162, -0.5536]])\n",
      "tensor([[-0.2932,  0.0695, -1.4898, -0.3315, -3.8572,  1.4695, -2.6778, -1.7925,\n",
      "         -2.8830, -0.2929, -1.5007, -1.0006,  1.2870, -0.4312,  1.7271,  3.1064,\n",
      "         -0.7739, -0.8461,  0.8701,  3.4438,  5.7098,  0.1155, -1.8377, -2.9520,\n",
      "         -1.1753, -3.4693, -0.9456, -3.0162, -0.5536]])\n",
      "tensor([[-0.2932,  0.0695, -1.4898, -0.3315, -3.8572,  1.4695, -2.6778, -1.7925,\n",
      "         -2.8830, -0.2929, -1.5007, -1.0006,  1.2870, -0.4312,  1.7271,  3.1064,\n",
      "         -0.7739, -0.8461,  0.8701,  3.4438,  5.7098,  0.1155, -1.8377, -2.9520,\n",
      "         -1.1753, -3.4693, -0.9456, -3.0162, -0.5536]])\n",
      "tensor([[-0.2932,  0.0695, -1.4898, -0.3315, -3.8572,  1.4695, -2.6778, -1.7925,\n",
      "         -2.8830, -0.2929, -1.5007, -1.0006,  1.2870, -0.4312,  1.7271,  3.1064,\n",
      "         -0.7739, -0.8461,  0.8701,  3.4438,  5.7098,  0.1155, -1.8377, -2.9520,\n",
      "         -1.1753, -3.4693, -0.9456, -3.0162, -0.5536]])\n",
      "tensor([[-0.2932,  0.0695, -1.4898, -0.3315, -3.8572,  1.4695, -2.6778, -1.7925,\n",
      "         -2.8830, -0.2929, -1.5007, -1.0006,  1.2870, -0.4312,  1.7271,  3.1064,\n",
      "         -0.7739, -0.8461,  0.8701,  3.4438,  5.7098,  0.1155, -1.8377, -2.9520,\n",
      "         -1.1753, -3.4693, -0.9456, -3.0162, -0.5536]])\n",
      "tensor([[-0.2932,  0.0695, -1.4898, -0.3315, -3.8572,  1.4695, -2.6778, -1.7925,\n",
      "         -2.8830, -0.2929, -1.5007, -1.0006,  1.2870, -0.4312,  1.7271,  3.1064,\n",
      "         -0.7739, -0.8461,  0.8701,  3.4438,  5.7098,  0.1155, -1.8377, -2.9520,\n",
      "         -1.1753, -3.4693, -0.9456, -3.0162, -0.5536]])\n",
      "tensor([[-0.2932,  0.0695, -1.4898, -0.3315, -3.8572,  1.4695, -2.6778, -1.7925,\n",
      "         -2.8830, -0.2929, -1.5007, -1.0006,  1.2870, -0.4312,  1.7271,  3.1064,\n",
      "         -0.7739, -0.8461,  0.8701,  3.4438,  5.7098,  0.1155, -1.8377, -2.9520,\n",
      "         -1.1753, -3.4693, -0.9456, -3.0162, -0.5536]])\n",
      "tensor([[-0.2932,  0.0695, -1.4898, -0.3315, -3.8572,  1.4695, -2.6778, -1.7925,\n",
      "         -2.8830, -0.2929, -1.5007, -1.0006,  1.2870, -0.4312,  1.7271,  3.1064,\n",
      "         -0.7739, -0.8461,  0.8701,  3.4438,  5.7098,  0.1155, -1.8377, -2.9520,\n",
      "         -1.1753, -3.4693, -0.9456, -3.0162, -0.5536]])\n",
      "tensor([[-0.2932,  0.0695, -1.4898, -0.3315, -3.8572,  1.4695, -2.6778, -1.7925,\n",
      "         -2.8830, -0.2929, -1.5007, -1.0006,  1.2870, -0.4312,  1.7271,  3.1064,\n",
      "         -0.7739, -0.8461,  0.8701,  3.4438,  5.7098,  0.1155, -1.8377, -2.9520,\n",
      "         -1.1753, -3.4693, -0.9456, -3.0162, -0.5536]])\n",
      "tensor([[-0.2932,  0.0695, -1.4898, -0.3315, -3.8572,  1.4695, -2.6778, -1.7925,\n",
      "         -2.8830, -0.2929, -1.5007, -1.0006,  1.2870, -0.4312,  1.7271,  3.1064,\n",
      "         -0.7739, -0.8461,  0.8701,  3.4438,  5.7098,  0.1155, -1.8377, -2.9520,\n",
      "         -1.1753, -3.4693, -0.9456, -3.0162, -0.5536]])\n",
      "tensor([[-0.2932,  0.0695, -1.4898, -0.3315, -3.8572,  1.4695, -2.6778, -1.7925,\n",
      "         -2.8830, -0.2929, -1.5007, -1.0006,  1.2870, -0.4312,  1.7271,  3.1064,\n",
      "         -0.7739, -0.8461,  0.8701,  3.4438,  5.7098,  0.1155, -1.8377, -2.9520,\n",
      "         -1.1753, -3.4693, -0.9456, -3.0162, -0.5536]])\n",
      "tensor([[-0.2932,  0.0695, -1.4898, -0.3315, -3.8572,  1.4695, -2.6778, -1.7925,\n",
      "         -2.8830, -0.2929, -1.5007, -1.0006,  1.2870, -0.4312,  1.7271,  3.1064,\n",
      "         -0.7739, -0.8461,  0.8701,  3.4438,  5.7098,  0.1155, -1.8377, -2.9520,\n",
      "         -1.1753, -3.4693, -0.9456, -3.0162, -0.5536]])\n",
      "tensor([[-0.2932,  0.0695, -1.4898, -0.3315, -3.8572,  1.4695, -2.6778, -1.7925,\n",
      "         -2.8830, -0.2929, -1.5007, -1.0006,  1.2870, -0.4312,  1.7271,  3.1064,\n",
      "         -0.7739, -0.8461,  0.8701,  3.4438,  5.7098,  0.1155, -1.8377, -2.9520,\n",
      "         -1.1753, -3.4693, -0.9456, -3.0162, -0.5536]])\n",
      "tensor([[-0.2932,  0.0695, -1.4898, -0.3315, -3.8572,  1.4695, -2.6778, -1.7925,\n",
      "         -2.8830, -0.2929, -1.5007, -1.0006,  1.2870, -0.4312,  1.7271,  3.1064,\n",
      "         -0.7739, -0.8461,  0.8701,  3.4438,  5.7098,  0.1155, -1.8377, -2.9520,\n",
      "         -1.1753, -3.4693, -0.9456, -3.0162, -0.5536]])\n",
      "tensor([[-0.2932,  0.0695, -1.4898, -0.3315, -3.8572,  1.4695, -2.6778, -1.7925,\n",
      "         -2.8830, -0.2929, -1.5007, -1.0006,  1.2870, -0.4312,  1.7271,  3.1064,\n",
      "         -0.7739, -0.8461,  0.8701,  3.4438,  5.7098,  0.1155, -1.8377, -2.9520,\n",
      "         -1.1753, -3.4693, -0.9456, -3.0162, -0.5536]])\n",
      "tensor([[-0.2932,  0.0695, -1.4898, -0.3315, -3.8572,  1.4695, -2.6778, -1.7925,\n",
      "         -2.8830, -0.2929, -1.5007, -1.0006,  1.2870, -0.4312,  1.7271,  3.1064,\n",
      "         -0.7739, -0.8461,  0.8701,  3.4438,  5.7098,  0.1155, -1.8377, -2.9520,\n",
      "         -1.1753, -3.4693, -0.9456, -3.0162, -0.5536]])\n",
      "tensor([[-0.2932,  0.0695, -1.4898, -0.3315, -3.8572,  1.4695, -2.6778, -1.7925,\n",
      "         -2.8830, -0.2929, -1.5007, -1.0006,  1.2870, -0.4312,  1.7271,  3.1064,\n",
      "         -0.7739, -0.8461,  0.8701,  3.4438,  5.7098,  0.1155, -1.8377, -2.9520,\n",
      "         -1.1753, -3.4693, -0.9456, -3.0162, -0.5536]])\n",
      "tensor([[-0.2932,  0.0695, -1.4898, -0.3315, -3.8572,  1.4695, -2.6778, -1.7925,\n",
      "         -2.8830, -0.2929, -1.5007, -1.0006,  1.2870, -0.4312,  1.7271,  3.1064,\n",
      "         -0.7739, -0.8461,  0.8701,  3.4438,  5.7098,  0.1155, -1.8377, -2.9520,\n",
      "         -1.1753, -3.4693, -0.9456, -3.0162, -0.5536]])\n",
      "tensor([[-0.2932,  0.0695, -1.4898, -0.3315, -3.8572,  1.4695, -2.6778, -1.7925,\n",
      "         -2.8830, -0.2929, -1.5007, -1.0006,  1.2870, -0.4312,  1.7271,  3.1064,\n",
      "         -0.7739, -0.8461,  0.8701,  3.4438,  5.7098,  0.1155, -1.8377, -2.9520,\n",
      "         -1.1753, -3.4693, -0.9456, -3.0162, -0.5536]])\n",
      "tensor([[-0.2932,  0.0695, -1.4898, -0.3315, -3.8572,  1.4695, -2.6778, -1.7925,\n",
      "         -2.8830, -0.2929, -1.5007, -1.0006,  1.2870, -0.4312,  1.7271,  3.1064,\n",
      "         -0.7739, -0.8461,  0.8701,  3.4438,  5.7098,  0.1155, -1.8377, -2.9520,\n",
      "         -1.1753, -3.4693, -0.9456, -3.0162, -0.5536]])\n",
      "tensor([[-0.2932,  0.0695, -1.4898, -0.3315, -3.8572,  1.4695, -2.6778, -1.7925,\n",
      "         -2.8830, -0.2929, -1.5007, -1.0006,  1.2870, -0.4312,  1.7271,  3.1064,\n",
      "         -0.7739, -0.8461,  0.8701,  3.4438,  5.7098,  0.1155, -1.8377, -2.9520,\n",
      "         -1.1753, -3.4693, -0.9456, -3.0162, -0.5536]])\n",
      "tensor([[-0.2932,  0.0695, -1.4898, -0.3315, -3.8572,  1.4695, -2.6778, -1.7925,\n",
      "         -2.8830, -0.2929, -1.5007, -1.0006,  1.2870, -0.4312,  1.7271,  3.1064,\n",
      "         -0.7739, -0.8461,  0.8701,  3.4438,  5.7098,  0.1155, -1.8377, -2.9520,\n",
      "         -1.1753, -3.4693, -0.9456, -3.0162, -0.5536]])\n",
      "tensor([[-0.2932,  0.0695, -1.4898, -0.3315, -3.8572,  1.4695, -2.6778, -1.7925,\n",
      "         -2.8830, -0.2929, -1.5007, -1.0006,  1.2870, -0.4312,  1.7271,  3.1064,\n",
      "         -0.7739, -0.8461,  0.8701,  3.4438,  5.7098,  0.1155, -1.8377, -2.9520,\n",
      "         -1.1753, -3.4693, -0.9456, -3.0162, -0.5536]])\n",
      "tensor([[-0.2932,  0.0695, -1.4898, -0.3315, -3.8572,  1.4695, -2.6778, -1.7925,\n",
      "         -2.8830, -0.2929, -1.5007, -1.0006,  1.2870, -0.4312,  1.7271,  3.1064,\n",
      "         -0.7739, -0.8461,  0.8701,  3.4438,  5.7098,  0.1155, -1.8377, -2.9520,\n",
      "         -1.1753, -3.4693, -0.9456, -3.0162, -0.5536]])\n",
      "tensor([[-0.2932,  0.0695, -1.4898, -0.3315, -3.8572,  1.4695, -2.6778, -1.7925,\n",
      "         -2.8830, -0.2929, -1.5007, -1.0006,  1.2870, -0.4312,  1.7271,  3.1064,\n",
      "         -0.7739, -0.8461,  0.8701,  3.4438,  5.7098,  0.1155, -1.8377, -2.9520,\n",
      "         -1.1753, -3.4693, -0.9456, -3.0162, -0.5536]])\n",
      "tensor([[-0.2932,  0.0695, -1.4898, -0.3315, -3.8572,  1.4695, -2.6778, -1.7925,\n",
      "         -2.8830, -0.2929, -1.5007, -1.0006,  1.2870, -0.4312,  1.7271,  3.1064,\n",
      "         -0.7739, -0.8461,  0.8701,  3.4438,  5.7098,  0.1155, -1.8377, -2.9520,\n",
      "         -1.1753, -3.4693, -0.9456, -3.0162, -0.5536]])\n",
      "tensor([[-0.2932,  0.0695, -1.4898, -0.3315, -3.8572,  1.4695, -2.6778, -1.7925,\n",
      "         -2.8830, -0.2929, -1.5007, -1.0006,  1.2870, -0.4312,  1.7271,  3.1064,\n",
      "         -0.7739, -0.8461,  0.8701,  3.4438,  5.7098,  0.1155, -1.8377, -2.9520,\n",
      "         -1.1753, -3.4693, -0.9456, -3.0162, -0.5536]])\n",
      "tensor([[-0.2932,  0.0695, -1.4898, -0.3315, -3.8572,  1.4695, -2.6778, -1.7925,\n",
      "         -2.8830, -0.2929, -1.5007, -1.0006,  1.2870, -0.4312,  1.7271,  3.1064,\n",
      "         -0.7739, -0.8461,  0.8701,  3.4438,  5.7098,  0.1155, -1.8377, -2.9520,\n",
      "         -1.1753, -3.4693, -0.9456, -3.0162, -0.5536]])\n",
      "tensor([[-0.2932,  0.0695, -1.4898, -0.3315, -3.8572,  1.4695, -2.6778, -1.7925,\n",
      "         -2.8830, -0.2929, -1.5007, -1.0006,  1.2870, -0.4312,  1.7271,  3.1064,\n",
      "         -0.7739, -0.8461,  0.8701,  3.4438,  5.7098,  0.1155, -1.8377, -2.9520,\n",
      "         -1.1753, -3.4693, -0.9456, -3.0162, -0.5536]])\n",
      "tensor([[-0.2932,  0.0695, -1.4898, -0.3315, -3.8572,  1.4695, -2.6778, -1.7925,\n",
      "         -2.8830, -0.2929, -1.5007, -1.0006,  1.2870, -0.4312,  1.7271,  3.1064,\n",
      "         -0.7739, -0.8461,  0.8701,  3.4438,  5.7098,  0.1155, -1.8377, -2.9520,\n",
      "         -1.1753, -3.4693, -0.9456, -3.0162, -0.5536]])\n",
      "tensor([[-0.2932,  0.0695, -1.4898, -0.3315, -3.8572,  1.4695, -2.6778, -1.7925,\n",
      "         -2.8830, -0.2929, -1.5007, -1.0006,  1.2870, -0.4312,  1.7271,  3.1064,\n",
      "         -0.7739, -0.8461,  0.8701,  3.4438,  5.7098,  0.1155, -1.8377, -2.9520,\n",
      "         -1.1753, -3.4693, -0.9456, -3.0162, -0.5536]])\n",
      "tensor([[-0.2932,  0.0695, -1.4898, -0.3315, -3.8572,  1.4695, -2.6778, -1.7925,\n",
      "         -2.8830, -0.2929, -1.5007, -1.0006,  1.2870, -0.4312,  1.7271,  3.1064,\n",
      "         -0.7739, -0.8461,  0.8701,  3.4438,  5.7098,  0.1155, -1.8377, -2.9520,\n",
      "         -1.1753, -3.4693, -0.9456, -3.0162, -0.5536]])\n",
      "tensor([[-0.2932,  0.0695, -1.4898, -0.3315, -3.8572,  1.4695, -2.6778, -1.7925,\n",
      "         -2.8830, -0.2929, -1.5007, -1.0006,  1.2870, -0.4312,  1.7271,  3.1064,\n",
      "         -0.7739, -0.8461,  0.8701,  3.4438,  5.7098,  0.1155, -1.8377, -2.9520,\n",
      "         -1.1753, -3.4693, -0.9456, -3.0162, -0.5536]])\n",
      "tensor([[-0.2932,  0.0695, -1.4898, -0.3315, -3.8572,  1.4695, -2.6778, -1.7925,\n",
      "         -2.8830, -0.2929, -1.5007, -1.0006,  1.2870, -0.4312,  1.7271,  3.1064,\n",
      "         -0.7739, -0.8461,  0.8701,  3.4438,  5.7098,  0.1155, -1.8377, -2.9520,\n",
      "         -1.1753, -3.4693, -0.9456, -3.0162, -0.5536]])\n",
      "tensor([[-0.2932,  0.0695, -1.4898, -0.3315, -3.8572,  1.4695, -2.6778, -1.7925,\n",
      "         -2.8830, -0.2929, -1.5007, -1.0006,  1.2870, -0.4312,  1.7271,  3.1064,\n",
      "         -0.7739, -0.8461,  0.8701,  3.4438,  5.7098,  0.1155, -1.8377, -2.9520,\n",
      "         -1.1753, -3.4693, -0.9456, -3.0162, -0.5536]])\n",
      "tensor([[-0.2932,  0.0695, -1.4898, -0.3315, -3.8572,  1.4695, -2.6778, -1.7925,\n",
      "         -2.8830, -0.2929, -1.5007, -1.0006,  1.2870, -0.4312,  1.7271,  3.1064,\n",
      "         -0.7739, -0.8461,  0.8701,  3.4438,  5.7098,  0.1155, -1.8377, -2.9520,\n",
      "         -1.1753, -3.4693, -0.9456, -3.0162, -0.5536]])\n",
      "tensor([[-0.2932,  0.0695, -1.4898, -0.3315, -3.8572,  1.4695, -2.6778, -1.7925,\n",
      "         -2.8830, -0.2929, -1.5007, -1.0006,  1.2870, -0.4312,  1.7271,  3.1064,\n",
      "         -0.7739, -0.8461,  0.8701,  3.4438,  5.7098,  0.1155, -1.8377, -2.9520,\n",
      "         -1.1753, -3.4693, -0.9456, -3.0162, -0.5536]])\n",
      "tensor([[-0.2932,  0.0695, -1.4898, -0.3315, -3.8572,  1.4695, -2.6778, -1.7925,\n",
      "         -2.8830, -0.2929, -1.5007, -1.0006,  1.2870, -0.4312,  1.7271,  3.1064,\n",
      "         -0.7739, -0.8461,  0.8701,  3.4438,  5.7098,  0.1155, -1.8377, -2.9520,\n",
      "         -1.1753, -3.4693, -0.9456, -3.0162, -0.5536]])\n",
      "tensor([[-0.2932,  0.0695, -1.4898, -0.3315, -3.8572,  1.4695, -2.6778, -1.7925,\n",
      "         -2.8830, -0.2929, -1.5007, -1.0006,  1.2870, -0.4312,  1.7271,  3.1064,\n",
      "         -0.7739, -0.8461,  0.8701,  3.4438,  5.7098,  0.1155, -1.8377, -2.9520,\n",
      "         -1.1753, -3.4693, -0.9456, -3.0162, -0.5536]])\n",
      "tensor([[-0.2932,  0.0695, -1.4898, -0.3315, -3.8572,  1.4695, -2.6778, -1.7925,\n",
      "         -2.8830, -0.2929, -1.5007, -1.0006,  1.2870, -0.4312,  1.7271,  3.1064,\n",
      "         -0.7739, -0.8461,  0.8701,  3.4438,  5.7098,  0.1155, -1.8377, -2.9520,\n",
      "         -1.1753, -3.4693, -0.9456, -3.0162, -0.5536]])\n",
      "tensor([[-0.2932,  0.0695, -1.4898, -0.3315, -3.8572,  1.4695, -2.6778, -1.7925,\n",
      "         -2.8830, -0.2929, -1.5007, -1.0006,  1.2870, -0.4312,  1.7271,  3.1064,\n",
      "         -0.7739, -0.8461,  0.8701,  3.4438,  5.7098,  0.1155, -1.8377, -2.9520,\n",
      "         -1.1753, -3.4693, -0.9456, -3.0162, -0.5536]])\n",
      "tensor([[-0.2932,  0.0695, -1.4898, -0.3315, -3.8572,  1.4695, -2.6778, -1.7925,\n",
      "         -2.8830, -0.2929, -1.5007, -1.0006,  1.2870, -0.4312,  1.7271,  3.1064,\n",
      "         -0.7739, -0.8461,  0.8701,  3.4438,  5.7098,  0.1155, -1.8377, -2.9520,\n",
      "         -1.1753, -3.4693, -0.9456, -3.0162, -0.5536]])\n",
      "tensor([[-0.2932,  0.0695, -1.4898, -0.3315, -3.8572,  1.4695, -2.6778, -1.7925,\n",
      "         -2.8830, -0.2929, -1.5007, -1.0006,  1.2870, -0.4312,  1.7271,  3.1064,\n",
      "         -0.7739, -0.8461,  0.8701,  3.4438,  5.7098,  0.1155, -1.8377, -2.9520,\n",
      "         -1.1753, -3.4693, -0.9456, -3.0162, -0.5536]])\n",
      "tensor([[-0.2932,  0.0695, -1.4898, -0.3315, -3.8572,  1.4695, -2.6778, -1.7925,\n",
      "         -2.8830, -0.2929, -1.5007, -1.0006,  1.2870, -0.4312,  1.7271,  3.1064,\n",
      "         -0.7739, -0.8461,  0.8701,  3.4438,  5.7098,  0.1155, -1.8377, -2.9520,\n",
      "         -1.1753, -3.4693, -0.9456, -3.0162, -0.5536]])\n",
      "tensor([[-0.2932,  0.0695, -1.4898, -0.3315, -3.8572,  1.4695, -2.6778, -1.7925,\n",
      "         -2.8830, -0.2929, -1.5007, -1.0006,  1.2870, -0.4312,  1.7271,  3.1064,\n",
      "         -0.7739, -0.8461,  0.8701,  3.4438,  5.7098,  0.1155, -1.8377, -2.9520,\n",
      "         -1.1753, -3.4693, -0.9456, -3.0162, -0.5536]])\n",
      "tensor([[-0.2932,  0.0695, -1.4898, -0.3315, -3.8572,  1.4695, -2.6778, -1.7925,\n",
      "         -2.8830, -0.2929, -1.5007, -1.0006,  1.2870, -0.4312,  1.7271,  3.1064,\n",
      "         -0.7739, -0.8461,  0.8701,  3.4438,  5.7098,  0.1155, -1.8377, -2.9520,\n",
      "         -1.1753, -3.4693, -0.9456, -3.0162, -0.5536]])\n",
      "tensor([[-0.2932,  0.0695, -1.4898, -0.3315, -3.8572,  1.4695, -2.6778, -1.7925,\n",
      "         -2.8830, -0.2929, -1.5007, -1.0006,  1.2870, -0.4312,  1.7271,  3.1064,\n",
      "         -0.7739, -0.8461,  0.8701,  3.4438,  5.7098,  0.1155, -1.8377, -2.9520,\n",
      "         -1.1753, -3.4693, -0.9456, -3.0162, -0.5536]])\n",
      "tensor([[-0.2932,  0.0695, -1.4898, -0.3315, -3.8572,  1.4695, -2.6778, -1.7925,\n",
      "         -2.8830, -0.2929, -1.5007, -1.0006,  1.2870, -0.4312,  1.7271,  3.1064,\n",
      "         -0.7739, -0.8461,  0.8701,  3.4438,  5.7098,  0.1155, -1.8377, -2.9520,\n",
      "         -1.1753, -3.4693, -0.9456, -3.0162, -0.5536]])\n",
      "tensor([[-0.2932,  0.0695, -1.4898, -0.3315, -3.8572,  1.4695, -2.6778, -1.7925,\n",
      "         -2.8830, -0.2929, -1.5007, -1.0006,  1.2870, -0.4312,  1.7271,  3.1064,\n",
      "         -0.7739, -0.8461,  0.8701,  3.4438,  5.7098,  0.1155, -1.8377, -2.9520,\n",
      "         -1.1753, -3.4693, -0.9456, -3.0162, -0.5536]])\n",
      "tensor([[-0.2932,  0.0695, -1.4898, -0.3315, -3.8572,  1.4695, -2.6778, -1.7925,\n",
      "         -2.8830, -0.2929, -1.5007, -1.0006,  1.2870, -0.4312,  1.7271,  3.1064,\n",
      "         -0.7739, -0.8461,  0.8701,  3.4438,  5.7098,  0.1155, -1.8377, -2.9520,\n",
      "         -1.1753, -3.4693, -0.9456, -3.0162, -0.5536]])\n",
      "tensor([[-0.2932,  0.0695, -1.4898, -0.3315, -3.8572,  1.4695, -2.6778, -1.7925,\n",
      "         -2.8830, -0.2929, -1.5007, -1.0006,  1.2870, -0.4312,  1.7271,  3.1064,\n",
      "         -0.7739, -0.8461,  0.8701,  3.4438,  5.7098,  0.1155, -1.8377, -2.9520,\n",
      "         -1.1753, -3.4693, -0.9456, -3.0162, -0.5536]])\n",
      "tensor([[-0.2932,  0.0695, -1.4898, -0.3315, -3.8572,  1.4695, -2.6778, -1.7925,\n",
      "         -2.8830, -0.2929, -1.5007, -1.0006,  1.2870, -0.4312,  1.7271,  3.1064,\n",
      "         -0.7739, -0.8461,  0.8701,  3.4438,  5.7098,  0.1155, -1.8377, -2.9520,\n",
      "         -1.1753, -3.4693, -0.9456, -3.0162, -0.5536]])\n",
      "tensor([[-0.2932,  0.0695, -1.4898, -0.3315, -3.8572,  1.4695, -2.6778, -1.7925,\n",
      "         -2.8830, -0.2929, -1.5007, -1.0006,  1.2870, -0.4312,  1.7271,  3.1064,\n",
      "         -0.7739, -0.8461,  0.8701,  3.4438,  5.7098,  0.1155, -1.8377, -2.9520,\n",
      "         -1.1753, -3.4693, -0.9456, -3.0162, -0.5536]])\n",
      "tensor([[-0.2932,  0.0695, -1.4898, -0.3315, -3.8572,  1.4695, -2.6778, -1.7925,\n",
      "         -2.8830, -0.2929, -1.5007, -1.0006,  1.2870, -0.4312,  1.7271,  3.1064,\n",
      "         -0.7739, -0.8461,  0.8701,  3.4438,  5.7098,  0.1155, -1.8377, -2.9520,\n",
      "         -1.1753, -3.4693, -0.9456, -3.0162, -0.5536]])\n",
      "tensor([[-0.2932,  0.0695, -1.4898, -0.3315, -3.8572,  1.4695, -2.6778, -1.7925,\n",
      "         -2.8830, -0.2929, -1.5007, -1.0006,  1.2870, -0.4312,  1.7271,  3.1064,\n",
      "         -0.7739, -0.8461,  0.8701,  3.4438,  5.7098,  0.1155, -1.8377, -2.9520,\n",
      "         -1.1753, -3.4693, -0.9456, -3.0162, -0.5536]])\n",
      "tensor([[-0.2932,  0.0695, -1.4898, -0.3315, -3.8572,  1.4695, -2.6778, -1.7925,\n",
      "         -2.8830, -0.2929, -1.5007, -1.0006,  1.2870, -0.4312,  1.7271,  3.1064,\n",
      "         -0.7739, -0.8461,  0.8701,  3.4438,  5.7098,  0.1155, -1.8377, -2.9520,\n",
      "         -1.1753, -3.4693, -0.9456, -3.0162, -0.5536]])\n",
      "tensor([[-0.2932,  0.0695, -1.4898, -0.3315, -3.8572,  1.4695, -2.6778, -1.7925,\n",
      "         -2.8830, -0.2929, -1.5007, -1.0006,  1.2870, -0.4312,  1.7271,  3.1064,\n",
      "         -0.7739, -0.8461,  0.8701,  3.4438,  5.7098,  0.1155, -1.8377, -2.9520,\n",
      "         -1.1753, -3.4693, -0.9456, -3.0162, -0.5536]])\n",
      "tensor([[-0.2932,  0.0695, -1.4898, -0.3315, -3.8572,  1.4695, -2.6778, -1.7925,\n",
      "         -2.8830, -0.2929, -1.5007, -1.0006,  1.2870, -0.4312,  1.7271,  3.1064,\n",
      "         -0.7739, -0.8461,  0.8701,  3.4438,  5.7098,  0.1155, -1.8377, -2.9520,\n",
      "         -1.1753, -3.4693, -0.9456, -3.0162, -0.5536]])\n",
      "tensor([[-0.2932,  0.0695, -1.4898, -0.3315, -3.8572,  1.4695, -2.6778, -1.7925,\n",
      "         -2.8830, -0.2929, -1.5007, -1.0006,  1.2870, -0.4312,  1.7271,  3.1064,\n",
      "         -0.7739, -0.8461,  0.8701,  3.4438,  5.7098,  0.1155, -1.8377, -2.9520,\n",
      "         -1.1753, -3.4693, -0.9456, -3.0162, -0.5536]])\n",
      "tensor([[-0.2932,  0.0695, -1.4898, -0.3315, -3.8572,  1.4695, -2.6778, -1.7925,\n",
      "         -2.8830, -0.2929, -1.5007, -1.0006,  1.2870, -0.4312,  1.7271,  3.1064,\n",
      "         -0.7739, -0.8461,  0.8701,  3.4438,  5.7098,  0.1155, -1.8377, -2.9520,\n",
      "         -1.1753, -3.4693, -0.9456, -3.0162, -0.5536]])\n",
      "tensor([[-0.2932,  0.0695, -1.4898, -0.3315, -3.8572,  1.4695, -2.6778, -1.7925,\n",
      "         -2.8830, -0.2929, -1.5007, -1.0006,  1.2870, -0.4312,  1.7271,  3.1064,\n",
      "         -0.7739, -0.8461,  0.8701,  3.4438,  5.7098,  0.1155, -1.8377, -2.9520,\n",
      "         -1.1753, -3.4693, -0.9456, -3.0162, -0.5536]])\n",
      "tensor([[-0.2932,  0.0695, -1.4898, -0.3315, -3.8572,  1.4695, -2.6778, -1.7925,\n",
      "         -2.8830, -0.2929, -1.5007, -1.0006,  1.2870, -0.4312,  1.7271,  3.1064,\n",
      "         -0.7739, -0.8461,  0.8701,  3.4438,  5.7098,  0.1155, -1.8377, -2.9520,\n",
      "         -1.1753, -3.4693, -0.9456, -3.0162, -0.5536]])\n",
      "tensor([[-0.2932,  0.0695, -1.4898, -0.3315, -3.8572,  1.4695, -2.6778, -1.7925,\n",
      "         -2.8830, -0.2929, -1.5007, -1.0006,  1.2870, -0.4312,  1.7271,  3.1064,\n",
      "         -0.7739, -0.8461,  0.8701,  3.4438,  5.7098,  0.1155, -1.8377, -2.9520,\n",
      "         -1.1753, -3.4693, -0.9456, -3.0162, -0.5536]])\n",
      "tensor([[-0.2932,  0.0695, -1.4898, -0.3315, -3.8572,  1.4695, -2.6778, -1.7925,\n",
      "         -2.8830, -0.2929, -1.5007, -1.0006,  1.2870, -0.4312,  1.7271,  3.1064,\n",
      "         -0.7739, -0.8461,  0.8701,  3.4438,  5.7098,  0.1155, -1.8377, -2.9520,\n",
      "         -1.1753, -3.4693, -0.9456, -3.0162, -0.5536]])\n",
      "tensor([[-0.2932,  0.0695, -1.4898, -0.3315, -3.8572,  1.4695, -2.6778, -1.7925,\n",
      "         -2.8830, -0.2929, -1.5007, -1.0006,  1.2870, -0.4312,  1.7271,  3.1064,\n",
      "         -0.7739, -0.8461,  0.8701,  3.4438,  5.7098,  0.1155, -1.8377, -2.9520,\n",
      "         -1.1753, -3.4693, -0.9456, -3.0162, -0.5536]])\n",
      "tensor([[-0.2932,  0.0695, -1.4898, -0.3315, -3.8572,  1.4695, -2.6778, -1.7925,\n",
      "         -2.8830, -0.2929, -1.5007, -1.0006,  1.2870, -0.4312,  1.7271,  3.1064,\n",
      "         -0.7739, -0.8461,  0.8701,  3.4438,  5.7098,  0.1155, -1.8377, -2.9520,\n",
      "         -1.1753, -3.4693, -0.9456, -3.0162, -0.5536]])\n",
      "tensor([[-0.2932,  0.0695, -1.4898, -0.3315, -3.8572,  1.4695, -2.6778, -1.7925,\n",
      "         -2.8830, -0.2929, -1.5007, -1.0006,  1.2870, -0.4312,  1.7271,  3.1064,\n",
      "         -0.7739, -0.8461,  0.8701,  3.4438,  5.7098,  0.1155, -1.8377, -2.9520,\n",
      "         -1.1753, -3.4693, -0.9456, -3.0162, -0.5536]])\n",
      "tensor([[-0.2932,  0.0695, -1.4898, -0.3315, -3.8572,  1.4695, -2.6778, -1.7925,\n",
      "         -2.8830, -0.2929, -1.5007, -1.0006,  1.2870, -0.4312,  1.7271,  3.1064,\n",
      "         -0.7739, -0.8461,  0.8701,  3.4438,  5.7098,  0.1155, -1.8377, -2.9520,\n",
      "         -1.1753, -3.4693, -0.9456, -3.0162, -0.5536]])\n",
      "('it made a faint whistling sound',) < t t t t t t t t t t t t t t t t t t t t t t t t t t t t t t t t t t t t t t t t t t t t t t t t t t t t t t t t t t t t t t t t t t t t t t t t t t t t t t t t t t t t t t t t t t t t t t t t t t\n",
      "\n"
     ]
    }
   ],
   "source": [
    "evaluateRandomly(encoder, decoder, n=1)"
   ]
  },
  {
   "cell_type": "code",
   "execution_count": 79,
   "id": "a120702d",
   "metadata": {},
   "outputs": [
    {
     "data": {
      "text/plain": [
       "'that might be all right.'"
      ]
     },
     "execution_count": 79,
     "metadata": {},
     "output_type": "execute_result"
    }
   ],
   "source": [
    "train_text[23]"
   ]
  },
  {
   "cell_type": "code",
   "execution_count": 77,
   "id": "63b68607",
   "metadata": {},
   "outputs": [
    {
     "name": "stdout",
     "output_type": "stream",
     "text": [
      "that might be all right < SOSthe dige tone<EOS>\n",
      "\n"
     ]
    }
   ],
   "source": [
    "predict(train_path[23],train_text[23],enmodel,decmodel)"
   ]
  },
  {
   "cell_type": "code",
   "execution_count": 76,
   "id": "ba5932a2",
   "metadata": {},
   "outputs": [],
   "source": [
    "def predict(wav_path,transcription,encoder,decoder):\n",
    "    # Use the model to predict the label of the waveform\n",
    "    waveform, _ = torchaudio.load(wav_path)\n",
    "    sentence = transcription.encode(encoding=\"ascii\",errors=\"ignore\").decode().translate(table_trans)\n",
    "    chars =[b for a in sentence for b in a]\n",
    "    coded = [28]+[char_dict.index(a) for a in chars]+[27]\n",
    "    sample['waveform'] =waveform\n",
    "    sample['transcription'] = coded\n",
    "    sample['sentence'] = sentence\n",
    "    transformer = MelSpec()\n",
    "    mels =transformer(sample)\n",
    "    ex =mels['waveform']\n",
    "    \n",
    "    output_words, attentions,_ = evaluate(encoder, decoder, ex)\n",
    "    output_sentence = ''.join(output_words)\n",
    "    return output_sentence\n",
    "    "
   ]
  },
  {
   "cell_type": "code",
   "execution_count": 67,
   "id": "2921f3e2",
   "metadata": {},
   "outputs": [],
   "source": [
    "def evaluate(encoder, decoder, tens, max_length=MAX_LENGTH):\n",
    "    with torch.no_grad():\n",
    "        input_tensor = tens\n",
    "        input_length = input_tensor.size(2)\n",
    "        encoder_hidden = encoder.initHidden()\n",
    "\n",
    "        encoder_outputs = torch.zeros(max_length, encoder.hidden_size, device=device)\n",
    "\n",
    "        encoder_output, encoder_hidden = encoder(input_tensor.reshape(1,1,80*401), encoder_hidden,MAX_LENGTH)\n",
    "\n",
    "\n",
    "        decoder_input = torch.tensor([[SOS_token]], device=device)  # SOS\n",
    "\n",
    "        decoder_hidden = encoder_hidden\n",
    "        decoder_output = encoder_hidden\n",
    "\n",
    "        decoded_words = []\n",
    "        decoder_attentions = torch.zeros(max_length, max_length)\n",
    "\n",
    "        for di in range(max_length):\n",
    "            decoder_output, decoder_hidden, decoder_attention,decoder_probs = decoder(\n",
    "                decoder_input, decoder_hidden, encoder_outputs)\n",
    "            decoder_attentions[di] = decoder_attention.data\n",
    "            topv, topi = decoder_output.data.topk(1)\n",
    "            yay = torch.distributions.categorical.Categorical(decoder_probs)\n",
    "            topi = yay.sample()\n",
    "            if topi.item() == EOS_token:\n",
    "                decoded_words.append('<EOS>')\n",
    "                break\n",
    "            else:\n",
    "                decoded_words.append(dictOfindex[topi.item()])\n",
    "\n",
    "            decoder_input = topi.squeeze().detach()\n",
    "\n",
    "        return decoded_words, decoder_attentions[:di + 1],decoder_output"
   ]
  },
  {
   "cell_type": "code",
   "execution_count": 34,
   "id": "e563ee97",
   "metadata": {},
   "outputs": [],
   "source": [
    "def evaluateRandomly(encoder, decoder, n=10):\n",
    "    for i in range(n):\n",
    "        choice = np.random.randint(200)\n",
    "        print(choice)\n",
    "        actual = transformed_dataset[choice]['sentence']\n",
    "        ex = transformed_dataset[choice]['waveform']\n",
    "        output_words, attentions,_ = evaluate(encoder, decoder, ex)\n",
    "        output_sentence = ''.join(output_words)\n",
    "        print(actual, '<', output_sentence)\n",
    "        print('')"
   ]
  },
  {
   "cell_type": "markdown",
   "id": "8c23854a",
   "metadata": {},
   "source": [
    "# Really bad model"
   ]
  },
  {
   "cell_type": "code",
   "execution_count": 39,
   "id": "9862442e",
   "metadata": {},
   "outputs": [
    {
     "name": "stdout",
     "output_type": "stream",
     "text": [
      "168\n",
      "you said it to me too < SOSthet hy one ill ster a troulenpf<EOS>\n",
      "\n",
      "183\n",
      "now look what youve done < SOScoof honing ipler<EOS>\n",
      "\n",
      "13\n",
      "two < SOSyo lrlieb cowiovere zoon<EOS>\n",
      "\n",
      "62\n",
      "he disappeared into the tent < SOShegiver a of a the marze her erpeesen up eaniap browndoyrewid for adyorcrawntent witt dearntnged on u<EOS>\n",
      "\n",
      "166\n",
      "ill talk to you tonight < SOSyou poet fee hy odous courldengtas i sotellndingty on feny ontouenilhan<EOS>\n",
      "\n",
      "27\n",
      "how did it happen < SOSthee loong uperee right spigel ven<EOS>\n",
      "\n",
      "157\n",
      "richard has gone camping by himself < SOShe it fakrieve auntpy a seaits salingedirs t neees feccid<EOS>\n",
      "\n",
      "170\n",
      "what shall we do now < SOSwhot mir they inrey<EOS>\n",
      "\n",
      "152\n",
      "good weekend is edited by amelia lester < SOSjex do ge goes lhth<EOS>\n",
      "\n",
      "11\n",
      "say what you have got to say < SOSser<EOS>\n",
      "\n"
     ]
    }
   ],
   "source": [
    "evaluateRandomly(encoder1, attn_decoder1)\n"
   ]
  },
  {
   "cell_type": "code",
   "execution_count": null,
   "id": "0199baf1",
   "metadata": {},
   "outputs": [],
   "source": []
  },
  {
   "cell_type": "code",
   "execution_count": null,
   "id": "91f8daa0",
   "metadata": {},
   "outputs": [],
   "source": []
  }
 ],
 "metadata": {
  "kernelspec": {
   "display_name": "Python 3",
   "language": "python",
   "name": "python3"
  },
  "language_info": {
   "codemirror_mode": {
    "name": "ipython",
    "version": 3
   },
   "file_extension": ".py",
   "mimetype": "text/x-python",
   "name": "python",
   "nbconvert_exporter": "python",
   "pygments_lexer": "ipython3",
   "version": "3.7.10"
  }
 },
 "nbformat": 4,
 "nbformat_minor": 5
}
