{
 "cells": [
  {
   "cell_type": "code",
   "execution_count": 1,
   "id": "8a9d61bd",
   "metadata": {},
   "outputs": [
    {
     "name": "stdout",
     "output_type": "stream",
     "text": [
      "1.9.0\n",
      "0.9.0\n"
     ]
    }
   ],
   "source": [
    "from __future__ import print_function, division,unicode_literals\n",
    "import os\n",
    "import pandas as pd\n",
    "from skimage import io, transform\n",
    "import numpy as np\n",
    "import matplotlib.pyplot as plt\n",
    "import librosa\n",
    "\n",
    "from io import open\n",
    "import unicodedata\n",
    "import string\n",
    "import re\n",
    "import random\n",
    "\n",
    "from tqdm.auto import tqdm\n",
    "import json\n",
    "\n",
    "import torch\n",
    "from torch.utils.data import Dataset, DataLoader\n",
    "from torchvision import transforms, utils\n",
    "import torch.nn as nn\n",
    "from torch import optim\n",
    "from torch.nn.utils.rnn import pack_padded_sequence, pad_packed_sequence\n",
    "from torch.utils.data.dataloader import default_collate\n",
    "\n",
    "\n",
    "import torch.nn.functional as Fi\n",
    "\n",
    "\n",
    "import torchaudio\n",
    "import torchaudio.functional as F\n",
    "import torchaudio.transforms as T\n",
    "\n",
    "print(torch.__version__)\n",
    "print(torchaudio.__version__)\n",
    "\n",
    "\n",
    "import string\n",
    "\n",
    "device = torch.device(\"cuda\" if torch.cuda.is_available() else \"cpu\")"
   ]
  },
  {
   "cell_type": "code",
   "execution_count": 2,
   "id": "2119bd40",
   "metadata": {},
   "outputs": [
    {
     "data": {
      "application/vnd.jupyter.widget-view+json": {
       "model_id": "d29bc8d487c0465c8cdceb82f6721b6d",
       "version_major": 2,
       "version_minor": 0
      },
      "text/plain": [
       "Reading manifest data: 0it [00:00, ?it/s]"
      ]
     },
     "metadata": {},
     "output_type": "display_data"
    }
   ],
   "source": [
    "table_trans = str.maketrans(dict.fromkeys(string.punctuation))  # OR {key: None for key in string.punctuation}\n",
    "\n",
    "\n",
    "path =\"/Users/dami.osoba/work/bawk/small_dataset/small/CV_unpacked/cv-corpus-6.1-2020-12-11/en/validated.tsv\"\n",
    "meta = pd.read_csv(path,sep=\"\\t\")\n",
    "meta_path = meta.set_index('path')\n",
    "\n",
    "def read_manifest(path):\n",
    "    manifest = []\n",
    "    with open(path, 'r') as f:\n",
    "        for line in tqdm(f, desc=\"Reading manifest data\"):\n",
    "            line = line.replace(\"\\n\", \"\")\n",
    "            data = json.loads(line)\n",
    "            manifest.append(data)\n",
    "    return manifest\n",
    "train_manifest_path = '/Users/dami.osoba/work/bawk/src/data/commonvoice_train_manifest.json'\n",
    "train_manifest_data = read_manifest(train_manifest_path)\n",
    "# keep audio < 4s\n",
    "train_text = [data['text'] for data in train_manifest_data if data['duration']<=4]\n",
    "train_path = [data['audio_filepath'] for data in train_manifest_data if data['duration']<=4]\n",
    "train_path_pd = pd.DataFrame(train_path,columns=['train_path'])\n",
    "\n",
    "# remove unicode\n",
    "sentences = [c.encode(encoding=\"ascii\",errors=\"ignore\").decode().translate(table_trans) for c in train_text]\n",
    "char_dict = sorted(list(set([b for a in sentences for b in a]))) +['EOS','SOS','PAD']\n",
    "char_index = {a:char_dict.index(a) for a in char_dict}\n",
    "dictOfindex = {char_dict.index(a):a for a in char_dict}\n",
    "# char_index['EOS'] = len(char_dict)\n",
    "# char_index['SOS'] = len(char_dict)+1\n",
    "# char_index['PAD'] = len(char_dict)+2"
   ]
  },
  {
   "cell_type": "markdown",
   "id": "d33f9426",
   "metadata": {},
   "source": [
    "# Create voice dataset"
   ]
  },
  {
   "cell_type": "code",
   "execution_count": 104,
   "id": "4a735473",
   "metadata": {},
   "outputs": [],
   "source": [
    "class VoiceDataset(Dataset):\n",
    "    def __init__(self, transform=None):\n",
    "        \"\"\"\n",
    "        Args:\n",
    "            csv_file (string): Path to the csv file with annotations.\n",
    "            root_dir (string): Directory with all the images.\n",
    "            transform (callable, optional): Optional transform to be applied\n",
    "                on a sample.\n",
    "        \"\"\"\n",
    "#         self.landmarks_frame = pd.read_csv(csv_file)\n",
    "#         self.root_dir = root_dir\n",
    "        self.transform = transform\n",
    "        self.path_frame = train_path_pd\n",
    "\n",
    "    def __len__(self):\n",
    "        return len(self.path_frame)\n",
    "\n",
    "    \n",
    "    def __getitem__(self, idx):\n",
    "        if torch.is_tensor(idx):\n",
    "            idx = idx.tolist()\n",
    "\n",
    "#         waveform, _ = librosa.load(self.path_frame.loc[idx][0],sr=16000)\n",
    "        waveform, _ = torchaudio.load(self.path_frame.loc[idx][0],)\n",
    "        label = self.path_frame.loc[idx][0].split(\"/\")[-1].split(\"wav\")[0]+\"mp3\"\n",
    "        # transcription for audio\n",
    "        trans = meta_path.loc[label]['sentence']\n",
    "#         if len(trans.split(\" \")) == 1:\n",
    "#             waveform = torch.cat([waveform,waveform],dim=1)\n",
    "#             trans = trans +\" \"+trans\n",
    "#             print(trans)\n",
    "        # encode to ascii\n",
    "        trans = trans.encode(encoding=\"ascii\",errors=\"ignore\").decode().translate(table_trans).lower()\n",
    "        chars =[b for a in trans for b in a]\n",
    "        coded = [char_dict.index(a) for a in chars]\n",
    "\n",
    "        sample = {'waveform': waveform, 'transcription': coded,'sentence':trans}\n",
    "\n",
    "        if self.transform:\n",
    "            sample = self.transform(sample)\n",
    "\n",
    "        return sample"
   ]
  },
  {
   "cell_type": "code",
   "execution_count": 17,
   "id": "206fb27e",
   "metadata": {},
   "outputs": [],
   "source": [
    "def predict(wav_path,transcription):\n",
    "    # Use the model to predict the label of the waveform\n",
    "    waveform, _ = torchaudio.load(wav_path)\n",
    "    sentence = transcription.encode(encoding=\"ascii\",errors=\"ignore\").decode().translate(table_trans)\n",
    "    chars =[b for a in sentence for b in a]\n",
    "    coded = [28,0]+[char_dict.index(a) for a in chars]+[0,27]\n",
    "    sample['waveform'] =waveform\n",
    "    sample['transcription'] = coded\n",
    "    sample['sentence'] = sentence\n",
    "    hmm = MelSpec()\n",
    "    hah =hmm(sample)\n",
    "    return hah"
   ]
  },
  {
   "cell_type": "markdown",
   "id": "1098d3b1",
   "metadata": {},
   "source": [
    "# Create FFT transform"
   ]
  },
  {
   "cell_type": "code",
   "execution_count": 105,
   "id": "3b88ce88",
   "metadata": {},
   "outputs": [
    {
     "name": "stdout",
     "output_type": "stream",
     "text": [
      "0 torch.Size([1, 226, 80]) that sobered him a little\n",
      "1 torch.Size([1, 363, 80]) open confession is good for the soul\n",
      "2 torch.Size([1, 344, 80]) but the englishman was exultant\n",
      "3 torch.Size([1, 274, 80]) i am following my destiny\n"
     ]
    }
   ],
   "source": [
    "window_size = 25/1000\n",
    "stride = 10/1000\n",
    "sample_rate = 16000\n",
    "n_fft =int(window_size *sample_rate)\n",
    "win_length = None\n",
    "hop_length = int(sample_rate*stride)\n",
    "n_mels = 80\n",
    "max_time = 4\n",
    "\n",
    "\n",
    "mel_spectrogram = T.MelSpectrogram(\n",
    "    sample_rate=sample_rate,\n",
    "    n_fft=n_fft,\n",
    "    hop_length=hop_length,\n",
    "    center=True,\n",
    "    pad_mode=\"reflect\",\n",
    "    power=2.0,\n",
    "    norm='slaney',\n",
    "    onesided=True,\n",
    "    n_mels=n_mels,\n",
    "    mel_scale=\"htk\",\n",
    ")\n",
    "\n",
    "# melspec = mel_spectrogram(waveform)\n",
    "\n",
    "\n",
    "class MelSpec(object):\n",
    "    \"\"\"Rescale the image in a sample to a given size.\n",
    "\n",
    "    Args:\n",
    "        output_size (tuple or int): Desired output size. If tuple, output is\n",
    "            matched to output_size. If int, smaller of image edges is matched\n",
    "            to output_size keeping aspect ratio the same.\n",
    "    \"\"\"\n",
    "    def __init__(self):\n",
    "        \n",
    "        self.window_size = 25/1000\n",
    "        self.stride = 10/1000\n",
    "        self.sample_rate = 16000\n",
    "        self.n_fft =int(self.window_size *self.sample_rate)\n",
    "        self.win_length = None\n",
    "        self.hop_length = int(self.sample_rate*self.stride)\n",
    "        self.n_mels = 80\n",
    "        self.max_time = 4\n",
    "        pass\n",
    "#         assert isinstance(output_size, (int, tuple))\n",
    "#         self.output_size = output_size\n",
    "\n",
    "    def mel_spectrogram(self,a):\n",
    "        mel_spec = T.MelSpectrogram(\n",
    "                        sample_rate=self.sample_rate,\n",
    "                        n_fft=self.n_fft,\n",
    "                        hop_length=self.hop_length,\n",
    "                        center=True,\n",
    "                        pad_mode=\"reflect\",\n",
    "                        power=2.0,\n",
    "                        norm='slaney',\n",
    "                        onesided=True,\n",
    "                        n_mels=self.n_mels,\n",
    "                        mel_scale=\"htk\")\n",
    "        return mel_spec(a)\n",
    "        \n",
    "\n",
    "    def __call__(self, sample):\n",
    "        waveform, transcription,sentence = sample['waveform'], sample['transcription'],sample['sentence']\n",
    "        #zero pad waveform\n",
    "        zero_pad = torch.zeros(1, sample_rate*max_time- waveform.size()[1])\n",
    "        padding = torch.cat([waveform,zero_pad],1)\n",
    "        # get spectrogram\n",
    "        wave_spec = self.mel_spectrogram(waveform)\n",
    "        wave_spec = wave_spec.swapaxes(1,2)\n",
    "        #change transcription list to tensor\n",
    "        transcription = torch.tensor(transcription, dtype=torch.long, device=device)\n",
    "\n",
    "        return {'waveform': wave_spec, 'transcription': transcription, 'sentence':sentence}\n",
    "    \n",
    "transformed_dataset = VoiceDataset(transform = MelSpec())\n",
    "\n",
    "for i in range(len(transformed_dataset)):\n",
    "    sample = transformed_dataset[i]\n",
    "\n",
    "    print(i, sample['waveform'].size(), sample['sentence'])\n",
    "\n",
    "    if i == 3:\n",
    "        break"
   ]
  },
  {
   "cell_type": "code",
   "execution_count": 57,
   "id": "f211b1ff",
   "metadata": {},
   "outputs": [],
   "source": [
    "dictOfindex = { i : char_dict[i] for i in range(0, len(char_dict) ) }\n",
    "dictOfchar = { char_dict[i]:i for i in range(0, len(char_dict) ) }"
   ]
  },
  {
   "cell_type": "code",
   "execution_count": 58,
   "id": "76624b92",
   "metadata": {},
   "outputs": [
    {
     "data": {
      "text/plain": [
       "{' ': 0,\n",
       " 'a': 1,\n",
       " 'b': 2,\n",
       " 'c': 3,\n",
       " 'd': 4,\n",
       " 'e': 5,\n",
       " 'f': 6,\n",
       " 'g': 7,\n",
       " 'h': 8,\n",
       " 'i': 9,\n",
       " 'j': 10,\n",
       " 'k': 11,\n",
       " 'l': 12,\n",
       " 'm': 13,\n",
       " 'n': 14,\n",
       " 'o': 15,\n",
       " 'p': 16,\n",
       " 'q': 17,\n",
       " 'r': 18,\n",
       " 's': 19,\n",
       " 't': 20,\n",
       " 'u': 21,\n",
       " 'v': 22,\n",
       " 'w': 23,\n",
       " 'x': 24,\n",
       " 'y': 25,\n",
       " 'z': 26,\n",
       " 'EOS': 27,\n",
       " 'SOS': 28,\n",
       " 'PAD': 29}"
      ]
     },
     "execution_count": 58,
     "metadata": {},
     "output_type": "execute_result"
    }
   ],
   "source": [
    "dictOfchar"
   ]
  },
  {
   "cell_type": "code",
   "execution_count": 252,
   "id": "2d858ee4",
   "metadata": {},
   "outputs": [
    {
     "name": "stdout",
     "output_type": "stream",
     "text": [
      "tensor([[[0.0000e+00, 0.0000e+00, 0.0000e+00,  ..., 0.0000e+00,\n",
      "          0.0000e+00, 0.0000e+00],\n",
      "         [0.0000e+00, 0.0000e+00, 0.0000e+00,  ..., 0.0000e+00,\n",
      "          0.0000e+00, 0.0000e+00],\n",
      "         [0.0000e+00, 0.0000e+00, 0.0000e+00,  ..., 0.0000e+00,\n",
      "          0.0000e+00, 0.0000e+00],\n",
      "         ...,\n",
      "         [8.9804e-08, 3.1514e-07, 2.0027e-08,  ..., 6.4912e-10,\n",
      "          3.2875e-10, 1.9292e-10],\n",
      "         [3.9580e-08, 1.3889e-07, 4.6732e-08,  ..., 5.9156e-11,\n",
      "          7.0747e-11, 1.1129e-10],\n",
      "         [3.5054e-13, 1.2301e-12, 1.2444e-12,  ..., 3.5824e-13,\n",
      "          2.3313e-13, 8.3234e-13]],\n",
      "\n",
      "        [[0.0000e+00, 0.0000e+00, 0.0000e+00,  ..., 0.0000e+00,\n",
      "          0.0000e+00, 0.0000e+00],\n",
      "         [0.0000e+00, 0.0000e+00, 0.0000e+00,  ..., 0.0000e+00,\n",
      "          0.0000e+00, 0.0000e+00],\n",
      "         [2.3874e-09, 8.3777e-09, 1.3854e-09,  ..., 9.1464e-11,\n",
      "          9.7280e-11, 4.0827e-11],\n",
      "         ...,\n",
      "         [0.0000e+00, 0.0000e+00, 0.0000e+00,  ..., 0.0000e+00,\n",
      "          0.0000e+00, 0.0000e+00],\n",
      "         [0.0000e+00, 0.0000e+00, 0.0000e+00,  ..., 0.0000e+00,\n",
      "          0.0000e+00, 0.0000e+00],\n",
      "         [0.0000e+00, 0.0000e+00, 0.0000e+00,  ..., 0.0000e+00,\n",
      "          0.0000e+00, 0.0000e+00]],\n",
      "\n",
      "        [[0.0000e+00, 0.0000e+00, 0.0000e+00,  ..., 0.0000e+00,\n",
      "          0.0000e+00, 0.0000e+00],\n",
      "         [2.0416e-15, 7.1644e-15, 4.6562e-15,  ..., 5.1135e-16,\n",
      "          5.6363e-16, 5.9225e-16],\n",
      "         [1.3539e-07, 4.7510e-07, 2.5512e-07,  ..., 1.9729e-09,\n",
      "          1.4460e-09, 3.2654e-10],\n",
      "         ...,\n",
      "         [0.0000e+00, 0.0000e+00, 0.0000e+00,  ..., 0.0000e+00,\n",
      "          0.0000e+00, 0.0000e+00],\n",
      "         [0.0000e+00, 0.0000e+00, 0.0000e+00,  ..., 0.0000e+00,\n",
      "          0.0000e+00, 0.0000e+00],\n",
      "         [0.0000e+00, 0.0000e+00, 0.0000e+00,  ..., 0.0000e+00,\n",
      "          0.0000e+00, 0.0000e+00]],\n",
      "\n",
      "        ...,\n",
      "\n",
      "        [[0.0000e+00, 0.0000e+00, 0.0000e+00,  ..., 0.0000e+00,\n",
      "          0.0000e+00, 0.0000e+00],\n",
      "         [1.4169e-12, 4.9721e-12, 3.1746e-12,  ..., 2.3515e-13,\n",
      "          7.6526e-13, 1.3047e-12],\n",
      "         [7.0665e-10, 2.4797e-09, 1.1721e-08,  ..., 1.3031e-10,\n",
      "          5.5610e-10, 3.5463e-10],\n",
      "         ...,\n",
      "         [0.0000e+00, 0.0000e+00, 0.0000e+00,  ..., 0.0000e+00,\n",
      "          0.0000e+00, 0.0000e+00],\n",
      "         [0.0000e+00, 0.0000e+00, 0.0000e+00,  ..., 0.0000e+00,\n",
      "          0.0000e+00, 0.0000e+00],\n",
      "         [0.0000e+00, 0.0000e+00, 0.0000e+00,  ..., 0.0000e+00,\n",
      "          0.0000e+00, 0.0000e+00]],\n",
      "\n",
      "        [[0.0000e+00, 0.0000e+00, 0.0000e+00,  ..., 0.0000e+00,\n",
      "          0.0000e+00, 0.0000e+00],\n",
      "         [0.0000e+00, 0.0000e+00, 0.0000e+00,  ..., 0.0000e+00,\n",
      "          0.0000e+00, 0.0000e+00],\n",
      "         [5.5424e-12, 1.9449e-11, 4.0252e-11,  ..., 4.4641e-09,\n",
      "          3.6147e-09, 1.3902e-09],\n",
      "         ...,\n",
      "         [0.0000e+00, 0.0000e+00, 0.0000e+00,  ..., 0.0000e+00,\n",
      "          0.0000e+00, 0.0000e+00],\n",
      "         [0.0000e+00, 0.0000e+00, 0.0000e+00,  ..., 0.0000e+00,\n",
      "          0.0000e+00, 0.0000e+00],\n",
      "         [0.0000e+00, 0.0000e+00, 0.0000e+00,  ..., 0.0000e+00,\n",
      "          0.0000e+00, 0.0000e+00]],\n",
      "\n",
      "        [[0.0000e+00, 0.0000e+00, 0.0000e+00,  ..., 0.0000e+00,\n",
      "          0.0000e+00, 0.0000e+00],\n",
      "         [0.0000e+00, 0.0000e+00, 0.0000e+00,  ..., 0.0000e+00,\n",
      "          0.0000e+00, 0.0000e+00],\n",
      "         [0.0000e+00, 0.0000e+00, 0.0000e+00,  ..., 0.0000e+00,\n",
      "          0.0000e+00, 0.0000e+00],\n",
      "         ...,\n",
      "         [0.0000e+00, 0.0000e+00, 0.0000e+00,  ..., 0.0000e+00,\n",
      "          0.0000e+00, 0.0000e+00],\n",
      "         [0.0000e+00, 0.0000e+00, 0.0000e+00,  ..., 0.0000e+00,\n",
      "          0.0000e+00, 0.0000e+00],\n",
      "         [0.0000e+00, 0.0000e+00, 0.0000e+00,  ..., 0.0000e+00,\n",
      "          0.0000e+00, 0.0000e+00]]]) tensor([[20,  8,  9, 19,  0,  9, 19,  0,  1,  0,  3, 15, 13, 13, 15, 14,  0, 13,\n",
      "          9, 19,  3, 15, 14,  3,  5, 16, 20,  9, 15, 14,  0, 19,  8,  5, 12,  4,\n",
      "         15, 14,  0, 19,  1,  9,  4, 29, 29, 29, 29, 29, 29, 29, 29, 29, 29, 29,\n",
      "         29, 29],\n",
      "        [23,  5,  0, 21, 19, 21,  1, 12, 12, 25,  0, 16,  1, 18, 11,  5,  4,  0,\n",
      "         15, 21, 18,  0, 13, 15, 20, 15, 18,  3, 25,  3, 12,  5, 19,  0, 14,  5,\n",
      "          1, 18,  0, 20, 15,  0, 20,  8,  9, 19,  0,  2, 21,  9, 12,  4,  9, 14,\n",
      "          7, 29],\n",
      "        [20,  8,  5,  0, 20,  8, 18,  5,  5,  0,  4,  9,  1,  7, 18,  1, 13, 19,\n",
      "          0,  1, 18,  5,  0, 12,  1,  2,  5, 12, 12,  5,  4,  0,  1, 19,  0,  6,\n",
      "         15, 12, 12, 15, 23, 19, 29, 29, 29, 29, 29, 29, 29, 29, 29, 29, 29, 29,\n",
      "         29, 29],\n",
      "        [ 4, 15, 14, 20,  0, 25, 15, 21,  0, 20,  8,  9, 14, 11,  0,  9,  0, 11,\n",
      "         14, 15, 23,  0, 23,  8,  5, 18,  5,  0,  9,  0, 12,  9, 22,  5, 29, 29,\n",
      "         29, 29, 29, 29, 29, 29, 29, 29, 29, 29, 29, 29, 29, 29, 29, 29, 29, 29,\n",
      "         29, 29],\n",
      "        [ 2,  1,  3, 11,  0, 20, 15,  0, 15, 21, 18,  0, 15, 18,  9,  7,  9, 14,\n",
      "          1, 12,  0, 16, 12,  1, 14,  0,  9,  0, 20,  8,  9, 14, 11, 29, 29, 29,\n",
      "         29, 29, 29, 29, 29, 29, 29, 29, 29, 29, 29, 29, 29, 29, 29, 29, 29, 29,\n",
      "         29, 29],\n",
      "        [ 1, 14, 25,  0, 19, 20,  1, 20,  5, 13,  5, 14, 20,  0, 15, 14,  0, 20,\n",
      "          8,  5,  0, 18,  5,  4,  0, 21, 16, 18,  9, 19,  9, 14,  7,  0, 20, 15,\n",
      "         13, 15, 18, 18, 15, 23, 29, 29, 29, 29, 29, 29, 29, 29, 29, 29, 29, 29,\n",
      "         29, 29],\n",
      "        [23,  8,  1, 20,  0,  4, 15,  0, 25, 15, 21,  0, 23,  1, 14, 20,  0,  8,\n",
      "          5, 18,  5,  0, 20, 15,  4,  1, 25,  0, 20,  8,  5,  0,  4,  5, 19,  5,\n",
      "         18, 20,  0,  1, 19, 11,  5,  4,  0,  8,  9, 13, 29, 29, 29, 29, 29, 29,\n",
      "         29, 29],\n",
      "        [ 4,  9,  4,  0,  9,  0, 20,  5, 12, 12,  0, 25, 15, 21,  0, 13, 25,  0,\n",
      "          2,  5, 19, 20,  0,  6, 18,  9,  5, 14,  4,  0,  9, 19,  0,  3, 15, 13,\n",
      "          9, 14,  7,  0, 20, 15,  0, 22,  9, 19,  9, 20,  0, 13,  5,  0, 19, 15,\n",
      "         15, 14],\n",
      "        [ 8,  5,  0,  1, 19, 11,  5,  4,  0,  6, 15, 18,  0,  8,  9, 13, 29, 29,\n",
      "         29, 29, 29, 29, 29, 29, 29, 29, 29, 29, 29, 29, 29, 29, 29, 29, 29, 29,\n",
      "         29, 29, 29, 29, 29, 29, 29, 29, 29, 29, 29, 29, 29, 29, 29, 29, 29, 29,\n",
      "         29, 29],\n",
      "        [ 9, 20,  0,  9, 19,  0,  1,  0, 14,  1, 20,  9, 15, 14,  1, 12,  0,  8,\n",
      "          9, 19, 20, 15, 18,  9,  3,  0, 12,  1, 14,  4, 13,  1, 18, 11, 29, 29,\n",
      "         29, 29, 29, 29, 29, 29, 29, 29, 29, 29, 29, 29, 29, 29, 29, 29, 29, 29,\n",
      "         29, 29]]) tensor([394, 385, 382, 363, 351, 351, 346, 334, 310, 277]) ('this is a common misconception sheldon said', 'we usually parked our motorcycles near to this building', 'the three diagrams are labelled as follows', 'dont you think i know where i live', 'back to our original plan i think', 'any statement on the red uprising tomorrow', 'what do you want here today the desert asked him', 'did i tell you my best friend is coming to visit me soon', 'he asked for him', 'it is a national historic landmark')\n"
     ]
    }
   ],
   "source": [
    "def pad_sequence(batch):\n",
    "    # Make all tensor in a batch the same length by padding with zeros\n",
    "    batch = [item.t() for item in batch]    \n",
    "    batch = torch.nn.utils.rnn.pad_sequence(batch, batch_first=True, padding_value=0)\n",
    "    return batch\n",
    "\n",
    "\n",
    "def pad_collate(batch):\n",
    "    max_input_len = float('-inf')\n",
    "    max_target_len = float('-inf')\n",
    "\n",
    "    for elem in batch:\n",
    "        feature = elem['waveform']\n",
    "        feature = feature.squeeze()\n",
    "        trn = elem['transcription']\n",
    "        max_input_len = max_input_len if max_input_len > feature.shape[0] else feature.shape[0]\n",
    "        max_target_len = max_target_len if max_target_len > len(trn) else len(trn)\n",
    "\n",
    "    for i, elem in enumerate(batch):\n",
    "        f = elem['waveform']\n",
    "        trn = elem['transcription']\n",
    "        sentence = elem['sentence']\n",
    "        f = f.squeeze()\n",
    "        input_length = f.shape[0]\n",
    "        input_dim = f.shape[1]\n",
    "        # print('f.shape: ' + str(f.shape))\n",
    "        feature = np.zeros((max_input_len, input_dim), dtype=np.float32)\n",
    "        feature[:f.shape[0], :f.shape[1]] = f\n",
    "        trn = np.pad(trn, (0, max_target_len - len(trn)), 'constant', constant_values=29)\n",
    "        batch[i] = (feature, trn, input_length,sentence)\n",
    "        # print('feature.shape: ' + str(feature.shape))\n",
    "        # print('trn.shape: ' + str(trn.shape))\n",
    "\n",
    "    batch.sort(key=lambda x: x[2], reverse=True)\n",
    "\n",
    "    return default_collate(batch)\n",
    "\n",
    "\n",
    "\n",
    "def collate_fn(batch):\n",
    "\n",
    "    # A data tuple has the form:\n",
    "    # waveform, sample_rate, label, speaker_id, utterance_number\n",
    "\n",
    "    tensors, targets,sentence = [], [],[]\n",
    "\n",
    "    # Gather in lists, and encode labels as indices\n",
    "    for a in batch:\n",
    "        tensors += [a['waveform']]\n",
    "        targets += [a['transcription']]\n",
    "        sentence += [a['sentence']]\n",
    "                   \n",
    "    # Group the list of tensors into a batched tensor\n",
    "    tensors = tensors\n",
    "#     targets = torch.stack(targets)\n",
    "    targets = pad_sequence(targets)\n",
    "\n",
    "    return tensors, targets,sentence\n",
    "\n",
    "\n",
    "train_loader = DataLoader(transformed_dataset, batch_size=10,collate_fn=pad_collate,\n",
    "                        shuffle=True, num_workers=0)\n",
    "\n",
    "iterator = iter(train_loader)\n",
    "x_batch,y,input_lengths,sentence = iterator.next()\n",
    "print(x_batch,y,input_lengths,sentence)"
   ]
  },
  {
   "cell_type": "code",
   "execution_count": 59,
   "id": "3d121bb1",
   "metadata": {},
   "outputs": [
    {
     "data": {
      "text/plain": [
       "tensor([397, 394, 380, 351, 315, 308, 286, 262, 250, 236])"
      ]
     },
     "execution_count": 59,
     "metadata": {},
     "output_type": "execute_result"
    }
   ],
   "source": [
    "input_lengths"
   ]
  },
  {
   "cell_type": "code",
   "execution_count": 16,
   "id": "0fcfb74b",
   "metadata": {},
   "outputs": [],
   "source": [
    "d1 = transformed_dataset[10]['waveform']"
   ]
  },
  {
   "cell_type": "code",
   "execution_count": 18,
   "id": "26c4da2b",
   "metadata": {},
   "outputs": [
    {
     "data": {
      "text/plain": [
       "torch.Size([1, 363, 80])"
      ]
     },
     "execution_count": 18,
     "metadata": {},
     "output_type": "execute_result"
    }
   ],
   "source": [
    "d1.shape"
   ]
  },
  {
   "cell_type": "code",
   "execution_count": 36,
   "id": "3e01f5f4",
   "metadata": {},
   "outputs": [],
   "source": [
    "n1 = nn.GRU(80,10)\n",
    "n2 = nn.GRU(10, 10)\n",
    "n3 = nn.GRU(10, 10)"
   ]
  },
  {
   "cell_type": "code",
   "execution_count": 37,
   "id": "26027fcd",
   "metadata": {},
   "outputs": [],
   "source": [
    "o1,o2 = n1(x_batch)\n",
    "b1,b2 = n2(o1)"
   ]
  },
  {
   "cell_type": "code",
   "execution_count": 44,
   "id": "17076086",
   "metadata": {},
   "outputs": [],
   "source": [
    "hmm = nn.GRU(80,10,)\n",
    "input_x = x_batch.size(1)\n",
    "enc_len = x_batch.size(2)\n",
    "total_length = x_batch.size(1)\n",
    "packed_input = pack_padded_sequence(x_batch, input_lengths, batch_first=True)\n",
    "hah, _= hmm(packed_input)\n",
    "output, _ = pad_packed_sequence(hah, batch_first=True, total_length=total_length)"
   ]
  },
  {
   "cell_type": "code",
   "execution_count": 84,
   "id": "e35c2f6d",
   "metadata": {},
   "outputs": [],
   "source": [
    "ys = [y[y != 29] for y in padded_input]  # parse padded ys\n",
    "# prepare input and output word sequences with sos/eos IDs\n",
    "eos = ys[0].new([27])\n",
    "sos = ys[0].new([28])\n",
    "ys_in = [y for y in ys]\n",
    "ys_out = [y for y in ys]\n",
    "# padding for ys with -1\n",
    "# pys: utt x olen\n",
    "ys_in_pad = pad_list(ys_in, 27)\n",
    "ys_out_pad = pad_list(ys_out, 29)\n",
    "assert ys_in_pad.size() == ys_out_pad.size()\n",
    "batch_size = ys_in_pad.size(0)\n",
    "output_length = ys_in_pad.size(1)"
   ]
  },
  {
   "cell_type": "code",
   "execution_count": 60,
   "id": "ffc06547",
   "metadata": {},
   "outputs": [],
   "source": [
    "class Encoder(nn.Module):\n",
    "    def __init__(self, input_size, hidden_size, num_layers, dropout=0.0, bidirectional=True):\n",
    "        super(Encoder, self).__init__()\n",
    "        self.rnn = nn.GRU(input_size, hidden_size, num_layers, batch_first=True, dropout=dropout,\n",
    "                          bidirectional=bidirectional)\n",
    "\n",
    "    def forward(self, input_x, enc_len):\n",
    "        total_length = input_x.size(1)  # get the max sequence length\n",
    "        # print('total_length: ' + str(total_length))\n",
    "        # print('input_x.size(): ' + str(input_x.size()))\n",
    "        packed_input = pack_padded_sequence(input_x, enc_len, batch_first=True)\n",
    "        # print('enc_len: ' + str(enc_len))\n",
    "        packed_output, hidden = self.rnn(packed_input)\n",
    "        output, _ = pad_packed_sequence(packed_output, batch_first=True, total_length=total_length)\n",
    "        return output, hidden\n",
    "    \n",
    "hmm = nn.GRU(80,10,)\n",
    "input_x = x_batch.size(1)\n",
    "enc_len = x_batch.size(2)\n",
    "total_length =x_batch.size(1)\n",
    "packed_input = pack_padded_sequence(x_batch, input_lengths, batch_first=True)\n",
    "hah, _= hmm(packed_input)\n",
    "output, _ = pad_packed_sequence(hah, batch_first=True, total_length=total_length)\n"
   ]
  },
  {
   "cell_type": "code",
   "execution_count": 171,
   "id": "7627766a",
   "metadata": {},
   "outputs": [],
   "source": [
    "gg, oo = encoder(x_batch,input_lengths)"
   ]
  },
  {
   "cell_type": "code",
   "execution_count": 167,
   "id": "0f7c63cf",
   "metadata": {},
   "outputs": [
    {
     "data": {
      "text/plain": [
       "torch.Size([10, 387, 60])"
      ]
     },
     "execution_count": 167,
     "metadata": {},
     "output_type": "execute_result"
    }
   ],
   "source": [
    "gg.shape"
   ]
  },
  {
   "cell_type": "code",
   "execution_count": 168,
   "id": "5766ab21",
   "metadata": {},
   "outputs": [
    {
     "data": {
      "text/plain": [
       "torch.Size([2, 10, 30])"
      ]
     },
     "execution_count": 168,
     "metadata": {},
     "output_type": "execute_result"
    }
   ],
   "source": [
    "oo.shape"
   ]
  },
  {
   "cell_type": "code",
   "execution_count": 191,
   "id": "983764f0",
   "metadata": {},
   "outputs": [],
   "source": [
    "encoder = Encoder(80, 30, 1, dropout=0.0, bidirectional=True)\n",
    "decoder = Decoder(vocab_size=29, embedding_dim=15, hidden_size=30, num_layers=1)"
   ]
  },
  {
   "cell_type": "code",
   "execution_count": 115,
   "id": "fdae678d",
   "metadata": {},
   "outputs": [
    {
     "data": {
      "text/plain": [
       "torch.Size([10, 63])"
      ]
     },
     "execution_count": 115,
     "metadata": {},
     "output_type": "execute_result"
    }
   ],
   "source": [
    "y.shape"
   ]
  },
  {
   "cell_type": "code",
   "execution_count": 192,
   "id": "f2f8de87",
   "metadata": {},
   "outputs": [],
   "source": [
    "ww, wo ,wi = decoder(y,gg,oo)"
   ]
  },
  {
   "cell_type": "code",
   "execution_count": 193,
   "id": "3c685636",
   "metadata": {},
   "outputs": [
    {
     "data": {
      "text/plain": [
       "(torch.Size([640, 29]), torch.Size([640]), torch.Size([10, 64]))"
      ]
     },
     "execution_count": 193,
     "metadata": {},
     "output_type": "execute_result"
    }
   ],
   "source": [
    "ww.shape, wo.shape,wi.shape"
   ]
  },
  {
   "cell_type": "code",
   "execution_count": 223,
   "id": "6b9acb19",
   "metadata": {},
   "outputs": [],
   "source": [
    "hmm = Fi.cross_entropy(ww, wo,\n",
    "                                  ignore_index=29,\n",
    "                                  reduction='none')"
   ]
  },
  {
   "cell_type": "code",
   "execution_count": 211,
   "id": "3d2d6170",
   "metadata": {},
   "outputs": [
    {
     "data": {
      "text/plain": [
       "tensor(1.9204, grad_fn=<MeanBackward0>)"
      ]
     },
     "execution_count": 211,
     "metadata": {},
     "output_type": "execute_result"
    }
   ],
   "source": [
    "hmm.mean()"
   ]
  },
  {
   "cell_type": "code",
   "execution_count": 221,
   "id": "577a4875",
   "metadata": {},
   "outputs": [
    {
     "data": {
      "text/plain": [
       "tensor(3.3766, grad_fn=<NllLossBackward>)"
      ]
     },
     "execution_count": 221,
     "metadata": {},
     "output_type": "execute_result"
    }
   ],
   "source": [
    "hmm"
   ]
  },
  {
   "cell_type": "code",
   "execution_count": 226,
   "id": "ff25a016",
   "metadata": {},
   "outputs": [
    {
     "data": {
      "text/plain": [
       "torch.Size([364])"
      ]
     },
     "execution_count": 226,
     "metadata": {},
     "output_type": "execute_result"
    }
   ],
   "source": [
    "hmm[hmm >0].shape"
   ]
  },
  {
   "cell_type": "code",
   "execution_count": 222,
   "id": "bbcf7c06",
   "metadata": {},
   "outputs": [
    {
     "data": {
      "text/plain": [
       "363.9755967541314"
      ]
     },
     "execution_count": 222,
     "metadata": {},
     "output_type": "execute_result"
    }
   ],
   "source": [
    "1229/3.3766"
   ]
  },
  {
   "cell_type": "code",
   "execution_count": 157,
   "id": "5d5b1e61",
   "metadata": {},
   "outputs": [],
   "source": [
    "# rnny = nn.ModuleList()\n",
    "rnny = nn.LSTMCell(15, 30,)"
   ]
  },
  {
   "cell_type": "code",
   "execution_count": 188,
   "id": "55e96746",
   "metadata": {},
   "outputs": [
    {
     "ename": "IndexError",
     "evalue": "index out of range in self",
     "output_type": "error",
     "traceback": [
      "\u001b[0;31m---------------------------------------------------------------------------\u001b[0m",
      "\u001b[0;31mIndexError\u001b[0m                                Traceback (most recent call last)",
      "\u001b[0;32m<ipython-input-188-9282dd77480b>\u001b[0m in \u001b[0;36m<module>\u001b[0;34m\u001b[0m\n\u001b[0;32m----> 1\u001b[0;31m \u001b[0mem\u001b[0m \u001b[0;34m=\u001b[0m \u001b[0mdecoder\u001b[0m\u001b[0;34m.\u001b[0m\u001b[0membedding\u001b[0m\u001b[0;34m(\u001b[0m\u001b[0my\u001b[0m\u001b[0;34m)\u001b[0m\u001b[0;34m\u001b[0m\u001b[0;34m\u001b[0m\u001b[0m\n\u001b[0m",
      "\u001b[0;32m~/opt/anaconda3/envs/tf/lib/python3.7/site-packages/torch/nn/modules/module.py\u001b[0m in \u001b[0;36m_call_impl\u001b[0;34m(self, *input, **kwargs)\u001b[0m\n\u001b[1;32m   1049\u001b[0m         if not (self._backward_hooks or self._forward_hooks or self._forward_pre_hooks or _global_backward_hooks\n\u001b[1;32m   1050\u001b[0m                 or _global_forward_hooks or _global_forward_pre_hooks):\n\u001b[0;32m-> 1051\u001b[0;31m             \u001b[0;32mreturn\u001b[0m \u001b[0mforward_call\u001b[0m\u001b[0;34m(\u001b[0m\u001b[0;34m*\u001b[0m\u001b[0minput\u001b[0m\u001b[0;34m,\u001b[0m \u001b[0;34m**\u001b[0m\u001b[0mkwargs\u001b[0m\u001b[0;34m)\u001b[0m\u001b[0;34m\u001b[0m\u001b[0;34m\u001b[0m\u001b[0m\n\u001b[0m\u001b[1;32m   1052\u001b[0m         \u001b[0;31m# Do not call functions when jit is used\u001b[0m\u001b[0;34m\u001b[0m\u001b[0;34m\u001b[0m\u001b[0;34m\u001b[0m\u001b[0m\n\u001b[1;32m   1053\u001b[0m         \u001b[0mfull_backward_hooks\u001b[0m\u001b[0;34m,\u001b[0m \u001b[0mnon_full_backward_hooks\u001b[0m \u001b[0;34m=\u001b[0m \u001b[0;34m[\u001b[0m\u001b[0;34m]\u001b[0m\u001b[0;34m,\u001b[0m \u001b[0;34m[\u001b[0m\u001b[0;34m]\u001b[0m\u001b[0;34m\u001b[0m\u001b[0;34m\u001b[0m\u001b[0m\n",
      "\u001b[0;32m~/opt/anaconda3/envs/tf/lib/python3.7/site-packages/torch/nn/modules/sparse.py\u001b[0m in \u001b[0;36mforward\u001b[0;34m(self, input)\u001b[0m\n\u001b[1;32m    158\u001b[0m         return F.embedding(\n\u001b[1;32m    159\u001b[0m             \u001b[0minput\u001b[0m\u001b[0;34m,\u001b[0m \u001b[0mself\u001b[0m\u001b[0;34m.\u001b[0m\u001b[0mweight\u001b[0m\u001b[0;34m,\u001b[0m \u001b[0mself\u001b[0m\u001b[0;34m.\u001b[0m\u001b[0mpadding_idx\u001b[0m\u001b[0;34m,\u001b[0m \u001b[0mself\u001b[0m\u001b[0;34m.\u001b[0m\u001b[0mmax_norm\u001b[0m\u001b[0;34m,\u001b[0m\u001b[0;34m\u001b[0m\u001b[0;34m\u001b[0m\u001b[0m\n\u001b[0;32m--> 160\u001b[0;31m             self.norm_type, self.scale_grad_by_freq, self.sparse)\n\u001b[0m\u001b[1;32m    161\u001b[0m \u001b[0;34m\u001b[0m\u001b[0m\n\u001b[1;32m    162\u001b[0m     \u001b[0;32mdef\u001b[0m \u001b[0mextra_repr\u001b[0m\u001b[0;34m(\u001b[0m\u001b[0mself\u001b[0m\u001b[0;34m)\u001b[0m \u001b[0;34m->\u001b[0m \u001b[0mstr\u001b[0m\u001b[0;34m:\u001b[0m\u001b[0;34m\u001b[0m\u001b[0;34m\u001b[0m\u001b[0m\n",
      "\u001b[0;32m~/opt/anaconda3/envs/tf/lib/python3.7/site-packages/torch/nn/functional.py\u001b[0m in \u001b[0;36membedding\u001b[0;34m(input, weight, padding_idx, max_norm, norm_type, scale_grad_by_freq, sparse)\u001b[0m\n\u001b[1;32m   2041\u001b[0m         \u001b[0;31m# remove once script supports set_grad_enabled\u001b[0m\u001b[0;34m\u001b[0m\u001b[0;34m\u001b[0m\u001b[0;34m\u001b[0m\u001b[0m\n\u001b[1;32m   2042\u001b[0m         \u001b[0m_no_grad_embedding_renorm_\u001b[0m\u001b[0;34m(\u001b[0m\u001b[0mweight\u001b[0m\u001b[0;34m,\u001b[0m \u001b[0minput\u001b[0m\u001b[0;34m,\u001b[0m \u001b[0mmax_norm\u001b[0m\u001b[0;34m,\u001b[0m \u001b[0mnorm_type\u001b[0m\u001b[0;34m)\u001b[0m\u001b[0;34m\u001b[0m\u001b[0;34m\u001b[0m\u001b[0m\n\u001b[0;32m-> 2043\u001b[0;31m     \u001b[0;32mreturn\u001b[0m \u001b[0mtorch\u001b[0m\u001b[0;34m.\u001b[0m\u001b[0membedding\u001b[0m\u001b[0;34m(\u001b[0m\u001b[0mweight\u001b[0m\u001b[0;34m,\u001b[0m \u001b[0minput\u001b[0m\u001b[0;34m,\u001b[0m \u001b[0mpadding_idx\u001b[0m\u001b[0;34m,\u001b[0m \u001b[0mscale_grad_by_freq\u001b[0m\u001b[0;34m,\u001b[0m \u001b[0msparse\u001b[0m\u001b[0;34m)\u001b[0m\u001b[0;34m\u001b[0m\u001b[0;34m\u001b[0m\u001b[0m\n\u001b[0m\u001b[1;32m   2044\u001b[0m \u001b[0;34m\u001b[0m\u001b[0m\n\u001b[1;32m   2045\u001b[0m \u001b[0;34m\u001b[0m\u001b[0m\n",
      "\u001b[0;31mIndexError\u001b[0m: index out of range in self"
     ]
    }
   ],
   "source": [
    "em = decoder.embedding(y)"
   ]
  },
  {
   "cell_type": "markdown",
   "id": "63c3927f",
   "metadata": {},
   "source": [
    "ln = em.size(1)"
   ]
  },
  {
   "cell_type": "code",
   "execution_count": 160,
   "id": "97577ebb",
   "metadata": {},
   "outputs": [],
   "source": [
    "wah = rnny(em[:,0,:],(oo[0],oo[1]))"
   ]
  },
  {
   "cell_type": "code",
   "execution_count": 163,
   "id": "f2a58632",
   "metadata": {},
   "outputs": [
    {
     "ename": "IndexError",
     "evalue": "tuple index out of range",
     "output_type": "error",
     "traceback": [
      "\u001b[0;31m---------------------------------------------------------------------------\u001b[0m",
      "\u001b[0;31mIndexError\u001b[0m                                Traceback (most recent call last)",
      "\u001b[0;32m<ipython-input-163-d0a8c5de1353>\u001b[0m in \u001b[0;36m<module>\u001b[0;34m\u001b[0m\n\u001b[0;32m----> 1\u001b[0;31m \u001b[0mwah\u001b[0m\u001b[0;34m[\u001b[0m\u001b[0;36m2\u001b[0m\u001b[0;34m]\u001b[0m\u001b[0;34m.\u001b[0m\u001b[0mshape\u001b[0m\u001b[0;34m\u001b[0m\u001b[0;34m\u001b[0m\u001b[0m\n\u001b[0m",
      "\u001b[0;31mIndexError\u001b[0m: tuple index out of range"
     ]
    }
   ],
   "source": [
    "wah[2].shape"
   ]
  },
  {
   "cell_type": "code",
   "execution_count": 148,
   "id": "17bce899",
   "metadata": {},
   "outputs": [
    {
     "data": {
      "text/plain": [
       "torch.Size([10, 15])"
      ]
     },
     "execution_count": 148,
     "metadata": {},
     "output_type": "execute_result"
    }
   ],
   "source": [
    "em[:,i,:].shape"
   ]
  },
  {
   "cell_type": "code",
   "execution_count": 146,
   "id": "f82a160a",
   "metadata": {},
   "outputs": [],
   "source": [
    "for i in range(em.size(1)):\n",
    "    h,c = rnny(em[:,i,:])"
   ]
  },
  {
   "cell_type": "code",
   "execution_count": 235,
   "id": "a7b50a9d",
   "metadata": {},
   "outputs": [],
   "source": [
    "class Decoder(nn.Module):\n",
    "    def __init__(self, vocab_size, embedding_dim, hidden_size, num_layers=1):\n",
    "        super(Decoder, self).__init__()\n",
    "        # Hyper parameters\n",
    "        # embedding + output\n",
    "        self.vocab_size = vocab_size\n",
    "        self.embedding_dim = embedding_dim\n",
    "        # rnn\n",
    "        self.hidden_size = hidden_size\n",
    "        self.num_layers = num_layers\n",
    "        self.encoder_hidden_size = hidden_size  # must be equal now\n",
    "        # Components\n",
    "        self.embedding = nn.Embedding(self.vocab_size, self.embedding_dim)\n",
    "        self.rnn = nn.ModuleList()\n",
    "        self.rnn += [nn.LSTMCell(self.embedding_dim, self.hidden_size)]\n",
    "        self.mlp = nn.Sequential(\n",
    "            nn.Linear(self.encoder_hidden_size,\n",
    "                      self.hidden_size),\n",
    "            nn.Tanh(),\n",
    "            nn.Linear(self.hidden_size, self.vocab_size))\n",
    "\n",
    "    def zero_state(self, encoder_padded_outputs, H=None):\n",
    "        N = encoder_padded_outputs.size(0)\n",
    "        H = self.hidden_size if H == None else H\n",
    "        return encoder_padded_outputs.new_zeros(N, H)\n",
    "    \n",
    "    def pad_list(self,xs, pad_value):\n",
    "        # From: espnet/src/nets/e2e_asr_th.py: pad_list()\n",
    "        n_batch = len(xs)\n",
    "        max_len = max(x.size(0) for x in xs)\n",
    "        pad = xs[0].new(n_batch, max_len, *xs[0].size()[1:]).fill_(pad_value)\n",
    "        for i in range(n_batch):\n",
    "            pad[i, :xs[i].size(0)] = xs[i]\n",
    "        return pad\n",
    "    \n",
    "    def get_pads(self,padded_input):\n",
    "        PAD_token = dictOfchar['PAD']\n",
    "        EOS_token = dictOfchar['EOS']\n",
    "        SOS_token = dictOfchar['SOS']\n",
    "        ys = [y[y != PAD_token] for y in padded_input]  # parse padded ys\n",
    "        # prepare input and output word sequences with sos/eos IDs\n",
    "        eos = ys[0].new([EOS_token])\n",
    "        sos = ys[0].new([SOS_token])\n",
    "        ys_in = [torch.cat([sos, y], dim=0) for y in ys]\n",
    "        ys_out = [torch.cat([y, eos], dim=0) for y in ys]\n",
    "        # padding for ys with -1\n",
    "        # pys: utt x olen\n",
    "        ys_in_pad = self.pad_list(ys_in, EOS_token)\n",
    "        ys_out_pad = self.pad_list(ys_out, PAD_token)\n",
    "        assert ys_in_pad.size() == ys_out_pad.size()\n",
    "        \n",
    "        return ys_in_pad, ys_out_pad\n",
    "\n",
    "    def forward(self, padded_input, encoder_padded_outputs,encoder_hidden):\n",
    "        \"\"\"\n",
    "        Args:\n",
    "            padded_input: N x To\n",
    "            # encoder_hidden: (num_layers * num_directions) x N x H\n",
    "            encoder_padded_outputs: N x Ti x H\n",
    "        Returns:\n",
    "        \"\"\"\n",
    "        # *********Get Input and Output\n",
    "        # from espnet/Decoder.forward()\n",
    "        \n",
    "        ys_in_pad, ys_out_pad = self.get_pads(padded_input)\n",
    "        batch_size = ys_in_pad.size(0)\n",
    "        output_length = ys_in_pad.size(1)\n",
    "             \n",
    "        # *********Init decoder rnn\n",
    "        h_list = encoder_hidden[0]\n",
    "        c_list = encoder_hidden[1]\n",
    "\n",
    "        y_all = []\n",
    "        \n",
    "\n",
    "        # **********LAS: 1. decoder rnn 2. attention 3. concate and MLP\n",
    "        embedded = self.embedding(ys_in_pad)\n",
    "        for t in range(output_length):\n",
    "            # step 1. decoder RNN: s_i = RNN(s_i−1,y_i−1,c_i−1)\n",
    "\n",
    "            rnn_input = embedded[:, t, :]\n",
    "            h_list, c_list = self.rnn[0](\n",
    "                rnn_input, (h_list, c_list))\n",
    "            rnn_output = h_list # below unsqueeze: (N x H) -> (N x 1 x H)\n",
    "            mlp_input = rnn_output\n",
    "            predicted_y_t = self.mlp(mlp_input)\n",
    "            y_all.append(predicted_y_t)\n",
    "\n",
    "        y_all = torch.stack(y_all, dim=1)  # N x To x C\n",
    "\n",
    "        # **********Cross Entropy Loss\n",
    "        # F.cross_entropy = NLL(log_softmax(input), target))\n",
    "        y_all = y_all.view(batch_size * output_length, self.vocab_size)\n",
    "#         ce_loss = F.cross_entropy(y_all, ys_out_pad.view(-1),\n",
    "#                                   ignore_index=PAD_token,\n",
    "#                                   reduction='mean')\n",
    "\n",
    "        return y_all, ys_out_pad.view(-1)\n"
   ]
  },
  {
   "cell_type": "code",
   "execution_count": 299,
   "id": "7003d9c2",
   "metadata": {},
   "outputs": [
    {
     "data": {
      "text/plain": [
       "27"
      ]
     },
     "execution_count": 299,
     "metadata": {},
     "output_type": "execute_result"
    }
   ],
   "source": [
    "EOS_token"
   ]
  },
  {
   "cell_type": "code",
   "execution_count": 247,
   "id": "c4b53798",
   "metadata": {},
   "outputs": [],
   "source": [
    "PAD_token = dictOfchar['PAD']\n",
    "EOS_token = dictOfchar['EOS']\n",
    "SOS_token = dictOfchar['SOS']\n",
    "\n",
    "\n",
    "def train(features, encoder, decoder, encoder_optimizer,\n",
    "          decoder_optimizer, criterion):\n",
    "\n",
    "    encoder_optimizer.zero_grad()\n",
    "    decoder_optimizer.zero_grad()\n",
    "    \n",
    "    input_tensor = features[0]\n",
    "    target_tensor = features[1]\n",
    "    input_length = features[2]\n",
    "    \n",
    "    batch_size = input_tensor.size(0)\n",
    "    \n",
    "    encoder_output, encoder_hidden = encoder(input_tensor,input_length)\n",
    "    pred,actual = decoder(target_tensor,encoder_output,encoder_hidden)\n",
    "    loss = criterion(pred,actual,ignore_index=PAD_token,reduction='mean')\n",
    "    \n",
    "    \n",
    "    loss.backward()\n",
    "\n",
    "    encoder_optimizer.step()\n",
    "    decoder_optimizer.step()\n",
    "\n",
    "    return loss.item()"
   ]
  },
  {
   "cell_type": "code",
   "execution_count": 227,
   "id": "79eb0847",
   "metadata": {},
   "outputs": [],
   "source": [
    "import time\n",
    "import math\n",
    "\n",
    "\n",
    "def asMinutes(s):\n",
    "    m = math.floor(s / 60)\n",
    "    s -= m * 60\n",
    "    return '%dm %ds' % (m, s)\n",
    "\n",
    "\n",
    "def timeSince(since, percent):\n",
    "    now = time.time()\n",
    "    s = now - since\n",
    "    es = s / (percent)\n",
    "    rs = es - s\n",
    "    return '%s (- %s)' % (asMinutes(s), asMinutes(rs))"
   ]
  },
  {
   "cell_type": "code",
   "execution_count": null,
   "id": "18e6fc43",
   "metadata": {},
   "outputs": [],
   "source": []
  },
  {
   "cell_type": "code",
   "execution_count": 287,
   "id": "6af292ac",
   "metadata": {},
   "outputs": [],
   "source": [
    "import matplotlib.pyplot as plt\n",
    "plt.switch_backend('agg')\n",
    "import matplotlib.ticker as ticker\n",
    "import numpy as np\n",
    "\n",
    "\n",
    "def showPlot(points):\n",
    "    plt.figure()\n",
    "    fig, ax = plt.subplots()\n",
    "    # this locator puts ticks at regular intervals\n",
    "    loc = ticker.MultipleLocator(base=0.2)\n",
    "    ax.yaxis.set_major_locator(loc)\n",
    "    plt.plot(points)\n",
    "\n",
    "\n",
    "def trainIters(encoder, decoder, n_iters, print_every=1000, plot_every=100, learning_rate=0.01):\n",
    "    start = time.time()\n",
    "    plot_losses = []\n",
    "    print_loss_total = 0  # Reset every print_every\n",
    "    plot_loss_total = 0  # Reset every plot_every\n",
    "    \n",
    "    lns = len(transformed_dataset)\n",
    "\n",
    "    encoder_optimizer = optim.SGD(encoder.parameters(), lr=learning_rate)\n",
    "    decoder_optimizer = optim.SGD(decoder.parameters(), lr=learning_rate)\n",
    "                      \n",
    "#     criterion = nn.NLLLoss()\n",
    "    criterion = Fi.cross_entropy\n",
    "    \n",
    "\n",
    "\n",
    "    for i in range(1, n_iters):\n",
    "        rand_sampler = torch.utils.data.RandomSampler(transformed_dataset, num_samples=10, replacement=True)\n",
    "        train_sampler = DataLoader(transformed_dataset, batch_size=11, sampler=rand_sampler,collate_fn=pad_collate)\n",
    "        iterator = iter(train_sampler)        \n",
    "        \n",
    "        features = iterator.next()            \n",
    "        loss = train(features, encoder,\n",
    "                     decoder, encoder_optimizer, decoder_optimizer, criterion)\n",
    "        print_loss_total += loss\n",
    "        plot_loss_total += loss\n",
    "\n",
    "        if i % print_every == 0:\n",
    "            print_loss_avg = print_loss_total / print_every\n",
    "            print_loss_total = 0\n",
    "            print('%s (%d %d%%) %.4f' % (timeSince(start, i/ n_iters),\n",
    "                                         i, i / n_iters * 100, print_loss_avg))\n",
    "\n",
    "        if i % plot_every == 0:\n",
    "            plot_loss_avg = plot_loss_total / (plot_every*1.0)\n",
    "            plot_losses.append(plot_loss_avg)\n",
    "            plot_loss_total = 0\n",
    "\n",
    "    showPlot(plot_losses)\n",
    "    \n",
    "    \n"
   ]
  },
  {
   "cell_type": "markdown",
   "id": "f291172d",
   "metadata": {},
   "source": [
    "# Train model"
   ]
  },
  {
   "cell_type": "code",
   "execution_count": 265,
   "id": "c45049a6",
   "metadata": {},
   "outputs": [],
   "source": [
    "rand_sampler = torch.utils.data.RandomSampler(transformed_dataset, num_samples=10, replacement=True)\n",
    "train_sampler = DataLoader(transformed_dataset, batch_size=10, sampler=rand_sampler,collate_fn=pad_collate)"
   ]
  },
  {
   "cell_type": "code",
   "execution_count": null,
   "id": "c1480373",
   "metadata": {},
   "outputs": [],
   "source": [
    "DataLoader(transformed_dataset, batch_size=10,collate_fn=pad_collate,\n",
    "                        shuffle=True, num_workers=0)"
   ]
  },
  {
   "cell_type": "code",
   "execution_count": 277,
   "id": "ecdb4aa9",
   "metadata": {},
   "outputs": [
    {
     "data": {
      "text/plain": [
       "<function iter>"
      ]
     },
     "execution_count": 277,
     "metadata": {},
     "output_type": "execute_result"
    }
   ],
   "source": []
  },
  {
   "cell_type": "code",
   "execution_count": 353,
   "id": "854c4039",
   "metadata": {},
   "outputs": [
    {
     "name": "stdout",
     "output_type": "stream",
     "text": [
      "6m 7s (- 55m 4s) (1000 10%) 2.3125\n",
      "12m 4s (- 48m 19s) (2000 20%) 2.3001\n",
      "62m 35s (- 146m 2s) (3000 30%) 2.2880\n",
      "68m 53s (- 103m 20s) (4000 40%) 2.2754\n",
      "75m 16s (- 75m 16s) (5000 50%) 2.2656\n",
      "81m 30s (- 54m 20s) (6000 60%) 2.2597\n",
      "87m 43s (- 37m 35s) (7000 70%) 2.2492\n",
      "93m 56s (- 23m 29s) (8000 80%) 2.2414\n",
      "100m 12s (- 11m 8s) (9000 90%) 2.2287\n"
     ]
    }
   ],
   "source": [
    "trainIters(encoder,decoder, 10000, print_every=1000, plot_every=2000,learning_rate=0.01)"
   ]
  },
  {
   "cell_type": "code",
   "execution_count": 288,
   "id": "7d9f26be",
   "metadata": {},
   "outputs": [
    {
     "name": "stdout",
     "output_type": "stream",
     "text": [
      "0m 37s (- 5m 34s) (100 10%) 3.3536\n",
      "1m 15s (- 5m 1s) (200 20%) 3.2957\n",
      "1m 52s (- 4m 21s) (300 30%) 3.2419\n",
      "2m 28s (- 3m 42s) (400 40%) 3.1915\n",
      "3m 4s (- 3m 4s) (500 50%) 3.1457\n",
      "3m 41s (- 2m 27s) (600 60%) 3.1067\n",
      "4m 19s (- 1m 51s) (700 70%) 3.0701\n",
      "4m 56s (- 1m 14s) (800 80%) 3.0445\n",
      "5m 33s (- 0m 37s) (900 90%) 3.0227\n"
     ]
    }
   ],
   "source": [
    "encoder = Encoder(80, 30, 1, dropout=0.0, bidirectional=True)\n",
    "decoder = Decoder(vocab_size=29, embedding_dim=15, hidden_size=30, num_layers=1)\n",
    "trainIters(encoder,decoder, 1000, print_every=100, plot_every=2000,learning_rate=0.1)"
   ]
  },
  {
   "cell_type": "code",
   "execution_count": 387,
   "id": "7bed33ae",
   "metadata": {},
   "outputs": [],
   "source": [
    "def evaluate(encoder, decoder, features, max_length=100):\n",
    "    with torch.no_grad():\n",
    "        input_tensor = samp[0]\n",
    "        target_tensor = samp[1]\n",
    "        input_length = samp[2]\n",
    "        decoded_words = []\n",
    "\n",
    "        encoder_output, encoder_hidden = encoder(input_tensor,input_length)\n",
    "        dec_input = torch.tensor([[SOS_token]], device=device)  # SOS\n",
    "        h_list = encoder_hidden[0] \n",
    "        c_list = encoder_hidden[1]\n",
    "\n",
    "        for c in range(max_length):\n",
    "            decoder_input = decoder.embedding(dec_input)\n",
    "#             print(decoder_input.shape)\n",
    "            rng = decoder_input.size(1)\n",
    "            for rn in range(rng):\n",
    "                h_list, c_list = decoder.rnn[0](decoder_input[:,rn,:], (h_list, c_list))\n",
    "            mlp_input = h_list\n",
    "            predicted_y_t = decoder.mlp(mlp_input)\n",
    "            local_scores = Fi.log_softmax(predicted_y_t, dim=1)\n",
    "            # topk scores\n",
    "            topv, topi  = torch.topk(local_scores,1,dim=1)\n",
    "            output_probs = torch.exp(local_scores)\n",
    "            yay = torch.distributions.categorical.Categorical(output_probs)\n",
    "            topi = yay.sample().reshape(1,1)\n",
    "            torch.cat([dec_input,topi],dim=1)\n",
    "\n",
    "            if topi.item() == EOS_token:\n",
    "                decoded_words.append('EOS')\n",
    "                break\n",
    "            else:\n",
    "                decoded_words.append(dictOfindex[topi.item()])\n",
    "            dec_input = topi\n",
    "    return decoded_words"
   ]
  },
  {
   "cell_type": "code",
   "execution_count": 369,
   "id": "c4e27c8c",
   "metadata": {},
   "outputs": [],
   "source": [
    "PATH = \"/Users/dami.osoba/work/bawk/models/dec_model_new\"\n",
    "torch.save(decoder, PATH)"
   ]
  },
  {
   "cell_type": "code",
   "execution_count": 370,
   "id": "35396d01",
   "metadata": {},
   "outputs": [],
   "source": [
    "PATH = \"/Users/dami.osoba/work/bawk/models/enc_model_new\"\n",
    "torch.save(encoder, PATH)"
   ]
  },
  {
   "cell_type": "code",
   "execution_count": 50,
   "id": "6d840b9e",
   "metadata": {},
   "outputs": [
    {
     "data": {
      "text/plain": [
       "AttnDecoderRNN(\n",
       "  (embedding): Embedding(29, 20)\n",
       "  (attn): Linear(in_features=40, out_features=401, bias=True)\n",
       "  (attn_combine): Linear(in_features=40, out_features=20, bias=True)\n",
       "  (dropout): Dropout(p=0.1, inplace=False)\n",
       "  (gru): GRU(20, 20)\n",
       "  (out): Linear(in_features=20, out_features=29, bias=True)\n",
       ")"
      ]
     },
     "execution_count": 50,
     "metadata": {},
     "output_type": "execute_result"
    }
   ],
   "source": [
    "enmodel = torch.load(\"/Users/dami.osoba/work/bawk/models/enc_model\")\n",
    "enmodel.eval()\n",
    "\n",
    "decmodel = torch.load(\"/Users/dami.osoba/work/bawk/models/dec_model\")\n",
    "decmodel.eval()"
   ]
  },
  {
   "cell_type": "code",
   "execution_count": 355,
   "id": "9624dc75",
   "metadata": {},
   "outputs": [],
   "source": [
    "samp_1 = DataLoader(transformed_dataset, batch_size=1,collate_fn=pad_collate,\n",
    "                        shuffle=True, num_workers=0)\n",
    "iterator = iter(samp_1) \n",
    "samp = iterator.next()\n",
    "def evaluateRandomly(encoder, decoder, n=10):\n",
    "    for i in range(n):\n",
    "        iterator = iter(samp_1) \n",
    "        samp = iterator.next()\n",
    "        actual = samp[3]\n",
    "        output_words = evaluate(encoder, decoder, samp, max_length=100)\n",
    "        output_sentence = ''.join(output_words)\n",
    "        print(actual, '<', output_sentence)\n",
    "        print('')"
   ]
  },
  {
   "cell_type": "code",
   "execution_count": 350,
   "id": "a34f7fb2",
   "metadata": {},
   "outputs": [
    {
     "data": {
      "text/plain": [
       "('leko resigned when checkmate was threatened',)"
      ]
     },
     "execution_count": 350,
     "metadata": {},
     "output_type": "execute_result"
    }
   ],
   "source": [
    "samp[3]"
   ]
  },
  {
   "cell_type": "code",
   "execution_count": 388,
   "id": "e1af3bbb",
   "metadata": {},
   "outputs": [
    {
     "name": "stdout",
     "output_type": "stream",
     "text": [
      "('how did he look',) < lakkEOS\n",
      "\n",
      "('a dish cloth absorbs liquids well',) < nim bfef diss eld whing ase the yeteve lispor arer onler i bey im weroul lorwEOS\n",
      "\n"
     ]
    }
   ],
   "source": [
    "evaluateRandomly(encoder, decoder, n=2)"
   ]
  },
  {
   "cell_type": "code",
   "execution_count": 79,
   "id": "a120702d",
   "metadata": {},
   "outputs": [
    {
     "data": {
      "text/plain": [
       "'that might be all right.'"
      ]
     },
     "execution_count": 79,
     "metadata": {},
     "output_type": "execute_result"
    }
   ],
   "source": [
    "train_text[23]"
   ]
  },
  {
   "cell_type": "code",
   "execution_count": 77,
   "id": "63b68607",
   "metadata": {},
   "outputs": [
    {
     "name": "stdout",
     "output_type": "stream",
     "text": [
      "that might be all right < SOSthe dige tone<EOS>\n",
      "\n"
     ]
    }
   ],
   "source": [
    "predict(train_path[23],train_text[23],enmodel,decmodel)"
   ]
  },
  {
   "cell_type": "code",
   "execution_count": 76,
   "id": "ba5932a2",
   "metadata": {},
   "outputs": [],
   "source": [
    "def predict(wav_path,transcription,encoder,decoder):\n",
    "    # Use the model to predict the label of the waveform\n",
    "    waveform, _ = torchaudio.load(wav_path)\n",
    "    sentence = transcription.encode(encoding=\"ascii\",errors=\"ignore\").decode().translate(table_trans)\n",
    "    chars =[b for a in sentence for b in a]\n",
    "    coded = [28]+[char_dict.index(a) for a in chars]+[27]\n",
    "    sample['waveform'] =waveform\n",
    "    sample['transcription'] = coded\n",
    "    sample['sentence'] = sentence\n",
    "    transformer = MelSpec()\n",
    "    mels =transformer(sample)\n",
    "    ex =mels['waveform']\n",
    "    \n",
    "    output_words, attentions,_ = evaluate(encoder, decoder, ex)\n",
    "    output_sentence = ''.join(output_words)\n",
    "    return output_sentence\n",
    "    "
   ]
  },
  {
   "cell_type": "code",
   "execution_count": 67,
   "id": "2921f3e2",
   "metadata": {},
   "outputs": [],
   "source": [
    "def evaluate(encoder, decoder, tens, max_length=MAX_LENGTH):\n",
    "    with torch.no_grad():\n",
    "        input_tensor = tens\n",
    "        input_length = input_tensor.size(2)\n",
    "        encoder_hidden = encoder.initHidden()\n",
    "\n",
    "        encoder_outputs = torch.zeros(max_length, encoder.hidden_size, device=device)\n",
    "\n",
    "        encoder_output, encoder_hidden = encoder(input_tensor.reshape(1,1,80*401), encoder_hidden,MAX_LENGTH)\n",
    "\n",
    "\n",
    "        decoder_input = torch.tensor([[SOS_token]], device=device)  # SOS\n",
    "\n",
    "        decoder_hidden = encoder_hidden\n",
    "        decoder_output = encoder_hidden\n",
    "\n",
    "        decoded_words = []\n",
    "        decoder_attentions = torch.zeros(max_length, max_length)\n",
    "\n",
    "        for di in range(max_length):\n",
    "            decoder_output, decoder_hidden, decoder_attention,decoder_probs = decoder(\n",
    "                decoder_input, decoder_hidden, encoder_outputs)\n",
    "            decoder_attentions[di] = decoder_attention.data\n",
    "            topv, topi = decoder_output.data.topk(1)\n",
    "            yay = torch.distributions.categorical.Categorical(decoder_probs)\n",
    "            topi = yay.sample()\n",
    "            if topi.item() == EOS_token:\n",
    "                decoded_words.append('<EOS>')\n",
    "                break\n",
    "            else:\n",
    "                decoded_words.append(dictOfindex[topi.item()])\n",
    "\n",
    "            decoder_input = topi.squeeze().detach()\n",
    "\n",
    "        return decoded_words, decoder_attentions[:di + 1],decoder_output"
   ]
  },
  {
   "cell_type": "code",
   "execution_count": 34,
   "id": "e563ee97",
   "metadata": {},
   "outputs": [],
   "source": [
    "def evaluateRandomly(encoder, decoder, n=10):\n",
    "    for i in range(n):\n",
    "        choice = np.random.randint(200)\n",
    "        print(choice)\n",
    "        actual = transformed_dataset[choice]['sentence']\n",
    "        ex = transformed_dataset[choice]['waveform']\n",
    "        output_words, attentions,_ = evaluate(encoder, decoder, ex)\n",
    "        output_sentence = ''.join(output_words)\n",
    "        print(actual, '<', output_sentence)\n",
    "        print('')"
   ]
  },
  {
   "cell_type": "markdown",
   "id": "8c23854a",
   "metadata": {},
   "source": [
    "# Really bad model"
   ]
  },
  {
   "cell_type": "code",
   "execution_count": 39,
   "id": "9862442e",
   "metadata": {},
   "outputs": [
    {
     "name": "stdout",
     "output_type": "stream",
     "text": [
      "168\n",
      "you said it to me too < SOSthet hy one ill ster a troulenpf<EOS>\n",
      "\n",
      "183\n",
      "now look what youve done < SOScoof honing ipler<EOS>\n",
      "\n",
      "13\n",
      "two < SOSyo lrlieb cowiovere zoon<EOS>\n",
      "\n",
      "62\n",
      "he disappeared into the tent < SOShegiver a of a the marze her erpeesen up eaniap browndoyrewid for adyorcrawntent witt dearntnged on u<EOS>\n",
      "\n",
      "166\n",
      "ill talk to you tonight < SOSyou poet fee hy odous courldengtas i sotellndingty on feny ontouenilhan<EOS>\n",
      "\n",
      "27\n",
      "how did it happen < SOSthee loong uperee right spigel ven<EOS>\n",
      "\n",
      "157\n",
      "richard has gone camping by himself < SOShe it fakrieve auntpy a seaits salingedirs t neees feccid<EOS>\n",
      "\n",
      "170\n",
      "what shall we do now < SOSwhot mir they inrey<EOS>\n",
      "\n",
      "152\n",
      "good weekend is edited by amelia lester < SOSjex do ge goes lhth<EOS>\n",
      "\n",
      "11\n",
      "say what you have got to say < SOSser<EOS>\n",
      "\n"
     ]
    }
   ],
   "source": [
    "evaluateRandomly(encoder1, attn_decoder1)\n"
   ]
  },
  {
   "cell_type": "code",
   "execution_count": null,
   "id": "0199baf1",
   "metadata": {},
   "outputs": [],
   "source": []
  },
  {
   "cell_type": "code",
   "execution_count": null,
   "id": "91f8daa0",
   "metadata": {},
   "outputs": [],
   "source": []
  }
 ],
 "metadata": {
  "kernelspec": {
   "display_name": "Python 3",
   "language": "python",
   "name": "python3"
  },
  "language_info": {
   "codemirror_mode": {
    "name": "ipython",
    "version": 3
   },
   "file_extension": ".py",
   "mimetype": "text/x-python",
   "name": "python",
   "nbconvert_exporter": "python",
   "pygments_lexer": "ipython3",
   "version": "3.7.10"
  }
 },
 "nbformat": 4,
 "nbformat_minor": 5
}
