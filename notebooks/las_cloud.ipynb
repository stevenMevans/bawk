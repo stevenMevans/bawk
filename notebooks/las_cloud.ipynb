{
 "cells": [
  {
   "cell_type": "code",
   "execution_count": 1,
   "id": "46ea1f56",
   "metadata": {},
   "outputs": [],
   "source": [
    "import nemo"
   ]
  },
  {
   "cell_type": "code",
   "execution_count": 1,
   "id": "8a9d61bd",
   "metadata": {},
   "outputs": [
    {
     "name": "stdout",
     "output_type": "stream",
     "text": [
      "1.5.1\n",
      "0.5.0a0+738ccba\n"
     ]
    },
    {
     "name": "stderr",
     "output_type": "stream",
     "text": [
      "################################################################################\n",
      "### WARNING, path does not exist: KALDI_ROOT=/mnt/matylda5/iveselyk/Tools/kaldi-trunk\n",
      "###          (please add 'export KALDI_ROOT=<your_path>' in your $HOME/.profile)\n",
      "###          (or run as: KALDI_ROOT=<your_path> python <your_script>.py)\n",
      "################################################################################\n",
      "\n"
     ]
    }
   ],
   "source": [
    "from __future__ import print_function, division,unicode_literals\n",
    "import os\n",
    "import pandas as pd\n",
    "# from skimage import io, transform\n",
    "import numpy as np\n",
    "import matplotlib.pyplot as plt\n",
    "import librosa\n",
    "\n",
    "from io import open\n",
    "import unicodedata\n",
    "import string\n",
    "import re\n",
    "import random\n",
    "\n",
    "import tqdm\n",
    "import json\n",
    "\n",
    "import torch\n",
    "from torch.utils.data import Dataset, DataLoader\n",
    "from torchvision import transforms, utils\n",
    "import torch.nn as nn\n",
    "from torch import optim\n",
    "from torch.nn.utils.rnn import pack_padded_sequence, pad_packed_sequence\n",
    "from torch.utils.data.dataloader import default_collate\n",
    "\n",
    "\n",
    "import torch.nn.functional as Fi\n",
    "\n",
    "\n",
    "import torchaudio\n",
    "import torchaudio.functional as F\n",
    "import torchaudio.transforms as T\n",
    "\n",
    "print(torch.__version__)\n",
    "print(torchaudio.__version__)\n",
    "\n",
    "\n",
    "import string\n",
    "\n",
    "device = torch.device(\"cuda\" if torch.cuda.is_available() else \"cpu\")"
   ]
  },
  {
   "cell_type": "code",
   "execution_count": 2,
   "id": "2119bd40",
   "metadata": {},
   "outputs": [
    {
     "name": "stderr",
     "output_type": "stream",
     "text": [
      "Reading manifest data: 1224863it [00:04, 280296.78it/s]\n"
     ]
    }
   ],
   "source": [
    "table_trans = str.maketrans(dict.fromkeys(string.punctuation))  # OR {key: None for key in string.punctuation}\n",
    "max_duration =8\n",
    "\n",
    "\n",
    "# path =\"/Users/dami.osoba/work/bawk/small_dataset/small/CV_unpacked/cv-corpus-6.1-2020-12-11/en/validated.tsv\"\n",
    "# path = \"../../commonvoice_validated_manifest.json\"\n",
    "# meta = pd.read_csv(path,sep=\"\\t\")\n",
    "# meta_path = meta.set_index('path')\n",
    "\n",
    "def read_manifest(path):\n",
    "    manifest = []\n",
    "    with open(path, 'r') as f:\n",
    "        for line in tqdm.tqdm(f, desc=\"Reading manifest data\"):\n",
    "            line = line.replace(\"\\n\", \"\")\n",
    "            data = json.loads(line)\n",
    "            manifest.append(data)\n",
    "    return manifest\n",
    "# train_manifest_path = '/Users/dami.osoba/work/bawk/src/data/commonvoice_train_manifest.json'\n",
    "train_manifest_path = \"../../commonvoice_validated_manifest.json\"\n",
    "train_manifest_data = read_manifest(train_manifest_path)\n",
    "# keep audio < 4s\n",
    "current = os.listdir('../../wav_clips/')\n",
    "train_text = [data['text'] for data in train_manifest_data if data['duration']<=8]\n",
    "\n",
    "train_path = [(data['audio_filepath'].replace('validated','wav_clips'), data['text']) for data in train_manifest_data if data['duration'] <= max_duration]\n",
    "\n",
    "train_path_pd = pd.DataFrame(train_path, columns=['train_path','sentence'])\n",
    "\n",
    "# remove unicode\n",
    "sentences = [c.encode(encoding=\"ascii\",errors=\"ignore\").decode().translate(table_trans) for c in train_text]\n",
    "char_dict = sorted(list(set([b for a in sentences for b in a]))) +['EOS','SOS','PAD']\n",
    "char_index = {a:char_dict.index(a) for a in char_dict}\n",
    "dictOfindex = {char_dict.index(a):a for a in char_dict}\n",
    "dictOfindex = { i : char_dict[i] for i in range(0, len(char_dict) ) }\n",
    "dictOfchar = { char_dict[i]:i for i in range(0, len(char_dict) ) }\n",
    "# char_index['EOS'] = len(char_dict)\n",
    "# char_index['SOS'] = len(char_dict)+1\n",
    "# char_index['PAD'] = len(char_dict)+2"
   ]
  },
  {
   "cell_type": "code",
   "execution_count": 4,
   "id": "8cc9e0d0",
   "metadata": {},
   "outputs": [
    {
     "data": {
      "text/plain": [
       "1151580"
      ]
     },
     "execution_count": 4,
     "metadata": {},
     "output_type": "execute_result"
    }
   ],
   "source": [
    "dev"
   ]
  },
  {
   "cell_type": "markdown",
   "id": "d33f9426",
   "metadata": {},
   "source": [
    "# Create voice dataset"
   ]
  },
  {
   "cell_type": "code",
   "execution_count": 3,
   "id": "4a735473",
   "metadata": {},
   "outputs": [],
   "source": [
    "class VoiceDataset(Dataset):\n",
    "    def __init__(self, transform=None):\n",
    "        \"\"\"\n",
    "        Args:\n",
    "            csv_file (string): Path to the csv file with annotations.\n",
    "            root_dir (string): Directory with all the images.\n",
    "            transform (callable, optional): Optional transform to be applied\n",
    "                on a sample.\n",
    "        \"\"\"\n",
    "#         self.landmarks_frame = pd.read_csv(csv_file)\n",
    "#         self.root_dir = root_dir\n",
    "        self.transform = transform\n",
    "        self.path_frame = train_path_pd\n",
    "\n",
    "    def __len__(self):\n",
    "        return len(self.path_frame)\n",
    "\n",
    "    \n",
    "    def __getitem__(self, idx):\n",
    "        if torch.is_tensor(idx):\n",
    "            idx = idx.tolist()\n",
    "\n",
    "        waveform, _ = librosa.load(self.path_frame.loc[idx][0],sr=16000)\n",
    "#         waveform, _ = torchaudio.load(self.path_frame.loc[idx][0],)\n",
    "        # transcription for audio\n",
    "        trans = self.path_frame.loc[idx][1]\n",
    "        # encode to ascii\n",
    "        trans = trans.encode(encoding=\"ascii\",errors=\"ignore\").decode().translate(table_trans).lower()\n",
    "        chars =[b for a in trans for b in a]\n",
    "#         coded = [28]+[char_dict.index(a) for a in chars]+[27]\n",
    "        coded = [char_dict.index(a) for a in chars]\n",
    "\n",
    "\n",
    "        sample = {'waveform': waveform, 'transcription': coded,'sentence':trans}\n",
    "\n",
    "        if self.transform:\n",
    "            sample = self.transform(sample)        \n",
    "\n",
    "        return sample\n"
   ]
  },
  {
   "cell_type": "markdown",
   "id": "1098d3b1",
   "metadata": {},
   "source": [
    "# Create FFT transform"
   ]
  },
  {
   "cell_type": "code",
   "execution_count": 4,
   "id": "3b88ce88",
   "metadata": {},
   "outputs": [
    {
     "name": "stdout",
     "output_type": "stream",
     "text": [
      "0 torch.Size([658, 80]) six\n",
      "1 torch.Size([418, 80]) alls well that ends well\n",
      "2 torch.Size([598, 80]) do you mean it\n",
      "3 torch.Size([646, 80]) the new patch is less invasive than the old one but still causes regressions\n"
     ]
    }
   ],
   "source": [
    "window_size = 25/1000\n",
    "stride = 10/1000\n",
    "sample_rate = 16000\n",
    "n_fft =int(window_size *sample_rate)\n",
    "win_length = None\n",
    "hop_length = int(sample_rate*stride)\n",
    "n_mels = 80\n",
    "max_time = 8\n",
    "\n",
    "class MelSpec(object):\n",
    "    \"\"\"Rescale the image in a sample to a given size.\n",
    "\n",
    "    Args:\n",
    "        output_size (tuple or int): Desired output size. If tuple, output is\n",
    "            matched to output_size. If int, smaller of image edges is matched\n",
    "            to output_size keeping aspect ratio the same.\n",
    "    \"\"\"\n",
    "    def __init__(self):        \n",
    "        self.window_size = 25/1000\n",
    "        self.stride = 10/1000\n",
    "        self.sample_rate = 16000\n",
    "        self.n_fft =int(self.window_size *self.sample_rate)\n",
    "        self.win_length = None\n",
    "        self.hop_length = int(self.sample_rate*self.stride)\n",
    "        self.n_mels = 80\n",
    "        self.max_time = 8\n",
    "\n",
    "    def mel_spectrogram(self,a):    \n",
    "        mel_spec = librosa.feature.melspectrogram(a,\n",
    "                                                  sr=self.sample_rate,\n",
    "                                                  n_fft = self.n_fft,\n",
    "                                                  hop_length =self.hop_length,\n",
    "                                                  center =True,\n",
    "                                                  n_mels=self.n_mels,\n",
    "                                                  htk=True,\n",
    "                                                  norm='slaney'                                            \n",
    "                                                 )\n",
    "        return mel_spec\n",
    "        \n",
    "\n",
    "    def __call__(self, sample):\n",
    "        waveform, transcription,sentence = sample['waveform'], sample['transcription'],sample['sentence']\n",
    "        #zero pad waveform\n",
    "#         zero_pad = torch.zeros(1, sample_rate*max_time- waveform.size()[1])\n",
    "#         padding = torch.cat([waveform,zero_pad],1)\n",
    "        # get spectrogram\n",
    "        self.hmm = waveform.squeeze()\n",
    "        wave_spec = self.mel_spectrogram(self.hmm)\n",
    "        wave_spec = wave_spec.swapaxes(0,1)\n",
    "        wave_spec = torch.tensor(wave_spec,device=device)\n",
    "        #change transcription list to tensor\n",
    "        transcription = torch.tensor(transcription, dtype=torch.long, device=device)\n",
    "\n",
    "        return {'waveform': wave_spec, 'transcription': transcription, 'sentence':sentence}\n",
    "    \n",
    "transformed_dataset = VoiceDataset(transform = MelSpec())\n",
    "\n",
    "for i in range(len(transformed_dataset)):\n",
    "    sample = transformed_dataset[i]\n",
    "\n",
    "    print(i, sample['waveform'].size(), sample['sentence'])\n",
    "\n",
    "    if i == 3:\n",
    "        break"
   ]
  },
  {
   "cell_type": "code",
   "execution_count": 34,
   "id": "f211b1ff",
   "metadata": {},
   "outputs": [],
   "source": []
  },
  {
   "cell_type": "code",
   "execution_count": 5,
   "id": "2d858ee4",
   "metadata": {},
   "outputs": [
    {
     "name": "stdout",
     "output_type": "stream",
     "text": [
      "tensor([[[0.0000e+00, 0.0000e+00, 0.0000e+00,  ..., 0.0000e+00,\n",
      "          0.0000e+00, 0.0000e+00],\n",
      "         [1.4847e-16, 5.2102e-16, 3.3847e-16,  ..., 1.8097e-17,\n",
      "          1.7571e-17, 1.7281e-17],\n",
      "         [4.5527e-08, 1.5976e-07, 9.2791e-08,  ..., 1.3166e-09,\n",
      "          1.0629e-09, 2.0471e-10],\n",
      "         ...,\n",
      "         [2.0183e-07, 7.0827e-07, 4.4801e-07,  ..., 3.4974e-09,\n",
      "          8.2973e-10, 3.0359e-10],\n",
      "         [5.6650e-06, 1.9879e-05, 1.6335e-05,  ..., 5.4585e-10,\n",
      "          2.1047e-10, 4.9710e-10],\n",
      "         [9.3017e-07, 3.2641e-06, 1.8571e-06,  ..., 4.9481e-10,\n",
      "          2.6179e-10, 1.3402e-10]],\n",
      "\n",
      "        [[0.0000e+00, 0.0000e+00, 0.0000e+00,  ..., 0.0000e+00,\n",
      "          0.0000e+00, 0.0000e+00],\n",
      "         [0.0000e+00, 0.0000e+00, 0.0000e+00,  ..., 0.0000e+00,\n",
      "          0.0000e+00, 0.0000e+00],\n",
      "         [0.0000e+00, 0.0000e+00, 0.0000e+00,  ..., 0.0000e+00,\n",
      "          0.0000e+00, 0.0000e+00],\n",
      "         ...,\n",
      "         [0.0000e+00, 0.0000e+00, 0.0000e+00,  ..., 0.0000e+00,\n",
      "          0.0000e+00, 0.0000e+00],\n",
      "         [0.0000e+00, 0.0000e+00, 0.0000e+00,  ..., 0.0000e+00,\n",
      "          0.0000e+00, 0.0000e+00],\n",
      "         [0.0000e+00, 0.0000e+00, 0.0000e+00,  ..., 0.0000e+00,\n",
      "          0.0000e+00, 0.0000e+00]],\n",
      "\n",
      "        [[0.0000e+00, 0.0000e+00, 0.0000e+00,  ..., 0.0000e+00,\n",
      "          0.0000e+00, 0.0000e+00],\n",
      "         [0.0000e+00, 0.0000e+00, 0.0000e+00,  ..., 0.0000e+00,\n",
      "          0.0000e+00, 0.0000e+00],\n",
      "         [0.0000e+00, 0.0000e+00, 0.0000e+00,  ..., 0.0000e+00,\n",
      "          0.0000e+00, 0.0000e+00],\n",
      "         ...,\n",
      "         [0.0000e+00, 0.0000e+00, 0.0000e+00,  ..., 0.0000e+00,\n",
      "          0.0000e+00, 0.0000e+00],\n",
      "         [0.0000e+00, 0.0000e+00, 0.0000e+00,  ..., 0.0000e+00,\n",
      "          0.0000e+00, 0.0000e+00],\n",
      "         [0.0000e+00, 0.0000e+00, 0.0000e+00,  ..., 0.0000e+00,\n",
      "          0.0000e+00, 0.0000e+00]],\n",
      "\n",
      "        ...,\n",
      "\n",
      "        [[0.0000e+00, 0.0000e+00, 0.0000e+00,  ..., 0.0000e+00,\n",
      "          0.0000e+00, 0.0000e+00],\n",
      "         [0.0000e+00, 0.0000e+00, 0.0000e+00,  ..., 0.0000e+00,\n",
      "          0.0000e+00, 0.0000e+00],\n",
      "         [3.5442e-08, 1.2437e-07, 6.5791e-08,  ..., 1.2606e-09,\n",
      "          1.8202e-10, 3.6742e-11],\n",
      "         ...,\n",
      "         [0.0000e+00, 0.0000e+00, 0.0000e+00,  ..., 0.0000e+00,\n",
      "          0.0000e+00, 0.0000e+00],\n",
      "         [0.0000e+00, 0.0000e+00, 0.0000e+00,  ..., 0.0000e+00,\n",
      "          0.0000e+00, 0.0000e+00],\n",
      "         [0.0000e+00, 0.0000e+00, 0.0000e+00,  ..., 0.0000e+00,\n",
      "          0.0000e+00, 0.0000e+00]],\n",
      "\n",
      "        [[0.0000e+00, 0.0000e+00, 0.0000e+00,  ..., 0.0000e+00,\n",
      "          0.0000e+00, 0.0000e+00],\n",
      "         [0.0000e+00, 0.0000e+00, 0.0000e+00,  ..., 0.0000e+00,\n",
      "          0.0000e+00, 0.0000e+00],\n",
      "         [0.0000e+00, 0.0000e+00, 0.0000e+00,  ..., 0.0000e+00,\n",
      "          0.0000e+00, 0.0000e+00],\n",
      "         ...,\n",
      "         [0.0000e+00, 0.0000e+00, 0.0000e+00,  ..., 0.0000e+00,\n",
      "          0.0000e+00, 0.0000e+00],\n",
      "         [0.0000e+00, 0.0000e+00, 0.0000e+00,  ..., 0.0000e+00,\n",
      "          0.0000e+00, 0.0000e+00],\n",
      "         [0.0000e+00, 0.0000e+00, 0.0000e+00,  ..., 0.0000e+00,\n",
      "          0.0000e+00, 0.0000e+00]],\n",
      "\n",
      "        [[0.0000e+00, 0.0000e+00, 0.0000e+00,  ..., 0.0000e+00,\n",
      "          0.0000e+00, 0.0000e+00],\n",
      "         [0.0000e+00, 0.0000e+00, 0.0000e+00,  ..., 0.0000e+00,\n",
      "          0.0000e+00, 0.0000e+00],\n",
      "         [0.0000e+00, 0.0000e+00, 0.0000e+00,  ..., 0.0000e+00,\n",
      "          0.0000e+00, 0.0000e+00],\n",
      "         ...,\n",
      "         [0.0000e+00, 0.0000e+00, 0.0000e+00,  ..., 0.0000e+00,\n",
      "          0.0000e+00, 0.0000e+00],\n",
      "         [0.0000e+00, 0.0000e+00, 0.0000e+00,  ..., 0.0000e+00,\n",
      "          0.0000e+00, 0.0000e+00],\n",
      "         [0.0000e+00, 0.0000e+00, 0.0000e+00,  ..., 0.0000e+00,\n",
      "          0.0000e+00, 0.0000e+00]]]) tensor([[ 1,  4,  1, 14,  7, 13,  5,  0, 15,  3,  3, 21, 16,  1, 20,  9, 15, 14,\n",
      "         19,  0,  1, 18,  5,  0,  6,  9, 19,  8,  9, 14,  7,  0, 20, 18,  1,  4,\n",
      "          9, 14,  7,  0,  1, 14,  4,  0,  6,  1, 18, 13,  9, 14,  7,  0, 23,  8,\n",
      "          9,  3,  8,  0,  9, 19,  0,  2,  1, 19,  5,  4,  0, 15, 14,  0, 20,  8,\n",
      "          5,  0,  8, 21, 26,  1,  0, 19, 25, 19, 20,  5, 13],\n",
      "        [ 9, 20,  0,  9, 19,  0, 15, 18,  7,  1, 14,  9, 19,  5,  4,  0,  2, 25,\n",
      "          0, 20,  8,  5,  0,  9, 14, 20,  5, 18, 14,  1, 20,  9, 15, 14,  1, 12,\n",
      "          0, 15, 18, 14,  9, 20,  8, 15, 12, 15,  7,  9, 19, 20, 19,  0, 21, 14,\n",
      "          9, 15, 14, 29, 29, 29, 29, 29, 29, 29, 29, 29, 29, 29, 29, 29, 29, 29,\n",
      "         29, 29, 29, 29, 29, 29, 29, 29, 29, 29, 29, 29, 29],\n",
      "        [ 4,  1, 14,  2, 15, 13,  0, 19, 16,  5, 14, 20,  0, 14,  9, 14,  5,  0,\n",
      "         25,  5,  1, 18, 19,  0, 15, 14,  0, 20,  8,  5,  0,  6,  1, 18,  7, 15,\n",
      "          0,  8,  9, 19, 20, 15, 18,  9,  3,  0, 16, 18,  5, 19,  5, 18, 22,  1,\n",
      "         20,  9, 15, 14,  0,  3, 15, 13, 13,  9, 19, 19,  9, 15, 14, 29, 29, 29,\n",
      "         29, 29, 29, 29, 29, 29, 29, 29, 29, 29, 29, 29, 29],\n",
      "        [ 8,  5,  0, 19, 20, 21,  3, 11,  0,  8,  9, 19,  0,  8,  1, 14,  4,  0,\n",
      "          9, 14, 20, 15,  0, 20,  8,  5,  0, 16, 15, 21,  3,  8,  0,  1, 14,  4,\n",
      "          0,  6,  5, 12, 20,  0,  1, 18, 15, 21, 14,  4,  0,  6, 15, 18,  0, 15,\n",
      "         14,  5,  0, 15,  6,  0, 20,  8,  5,  0, 19, 20, 15, 14,  5, 19, 29, 29,\n",
      "         29, 29, 29, 29, 29, 29, 29, 29, 29, 29, 29, 29, 29],\n",
      "        [ 1,  0, 19, 21,  2, 20,  5, 24, 20,  0, 15,  6,  0,  4, 21,  3,  8,  1,\n",
      "         13, 16, 19,  0, 16,  9,  5,  3,  5,  0,  9, 19,  0, 13,  1, 19,  3, 21,\n",
      "         12,  9, 14,  5,  0,  1, 14,  4,  0,  6,  5, 13,  9, 14,  9, 14,  5,  0,\n",
      "         18,  5, 12,  1, 20,  9, 15, 14, 19,  8,  9, 16, 19, 29, 29, 29, 29, 29,\n",
      "         29, 29, 29, 29, 29, 29, 29, 29, 29, 29, 29, 29, 29],\n",
      "        [19, 20, 21,  4,  5, 14, 20, 19,  0, 23,  5, 18,  5,  0, 13,  5, 19, 19,\n",
      "          9, 14,  7,  0,  1, 18, 15, 21, 14,  4,  0,  9, 14,  0,  3, 12,  1, 19,\n",
      "         19,  0,  1, 14,  4,  0,  4, 18, 15, 16, 16,  5,  4,  0,  1,  0,  2,  5,\n",
      "          1, 11,  5, 18,  0, 15, 14,  0, 20,  8,  5,  0,  6, 12, 15, 15, 18, 29,\n",
      "         29, 29, 29, 29, 29, 29, 29, 29, 29, 29, 29, 29, 29],\n",
      "        [20,  8,  9, 19,  0,  1,  4, 22,  9, 19, 15, 18, 25,  0, 23,  1, 19,  0,\n",
      "          4,  9, 19,  3, 15, 14, 20,  9, 14, 21,  5,  4,  0,  6, 15, 12, 12, 15,\n",
      "         23,  9, 14,  7,  0, 20,  8,  5,  0, 19, 20, 15, 18, 13, 19,  0, 16,  1,\n",
      "         19, 19,  1,  7,  5,  0, 12,  1, 20,  5, 18,  0, 20,  8,  1, 20,  0,  4,\n",
      "          1, 25, 29, 29, 29, 29, 29, 29, 29, 29, 29, 29, 29],\n",
      "        [ 2, 21, 20,  0, 15, 14,  5,  0, 15,  6,  0, 20,  8,  5, 13,  0, 19,  5,\n",
      "          9, 26,  5,  4,  0, 20,  8,  5,  0,  2, 15, 25,  0,  1, 14,  4,  0, 25,\n",
      "          1, 14, 11,  5,  4,  0,  8,  9, 13,  0,  2,  1,  3, 11,  0, 15, 21, 20,\n",
      "          0, 15,  6,  0, 20,  8,  5,  0,  8, 15, 12,  5, 29, 29, 29, 29, 29, 29,\n",
      "         29, 29, 29, 29, 29, 29, 29, 29, 29, 29, 29, 29, 29],\n",
      "        [ 5, 22,  5, 14, 20, 21,  1, 12, 12, 25,  0, 20,  8,  5, 25,  0,  3,  1,\n",
      "         13,  5,  0, 20, 15,  0, 20,  8,  5,  9, 18,  0, 19,  5, 14, 19,  5, 19,\n",
      "          0,  1, 14,  4,  0, 18,  5, 20, 21, 18, 14,  5,  4,  0,  8,  9, 13,  0,\n",
      "         20, 15,  0,  8,  9, 19,  0,  8, 15, 19, 20, 19, 29, 29, 29, 29, 29, 29,\n",
      "         29, 29, 29, 29, 29, 29, 29, 29, 29, 29, 29, 29, 29],\n",
      "        [ 9,  0,  4, 15, 14, 20,  0, 23,  1, 14, 20,  0, 20, 15,  0, 20,  1, 11,\n",
      "          5,  0,  1, 14, 25,  0,  3,  8,  1, 14,  3,  5, 19, 29, 29, 29, 29, 29,\n",
      "         29, 29, 29, 29, 29, 29, 29, 29, 29, 29, 29, 29, 29, 29, 29, 29, 29, 29,\n",
      "         29, 29, 29, 29, 29, 29, 29, 29, 29, 29, 29, 29, 29, 29, 29, 29, 29, 29,\n",
      "         29, 29, 29, 29, 29, 29, 29, 29, 29, 29, 29, 29, 29]]) tensor([742, 673, 661, 634, 562, 524, 476, 442, 382, 317]) ('adangme occupations are fishing trading and farming which is based on the huza system', 'it is organised by the international ornithologists union', 'danbom spent nine years on the fargo historic preservation commission', 'he stuck his hand into the pouch and felt around for one of the stones', 'a subtext of duchamps piece is masculine and feminine relationships', 'students were messing around in class and dropped a beaker on the floor', 'this advisory was discontinued following the storms passage later that day', 'but one of them seized the boy and yanked him back out of the hole', 'eventually they came to their senses and returned him to his hosts', 'i dont want to take any chances')\n"
     ]
    }
   ],
   "source": [
    "device = torch.device(\"cuda\" if torch.cuda.is_available() else \"cpu\")\n",
    "\n",
    "def pad_sequence(batch):\n",
    "    # Make all tensor in a batch the same length by padding with zeros\n",
    "    batch = [item.t() for item in batch]    \n",
    "    batch = torch.nn.utils.rnn.pad_sequence(batch, batch_first=True, padding_value=0)\n",
    "    return batch\n",
    "\n",
    "\n",
    "def pad_collate(batch):\n",
    "    max_input_len = float('-inf')\n",
    "    max_target_len = float('-inf')\n",
    "\n",
    "    for elem in batch:\n",
    "        feature = elem['waveform']\n",
    "        feature = feature.squeeze()\n",
    "        trn = elem['transcription']\n",
    "        max_input_len = max_input_len if max_input_len > feature.shape[0] else feature.shape[0]\n",
    "        max_target_len = max_target_len if max_target_len > len(trn) else len(trn)\n",
    "\n",
    "    for i, elem in enumerate(batch):\n",
    "        f = elem['waveform']\n",
    "        trn = elem['transcription']\n",
    "        sentence = elem['sentence']\n",
    "        f = f.squeeze()\n",
    "        input_length = f.shape[0]\n",
    "        input_dim = f.shape[1]\n",
    "        # print('f.shape: ' + str(f.shape))\n",
    "        feature = np.zeros((max_input_len, input_dim), dtype=np.float32)\n",
    "        feature[:f.shape[0], :f.shape[1]] = f.cpu()\n",
    "        trn = np.pad(trn.cpu(), (0, max_target_len - len(trn)), 'constant', constant_values=29)\n",
    "        batch[i] = (feature, trn, input_length,sentence)\n",
    "        # print('feature.shape: ' + str(feature.shape))\n",
    "        # print('trn.shape: ' + str(trn.shape))\n",
    "    batch.sort(key=lambda x: x[2], reverse=True)\n",
    "\n",
    "    return default_collate(batch)\n",
    "\n",
    "\n",
    "\n",
    "def collate_fn(batch):\n",
    "\n",
    "    # A data tuple has the form:\n",
    "    # waveform, sample_rate, label, speaker_id, utterance_number\n",
    "\n",
    "    tensors, targets,sentence = [], [],[]\n",
    "\n",
    "    # Gather in lists, and encode labels as indices\n",
    "    for a in batch:\n",
    "        tensors += [a['waveform']]\n",
    "        targets += [a['transcription']]\n",
    "        sentence += [a['sentence']]\n",
    "                   \n",
    "    # Group the list of tensors into a batched tensor\n",
    "    tensors = tensors\n",
    "#     targets = torch.stack(targets)\n",
    "    targets = pad_sequence(targets)\n",
    "\n",
    "    return tensors, targets,sentence\n",
    "\n",
    "\n",
    "train_loader = DataLoader(transformed_dataset, batch_size=10,collate_fn=pad_collate,\n",
    "                        shuffle=True, num_workers=0)\n",
    "\n",
    "iterator = iter(train_loader)\n",
    "x_batch,y,input_lengths,sentence = iterator.next()\n",
    "print(x_batch,y,input_lengths,sentence)"
   ]
  },
  {
   "cell_type": "code",
   "execution_count": 54,
   "id": "5f1304ca",
   "metadata": {},
   "outputs": [
    {
     "data": {
      "text/plain": [
       "torch.Size([10, 764, 80])"
      ]
     },
     "execution_count": 54,
     "metadata": {},
     "output_type": "execute_result"
    }
   ],
   "source": [
    "x_batch.shape"
   ]
  },
  {
   "cell_type": "code",
   "execution_count": 55,
   "id": "f2a5a859",
   "metadata": {},
   "outputs": [
    {
     "data": {
      "text/plain": [
       "tensor([764, 634, 625, 526, 521, 502, 500, 392, 358, 207])"
      ]
     },
     "execution_count": 55,
     "metadata": {},
     "output_type": "execute_result"
    }
   ],
   "source": [
    "input_lengths"
   ]
  },
  {
   "cell_type": "code",
   "execution_count": 7,
   "id": "0fcfb74b",
   "metadata": {},
   "outputs": [],
   "source": [
    "d1 = transformed_dataset[10]['waveform']"
   ]
  },
  {
   "cell_type": "code",
   "execution_count": 36,
   "id": "3e01f5f4",
   "metadata": {},
   "outputs": [],
   "source": [
    "n1 = nn.GRU(80,10)\n",
    "n2 = nn.GRU(10, 10)\n",
    "n3 = nn.GRU(10, 10)"
   ]
  },
  {
   "cell_type": "code",
   "execution_count": 37,
   "id": "26027fcd",
   "metadata": {},
   "outputs": [],
   "source": [
    "o1,o2 = n1(x_batch)\n",
    "b1,b2 = n2(o1)"
   ]
  },
  {
   "cell_type": "code",
   "execution_count": 60,
   "id": "17076086",
   "metadata": {},
   "outputs": [],
   "source": [
    "hmm = nn.GRU(80,10,bidirectional=True)\n",
    "hmm2 = nn.GRU(20,5,bidirectional=True)\n",
    "input_x = x_batch.size(1)\n",
    "enc_len = x_batch.size(2)\n",
    "total_length = x_batch.size(1)\n",
    "packed_input = pack_padded_sequence(x_batch, input_lengths, batch_first=True)\n",
    "hah, oo= hmm(packed_input,oo)\n",
    "wq,tt = hmm2(hah)\n",
    "output, _ = pad_packed_sequence(wq, batch_first=True, total_length=total_length)\n"
   ]
  },
  {
   "cell_type": "code",
   "execution_count": 70,
   "id": "2608219c",
   "metadata": {},
   "outputs": [],
   "source": [
    "def pad_list(xs, pad_value):\n",
    "        # From: espnet/src/nets/e2e_asr_th.py: pad_list()\n",
    "        n_batch = len(xs)\n",
    "        max_len = max(x.size(0) for x in xs)\n",
    "        pad = xs[0].new(n_batch, max_len, *xs[0].size()[1:]).fill_(pad_value)\n",
    "        for i in range(n_batch):\n",
    "            pad[i, :xs[i].size(0)] = xs[i]\n",
    "        return pad"
   ]
  },
  {
   "cell_type": "code",
   "execution_count": 71,
   "id": "e35c2f6d",
   "metadata": {},
   "outputs": [],
   "source": [
    "ys = [yi[yi != 29] for yi in y]  # parse padded ys\n",
    "# prepare input and output word sequences with sos/eos IDs\n",
    "eos = ys[0].new([27])\n",
    "sos = ys[0].new([28])\n",
    "ys_in = [y for y in ys]\n",
    "ys_out = [y for y in ys]\n",
    "# padding for ys with -1\n",
    "# pys: utt x olen\n",
    "ys_in_pad = pad_list(ys_in, 27)\n",
    "ys_out_pad = pad_list(ys_out, 29)\n",
    "assert ys_in_pad.size() == ys_out_pad.size()\n",
    "batch_size = ys_in_pad.size(0)\n",
    "output_length = ys_in_pad.size(1)"
   ]
  },
  {
   "cell_type": "code",
   "execution_count": 81,
   "id": "ff862bff",
   "metadata": {},
   "outputs": [
    {
     "data": {
      "text/plain": [
       "tensor([[ 9, 20,  0,  3,  1, 14,  0,  8, 15, 23,  5, 22,  5, 18,  0,  2,  5,  0,\n",
       "         19, 12,  1,  9, 14,  0, 23,  9, 20,  8,  0,  1,  0, 19,  9, 12, 22,  5,\n",
       "         18,  0,  2, 21, 12, 12,  5, 20],\n",
       "        [ 9, 12, 12,  0, 15, 23, 14,  0, 20,  8,  1, 20,  0,  8,  5, 19,  0, 23,\n",
       "          9, 20,  8,  0,  1,  0,  8,  1, 18, 19,  8,  0, 19,  5, 20, 29, 29, 29,\n",
       "         29, 29, 29, 29, 29, 29, 29, 29],\n",
       "        [ 4, 15,  0, 18,  9,  7,  8, 20,  0,  1, 14,  4,  0,  6,  5,  1, 18,  0,\n",
       "         14, 15,  0, 13,  1, 14, 29, 29, 29, 29, 29, 29, 29, 29, 29, 29, 29, 29,\n",
       "         29, 29, 29, 29, 29, 29, 29, 29],\n",
       "        [ 1,  0, 13,  1, 14,  0,  9, 19,  0, 11, 14, 15, 23, 14,  0,  2, 25,  0,\n",
       "         20,  8,  5,  0,  3, 15, 13, 16,  1, 14, 25,  0,  8,  5,  0, 11,  5,  5,\n",
       "         16, 19, 29, 29, 29, 29, 29, 29],\n",
       "        [20,  8,  1, 20,  0, 19, 15,  2,  5, 18,  5,  4,  0,  8,  9, 13,  0,  1,\n",
       "          0, 12,  9, 20, 20, 12,  5, 29, 29, 29, 29, 29, 29, 29, 29, 29, 29, 29,\n",
       "         29, 29, 29, 29, 29, 29, 29, 29],\n",
       "        [19,  8,  5,  0, 23, 15, 21, 12,  4,  0, 14,  5, 22,  5, 18,  0, 19, 16,\n",
       "          5,  1, 11,  0, 20, 15,  0,  8,  9, 13, 29, 29, 29, 29, 29, 29, 29, 29,\n",
       "         29, 29, 29, 29, 29, 29, 29, 29],\n",
       "        [ 4,  9, 19,  3, 15, 22,  5, 18, 25,  0,  2,  1, 25,  0,  8,  1, 19,  0,\n",
       "          1,  0, 19,  8, 15, 18, 20,  0,  8,  9, 19, 20, 15, 18, 25, 29, 29, 29,\n",
       "         29, 29, 29, 29, 29, 29, 29, 29],\n",
       "        [ 1,  0, 19, 20, 21,  6,  6,  5,  4,  0,  3,  8,  1,  9, 18,  0, 19, 12,\n",
       "          9, 16, 16,  5,  4,  0,  6, 18, 15, 13,  0, 20,  8,  5,  0, 13, 15, 22,\n",
       "          9, 14,  7,  0, 22,  1, 14, 29],\n",
       "        [20,  8,  9, 19,  0, 22,  9,  5, 23,  0,  9, 19,  0, 23, 18, 15, 14,  7,\n",
       "          0, 20,  8, 15, 21,  7,  8, 29, 29, 29, 29, 29, 29, 29, 29, 29, 29, 29,\n",
       "         29, 29, 29, 29, 29, 29, 29, 29],\n",
       "        [25, 15, 21,  0, 11, 14, 15, 23,  0,  8,  5, 18,  0,  2,  5, 20, 20,  5,\n",
       "         18,  0, 19, 15,  0, 25, 15, 21,  0, 19,  8, 15, 21, 12,  4,  0,  4, 15,\n",
       "          0,  9, 20, 29, 29, 29, 29, 29]])"
      ]
     },
     "execution_count": 81,
     "metadata": {},
     "output_type": "execute_result"
    }
   ],
   "source": [
    "y"
   ]
  },
  {
   "cell_type": "code",
   "execution_count": 82,
   "id": "c149fdab",
   "metadata": {},
   "outputs": [
    {
     "data": {
      "text/plain": [
       "tensor([[ 9, 20,  0,  3,  1, 14,  0,  8, 15, 23,  5, 22,  5, 18,  0,  2,  5,  0,\n",
       "         19, 12,  1,  9, 14,  0, 23,  9, 20,  8,  0,  1,  0, 19,  9, 12, 22,  5,\n",
       "         18,  0,  2, 21, 12, 12,  5, 20],\n",
       "        [ 9, 12, 12,  0, 15, 23, 14,  0, 20,  8,  1, 20,  0,  8,  5, 19,  0, 23,\n",
       "          9, 20,  8,  0,  1,  0,  8,  1, 18, 19,  8,  0, 19,  5, 20, 27, 27, 27,\n",
       "         27, 27, 27, 27, 27, 27, 27, 27],\n",
       "        [ 4, 15,  0, 18,  9,  7,  8, 20,  0,  1, 14,  4,  0,  6,  5,  1, 18,  0,\n",
       "         14, 15,  0, 13,  1, 14, 27, 27, 27, 27, 27, 27, 27, 27, 27, 27, 27, 27,\n",
       "         27, 27, 27, 27, 27, 27, 27, 27],\n",
       "        [ 1,  0, 13,  1, 14,  0,  9, 19,  0, 11, 14, 15, 23, 14,  0,  2, 25,  0,\n",
       "         20,  8,  5,  0,  3, 15, 13, 16,  1, 14, 25,  0,  8,  5,  0, 11,  5,  5,\n",
       "         16, 19, 27, 27, 27, 27, 27, 27],\n",
       "        [20,  8,  1, 20,  0, 19, 15,  2,  5, 18,  5,  4,  0,  8,  9, 13,  0,  1,\n",
       "          0, 12,  9, 20, 20, 12,  5, 27, 27, 27, 27, 27, 27, 27, 27, 27, 27, 27,\n",
       "         27, 27, 27, 27, 27, 27, 27, 27],\n",
       "        [19,  8,  5,  0, 23, 15, 21, 12,  4,  0, 14,  5, 22,  5, 18,  0, 19, 16,\n",
       "          5,  1, 11,  0, 20, 15,  0,  8,  9, 13, 27, 27, 27, 27, 27, 27, 27, 27,\n",
       "         27, 27, 27, 27, 27, 27, 27, 27],\n",
       "        [ 4,  9, 19,  3, 15, 22,  5, 18, 25,  0,  2,  1, 25,  0,  8,  1, 19,  0,\n",
       "          1,  0, 19,  8, 15, 18, 20,  0,  8,  9, 19, 20, 15, 18, 25, 27, 27, 27,\n",
       "         27, 27, 27, 27, 27, 27, 27, 27],\n",
       "        [ 1,  0, 19, 20, 21,  6,  6,  5,  4,  0,  3,  8,  1,  9, 18,  0, 19, 12,\n",
       "          9, 16, 16,  5,  4,  0,  6, 18, 15, 13,  0, 20,  8,  5,  0, 13, 15, 22,\n",
       "          9, 14,  7,  0, 22,  1, 14, 27],\n",
       "        [20,  8,  9, 19,  0, 22,  9,  5, 23,  0,  9, 19,  0, 23, 18, 15, 14,  7,\n",
       "          0, 20,  8, 15, 21,  7,  8, 27, 27, 27, 27, 27, 27, 27, 27, 27, 27, 27,\n",
       "         27, 27, 27, 27, 27, 27, 27, 27],\n",
       "        [25, 15, 21,  0, 11, 14, 15, 23,  0,  8,  5, 18,  0,  2,  5, 20, 20,  5,\n",
       "         18,  0, 19, 15,  0, 25, 15, 21,  0, 19,  8, 15, 21, 12,  4,  0,  4, 15,\n",
       "          0,  9, 20, 27, 27, 27, 27, 27]])"
      ]
     },
     "execution_count": 82,
     "metadata": {},
     "output_type": "execute_result"
    }
   ],
   "source": [
    "ys_in_pad"
   ]
  },
  {
   "cell_type": "code",
   "execution_count": 6,
   "id": "ffc06547",
   "metadata": {},
   "outputs": [],
   "source": [
    "class Encoder(nn.Module):\n",
    "    def __init__(self, input_size, hidden_size, num_layers, dropout=0.0, bidirectional=True):\n",
    "        super(Encoder, self).__init__()\n",
    "        \n",
    "        self.rnn = nn.GRU(input_size, hidden_size, num_layers, batch_first=True, dropout=dropout,\n",
    "                          bidirectional=bidirectional)\n",
    "        self.rnn2 = nn.GRU(hidden_size*2, int(hidden_size/4), batch_first=True,\n",
    "                          bidirectional=bidirectional)\n",
    "        \n",
    "\n",
    "        \n",
    "\n",
    "    def forward(self, input_x, enc_len):\n",
    "        total_length = input_x.size(1)  # get the max sequence length\n",
    "        # print('total_length: ' + str(total_length))\n",
    "        # print('input_x.size(): ' + str(input_x.size()))\n",
    "        packed_input = pack_padded_sequence(input_x, enc_len, batch_first=True,)\n",
    "        # print('enc_len: ' + str(enc_len))\n",
    "        packed_output, hidden = self.rnn(packed_input)\n",
    "#         packed_output, hidden = self.rnn2(packed_output)\n",
    "        output, _ = pad_packed_sequence(packed_output, batch_first=True, total_length=total_length)\n",
    "        return output, hidden\n",
    "    \n",
    "hmm = nn.GRU(80,20,bidirectional=True)\n",
    "hmm2 = nn.GRU(40,10,bidirectional=True)\n",
    "\n",
    "\n",
    "input_x = x_batch.size(1)\n",
    "enc_len = x_batch.size(2)\n",
    "total_length =x_batch.size(1)\n",
    "input_lengths.long().to(device)\n",
    "packed_input = pack_padded_sequence(x_batch,input_lengths, batch_first=True)\n",
    "hah, _= hmm(packed_input)\n",
    "hah,_ = hmm2(hah)\n",
    "output, _ = pad_packed_sequence(hah, batch_first=True, total_length=total_length)\n"
   ]
  },
  {
   "cell_type": "code",
   "execution_count": 29,
   "id": "46273c9b",
   "metadata": {},
   "outputs": [
    {
     "data": {
      "text/plain": [
       "torch.Size([10, 764, 20])"
      ]
     },
     "execution_count": 29,
     "metadata": {},
     "output_type": "execute_result"
    }
   ],
   "source": [
    "output.shape"
   ]
  },
  {
   "cell_type": "code",
   "execution_count": 65,
   "id": "da621abf",
   "metadata": {},
   "outputs": [
    {
     "data": {
      "text/plain": [
       "device(type='cpu')"
      ]
     },
     "execution_count": 65,
     "metadata": {},
     "output_type": "execute_result"
    }
   ],
   "source": [
    "x_batch.device"
   ]
  },
  {
   "cell_type": "code",
   "execution_count": 16,
   "id": "b6d7bc80",
   "metadata": {},
   "outputs": [],
   "source": [
    "encoder = Encoder(80, 30, 1, dropout=0.0, bidirectional=False)\n",
    "\n",
    "gg, oo = encoder(x_batch,input_lengths)"
   ]
  },
  {
   "cell_type": "code",
   "execution_count": 17,
   "id": "12bc3927",
   "metadata": {},
   "outputs": [
    {
     "data": {
      "text/plain": [
       "torch.Size([10, 399, 30])"
      ]
     },
     "execution_count": 17,
     "metadata": {},
     "output_type": "execute_result"
    }
   ],
   "source": [
    "gg.shape"
   ]
  },
  {
   "cell_type": "code",
   "execution_count": 18,
   "id": "8ed15eee",
   "metadata": {},
   "outputs": [
    {
     "data": {
      "text/plain": [
       "torch.Size([1, 10, 30])"
      ]
     },
     "execution_count": 18,
     "metadata": {},
     "output_type": "execute_result"
    }
   ],
   "source": [
    "oo.shape"
   ]
  },
  {
   "cell_type": "code",
   "execution_count": 191,
   "id": "ff1a4cd6",
   "metadata": {},
   "outputs": [],
   "source": [
    "encoder = Encoder(80, 30, 1, dropout=0.0, bidirectional=True)\n",
    "decoder = Decoder(vocab_size=29, embedding_dim=15, hidden_size=30, num_layers=1)"
   ]
  },
  {
   "cell_type": "code",
   "execution_count": 115,
   "id": "1c160e5f",
   "metadata": {},
   "outputs": [
    {
     "data": {
      "text/plain": [
       "torch.Size([10, 63])"
      ]
     },
     "execution_count": 115,
     "metadata": {},
     "output_type": "execute_result"
    }
   ],
   "source": [
    "y.shape"
   ]
  },
  {
   "cell_type": "code",
   "execution_count": 192,
   "id": "1b4deac4",
   "metadata": {},
   "outputs": [],
   "source": [
    "ww, wo ,wi = decoder(y,gg,oo)"
   ]
  },
  {
   "cell_type": "code",
   "execution_count": 193,
   "id": "fefe8968",
   "metadata": {},
   "outputs": [
    {
     "data": {
      "text/plain": [
       "(torch.Size([640, 29]), torch.Size([640]), torch.Size([10, 64]))"
      ]
     },
     "execution_count": 193,
     "metadata": {},
     "output_type": "execute_result"
    }
   ],
   "source": [
    "ww.shape, wo.shape,wi.shape"
   ]
  },
  {
   "cell_type": "code",
   "execution_count": 223,
   "id": "d33f5d86",
   "metadata": {},
   "outputs": [],
   "source": [
    "hmm = Fi.cross_entropy(ww, wo,\n",
    "                                  ignore_index=29,\n",
    "                                  reduction='none')"
   ]
  },
  {
   "cell_type": "code",
   "execution_count": 211,
   "id": "07c6f897",
   "metadata": {},
   "outputs": [
    {
     "data": {
      "text/plain": [
       "tensor(1.9204, grad_fn=<MeanBackward0>)"
      ]
     },
     "execution_count": 211,
     "metadata": {},
     "output_type": "execute_result"
    }
   ],
   "source": [
    "hmm.mean()"
   ]
  },
  {
   "cell_type": "code",
   "execution_count": 221,
   "id": "5f324e51",
   "metadata": {},
   "outputs": [
    {
     "data": {
      "text/plain": [
       "tensor(3.3766, grad_fn=<NllLossBackward>)"
      ]
     },
     "execution_count": 221,
     "metadata": {},
     "output_type": "execute_result"
    }
   ],
   "source": [
    "hmm"
   ]
  },
  {
   "cell_type": "code",
   "execution_count": 226,
   "id": "f4a3ce5d",
   "metadata": {},
   "outputs": [
    {
     "data": {
      "text/plain": [
       "torch.Size([364])"
      ]
     },
     "execution_count": 226,
     "metadata": {},
     "output_type": "execute_result"
    }
   ],
   "source": [
    "hmm[hmm >0].shape"
   ]
  },
  {
   "cell_type": "code",
   "execution_count": 222,
   "id": "93967c8f",
   "metadata": {},
   "outputs": [
    {
     "data": {
      "text/plain": [
       "363.9755967541314"
      ]
     },
     "execution_count": 222,
     "metadata": {},
     "output_type": "execute_result"
    }
   ],
   "source": [
    "1229/3.3766"
   ]
  },
  {
   "cell_type": "code",
   "execution_count": 157,
   "id": "82091318",
   "metadata": {},
   "outputs": [],
   "source": [
    "# rnny = nn.ModuleList()\n",
    "rnny = nn.LSTMCell(15, 30,)"
   ]
  },
  {
   "cell_type": "code",
   "execution_count": 188,
   "id": "a19fa2d4",
   "metadata": {},
   "outputs": [
    {
     "ename": "IndexError",
     "evalue": "index out of range in self",
     "output_type": "error",
     "traceback": [
      "\u001b[0;31m---------------------------------------------------------------------------\u001b[0m",
      "\u001b[0;31mIndexError\u001b[0m                                Traceback (most recent call last)",
      "\u001b[0;32m<ipython-input-188-9282dd77480b>\u001b[0m in \u001b[0;36m<module>\u001b[0;34m\u001b[0m\n\u001b[0;32m----> 1\u001b[0;31m \u001b[0mem\u001b[0m \u001b[0;34m=\u001b[0m \u001b[0mdecoder\u001b[0m\u001b[0;34m.\u001b[0m\u001b[0membedding\u001b[0m\u001b[0;34m(\u001b[0m\u001b[0my\u001b[0m\u001b[0;34m)\u001b[0m\u001b[0;34m\u001b[0m\u001b[0;34m\u001b[0m\u001b[0m\n\u001b[0m",
      "\u001b[0;32m~/opt/anaconda3/envs/tf/lib/python3.7/site-packages/torch/nn/modules/module.py\u001b[0m in \u001b[0;36m_call_impl\u001b[0;34m(self, *input, **kwargs)\u001b[0m\n\u001b[1;32m   1049\u001b[0m         if not (self._backward_hooks or self._forward_hooks or self._forward_pre_hooks or _global_backward_hooks\n\u001b[1;32m   1050\u001b[0m                 or _global_forward_hooks or _global_forward_pre_hooks):\n\u001b[0;32m-> 1051\u001b[0;31m             \u001b[0;32mreturn\u001b[0m \u001b[0mforward_call\u001b[0m\u001b[0;34m(\u001b[0m\u001b[0;34m*\u001b[0m\u001b[0minput\u001b[0m\u001b[0;34m,\u001b[0m \u001b[0;34m**\u001b[0m\u001b[0mkwargs\u001b[0m\u001b[0;34m)\u001b[0m\u001b[0;34m\u001b[0m\u001b[0;34m\u001b[0m\u001b[0m\n\u001b[0m\u001b[1;32m   1052\u001b[0m         \u001b[0;31m# Do not call functions when jit is used\u001b[0m\u001b[0;34m\u001b[0m\u001b[0;34m\u001b[0m\u001b[0;34m\u001b[0m\u001b[0m\n\u001b[1;32m   1053\u001b[0m         \u001b[0mfull_backward_hooks\u001b[0m\u001b[0;34m,\u001b[0m \u001b[0mnon_full_backward_hooks\u001b[0m \u001b[0;34m=\u001b[0m \u001b[0;34m[\u001b[0m\u001b[0;34m]\u001b[0m\u001b[0;34m,\u001b[0m \u001b[0;34m[\u001b[0m\u001b[0;34m]\u001b[0m\u001b[0;34m\u001b[0m\u001b[0;34m\u001b[0m\u001b[0m\n",
      "\u001b[0;32m~/opt/anaconda3/envs/tf/lib/python3.7/site-packages/torch/nn/modules/sparse.py\u001b[0m in \u001b[0;36mforward\u001b[0;34m(self, input)\u001b[0m\n\u001b[1;32m    158\u001b[0m         return F.embedding(\n\u001b[1;32m    159\u001b[0m             \u001b[0minput\u001b[0m\u001b[0;34m,\u001b[0m \u001b[0mself\u001b[0m\u001b[0;34m.\u001b[0m\u001b[0mweight\u001b[0m\u001b[0;34m,\u001b[0m \u001b[0mself\u001b[0m\u001b[0;34m.\u001b[0m\u001b[0mpadding_idx\u001b[0m\u001b[0;34m,\u001b[0m \u001b[0mself\u001b[0m\u001b[0;34m.\u001b[0m\u001b[0mmax_norm\u001b[0m\u001b[0;34m,\u001b[0m\u001b[0;34m\u001b[0m\u001b[0;34m\u001b[0m\u001b[0m\n\u001b[0;32m--> 160\u001b[0;31m             self.norm_type, self.scale_grad_by_freq, self.sparse)\n\u001b[0m\u001b[1;32m    161\u001b[0m \u001b[0;34m\u001b[0m\u001b[0m\n\u001b[1;32m    162\u001b[0m     \u001b[0;32mdef\u001b[0m \u001b[0mextra_repr\u001b[0m\u001b[0;34m(\u001b[0m\u001b[0mself\u001b[0m\u001b[0;34m)\u001b[0m \u001b[0;34m->\u001b[0m \u001b[0mstr\u001b[0m\u001b[0;34m:\u001b[0m\u001b[0;34m\u001b[0m\u001b[0;34m\u001b[0m\u001b[0m\n",
      "\u001b[0;32m~/opt/anaconda3/envs/tf/lib/python3.7/site-packages/torch/nn/functional.py\u001b[0m in \u001b[0;36membedding\u001b[0;34m(input, weight, padding_idx, max_norm, norm_type, scale_grad_by_freq, sparse)\u001b[0m\n\u001b[1;32m   2041\u001b[0m         \u001b[0;31m# remove once script supports set_grad_enabled\u001b[0m\u001b[0;34m\u001b[0m\u001b[0;34m\u001b[0m\u001b[0;34m\u001b[0m\u001b[0m\n\u001b[1;32m   2042\u001b[0m         \u001b[0m_no_grad_embedding_renorm_\u001b[0m\u001b[0;34m(\u001b[0m\u001b[0mweight\u001b[0m\u001b[0;34m,\u001b[0m \u001b[0minput\u001b[0m\u001b[0;34m,\u001b[0m \u001b[0mmax_norm\u001b[0m\u001b[0;34m,\u001b[0m \u001b[0mnorm_type\u001b[0m\u001b[0;34m)\u001b[0m\u001b[0;34m\u001b[0m\u001b[0;34m\u001b[0m\u001b[0m\n\u001b[0;32m-> 2043\u001b[0;31m     \u001b[0;32mreturn\u001b[0m \u001b[0mtorch\u001b[0m\u001b[0;34m.\u001b[0m\u001b[0membedding\u001b[0m\u001b[0;34m(\u001b[0m\u001b[0mweight\u001b[0m\u001b[0;34m,\u001b[0m \u001b[0minput\u001b[0m\u001b[0;34m,\u001b[0m \u001b[0mpadding_idx\u001b[0m\u001b[0;34m,\u001b[0m \u001b[0mscale_grad_by_freq\u001b[0m\u001b[0;34m,\u001b[0m \u001b[0msparse\u001b[0m\u001b[0;34m)\u001b[0m\u001b[0;34m\u001b[0m\u001b[0;34m\u001b[0m\u001b[0m\n\u001b[0m\u001b[1;32m   2044\u001b[0m \u001b[0;34m\u001b[0m\u001b[0m\n\u001b[1;32m   2045\u001b[0m \u001b[0;34m\u001b[0m\u001b[0m\n",
      "\u001b[0;31mIndexError\u001b[0m: index out of range in self"
     ]
    }
   ],
   "source": [
    "em = decoder.embedding(y)"
   ]
  },
  {
   "cell_type": "markdown",
   "id": "de0eb0a9",
   "metadata": {},
   "source": [
    "ln = em.size(1)"
   ]
  },
  {
   "cell_type": "code",
   "execution_count": 160,
   "id": "87f858df",
   "metadata": {},
   "outputs": [],
   "source": [
    "wah = rnny(em[:,0,:],(oo[0],oo[1]))"
   ]
  },
  {
   "cell_type": "code",
   "execution_count": 163,
   "id": "721c138d",
   "metadata": {},
   "outputs": [
    {
     "ename": "IndexError",
     "evalue": "tuple index out of range",
     "output_type": "error",
     "traceback": [
      "\u001b[0;31m---------------------------------------------------------------------------\u001b[0m",
      "\u001b[0;31mIndexError\u001b[0m                                Traceback (most recent call last)",
      "\u001b[0;32m<ipython-input-163-d0a8c5de1353>\u001b[0m in \u001b[0;36m<module>\u001b[0;34m\u001b[0m\n\u001b[0;32m----> 1\u001b[0;31m \u001b[0mwah\u001b[0m\u001b[0;34m[\u001b[0m\u001b[0;36m2\u001b[0m\u001b[0;34m]\u001b[0m\u001b[0;34m.\u001b[0m\u001b[0mshape\u001b[0m\u001b[0;34m\u001b[0m\u001b[0;34m\u001b[0m\u001b[0m\n\u001b[0m",
      "\u001b[0;31mIndexError\u001b[0m: tuple index out of range"
     ]
    }
   ],
   "source": [
    "wah[2].shape"
   ]
  },
  {
   "cell_type": "code",
   "execution_count": 148,
   "id": "d6fd4bc8",
   "metadata": {},
   "outputs": [
    {
     "data": {
      "text/plain": [
       "torch.Size([10, 15])"
      ]
     },
     "execution_count": 148,
     "metadata": {},
     "output_type": "execute_result"
    }
   ],
   "source": [
    "em[:,i,:].shape"
   ]
  },
  {
   "cell_type": "code",
   "execution_count": 146,
   "id": "58d6afd4",
   "metadata": {},
   "outputs": [],
   "source": [
    "for i in range(em.size(1)):\n",
    "    h,c = rnny(em[:,i,:])"
   ]
  },
  {
   "cell_type": "code",
   "execution_count": 7,
   "id": "304bf7bf",
   "metadata": {},
   "outputs": [],
   "source": [
    "class Decoder(nn.Module):\n",
    "    def __init__(self, vocab_size, embedding_dim, hidden_size, num_layers=1):\n",
    "        super(Decoder, self).__init__()\n",
    "        # Hyper parameters\n",
    "        # embedding + output\n",
    "        self.vocab_size = vocab_size\n",
    "        self.embedding_dim = embedding_dim\n",
    "        # rnn\n",
    "        self.hidden_size = hidden_size\n",
    "        self.num_layers = num_layers\n",
    "        self.encoder_hidden_size = hidden_size  # must be equal now\n",
    "        # Components\n",
    "        self.embedding = nn.Embedding(self.vocab_size, self.embedding_dim)\n",
    "        self.gru = nn.ModuleList()\n",
    "        self.gru += [nn.LSTMCell(self.embedding_dim, self.hidden_size)]\n",
    "        for l in range(1, self.num_layers):\n",
    "            self.gru += [nn.LSTMCell(self.hidden_size, self.hidden_size)]\n",
    "        self.mlp = nn.Sequential(\n",
    "            nn.Linear(self.encoder_hidden_size,\n",
    "                      self.hidden_size),\n",
    "            nn.Tanh(),\n",
    "            nn.Linear(self.hidden_size, self.vocab_size))\n",
    "\n",
    "    def zero_state(self, encoder_padded_outputs, H=None):\n",
    "        N = encoder_padded_outputs.size(0)\n",
    "        H = self.hidden_size if H == None else H\n",
    "        return encoder_padded_outputs.new_zeros(N, H)\n",
    "    \n",
    "    def pad_list(self,xs, pad_value):\n",
    "        # From: espnet/src/nets/e2e_asr_th.py: pad_list()\n",
    "        n_batch = len(xs)\n",
    "        max_len = max(x.size(0) for x in xs)\n",
    "        pad = xs[0].new(n_batch, max_len, *xs[0].size()[1:]).fill_(pad_value)\n",
    "        for i in range(n_batch):\n",
    "            pad[i, :xs[i].size(0)] = xs[i]\n",
    "        return pad\n",
    "    \n",
    "    def get_pads(self,padded_input):\n",
    "        PAD_token = dictOfchar['PAD']\n",
    "        EOS_token = dictOfchar['EOS']\n",
    "        SOS_token = dictOfchar['SOS']\n",
    "        ys = [y[y != PAD_token] for y in padded_input]  # parse padded ys\n",
    "        # prepare input and output word sequences with sos/eos IDs\n",
    "        eos = ys[0].new([EOS_token])\n",
    "        sos = ys[0].new([SOS_token])\n",
    "        ys_in = [torch.cat([sos, y], dim=0) for y in ys]\n",
    "        ys_out = [torch.cat([y, eos], dim=0) for y in ys]\n",
    "#         padding for ys with -1\n",
    "        # pys: utt x olen\n",
    "        ys_in_pad = self.pad_list(ys, EOS_token)\n",
    "        ys_out_pad = self.pad_list(ys, PAD_token)\n",
    "        assert ys_in_pad.size() == ys_out_pad.size()\n",
    "        \n",
    "        return ys_in_pad, ys_out_pad\n",
    "\n",
    "    def forward(self, padded_input, encoder_padded_outputs,encoder_hidden):\n",
    "        \"\"\"\n",
    "        Args:\n",
    "            padded_input: N x To\n",
    "            # encoder_hidden: (num_layers * num_directions) x N x H\n",
    "            encoder_padded_outputs: N x Ti x H\n",
    "        Returns:\n",
    "        \"\"\"\n",
    "        # *********Get Input and Output\n",
    "        # from espnet/Decoder.forward()\n",
    "        \n",
    "#         ys_in_pad, ys_out_pad = self.get_pads(padded_input)\n",
    "        \n",
    "        ys_in_pad = padded_input\n",
    "        ys_out_pad = padded_input\n",
    "\n",
    "        batch_size = ys_in_pad.size(0)\n",
    "        output_length = ys_in_pad.size(1)\n",
    "             \n",
    "        # *********Init decoder rnn\n",
    "        h_list = [encoder_hidden[0]]\n",
    "        c_list = [encoder_hidden[1]]\n",
    "        \n",
    "        for l in range(1, self.num_layers):\n",
    "            h_list.append(self.zero_state(encoder_padded_outputs))\n",
    "            c_list.append(self.zero_state(encoder_padded_outputs))\n",
    "\n",
    "        y_all = []\n",
    "        \n",
    "\n",
    "        # **********LAS: 1. decoder rnn 2. attention 3. concate and MLP\n",
    "        embedded = self.embedding(ys_in_pad)\n",
    "        for t in range(output_length):\n",
    "            # step 1. decoder RNN: s_i = RNN(s_i−1,y_i−1,c_i−1)\n",
    "\n",
    "            rnn_input = embedded[:, t, :]\n",
    "\n",
    "            h_list[0], c_list[0] = self.gru[0](\n",
    "                rnn_input, (h_list[0], c_list[0]))\n",
    "            for l in range(1, self.num_layers):\n",
    "                h_list[l], c_list[l] = self.gru[l](\n",
    "                    h_list[l - 1], (h_list[l], c_list[l]))\n",
    "            rnn_output = h_list[-1]\n",
    "            mlp_input = rnn_output\n",
    "            predicted_y_t = self.mlp(mlp_input)\n",
    "            y_all.append(predicted_y_t)\n",
    "\n",
    "        y_all = torch.stack(y_all, dim=1)  # N x To x C\n",
    "\n",
    "        # **********Cross Entropy Loss\n",
    "        # F.cross_entropy = NLL(log_softmax(input), target))\n",
    "        y_all = y_all.view(batch_size * output_length, self.vocab_size)\n",
    "#         ce_loss = F.cross_entropy(y_all, ys_out_pad.view(-1),\n",
    "#                                   ignore_index=PAD_token,\n",
    "#                                   reduction='mean')\n",
    "\n",
    "        return y_all, ys_out_pad.view(-1)\n"
   ]
  },
  {
   "cell_type": "code",
   "execution_count": 7,
   "id": "2cda03f8",
   "metadata": {},
   "outputs": [],
   "source": [
    "class DotProductAttention(nn.Module):\n",
    "    r\"\"\"Dot product attention.\n",
    "    Given a set of vector values, and a vector query, attention is a technique\n",
    "    to compute a weighted sum of the values, dependent on the query.\n",
    "    NOTE: Here we use the terminology in Stanford cs224n-2018-lecture11.\n",
    "    \"\"\"\n",
    "\n",
    "    def __init__(self):\n",
    "        super(DotProductAttention, self).__init__()\n",
    "\n",
    "    def forward(self, queries, values):\n",
    "        \"\"\"\n",
    "        Args:\n",
    "            queries: N x To x H\n",
    "            values : N x Ti x H\n",
    "        Returns:\n",
    "            output: N x To x H\n",
    "            attention_distribution: N x To x Ti\n",
    "        \"\"\"\n",
    "        batch_size = queries.size(0)\n",
    "        input_lengths = values.size(1)\n",
    "        # (N, To, H) * (N, H, Ti) -> (N, To, Ti)\n",
    "        attention_scores = torch.bmm(queries, values.transpose(1, 2))\n",
    "        attention_distribution = Fi.softmax(\n",
    "            attention_scores.view(-1, input_lengths), dim=1).view(batch_size, -1, input_lengths)\n",
    "        # (N, To, Ti) * (N, Ti, H) -> (N, To, H)\n",
    "        attention_output = torch.bmm(attention_distribution, values)\n",
    "\n",
    "        return attention_output, attention_distribution\n",
    "\n",
    "\n",
    "class Decoder(nn.Module):\n",
    "    def __init__(self, vocab_size, embedding_dim, hidden_size, num_layers=1):\n",
    "        super(Decoder, self).__init__()\n",
    "        # Hyper parameters\n",
    "        # embedding + output\n",
    "        self.vocab_size = vocab_size\n",
    "        self.embedding_dim = embedding_dim\n",
    "        # rnn\n",
    "        self.hidden_size = hidden_size\n",
    "        self.num_layers = num_layers\n",
    "        self.encoder_hidden_size = hidden_size  # must be equal now\n",
    "        # Components\n",
    "        self.embedding = nn.Embedding(self.vocab_size, self.embedding_dim)\n",
    "        self.rnn = nn.ModuleList()\n",
    "        self.rnn += [nn.LSTMCell(self.embedding_dim +\n",
    "                                 self.encoder_hidden_size, self.hidden_size)]\n",
    "        for l in range(1, self.num_layers):\n",
    "            self.rnn += [nn.LSTMCell(self.hidden_size, self.hidden_size)]\n",
    "        self.attention = DotProductAttention()\n",
    "        self.mlp = nn.Sequential(\n",
    "            nn.Linear(self.encoder_hidden_size + self.hidden_size,\n",
    "                      self.hidden_size),\n",
    "            nn.Tanh(),\n",
    "            nn.Linear(self.hidden_size, self.vocab_size))\n",
    "\n",
    "    def zero_state(self, encoder_padded_outputs, H=None):\n",
    "        N = encoder_padded_outputs.size(0)\n",
    "        H = self.hidden_size if H == None else H\n",
    "        return encoder_padded_outputs.new_zeros(N, H)\n",
    "    \n",
    "    def pad_list(self,xs, pad_value):\n",
    "        # From: espnet/src/nets/e2e_asr_th.py: pad_list()\n",
    "        n_batch = len(xs)\n",
    "        max_len = max(x.size(0) for x in xs)\n",
    "        pad = xs[0].new(n_batch, max_len, *xs[0].size()[1:]).fill_(pad_value)\n",
    "        for i in range(n_batch):\n",
    "            pad[i, :xs[i].size(0)] = xs[i]\n",
    "        return pad\n",
    "\n",
    "    def forward(self, padded_input, encoder_padded_outputs):\n",
    "        \"\"\"\n",
    "        Args:\n",
    "            padded_input: N x To\n",
    "            # encoder_hidden: (num_layers * num_directions) x N x H\n",
    "            encoder_padded_outputs: N x Ti x H\n",
    "        Returns:\n",
    "        \"\"\"\n",
    "        # *********Get Input and Output\n",
    "        # from espnet/Decoder.forward()\n",
    "        ys = [y[y != PAD_token] for y in padded_input]  # parse padded ys\n",
    "        # prepare input and output word sequences with sos/eos IDs\n",
    "\n",
    "        # padding for ys with -1\n",
    "        # pys: utt x olen\n",
    "        sos = ys[0].new([SOS_token])\n",
    "        eos = ys[0].new([EOS_token])\n",
    "        ys_in = [torch.cat([sos, y], dim=0) for y in ys]\n",
    "        ys_out = [torch.cat([y, eos], dim=0) for y in ys]\n",
    "     \n",
    "        ys_in_pad = self.pad_list(ys_in, EOS_token)\n",
    "        ys_out_pad = self.pad_list(ys_out, PAD_token)\n",
    "\n",
    "        assert ys_in_pad.size() == ys_out_pad.size()\n",
    "        batch_size = ys_in_pad.size(0)\n",
    "        output_length = ys_in_pad.size(1)\n",
    "\n",
    "        # *********Init decoder rnn\n",
    "        h_list = [self.zero_state(encoder_padded_outputs)]\n",
    "        c_list = [self.zero_state(encoder_padded_outputs)]\n",
    "        for l in range(1, self.num_layers):\n",
    "            h_list.append(self.zero_state(encoder_padded_outputs))\n",
    "            c_list.append(self.zero_state(encoder_padded_outputs))\n",
    "        att_c = self.zero_state(encoder_padded_outputs,\n",
    "                                H=encoder_padded_outputs.size(2))\n",
    "        y_all = []\n",
    "\n",
    "        # **********LAS: 1. decoder rnn 2. attention 3. concate and MLP\n",
    "        embedded = self.embedding(ys_in_pad)\n",
    "        for t in range(output_length):\n",
    "            # step 1. decoder RNN: s_i = RNN(s_i−1,y_i−1,c_i−1)\n",
    "            rnn_input = torch.cat((embedded[:, t, :], att_c), dim=1)\n",
    "#             print(rnn_input.size(),embedded.size(),att_c.size())\n",
    "            h_list[0], c_list[0] = self.rnn[0](\n",
    "                rnn_input, (h_list[0], c_list[0]))\n",
    "            for l in range(1, self.num_layers):\n",
    "                h_list[l], c_list[l] = self.rnn[l](\n",
    "                    h_list[l - 1], (h_list[l], c_list[l]))\n",
    "            rnn_output = h_list[-1]  # below unsqueeze: (N x H) -> (N x 1 x H)\n",
    "            # step 2. attention: c_i = AttentionContext(s_i,h)\n",
    "            att_c, att_w = self.attention(rnn_output.unsqueeze(dim=1),\n",
    "                                          encoder_padded_outputs)\n",
    "            att_c = att_c.squeeze(dim=1)\n",
    "            # step 3. concate s_i and c_i, and input to MLP\n",
    "            mlp_input = torch.cat((rnn_output, att_c), dim=1)\n",
    "            predicted_y_t = self.mlp(mlp_input)\n",
    "            y_all.append(predicted_y_t)\n",
    "\n",
    "        y_all = torch.stack(y_all, dim=1)  # N x To x C\n",
    "\n",
    "        # **********Cross Entropy Loss\n",
    "        # F.cross_entropy = NLL(log_softmax(input), target))\n",
    "        y_all = y_all.view(batch_size * output_length, self.vocab_size)\n",
    "#         ce_loss = F.cross_entropy(y_all, ys_out_pad.view(-1),\n",
    "#                                   ignore_index=PAD_token,\n",
    "#                                   reduction='mean')\n",
    "\n",
    "        return y_all, ys_out_pad.view(-1)\n",
    "\n",
    "    def recognize_beam(self, encoder_outputs, beam =1,nbest=3):\n",
    "        \"\"\"Beam search, decode one utterence now.\n",
    "        Args:\n",
    "            encoder_outputs: T x H\n",
    "            char_list: list of character\n",
    "            args: args.beam\n",
    "        Returns:\n",
    "            nbest_hyps:\n",
    "        \"\"\"\n",
    "        maxlen = 100\n",
    "\n",
    "        # *********Init decoder rnn\n",
    "        h_list = [self.zero_state(encoder_outputs.unsqueeze(0))]\n",
    "        c_list = [self.zero_state(encoder_outputs.unsqueeze(0))]\n",
    "        for l in range(1, self.num_layers):\n",
    "            h_list.append(self.zero_state(encoder_outputs.unsqueeze(0)))\n",
    "            c_list.append(self.zero_state(encoder_outputs.unsqueeze(0)))\n",
    "        att_c = self.zero_state(encoder_outputs.unsqueeze(0),\n",
    "                                H=encoder_outputs.unsqueeze(0).size(2))\n",
    "        # prepare sos\n",
    "        y = SOS_token\n",
    "        vy = encoder_outputs.new_zeros(1).long()\n",
    "\n",
    "        hyp = {'score': 0.0, 'yseq': [y], 'c_prev': c_list, 'h_prev': h_list,\n",
    "               'a_prev': att_c}\n",
    "        hyps = [hyp]\n",
    "        ended_hyps = []\n",
    "\n",
    "        for i in range(maxlen):\n",
    "            hyps_best_kept = []\n",
    "            for hyp in hyps:\n",
    "                # vy.unsqueeze(1)\n",
    "                vy[0] = hyp['yseq'][i]\n",
    "                embedded = self.embedding(vy)\n",
    "                # embedded.unsqueeze(0)\n",
    "\n",
    "                # step 1. decoder RNN: s_i = RNN(s_i−1,y_i−1,c_i−1)\n",
    "                rnn_input = torch.cat((embedded, hyp['a_prev']), dim=1)\n",
    "                h_list[0], c_list[0] = self.rnn[0](\n",
    "                    rnn_input, (hyp['h_prev'][0], hyp['c_prev'][0]))\n",
    "                for l in range(1, self.num_layers):\n",
    "                    h_list[l], c_list[l] = self.rnn[l](\n",
    "                        h_list[l - 1], (hyp['h_prev'][l], hyp['c_prev'][l]))\n",
    "                rnn_output = h_list[-1]\n",
    "\n",
    "                # step 2. attention: c_i = AttentionContext(s_i,h)\n",
    "                # below unsqueeze: (N x H) -> (N x 1 x H)\n",
    "                att_c, att_w = self.attention(rnn_output.unsqueeze(dim=1),\n",
    "                                              encoder_outputs.unsqueeze(0))\n",
    "                att_c = att_c.squeeze(dim=1)\n",
    "\n",
    "                # step 3. concate s_i and c_i, and input to MLP\n",
    "                mlp_input = torch.cat((rnn_output, att_c), dim=1)\n",
    "                predicted_y_t = self.mlp(mlp_input)\n",
    "                local_scores = Fi.log_softmax(predicted_y_t, dim=1)\n",
    "                # topk scores\n",
    "                local_best_scores, local_best_ids = torch.topk(\n",
    "                    local_scores, beam, dim=1)\n",
    "\n",
    "                for j in range(beam):\n",
    "                    new_hyp = {}\n",
    "                    new_hyp['h_prev'] = h_list[:]\n",
    "                    new_hyp['c_prev'] = c_list[:]\n",
    "                    new_hyp['a_prev'] = att_c[:]\n",
    "                    new_hyp['score'] = hyp['score'] + local_best_scores[0, j]\n",
    "                    new_hyp['yseq'] = [0] * (1 + len(hyp['yseq']))\n",
    "                    new_hyp['yseq'][:len(hyp['yseq'])] = hyp['yseq']\n",
    "                    new_hyp['yseq'][len(hyp['yseq'])] = int(\n",
    "                        local_best_ids[0, j])\n",
    "                    # will be (2 x beam) hyps at most\n",
    "                    hyps_best_kept.append(new_hyp)\n",
    "\n",
    "                hyps_best_kept = sorted(hyps_best_kept,\n",
    "                                        key=lambda x: x['score'],\n",
    "                                        reverse=True)[:beam]\n",
    "            # end for hyp in hyps\n",
    "            hyps = hyps_best_kept\n",
    "\n",
    "            # add eos in the final loop to avoid that there are no ended hyps\n",
    "            if i == maxlen - 1:\n",
    "                for hyp in hyps:\n",
    "                    hyp['yseq'].append(EOS_token)\n",
    "\n",
    "            # add ended hypothes to a final list, and removed them from current hypothes\n",
    "            # (this will be a probmlem, number of hyps < beam)\n",
    "            remained_hyps = []\n",
    "            for hyp in hyps:\n",
    "                if hyp['yseq'][-1] == EOS_token:\n",
    "                    # hyp['score'] += (i + 1) * penalty\n",
    "                    ended_hyps.append(hyp)\n",
    "                else:\n",
    "                    remained_hyps.append(hyp)\n",
    "\n",
    "            hyps = remained_hyps\n",
    "            if len(hyps) > 0:\n",
    "                pass\n",
    "                # print('remeined hypothes: ' + str(len(hyps)))\n",
    "            else:\n",
    "                # print('no hypothesis. Finish decoding.')\n",
    "                break\n",
    "\n",
    "            # for hyp in hyps:\n",
    "            #     print('hypo: ' + ''.join([char_list[int(x)]\n",
    "            #                               for x in hyp['yseq'][1:]]))\n",
    "        # end for i in range(maxlen)\n",
    "        nbest_hyps = sorted(ended_hyps, key=lambda x: x['score'], reverse=True)[\n",
    "                     :min(len(ended_hyps), nbest)]\n",
    "        return nbest_hyps\n"
   ]
  },
  {
   "cell_type": "code",
   "execution_count": 11,
   "id": "c4b53798",
   "metadata": {},
   "outputs": [],
   "source": [
    "PAD_token = dictOfchar['PAD']\n",
    "EOS_token = dictOfchar['EOS']\n",
    "SOS_token = dictOfchar['SOS']\n",
    "\n",
    "device = torch.device(\"cuda\" if torch.cuda.is_available() else \"cpu\")\n",
    "yuck =[]\n",
    "hmm = []\n",
    "jk=[]\n",
    "\n",
    "def train(features, encoder, decoder, optimizer, criterion):\n",
    "    encoder.train()\n",
    "    decoder.train()\n",
    "\n",
    "    optimizer.zero_grad()\n",
    "    \n",
    "    \n",
    "    input_tensor = features[0].float().to(device)\n",
    "    target_tensor = features[1].long().to(device)\n",
    "    input_length = features[2].long().to(device)\n",
    "        \n",
    "    \n",
    "    batch_size = input_tensor.size(0)\n",
    "    \n",
    "    encoder_output, encoder_hidden = encoder(input_tensor,input_length)\n",
    "    pred,actual = decoder(target_tensor,encoder_output)\n",
    "    loss = criterion(pred,actual,ignore_index=PAD_token,reduction='mean')\n",
    "#     loss = loss[loss>0].sum()/batch_size\n",
    "# #     print(loss)\n",
    "# #     yuck.append(criterion(pred,actual,ignore_index=PAD_token,reduction='none'))\n",
    "  \n",
    "    loss.backward()\n",
    "    optimizer.step()\n",
    "        \n",
    "\n",
    "    return loss.item()\n",
    "\n",
    "\n",
    "def validate(features, encoder, decoder, optimizer, criterion):\n",
    "    encoder.eval()\n",
    "    decoder.eval()\n",
    "\n",
    "    \n",
    "    \n",
    "    input_tensor = features[0].float().to(device)\n",
    "    target_tensor = features[1].long().to(device)\n",
    "    input_length = features[2].long().to(device)\n",
    "        \n",
    "    \n",
    "    batch_size = input_tensor.size(0)\n",
    "    \n",
    "    encoder_output, encoder_hidden = encoder(input_tensor,input_length)\n",
    "    pred,actual = decoder(target_tensor,encoder_output)\n",
    "    loss = criterion(pred,actual,ignore_index=PAD_token,reduction='mean')\n",
    "#     loss = loss[loss>0].sum()/batch_size\n",
    "# #     print(loss)\n",
    "# #     yuck.append(criterion(pred,actual,ignore_index=PAD_token,reduction='none'))\n",
    "\n",
    "    return loss"
   ]
  },
  {
   "cell_type": "code",
   "execution_count": null,
   "id": "0a27ad53",
   "metadata": {},
   "outputs": [],
   "source": []
  },
  {
   "cell_type": "code",
   "execution_count": 8,
   "id": "79eb0847",
   "metadata": {},
   "outputs": [],
   "source": [
    "import time\n",
    "import math\n",
    "\n",
    "\n",
    "def asMinutes(s):\n",
    "    m = math.floor(s / 60)\n",
    "    s -= m * 60\n",
    "    return '%dm %ds' % (m, s)\n",
    "\n",
    "\n",
    "def timeSince(since, percent):\n",
    "    now = time.time()\n",
    "    s = now - since\n",
    "    es = s / (percent)\n",
    "    rs = es - s\n",
    "    return '%s (- %s)' % (asMinutes(s), asMinutes(rs))"
   ]
  },
  {
   "cell_type": "code",
   "execution_count": null,
   "id": "18e6fc43",
   "metadata": {},
   "outputs": [],
   "source": []
  },
  {
   "cell_type": "code",
   "execution_count": 23,
   "id": "6af292ac",
   "metadata": {},
   "outputs": [],
   "source": [
    "import matplotlib.pyplot as plt\n",
    "plt.switch_backend('agg')\n",
    "import matplotlib.ticker as ticker\n",
    "import numpy as np\n",
    "\n",
    "plot_losses = []\n",
    "plot_losses_val = []\n",
    "\n",
    "def showPlot(points):\n",
    "    plt.figure()\n",
    "    fig, ax = plt.subplots()\n",
    "    # this locator puts ticks at regular intervals\n",
    "    loc = ticker.MultipleLocator(base=0.2)\n",
    "    ax.yaxis.set_major_locator(loc)\n",
    "    plt.plot(points)\n",
    "    \n",
    "    \n",
    "def save_checkpoint(epoch, encoder, decoder, optimizer, loss):\n",
    "    torch.save({\n",
    "            'epoch': epoch,\n",
    "            'encoder_state_dict': encoder.state_dict(),\n",
    "            'decoder_state_dict': decoder.state_dict(),\n",
    "            'optimizer_state_dict': optimizer.state_dict(),\n",
    "            'loss': loss,\n",
    "            }, '../models/output/model.pth')\n",
    "\n",
    "\n",
    "def trainIters(encoder, decoder, n_iters, print_every=1000, plot_every=100, learning_rate=0.001,reload=False):\n",
    "    start = time.time()\n",
    "    plot_losses = []\n",
    "    plot_losses_val = []\n",
    "    print_loss_total = 0  # Reset every print_every\n",
    "    plot_loss_total = 0  # Reset every plot_every\n",
    "    print_loss_total_val = 0\n",
    "    plot_loss_total_val =0\n",
    "    \n",
    "    \n",
    "    lns = len(transformed_dataset)\n",
    "    optimizer = torch.optim.Adam([{'params': encoder.parameters()}, {'params': decoder.parameters()}],\n",
    "                                         lr=learning_rate)\n",
    "    \n",
    "    if reload:\n",
    "        print(\"loading previously trained model\")\n",
    "        checkpoint = torch.load('../models/output/model.pth',map_location='cpu')\n",
    "        encoder.load_state_dict(checkpoint['encoder_state_dict'])\n",
    "        encoder = encoder.to(device)\n",
    "        decoder.load_state_dict(checkpoint['decoder_state_dict'])\n",
    "        decoder = decoder.to(device)\n",
    "        encoder.train()\n",
    "        decoder.train()\n",
    "        optimizer.load_state_dict(checkpoint['optimizer_state_dict'])\n",
    "        del checkpoint\n",
    "        torch.cuda.empty_cache()\n",
    "        \n",
    "        \n",
    "\n",
    "                      \n",
    "#     criterion = nn.NLLLoss()\n",
    "    criterion = Fi.cross_entropy\n",
    "    len_all = len(transformed_dataset)\n",
    "    len_train = int(0.8*len_all)\n",
    "    train_ds, val_ds = torch.utils.data.random_split(transformed_dataset, (len_train,len_all-len_train ))\n",
    "\n",
    "    \n",
    "\n",
    "\n",
    "    for i in range(1, n_iters):\n",
    "        rand_sampler = torch.utils.data.RandomSampler(val_ds)\n",
    "        train_sampler = DataLoader(train_ds, batch_size=32, sampler=rand_sampler,collate_fn=pad_collate)\n",
    "        \n",
    "#         rand_val_sampler = torch.utils.data.RandomSampler(val_ds)\n",
    "#         val_sampler = DataLoader(transformed_dataset, batch_size=10, sampler=rand_val_sampler,collate_fn=pad_collate)\n",
    "        \n",
    "        iterator = iter(train_sampler)        \n",
    "        features = iterator.next()            \n",
    "        loss = train(features, encoder, decoder, optimizer, criterion)\n",
    "        print_loss_total += loss\n",
    "        plot_loss_total += loss\n",
    "        \n",
    "        \n",
    "#         iter_val = iter(val_sampler)        \n",
    "#         features_val = iter_val.next()            \n",
    "#         loss_val = validate(features_val, encoder, decoder, optimizer, criterion)\n",
    "#         print_loss_total_val += loss_val\n",
    "#         plot_loss_total_val += loss_val\n",
    "\n",
    "        if i % print_every == 0:\n",
    "            print_loss_avg = print_loss_total / print_every\n",
    "            print_loss_total = 0\n",
    "            \n",
    "            print_loss_avg_val = print_loss_total_val / print_every\n",
    "            print_loss_total_val = 0\n",
    "            print('%s (%d %d%%) %.4f' % (timeSince(start, i/ n_iters),\n",
    "                                         i, i / n_iters * 100, print_loss_avg))\n",
    "            plot_losses.append(print_loss_avg)\n",
    "#             plot_losses_val.append(print_loss_avg_val)\n",
    "            save_checkpoint(i, encoder, decoder, optimizer, loss)\n",
    "            \n",
    "           \n",
    "            \n"
   ]
  },
  {
   "cell_type": "markdown",
   "id": "f291172d",
   "metadata": {},
   "source": [
    "# Train model"
   ]
  },
  {
   "cell_type": "code",
   "execution_count": 91,
   "id": "dbb40829",
   "metadata": {},
   "outputs": [],
   "source": [
    "rand_sampler = torch.utils.data.RandomSampler(transformed_dataset, num_samples=10, replacement=True)\n",
    "train_sampler = DataLoader(transformed_dataset, batch_size=10, sampler=rand_sampler,collate_fn=pad_collate)"
   ]
  },
  {
   "cell_type": "code",
   "execution_count": null,
   "id": "375b2b61",
   "metadata": {},
   "outputs": [],
   "source": [
    "DataLoader(transformed_dataset, batch_size=10,collate_fn=pad_collate,\n",
    "                        shuffle=True, num_workers=0)"
   ]
  },
  {
   "cell_type": "code",
   "execution_count": 23,
   "id": "53f71a81",
   "metadata": {},
   "outputs": [],
   "source": [
    "torch.cuda.empty_cache()"
   ]
  },
  {
   "cell_type": "code",
   "execution_count": 44,
   "id": "9681b7ff",
   "metadata": {},
   "outputs": [
    {
     "name": "stderr",
     "output_type": "stream",
     "text": [
      "/home/ubuntu/anaconda3/envs/oldtorch/lib/python3.8/site-packages/torch/serialization.py:401: UserWarning: Couldn't retrieve source code for container of type Encoder. It won't be checked for correctness upon loading.\n",
      "  warnings.warn(\"Couldn't retrieve source code for container of \"\n",
      "/home/ubuntu/anaconda3/envs/oldtorch/lib/python3.8/site-packages/torch/serialization.py:401: UserWarning: Couldn't retrieve source code for container of type Decoder. It won't be checked for correctness upon loading.\n",
      "  warnings.warn(\"Couldn't retrieve source code for container of \"\n",
      "/home/ubuntu/anaconda3/envs/oldtorch/lib/python3.8/site-packages/torch/serialization.py:401: UserWarning: Couldn't retrieve source code for container of type DotProductAttention. It won't be checked for correctness upon loading.\n",
      "  warnings.warn(\"Couldn't retrieve source code for container of \"\n"
     ]
    }
   ],
   "source": [
    "enc_path = \"enc_model_las_all\"\n",
    "torch.save(encoder, enc_path)\n",
    "dec_path = \"dec_model_las_all\"\n",
    "torch.save(decoder, dec_path)"
   ]
  },
  {
   "cell_type": "code",
   "execution_count": 50,
   "id": "39303090",
   "metadata": {},
   "outputs": [],
   "source": [
    "encoder1 = Encoder(80,40, 2, dropout=0.1, bidirectional=True).to(device)\n"
   ]
  },
  {
   "cell_type": "code",
   "execution_count": 51,
   "id": "68884918",
   "metadata": {},
   "outputs": [
    {
     "data": {
      "text/plain": [
       "Encoder(\n",
       "  (rnn): GRU(80, 40, num_layers=2, batch_first=True, dropout=0.1, bidirectional=True)\n",
       "  (rnn2): GRU(80, 10, batch_first=True, dropout=0.1, bidirectional=True)\n",
       ")"
      ]
     },
     "execution_count": 51,
     "metadata": {},
     "output_type": "execute_result"
    }
   ],
   "source": [
    "encoder1"
   ]
  },
  {
   "cell_type": "code",
   "execution_count": 35,
   "id": "b965130f",
   "metadata": {},
   "outputs": [],
   "source": [
    "enc_path = \"../models/output/enc_model_las\"\n",
    "torch.save(encoder.state_dict(), enc_path)\n",
    "dec_path = \"../models/output/dec_model_las\"\n",
    "torch.save(decoder.state_dict(), dec_path)"
   ]
  },
  {
   "cell_type": "code",
   "execution_count": 29,
   "id": "21136bdb",
   "metadata": {},
   "outputs": [
    {
     "name": "stdout",
     "output_type": "stream",
     "text": [
      "0m 53s (- 8m 5s) (100 10%) 0.4845\n",
      "1m 49s (- 7m 18s) (200 20%) 0.4901\n",
      "2m 43s (- 6m 22s) (300 30%) 0.4709\n",
      "3m 38s (- 5m 27s) (400 40%) 0.4790\n",
      "4m 32s (- 4m 32s) (500 50%) 0.4745\n",
      "5m 26s (- 3m 37s) (600 60%) 0.4681\n",
      "6m 19s (- 2m 42s) (700 70%) 0.4742\n",
      "7m 13s (- 1m 48s) (800 80%) 0.4686\n",
      "8m 6s (- 0m 54s) (900 90%) 0.4647\n"
     ]
    }
   ],
   "source": [
    "trainIters(encoder,decoder, 1000, print_every=100, plot_every=2000,learning_rate=0.00005)"
   ]
  },
  {
   "cell_type": "code",
   "execution_count": 33,
   "id": "7a7dc883",
   "metadata": {},
   "outputs": [],
   "source": [
    "import pickle"
   ]
  },
  {
   "cell_type": "code",
   "execution_count": 34,
   "id": "cce20fdd",
   "metadata": {},
   "outputs": [
    {
     "name": "stderr",
     "output_type": "stream",
     "text": [
      "/home/ubuntu/anaconda3/envs/oldtorch/lib/python3.8/site-packages/torch/storage.py:34: FutureWarning: pickle support for Storage will be removed in 1.5. Use `torch.save` instead\n",
      "  warnings.warn(\"pickle support for Storage will be removed in 1.5. Use `torch.save` instead\", FutureWarning)\n"
     ]
    }
   ],
   "source": [
    "with open('../models/output/encoder_vars_las.pkl', 'wb') as convert_file:\n",
    "    pickle.dump(encoder,convert_file)\n",
    "\n",
    "with open('../models/output/decoder_vars_las.pkl', 'wb') as convert_file:\n",
    "    pickle.dump(decoder,convert_file)"
   ]
  },
  {
   "cell_type": "code",
   "execution_count": null,
   "id": "cc1f56aa",
   "metadata": {},
   "outputs": [
    {
     "name": "stdout",
     "output_type": "stream",
     "text": [
      "10m 5s (- 191m 47s) (1000 5%) 2.0285\n",
      "20m 5s (- 180m 51s) (2000 10%) 1.5040\n",
      "30m 10s (- 170m 56s) (3000 15%) 1.3871\n",
      "40m 4s (- 160m 16s) (4000 20%) 1.3017\n",
      "49m 59s (- 149m 58s) (5000 25%) 1.2026\n",
      "59m 55s (- 139m 48s) (6000 30%) 1.0730\n",
      "69m 55s (- 129m 52s) (7000 35%) 0.9549\n"
     ]
    }
   ],
   "source": [
    "encoder = Encoder(80,128, 2, dropout=0.1, bidirectional=True).to(device)\n",
    "decoder = Decoder(vocab_size=29, embedding_dim=50, hidden_size=256, num_layers=4).to(device)\n",
    "\n",
    "trainIters(encoder,decoder, 20000, print_every=1000, plot_every=100,learning_rate=0.001,reload=False)"
   ]
  },
  {
   "cell_type": "code",
   "execution_count": 56,
   "id": "83de94cb",
   "metadata": {},
   "outputs": [
    {
     "name": "stdout",
     "output_type": "stream",
     "text": [
      "1m 39s (- 31m 26s) (100 5%) 95.2875\n",
      "3m 18s (- 29m 46s) (200 10%) 94.9309\n",
      "4m 57s (- 28m 5s) (300 15%) 94.9917\n",
      "6m 35s (- 26m 23s) (400 20%) 94.6034\n",
      "8m 16s (- 24m 48s) (500 25%) 94.2793\n"
     ]
    },
    {
     "ename": "KeyboardInterrupt",
     "evalue": "",
     "output_type": "error",
     "traceback": [
      "\u001b[0;31m---------------------------------------------------------------------------\u001b[0m",
      "\u001b[0;31mKeyboardInterrupt\u001b[0m                         Traceback (most recent call last)",
      "\u001b[0;32m<ipython-input-56-9c2c686ef17c>\u001b[0m in \u001b[0;36m<module>\u001b[0;34m\u001b[0m\n\u001b[0;32m----> 1\u001b[0;31m \u001b[0mtrainIters\u001b[0m\u001b[0;34m(\u001b[0m\u001b[0mencoder\u001b[0m\u001b[0;34m,\u001b[0m\u001b[0mdecoder\u001b[0m\u001b[0;34m,\u001b[0m \u001b[0;36m2000\u001b[0m\u001b[0;34m,\u001b[0m \u001b[0mprint_every\u001b[0m\u001b[0;34m=\u001b[0m\u001b[0;36m100\u001b[0m\u001b[0;34m,\u001b[0m \u001b[0mplot_every\u001b[0m\u001b[0;34m=\u001b[0m\u001b[0;36m2000\u001b[0m\u001b[0;34m,\u001b[0m\u001b[0mlearning_rate\u001b[0m\u001b[0;34m=\u001b[0m\u001b[0;36m0.005\u001b[0m\u001b[0;34m)\u001b[0m\u001b[0;34m\u001b[0m\u001b[0;34m\u001b[0m\u001b[0m\n\u001b[0m",
      "\u001b[0;32m<ipython-input-10-cbdb12e9a6fe>\u001b[0m in \u001b[0;36mtrainIters\u001b[0;34m(encoder, decoder, n_iters, print_every, plot_every, learning_rate)\u001b[0m\n\u001b[1;32m     36\u001b[0m \u001b[0;34m\u001b[0m\u001b[0m\n\u001b[1;32m     37\u001b[0m         \u001b[0mfeatures\u001b[0m \u001b[0;34m=\u001b[0m \u001b[0miterator\u001b[0m\u001b[0;34m.\u001b[0m\u001b[0mnext\u001b[0m\u001b[0;34m(\u001b[0m\u001b[0;34m)\u001b[0m\u001b[0;34m\u001b[0m\u001b[0;34m\u001b[0m\u001b[0m\n\u001b[0;32m---> 38\u001b[0;31m         loss = train(features, encoder,\n\u001b[0m\u001b[1;32m     39\u001b[0m                      decoder, encoder_optimizer, decoder_optimizer, criterion)\n\u001b[1;32m     40\u001b[0m         \u001b[0mprint_loss_total\u001b[0m \u001b[0;34m+=\u001b[0m \u001b[0mloss\u001b[0m\u001b[0;34m\u001b[0m\u001b[0;34m\u001b[0m\u001b[0m\n",
      "\u001b[0;32m<ipython-input-33-cf64e03c79ef>\u001b[0m in \u001b[0;36mtrain\u001b[0;34m(features, encoder, decoder, encoder_optimizer, decoder_optimizer, criterion)\u001b[0m\n\u001b[1;32m     22\u001b[0m \u001b[0;34m\u001b[0m\u001b[0m\n\u001b[1;32m     23\u001b[0m     \u001b[0mencoder_output\u001b[0m\u001b[0;34m,\u001b[0m \u001b[0mencoder_hidden\u001b[0m \u001b[0;34m=\u001b[0m \u001b[0mencoder\u001b[0m\u001b[0;34m(\u001b[0m\u001b[0minput_tensor\u001b[0m\u001b[0;34m,\u001b[0m\u001b[0minput_length\u001b[0m\u001b[0;34m)\u001b[0m\u001b[0;34m\u001b[0m\u001b[0;34m\u001b[0m\u001b[0m\n\u001b[0;32m---> 24\u001b[0;31m     \u001b[0mpred\u001b[0m\u001b[0;34m,\u001b[0m\u001b[0mactual\u001b[0m \u001b[0;34m=\u001b[0m \u001b[0mdecoder\u001b[0m\u001b[0;34m(\u001b[0m\u001b[0mtarget_tensor\u001b[0m\u001b[0;34m,\u001b[0m\u001b[0mencoder_output\u001b[0m\u001b[0;34m)\u001b[0m\u001b[0;34m\u001b[0m\u001b[0;34m\u001b[0m\u001b[0m\n\u001b[0m\u001b[1;32m     25\u001b[0m \u001b[0;34m\u001b[0m\u001b[0m\n\u001b[1;32m     26\u001b[0m \u001b[0;31m#     pred,actual = decoder(target_tensor,encoder_output)\u001b[0m\u001b[0;34m\u001b[0m\u001b[0;34m\u001b[0m\u001b[0;34m\u001b[0m\u001b[0m\n",
      "\u001b[0;32m~/anaconda3/envs/oldtorch/lib/python3.8/site-packages/torch/nn/modules/module.py\u001b[0m in \u001b[0;36m__call__\u001b[0;34m(self, *input, **kwargs)\u001b[0m\n\u001b[1;32m    548\u001b[0m             \u001b[0mresult\u001b[0m \u001b[0;34m=\u001b[0m \u001b[0mself\u001b[0m\u001b[0;34m.\u001b[0m\u001b[0m_slow_forward\u001b[0m\u001b[0;34m(\u001b[0m\u001b[0;34m*\u001b[0m\u001b[0minput\u001b[0m\u001b[0;34m,\u001b[0m \u001b[0;34m**\u001b[0m\u001b[0mkwargs\u001b[0m\u001b[0;34m)\u001b[0m\u001b[0;34m\u001b[0m\u001b[0;34m\u001b[0m\u001b[0m\n\u001b[1;32m    549\u001b[0m         \u001b[0;32melse\u001b[0m\u001b[0;34m:\u001b[0m\u001b[0;34m\u001b[0m\u001b[0;34m\u001b[0m\u001b[0m\n\u001b[0;32m--> 550\u001b[0;31m             \u001b[0mresult\u001b[0m \u001b[0;34m=\u001b[0m \u001b[0mself\u001b[0m\u001b[0;34m.\u001b[0m\u001b[0mforward\u001b[0m\u001b[0;34m(\u001b[0m\u001b[0;34m*\u001b[0m\u001b[0minput\u001b[0m\u001b[0;34m,\u001b[0m \u001b[0;34m**\u001b[0m\u001b[0mkwargs\u001b[0m\u001b[0;34m)\u001b[0m\u001b[0;34m\u001b[0m\u001b[0;34m\u001b[0m\u001b[0m\n\u001b[0m\u001b[1;32m    551\u001b[0m         \u001b[0;32mfor\u001b[0m \u001b[0mhook\u001b[0m \u001b[0;32min\u001b[0m \u001b[0mself\u001b[0m\u001b[0;34m.\u001b[0m\u001b[0m_forward_hooks\u001b[0m\u001b[0;34m.\u001b[0m\u001b[0mvalues\u001b[0m\u001b[0;34m(\u001b[0m\u001b[0;34m)\u001b[0m\u001b[0;34m:\u001b[0m\u001b[0;34m\u001b[0m\u001b[0;34m\u001b[0m\u001b[0m\n\u001b[1;32m    552\u001b[0m             \u001b[0mhook_result\u001b[0m \u001b[0;34m=\u001b[0m \u001b[0mhook\u001b[0m\u001b[0;34m(\u001b[0m\u001b[0mself\u001b[0m\u001b[0;34m,\u001b[0m \u001b[0minput\u001b[0m\u001b[0;34m,\u001b[0m \u001b[0mresult\u001b[0m\u001b[0;34m)\u001b[0m\u001b[0;34m\u001b[0m\u001b[0;34m\u001b[0m\u001b[0m\n",
      "\u001b[0;32m<ipython-input-35-ec59d395ae2b>\u001b[0m in \u001b[0;36mforward\u001b[0;34m(self, padded_input, encoder_padded_outputs)\u001b[0m\n\u001b[1;32m    123\u001b[0m             \u001b[0matt_c\u001b[0m \u001b[0;34m=\u001b[0m \u001b[0matt_c\u001b[0m\u001b[0;34m.\u001b[0m\u001b[0msqueeze\u001b[0m\u001b[0;34m(\u001b[0m\u001b[0mdim\u001b[0m\u001b[0;34m=\u001b[0m\u001b[0;36m1\u001b[0m\u001b[0;34m)\u001b[0m\u001b[0;34m\u001b[0m\u001b[0;34m\u001b[0m\u001b[0m\n\u001b[1;32m    124\u001b[0m             \u001b[0;31m# step 3. concate s_i and c_i, and input to MLP\u001b[0m\u001b[0;34m\u001b[0m\u001b[0;34m\u001b[0m\u001b[0;34m\u001b[0m\u001b[0m\n\u001b[0;32m--> 125\u001b[0;31m             \u001b[0mmlp_input\u001b[0m \u001b[0;34m=\u001b[0m \u001b[0mtorch\u001b[0m\u001b[0;34m.\u001b[0m\u001b[0mcat\u001b[0m\u001b[0;34m(\u001b[0m\u001b[0;34m(\u001b[0m\u001b[0mrnn_output\u001b[0m\u001b[0;34m,\u001b[0m \u001b[0matt_c\u001b[0m\u001b[0;34m)\u001b[0m\u001b[0;34m,\u001b[0m \u001b[0mdim\u001b[0m\u001b[0;34m=\u001b[0m\u001b[0;36m1\u001b[0m\u001b[0;34m)\u001b[0m\u001b[0;34m\u001b[0m\u001b[0;34m\u001b[0m\u001b[0m\n\u001b[0m\u001b[1;32m    126\u001b[0m             \u001b[0mpredicted_y_t\u001b[0m \u001b[0;34m=\u001b[0m \u001b[0mself\u001b[0m\u001b[0;34m.\u001b[0m\u001b[0mmlp\u001b[0m\u001b[0;34m(\u001b[0m\u001b[0mmlp_input\u001b[0m\u001b[0;34m)\u001b[0m\u001b[0;34m\u001b[0m\u001b[0;34m\u001b[0m\u001b[0m\n\u001b[1;32m    127\u001b[0m             \u001b[0my_all\u001b[0m\u001b[0;34m.\u001b[0m\u001b[0mappend\u001b[0m\u001b[0;34m(\u001b[0m\u001b[0mpredicted_y_t\u001b[0m\u001b[0;34m)\u001b[0m\u001b[0;34m\u001b[0m\u001b[0;34m\u001b[0m\u001b[0m\n",
      "\u001b[0;31mKeyboardInterrupt\u001b[0m: "
     ]
    }
   ],
   "source": [
    "trainIters(encoder,decoder, 2000, print_every=100, plot_every=2000,learning_rate=0.005)"
   ]
  },
  {
   "cell_type": "code",
   "execution_count": 37,
   "id": "1e8b56b0",
   "metadata": {},
   "outputs": [
    {
     "name": "stdout",
     "output_type": "stream",
     "text": [
      "('sentences are built of nouns verbs and sometimes adjectives',) < SOS s e v e n   s i z z a   b e a r d   o f   n o s e   v o t e s   a n d   s o m e t i m e s   a d j e c t o r s EOS\n",
      "\n",
      "('add tomorrow is a long time to my playlist sueos',) < SOS i   h a v e   t o   m o r e   a n y t h i n g   t o   r e p l y   t h e   l i s t   s l a m EOS\n",
      "\n",
      "('he made it a habit to sell the installed organ after a short while',) < SOS h e   m a r r i e d   t h e   h e a v e d   t o   s e r v e   t h e   i n s t a l l e d   o v e r   a n   a f t e r n o o n   s h r u b   w i n e EOS\n",
      "\n",
      "('because my eyes are not yet accustomed to the desert the boy said',) < SOS b u t   t h e   l i g h t   i s   a n o t h e r   s u c c e s s f u l   t o   t h e   d e s e r t   t h e   b o y   s a i d EOS\n",
      "\n",
      "('got anything new on the hanging',) < SOS g o t   e n e r g y   n e a r   l o n g   a n d   i   n e e d EOS\n",
      "\n",
      "('two boys wearing matching blue polo shirts strike a goofy pose',) < SOS t o   b o y s   r a r e   m a t c h   i n   d r o p   o n   s h a r p s   s t r i k e   a t   g o o d   f e e d   p o s s e EOS\n",
      "\n",
      "('a young woman sitting on stepping stones in a small pond',) < SOS a   y o u n g   w a l l i n g   s i t t i n g   o n   s t e p p i n g   s o u n d s   i n   a   s m a l l   p a r t EOS\n",
      "\n",
      "('he didnt want to cry with the other people there',) < SOS i t   i s   o n e   t o   c r i e d   w i t h   t h e   u n d e r   t h e   a r e a EOS\n",
      "\n",
      "('please take my clothes as a gift',) < SOS l e s s   t a k e   m y   f l o o r s   a s   a   g i f t EOS\n",
      "\n",
      "('there was something about the old gentleman which puzzled and rather terrified me',) < SOS t h e r e   w e r e   s o m e t h i n g   a b o u t   t h e   o l d   c h a n n e l   m i n c h   p a s s e d   o f f   a n d   r e v e r e d   t h e i r   i d e a EOS\n",
      "\n"
     ]
    }
   ],
   "source": [
    "def evaluate(encoder, decoder, features, max_length=100, beam=1, nbest=1):\n",
    "    with torch.no_grad():\n",
    "        input_tensor = features[0]\n",
    "        target_tensor = features[1]\n",
    "        input_length = features[2]\n",
    "        \n",
    "        input_tensor = features[0].float().to(device)\n",
    "        target_tensor = features[1].long().to(device)\n",
    "        input_length = features[2].long().to(device)\n",
    "        \n",
    "#         checkpoint = torch.load('../models/output/model.pth',map_location=device)\n",
    "#         encoder.load_state_dict(checkpoint['encoder_state_dict'])\n",
    "        encoder.eval()\n",
    "#         decoder.load_state_dict(checkpoint['decoder_state_dict'])\n",
    "        decoder.eval()\n",
    "        \n",
    "        decoded_words = []\n",
    "\n",
    "\n",
    "        encoder_outputs, _ = encoder(input_tensor, input_length)\n",
    "        nbest_hyps = decoder.recognize_beam(encoder_outputs[0], beam, nbest)\n",
    "        if beam > 1:\n",
    "            word_index = nbest_hyps[0]['yseq']\n",
    "        else:\n",
    "            word_index = nbest_hyps[0]['yseq']\n",
    "        decoded_word = [dictOfindex[a] for a in word_index]\n",
    "\n",
    "    return decoded_word\n",
    "\n",
    "def evaluateRandomly(transformed_dataset,encoder, decoder, n=1):\n",
    "    samp_1 = DataLoader(transformed_dataset, batch_size=1, collate_fn=pad_collate,\n",
    "                        shuffle=True, num_workers=0)\n",
    "    iterator = iter(samp_1)\n",
    "    samp = iterator.next()\n",
    "\n",
    "    for i in range(n):\n",
    "        iterator = iter(samp_1)\n",
    "        samp = iterator.next()\n",
    "        actual = samp[3]\n",
    "        output_words = evaluate(encoder, decoder, samp, max_length=100)\n",
    "        output_sentence = ' '.join(output_words)\n",
    "        print(actual, '<', output_sentence)\n",
    "        print('')\n",
    "        \n",
    "evaluateRandomly(transformed_dataset,encoder, decoder, n=10)"
   ]
  },
  {
   "cell_type": "code",
   "execution_count": 55,
   "id": "ee14aeda",
   "metadata": {},
   "outputs": [],
   "source": [
    "def evaluate(encoder, decoder, features, max_length=100):\n",
    "    with torch.no_grad():\n",
    "        input_tensor = samp[0]\n",
    "        target_tensor = samp[1]\n",
    "        input_length = samp[2]\n",
    "        decoded_words = []\n",
    "        \n",
    "        input_tensor = features[0].float().to(device)\n",
    "        target_tensor = features[1].long().to(device)\n",
    "        input_length = features[2].long().to(device)\n",
    "        \n",
    "\n",
    "        encoder_output, encoder_hidden = encoder(input_tensor,input_length)\n",
    "        dec_input = torch.tensor([[SOS_token]], device=device)  # SOS\n",
    "        h_list = [encoder_hidden[0]] \n",
    "        c_list = [encoder_hidden[1]]\n",
    "        \n",
    "#         for l in range(1, decoder.num_layers):\n",
    "#             h_list.append(decoder.zero_state(encoder_output.unsqueeze(0)))\n",
    "#             c_list.append(decoder.zero_state(encoder_output.unsqueeze(0)))\n",
    "\n",
    "        for c in range(max_length):\n",
    "            decoder_input = decoder.embedding(dec_input)\n",
    "#             print(decoder_input.shape)\n",
    "#             print(decoder_input.shape)\n",
    "            h_list[0], c_list[0] = decoder.gru[0](decoder_input[:, 0, :], (h_list[0], c_list[0]))\n",
    "            \n",
    "#             for l in range(1, decoder.num_layers):\n",
    "#                 h_list[l], c_list[l] = decoder.gru[l](\n",
    "#                     h_list[l - 1], (h_list[l], c_list[l]))\n",
    "            \n",
    "            mlp_input = h_list[-1]\n",
    "            predicted_y_t = decoder.mlp(mlp_input)\n",
    "            local_scores = Fi.log_softmax(predicted_y_t, dim=1)\n",
    "            # topk scores\n",
    "            topv, topi  = torch.topk(local_scores,1,dim=1)\n",
    "#             print(torch.topk(local_scores,1,dim=1))\n",
    "            output_probs = torch.exp(local_scores)\n",
    "            if topi.item() == EOS_token:\n",
    "                decoded_words.append('EOS')\n",
    "                break\n",
    "            else:\n",
    "                decoded_words.append(dictOfindex[topi.item()])\n",
    "            dec_input = topi\n",
    "    return decoded_words"
   ]
  },
  {
   "cell_type": "code",
   "execution_count": 369,
   "id": "c4e27c8c",
   "metadata": {},
   "outputs": [],
   "source": [
    "PATH = \"/Users/dami.osoba/work/bawk/models/dec_model_new\"\n",
    "torch.save(decoder, PATH)"
   ]
  },
  {
   "cell_type": "code",
   "execution_count": 370,
   "id": "35396d01",
   "metadata": {},
   "outputs": [],
   "source": [
    "PATH = \"/Users/dami.osoba/work/bawk/models/enc_model_new\"\n",
    "torch.save(encoder, PATH)"
   ]
  },
  {
   "cell_type": "code",
   "execution_count": 50,
   "id": "6d840b9e",
   "metadata": {},
   "outputs": [
    {
     "data": {
      "text/plain": [
       "AttnDecoderRNN(\n",
       "  (embedding): Embedding(29, 20)\n",
       "  (attn): Linear(in_features=40, out_features=401, bias=True)\n",
       "  (attn_combine): Linear(in_features=40, out_features=20, bias=True)\n",
       "  (dropout): Dropout(p=0.1, inplace=False)\n",
       "  (gru): GRU(20, 20)\n",
       "  (out): Linear(in_features=20, out_features=29, bias=True)\n",
       ")"
      ]
     },
     "execution_count": 50,
     "metadata": {},
     "output_type": "execute_result"
    }
   ],
   "source": [
    "enmodel = torch.load(\"/Users/dami.osoba/work/bawk/models/enc_model\")\n",
    "enmodel.eval()\n",
    "\n",
    "decmodel = torch.load(\"/Users/dami.osoba/work/bawk/models/dec_model\")\n",
    "decmodel.eval()"
   ]
  },
  {
   "cell_type": "code",
   "execution_count": 59,
   "id": "9624dc75",
   "metadata": {},
   "outputs": [],
   "source": [
    "samp_1 = DataLoader(transformed_dataset, batch_size=1,collate_fn=pad_collate,\n",
    "                        shuffle=True, num_workers=0)\n",
    "iterator = iter(samp_1) \n",
    "samp = iterator.next()\n",
    "def evaluateRandomly(encoder, decoder, n=10):\n",
    "    for i in range(n):\n",
    "        iterator = iter(samp_1) \n",
    "        samp = iterator.next()\n",
    "        actual = samp[3]\n",
    "        output_words = evaluate(encoder, decoder, samp, max_length=100)\n",
    "        output_sentence = ' '.join(output_words[1:-1])\n",
    "        print(actual, '<', output_sentence)\n",
    "        print('')"
   ]
  },
  {
   "cell_type": "code",
   "execution_count": 350,
   "id": "871174a8",
   "metadata": {},
   "outputs": [
    {
     "data": {
      "text/plain": [
       "('leko resigned when checkmate was threatened',)"
      ]
     },
     "execution_count": 350,
     "metadata": {},
     "output_type": "execute_result"
    }
   ],
   "source": [
    "samp[3]"
   ]
  },
  {
   "cell_type": "code",
   "execution_count": 60,
   "id": "e1af3bbb",
   "metadata": {},
   "outputs": [
    {
     "name": "stdout",
     "output_type": "stream",
     "text": [
      "('march the soldiers past the next hill',) < r   r   r   r   r   r   r   r   r   r   r   r   r   r   r   r   r   r   r   r   r   r   r   r   r   r   r   r   r   r   r   r   r   r   r   r   r   r   r   r   r   r   r   r   r   r   r   r   r  \n",
      "\n",
      "('what else are you',) < r   r   r   r   r   r   r   r   r   r   r   r   r   r   r   r   r   r   r   r   r   r   r   r   r   r   r   r   r   r   r   r   r   r   r   r   r   r   r   r   r   r   r   r   r   r   r   r   r  \n",
      "\n",
      "('and id better read your books said the boy',) < r   r   r   r   r   r   r   r   r   r   r   r   r   r   r   r   r   r   r   r   r   r   r   r   r   r   r   r   r   r   r   r   r   r   r   r   r   r   r   r   r   r   r   r   r   r   r   r   r  \n",
      "\n",
      "('he personally participated in the crusade against egypt',) < r   r   r   r   r   r   r   r   r   r   r   r   r   r   r   r   r   r   r   r   r   r   r   r   r   r   r   r   r   r   r   r   r   r   r   r   r   r   r   r   r   r   r   r   r   r   r   r   r  \n",
      "\n",
      "('current board member of getableinc',) < r   r   r   r   r   r   r   r   r   r   r   r   r   r   r   r   r   r   r   r   r   r   r   r   r   r   r   r   r   r   r   r   r   r   r   r   r   r   r   r   r   r   r   r   r   r   r   r   r  \n",
      "\n",
      "('the frame line between the silent film frames was very thin',) < r   r   r   r   r   r   r   r   r   r   r   r   r   r   r   r   r   r   r   r   r   r   r   r   r   r   r   r   r   r   r   r   r   r   r   r   r   r   r   r   r   r   r   r   r   r   r   r   r  \n",
      "\n",
      "('the union troops entered tucson without any opposition',) < r   r   r   r   r   r   r   r   r   r   r   r   r   r   r   r   r   r   r   r   r   r   r   r   r   r   r   r   r   r   r   r   r   r   r   r   r   r   r   r   r   r   r   r   r   r   r   r   r  \n",
      "\n",
      "('six',) < r   r   r   r   r   r   r   r   r   r   r   r   r   r   r   r   r   r   r   r   r   r   r   r   r   r   r   r   r   r   r   r   r   r   r   r   r   r   r   r   r   r   r   r   r   r   r   r   r  \n",
      "\n",
      "('it wasnt much anyway',) < r   r   r   r   r   r   r   r   r   r   r   r   r   r   r   r   r   r   r   r   r   r   r   r   r   r   r   r   r   r   r   r   r   r   r   r   r   r   r   r   r   r   r   r   r   r   r   r   r  \n",
      "\n",
      "('a line of flame high can be seen in the atmosphere',) < r   r   r   r   r   r   r   r   r   r   r   r   r   r   r   r   r   r   r   r   r   r   r   r   r   r   r   r   r   r   r   r   r   r   r   r   r   r   r   r   r   r   r   r   r   r   r   r   r  \n",
      "\n"
     ]
    }
   ],
   "source": [
    "evaluateRandomly(encoder, decoder, n=10)"
   ]
  },
  {
   "cell_type": "code",
   "execution_count": 79,
   "id": "a120702d",
   "metadata": {},
   "outputs": [
    {
     "data": {
      "text/plain": [
       "'that might be all right.'"
      ]
     },
     "execution_count": 79,
     "metadata": {},
     "output_type": "execute_result"
    }
   ],
   "source": [
    "train_text[23]"
   ]
  },
  {
   "cell_type": "code",
   "execution_count": 77,
   "id": "63b68607",
   "metadata": {},
   "outputs": [
    {
     "name": "stdout",
     "output_type": "stream",
     "text": [
      "that might be all right < SOSthe dige tone<EOS>\n",
      "\n"
     ]
    }
   ],
   "source": [
    "predict(train_path[23],train_text[23],enmodel,decmodel)"
   ]
  },
  {
   "cell_type": "code",
   "execution_count": 76,
   "id": "ba5932a2",
   "metadata": {},
   "outputs": [],
   "source": [
    "def predict(wav_path,transcription,encoder,decoder):\n",
    "    # Use the model to predict the label of the waveform\n",
    "    waveform, _ = torchaudio.load(wav_path)\n",
    "    sentence = transcription.encode(encoding=\"ascii\",errors=\"ignore\").decode().translate(table_trans)\n",
    "    chars =[b for a in sentence for b in a]\n",
    "    coded = [28]+[char_dict.index(a) for a in chars]+[27]\n",
    "    sample['waveform'] =waveform\n",
    "    sample['transcription'] = coded\n",
    "    sample['sentence'] = sentence\n",
    "    transformer = MelSpec()\n",
    "    mels =transformer(sample)\n",
    "    ex =mels['waveform']\n",
    "    \n",
    "    output_words, attentions,_ = evaluate(encoder, decoder, ex)\n",
    "    output_sentence = ''.join(output_words)\n",
    "    return output_sentence\n",
    "    "
   ]
  },
  {
   "cell_type": "code",
   "execution_count": 67,
   "id": "2921f3e2",
   "metadata": {},
   "outputs": [],
   "source": [
    "def evaluate(encoder, decoder, tens, max_length=MAX_LENGTH):\n",
    "    with torch.no_grad():\n",
    "        input_tensor = tens\n",
    "        input_length = input_tensor.size(2)\n",
    "        encoder_hidden = encoder.initHidden()\n",
    "\n",
    "        encoder_outputs = torch.zeros(max_length, encoder.hidden_size, device=device)\n",
    "\n",
    "        encoder_output, encoder_hidden = encoder(input_tensor.reshape(1,1,80*401), encoder_hidden,MAX_LENGTH)\n",
    "\n",
    "\n",
    "        decoder_input = torch.tensor([[SOS_token]], device=device)  # SOS\n",
    "\n",
    "        decoder_hidden = encoder_hidden\n",
    "        decoder_output = encoder_hidden\n",
    "\n",
    "        decoded_words = []\n",
    "        decoder_attentions = torch.zeros(max_length, max_length)\n",
    "\n",
    "        for di in range(max_length):\n",
    "            decoder_output, decoder_hidden, decoder_attention,decoder_probs = decoder(\n",
    "                decoder_input, decoder_hidden, encoder_outputs)\n",
    "            decoder_attentions[di] = decoder_attention.data\n",
    "            topv, topi = decoder_output.data.topk(1)\n",
    "            yay = torch.distributions.categorical.Categorical(decoder_probs)\n",
    "            topi = yay.sample()\n",
    "            if topi.item() == EOS_token:\n",
    "                decoded_words.append('<EOS>')\n",
    "                break\n",
    "            else:\n",
    "                decoded_words.append(dictOfindex[topi.item()])\n",
    "\n",
    "            decoder_input = topi.squeeze().detach()\n",
    "\n",
    "        return decoded_words, decoder_attentions[:di + 1],decoder_output"
   ]
  },
  {
   "cell_type": "code",
   "execution_count": 34,
   "id": "e563ee97",
   "metadata": {},
   "outputs": [],
   "source": [
    "def evaluateRandomly(encoder, decoder, n=10):\n",
    "    for i in range(n):\n",
    "        choice = np.random.randint(200)\n",
    "        print(choice)\n",
    "        actual = transformed_dataset[choice]['sentence']\n",
    "        ex = transformed_dataset[choice]['waveform']\n",
    "        output_words, attentions,_ = evaluate(encoder, decoder, ex)\n",
    "        output_sentence = ''.join(output_words)\n",
    "        print(actual, '<', output_sentence)\n",
    "        print('')"
   ]
  },
  {
   "cell_type": "markdown",
   "id": "8c23854a",
   "metadata": {},
   "source": [
    "# Really bad model"
   ]
  },
  {
   "cell_type": "code",
   "execution_count": 39,
   "id": "9862442e",
   "metadata": {},
   "outputs": [
    {
     "name": "stdout",
     "output_type": "stream",
     "text": [
      "168\n",
      "you said it to me too < SOSthet hy one ill ster a troulenpf<EOS>\n",
      "\n",
      "183\n",
      "now look what youve done < SOScoof honing ipler<EOS>\n",
      "\n",
      "13\n",
      "two < SOSyo lrlieb cowiovere zoon<EOS>\n",
      "\n",
      "62\n",
      "he disappeared into the tent < SOShegiver a of a the marze her erpeesen up eaniap browndoyrewid for adyorcrawntent witt dearntnged on u<EOS>\n",
      "\n",
      "166\n",
      "ill talk to you tonight < SOSyou poet fee hy odous courldengtas i sotellndingty on feny ontouenilhan<EOS>\n",
      "\n",
      "27\n",
      "how did it happen < SOSthee loong uperee right spigel ven<EOS>\n",
      "\n",
      "157\n",
      "richard has gone camping by himself < SOShe it fakrieve auntpy a seaits salingedirs t neees feccid<EOS>\n",
      "\n",
      "170\n",
      "what shall we do now < SOSwhot mir they inrey<EOS>\n",
      "\n",
      "152\n",
      "good weekend is edited by amelia lester < SOSjex do ge goes lhth<EOS>\n",
      "\n",
      "11\n",
      "say what you have got to say < SOSser<EOS>\n",
      "\n"
     ]
    }
   ],
   "source": [
    "evaluateRandomly(encoder1, attn_decoder1)\n"
   ]
  },
  {
   "cell_type": "code",
   "execution_count": null,
   "id": "0199baf1",
   "metadata": {},
   "outputs": [],
   "source": []
  },
  {
   "cell_type": "code",
   "execution_count": null,
   "id": "91f8daa0",
   "metadata": {},
   "outputs": [],
   "source": []
  }
 ],
 "metadata": {
  "kernelspec": {
   "display_name": "Python (ex)",
   "language": "python",
   "name": "ex"
  },
  "language_info": {
   "codemirror_mode": {
    "name": "ipython",
    "version": 3
   },
   "file_extension": ".py",
   "mimetype": "text/x-python",
   "name": "python",
   "nbconvert_exporter": "python",
   "pygments_lexer": "ipython3",
   "version": "3.8.10"
  }
 },
 "nbformat": 4,
 "nbformat_minor": 5
}
