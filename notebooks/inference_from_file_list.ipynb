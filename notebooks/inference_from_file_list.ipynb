{
 "cells": [
  {
   "cell_type": "code",
   "execution_count": 1,
   "id": "e33d8f17",
   "metadata": {},
   "outputs": [],
   "source": [
    "import sys  \n",
    "sys.path.insert(0, '/home/ubuntu/bawk/models')"
   ]
  },
  {
   "cell_type": "code",
   "execution_count": 2,
   "id": "ba28118b",
   "metadata": {},
   "outputs": [
    {
     "name": "stderr",
     "output_type": "stream",
     "text": [
      "################################################################################\n",
      "### WARNING, path does not exist: KALDI_ROOT=/mnt/matylda5/iveselyk/Tools/kaldi-trunk\n",
      "###          (please add 'export KALDI_ROOT=<your_path>' in your $HOME/.profile)\n",
      "###          (or run as: KALDI_ROOT=<your_path> python <your_script>.py)\n",
      "################################################################################\n",
      "\n"
     ]
    }
   ],
   "source": [
    "from seqtoseq_v2 import *\n",
    "from  create_dataset import *\n",
    "from train_v2 import trainIters\n",
    "from predict_v2 import evaluateRandomly, inference_from_file\n",
    "import torch\n",
    "import librosa"
   ]
  },
  {
   "cell_type": "code",
   "execution_count": 3,
   "id": "2d439860",
   "metadata": {},
   "outputs": [],
   "source": [
    "device = torch.device(\"cuda\" if torch.cuda.is_available() else \"cpu\")"
   ]
  },
  {
   "cell_type": "code",
   "execution_count": 4,
   "id": "c5e32807",
   "metadata": {},
   "outputs": [],
   "source": [
    "encoder = Encoder(80,40, 2, dropout=0.1, bidirectional=True).to(device)\n",
    "decoder = Decoder(vocab_size=29, embedding_dim=15, hidden_size=20, num_layers=2).to(device)"
   ]
  },
  {
   "cell_type": "code",
   "execution_count": 5,
   "id": "fc80f82c",
   "metadata": {},
   "outputs": [
    {
     "data": {
      "text/plain": [
       "Decoder(\n",
       "  (embedding): Embedding(29, 15)\n",
       "  (rnn): ModuleList(\n",
       "    (0): LSTMCell(35, 20)\n",
       "    (1): LSTMCell(20, 20)\n",
       "  )\n",
       "  (attention): DotProductAttention()\n",
       "  (mlp): Sequential(\n",
       "    (0): Linear(in_features=40, out_features=20, bias=True)\n",
       "    (1): Tanh()\n",
       "    (2): Linear(in_features=20, out_features=29, bias=True)\n",
       "  )\n",
       ")"
      ]
     },
     "execution_count": 5,
     "metadata": {},
     "output_type": "execute_result"
    }
   ],
   "source": [
    "enc_path = '../models/output/enc_model_las'\n",
    "encoder.load_state_dict(torch.load(enc_path))\n",
    "encoder.eval()\n",
    "\n",
    "dec_path = '../models/output/dec_model_las'\n",
    "decoder.load_state_dict(torch.load(dec_path))\n",
    "decoder.eval()"
   ]
  },
  {
   "cell_type": "code",
   "execution_count": 6,
   "id": "84b5e224",
   "metadata": {},
   "outputs": [],
   "source": [
    "curated = ['/home/ubuntu/wav_clips/common_voice_en_17849044.wav',\n",
    "           '/home/ubuntu/wav_clips/common_voice_en_19787247.wav',\n",
    "           '/home/ubuntu/wav_clips/common_voice_en_22270958.wav']\n",
    "processed_files = [mel_from_wav(a).unsqueeze(0) for a in curated]"
   ]
  },
  {
   "cell_type": "code",
   "execution_count": 7,
   "id": "972799fd",
   "metadata": {},
   "outputs": [],
   "source": [
    "def evaluate_from_file(encoder, decoder, features,beam=5, nbest=5):\n",
    "    with torch.no_grad():\n",
    "        input_tensor = features.to(device)\n",
    "        input_length = torch.tensor([features.size(1)], device=device) \n",
    "        decoded_words = []\n",
    "\n",
    "        encoder_outputs, _ = encoder(input_tensor, input_length)\n",
    "        nbest_hyps = decoder.recognize_beam(encoder_outputs[0], beam, nbest)\n",
    "        word_index = nbest_hyps[0]['yseq']\n",
    "        decoded_word = [dictOfindex[a] for a in word_index]\n",
    "\n",
    "    return decoded_word"
   ]
  },
  {
   "cell_type": "code",
   "execution_count": 10,
   "id": "eac0f275",
   "metadata": {},
   "outputs": [],
   "source": [
    "def transcribe(lists):\n",
    "    for data in lists:\n",
    "        top_words =\" \".join(evaluate_from_file(encoder, decoder,data)[1:-1])\n",
    "        print(top_words)\n",
    "        print(\"########\\n\")\n"
   ]
  },
  {
   "cell_type": "code",
   "execution_count": 11,
   "id": "59f1848b",
   "metadata": {},
   "outputs": [
    {
     "name": "stdout",
     "output_type": "stream",
     "text": [
      "t h e   t o m e   t h e   t o m e   t h e   t o m e   t h e   t o m e   t h e   t o m e   t h e   t o m e   t h e   t o m e   t h e   t o m e   t h e   t o m e   t h e   t o m e   t h e   t o m e   t h e   t o m e   t h e   t o m e   t h e   t o m e   t h e   t o m e   t h e   t o m e   t h e   t o m e   t h e   t o m e   t h e   t o m e   t h e   t o m e   t h e   t o m e   t h e   t o m e   t h e   t o m e   t h e   t o m e   t h e   t o m e   t h e   t o m e   t h e   t o m e   t h e   t o m e   t h e   t o m e   t h e   t o m e   t h e   t o m e   t h e   t o m e   t h e   t o m e   t h e   t o m e   t h e   t o m e   t h e   t o m e   t h e   t o m e   t h e   t o m e   t h e   t o m e   t h e   t o m e   t h e   t o m e   t h e   t o m e   t h e   t o m e   t h e   t o m e   t h e   s\n",
      "########\n",
      "\n",
      "t h e   c o n s t e n   t h e   t o u n d   t h e   t o u n d   t h e   t o u n d   t h e   t o u n d   t h e   t o u n d   t h e   t o u n d   t h e   t o u n d   t h e   t o u n d   t h e   t o u n d   t h e   t o u n d   t h e   t o u n d   t h e   t o u n d   t h e   t o u n d   t h e   t o u n d   t h e   t o u n d   t h e   t o u n d   t h e   t o u n d   t h e   t o u n d   t h e   t o u n d   t h e   t o u n d   t h e   t o u n d   t h e   t o u n d   t h e   t o u n d   t h e   t o u n d   t h e   t o u n d   t h e   t o u n d   t h e   t o u n d   t h e   t o u n d   t h e   t o u n d   t h e   t o u n d   t h e   t o u n d   t h e   t o u n d   t h e   t o u n d   t h e   t o u n d   t h e   t o u n d   t h e   t o u n d   t h e   t o u n d   t h e   t o u n d   t h e   t o m e  \n",
      "########\n",
      "\n",
      "t h e   t o u s   t h e   t o u n d   t h e   t o u n d   t h e   t o u n d   t h e   t o u n d   t h e   t o u n d   t h e   t o u n d   t h e   t o u n d   t h e   t o u n d   t h e   t o u n d   t h e   t o u n d   t h e   t o u n d   t h e   t o u n d   t h e   t o u n d   t h e   t o u n d   t h e   t o u n d   t h e   t o u n d   t h e   t o u n d   t h e   t o u n d   t h e   t o u n d   t h e   t o u n d   t h e   t o u n d   t h e   t o u n d   t h e   t o u n d   t h e   t o u n d   t h e   t o u n d   t h e   t o u n d   t h e   t o u n d   t h e   t o u n d   t h e   t o u n d   t h e   t o u n d   t h e   t o u n d   t h e   t o u n d   t h e   t o u n d   t h e   t o u n d   t h e   t o u n d   t h e   t o u n d   t h e   t o u n d   t h e   t o u n d   t h e   t o m e   t h e\n",
      "########\n",
      "\n"
     ]
    }
   ],
   "source": [
    "transcribe(processed_files)"
   ]
  },
  {
   "cell_type": "code",
   "execution_count": null,
   "id": "ac94315f",
   "metadata": {},
   "outputs": [],
   "source": []
  }
 ],
 "metadata": {
  "kernelspec": {
   "display_name": "Python (ex)",
   "language": "python",
   "name": "ex"
  },
  "language_info": {
   "codemirror_mode": {
    "name": "ipython",
    "version": 3
   },
   "file_extension": ".py",
   "mimetype": "text/x-python",
   "name": "python",
   "nbconvert_exporter": "python",
   "pygments_lexer": "ipython3",
   "version": "3.8.10"
  }
 },
 "nbformat": 4,
 "nbformat_minor": 5
}
