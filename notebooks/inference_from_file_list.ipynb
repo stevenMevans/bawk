{
 "cells": [
  {
   "cell_type": "code",
   "execution_count": 1,
   "id": "e33d8f17",
   "metadata": {},
   "outputs": [],
   "source": [
    "import sys  \n",
    "sys.path.insert(0, '/Users/dami.osoba/work/bawk/models')"
   ]
  },
  {
   "cell_type": "code",
   "execution_count": 2,
   "id": "ba28118b",
   "metadata": {},
   "outputs": [],
   "source": [
    "from  create_dataset import *\n",
    "from train import trainIters\n",
    "from predict import inference_from_file,evaluate\n",
    "import torch\n",
    "import librosa\n",
    "import pickle\n",
    "import os\n",
    "from constants import max_duration\n"
   ]
  },
  {
   "cell_type": "code",
   "execution_count": 3,
   "id": "c5e32807",
   "metadata": {},
   "outputs": [],
   "source": [
    "with open('../models/output/model_new/encoder_vars_new.pkl', 'rb') as convert_file:\n",
    "    encoder = pickle.load(convert_file)\n",
    "\n",
    "with open('../models/output/model_new/decoder_vars_new.pkl', 'rb') as convert_file:\n",
    "    decoder = pickle.load(convert_file)"
   ]
  },
  {
   "cell_type": "code",
   "execution_count": 4,
   "id": "fc80f82c",
   "metadata": {},
   "outputs": [
    {
     "data": {
      "text/plain": [
       "AttnDecoderRNN(\n",
       "  (embedding): Embedding(29, 256)\n",
       "  (attn): Linear(in_features=512, out_features=401, bias=True)\n",
       "  (attn_combine): Linear(in_features=512, out_features=256, bias=True)\n",
       "  (dropout): Dropout(p=0.1, inplace=False)\n",
       "  (gru): GRU(256, 256)\n",
       "  (out): Linear(in_features=256, out_features=29, bias=True)\n",
       ")"
      ]
     },
     "execution_count": 4,
     "metadata": {},
     "output_type": "execute_result"
    }
   ],
   "source": [
    "enc_path = '../models/output/model_new/enc_model_new'\n",
    "encoder.load_state_dict(torch.load(enc_path))\n",
    "encoder.eval()\n",
    "\n",
    "dec_path = '../models/output/model_new/dec_model_new'\n",
    "decoder.load_state_dict(torch.load(dec_path))\n",
    "decoder.eval()"
   ]
  },
  {
   "cell_type": "code",
   "execution_count": 6,
   "id": "e2b08950",
   "metadata": {},
   "outputs": [],
   "source": [
    "import pandas\n",
    "path =\"/Users/dami.osoba/work/bawk/small_dataset/small/CV_unpacked/cv-corpus-6.1-2020-12-11/en/validated.tsv\"\n",
    "validated = pd.read_csv(path,sep='\\t')"
   ]
  },
  {
   "cell_type": "code",
   "execution_count": 83,
   "id": "38c0d188",
   "metadata": {},
   "outputs": [
    {
     "data": {
      "text/html": [
       "<div>\n",
       "<style scoped>\n",
       "    .dataframe tbody tr th:only-of-type {\n",
       "        vertical-align: middle;\n",
       "    }\n",
       "\n",
       "    .dataframe tbody tr th {\n",
       "        vertical-align: top;\n",
       "    }\n",
       "\n",
       "    .dataframe thead th {\n",
       "        text-align: right;\n",
       "    }\n",
       "</style>\n",
       "<table border=\"1\" class=\"dataframe\">\n",
       "  <thead>\n",
       "    <tr style=\"text-align: right;\">\n",
       "      <th></th>\n",
       "      <th>client_id</th>\n",
       "      <th>path</th>\n",
       "      <th>sentence</th>\n",
       "      <th>up_votes</th>\n",
       "      <th>down_votes</th>\n",
       "      <th>age</th>\n",
       "      <th>gender</th>\n",
       "      <th>accent</th>\n",
       "      <th>locale</th>\n",
       "      <th>segment</th>\n",
       "    </tr>\n",
       "  </thead>\n",
       "  <tbody>\n",
       "    <tr>\n",
       "      <th>0</th>\n",
       "      <td>0013037a1d45cc33460806cc3f8ecee9d536c45639ba4c...</td>\n",
       "      <td>common_voice_en_699711.mp3</td>\n",
       "      <td>She'll be all right.</td>\n",
       "      <td>2</td>\n",
       "      <td>1</td>\n",
       "      <td>NaN</td>\n",
       "      <td>NaN</td>\n",
       "      <td>NaN</td>\n",
       "      <td>en</td>\n",
       "      <td>NaN</td>\n",
       "    </tr>\n",
       "    <tr>\n",
       "      <th>1</th>\n",
       "      <td>0014c5a3e5715a54855257779b89c2bb498d470b225866...</td>\n",
       "      <td>common_voice_en_21953345.mp3</td>\n",
       "      <td>six</td>\n",
       "      <td>3</td>\n",
       "      <td>2</td>\n",
       "      <td>NaN</td>\n",
       "      <td>NaN</td>\n",
       "      <td>NaN</td>\n",
       "      <td>en</td>\n",
       "      <td>Benchmark</td>\n",
       "    </tr>\n",
       "    <tr>\n",
       "      <th>2</th>\n",
       "      <td>001509f4624a7dee75247f6a8b642c4a0d09f8be3eeea6...</td>\n",
       "      <td>common_voice_en_18132047.mp3</td>\n",
       "      <td>All's well that ends well.</td>\n",
       "      <td>2</td>\n",
       "      <td>0</td>\n",
       "      <td>NaN</td>\n",
       "      <td>NaN</td>\n",
       "      <td>NaN</td>\n",
       "      <td>en</td>\n",
       "      <td>NaN</td>\n",
       "    </tr>\n",
       "    <tr>\n",
       "      <th>3</th>\n",
       "      <td>003fb666a99eb3aa3ba05d9c8641c18e55cf7d34d1b981...</td>\n",
       "      <td>common_voice_en_17263741.mp3</td>\n",
       "      <td>Do you mean it?</td>\n",
       "      <td>2</td>\n",
       "      <td>0</td>\n",
       "      <td>NaN</td>\n",
       "      <td>NaN</td>\n",
       "      <td>NaN</td>\n",
       "      <td>en</td>\n",
       "      <td>NaN</td>\n",
       "    </tr>\n",
       "    <tr>\n",
       "      <th>4</th>\n",
       "      <td>004017ba82a23768d58dff3b91da8e8f951ea5fb6d3cd9...</td>\n",
       "      <td>common_voice_en_17893917.mp3</td>\n",
       "      <td>The new patch is less invasive than the old on...</td>\n",
       "      <td>2</td>\n",
       "      <td>1</td>\n",
       "      <td>NaN</td>\n",
       "      <td>NaN</td>\n",
       "      <td>NaN</td>\n",
       "      <td>en</td>\n",
       "      <td>NaN</td>\n",
       "    </tr>\n",
       "  </tbody>\n",
       "</table>\n",
       "</div>"
      ],
      "text/plain": [
       "                                           client_id  \\\n",
       "0  0013037a1d45cc33460806cc3f8ecee9d536c45639ba4c...   \n",
       "1  0014c5a3e5715a54855257779b89c2bb498d470b225866...   \n",
       "2  001509f4624a7dee75247f6a8b642c4a0d09f8be3eeea6...   \n",
       "3  003fb666a99eb3aa3ba05d9c8641c18e55cf7d34d1b981...   \n",
       "4  004017ba82a23768d58dff3b91da8e8f951ea5fb6d3cd9...   \n",
       "\n",
       "                           path  \\\n",
       "0    common_voice_en_699711.mp3   \n",
       "1  common_voice_en_21953345.mp3   \n",
       "2  common_voice_en_18132047.mp3   \n",
       "3  common_voice_en_17263741.mp3   \n",
       "4  common_voice_en_17893917.mp3   \n",
       "\n",
       "                                            sentence  up_votes  down_votes  \\\n",
       "0                               She'll be all right.         2           1   \n",
       "1                                                six         3           2   \n",
       "2                         All's well that ends well.         2           0   \n",
       "3                                    Do you mean it?         2           0   \n",
       "4  The new patch is less invasive than the old on...         2           1   \n",
       "\n",
       "   age gender accent locale    segment  \n",
       "0  NaN    NaN    NaN     en        NaN  \n",
       "1  NaN    NaN    NaN     en  Benchmark  \n",
       "2  NaN    NaN    NaN     en        NaN  \n",
       "3  NaN    NaN    NaN     en        NaN  \n",
       "4  NaN    NaN    NaN     en        NaN  "
      ]
     },
     "execution_count": 83,
     "metadata": {},
     "output_type": "execute_result"
    }
   ],
   "source": [
    "validated.head()"
   ]
  },
  {
   "cell_type": "code",
   "execution_count": 7,
   "id": "d8155522",
   "metadata": {},
   "outputs": [],
   "source": [
    "fourth_pd = validated[validated['sentence'].astype('str')\\\n",
    "                      .apply(lambda x : any(a_string in x.split() for a_string in ['fourth','brain','hey']))]"
   ]
  },
  {
   "cell_type": "code",
   "execution_count": 8,
   "id": "8fb6493b",
   "metadata": {},
   "outputs": [
    {
     "data": {
      "text/html": [
       "<div>\n",
       "<style scoped>\n",
       "    .dataframe tbody tr th:only-of-type {\n",
       "        vertical-align: middle;\n",
       "    }\n",
       "\n",
       "    .dataframe tbody tr th {\n",
       "        vertical-align: top;\n",
       "    }\n",
       "\n",
       "    .dataframe thead th {\n",
       "        text-align: right;\n",
       "    }\n",
       "</style>\n",
       "<table border=\"1\" class=\"dataframe\">\n",
       "  <thead>\n",
       "    <tr style=\"text-align: right;\">\n",
       "      <th></th>\n",
       "      <th>client_id</th>\n",
       "      <th>path</th>\n",
       "      <th>sentence</th>\n",
       "      <th>up_votes</th>\n",
       "      <th>down_votes</th>\n",
       "      <th>age</th>\n",
       "      <th>gender</th>\n",
       "      <th>accent</th>\n",
       "      <th>locale</th>\n",
       "      <th>segment</th>\n",
       "    </tr>\n",
       "  </thead>\n",
       "  <tbody>\n",
       "    <tr>\n",
       "      <th>65</th>\n",
       "      <td>04a9076ba20997a616bf98eb6d5f87ffaf6b4afd16d2f8...</td>\n",
       "      <td>common_voice_en_16327.mp3</td>\n",
       "      <td>He took the fourth part and handed it to the m...</td>\n",
       "      <td>4</td>\n",
       "      <td>0</td>\n",
       "      <td>NaN</td>\n",
       "      <td>NaN</td>\n",
       "      <td>NaN</td>\n",
       "      <td>en</td>\n",
       "      <td>NaN</td>\n",
       "    </tr>\n",
       "    <tr>\n",
       "      <th>2365</th>\n",
       "      <td>aaf5d369593020eb67196c5902f44a0db2c54d74bcd2a4...</td>\n",
       "      <td>common_voice_en_20529338.mp3</td>\n",
       "      <td>Both the third Viscount and his younger brothe...</td>\n",
       "      <td>2</td>\n",
       "      <td>1</td>\n",
       "      <td>NaN</td>\n",
       "      <td>NaN</td>\n",
       "      <td>NaN</td>\n",
       "      <td>en</td>\n",
       "      <td>NaN</td>\n",
       "    </tr>\n",
       "    <tr>\n",
       "      <th>5578</th>\n",
       "      <td>349a5bba6fb45860ea8530d5e19d5aa69f212beb5f2f84...</td>\n",
       "      <td>common_voice_en_530181.mp3</td>\n",
       "      <td>The human brain is still not fully understood.</td>\n",
       "      <td>2</td>\n",
       "      <td>0</td>\n",
       "      <td>NaN</td>\n",
       "      <td>NaN</td>\n",
       "      <td>NaN</td>\n",
       "      <td>en</td>\n",
       "      <td>NaN</td>\n",
       "    </tr>\n",
       "    <tr>\n",
       "      <th>6398</th>\n",
       "      <td>4b815c71216f4a1d37e4074c8e7d4effd7ec15376a0faf...</td>\n",
       "      <td>common_voice_en_21126145.mp3</td>\n",
       "      <td>The fourth side bears an inscription to the me...</td>\n",
       "      <td>2</td>\n",
       "      <td>0</td>\n",
       "      <td>NaN</td>\n",
       "      <td>NaN</td>\n",
       "      <td>NaN</td>\n",
       "      <td>en</td>\n",
       "      <td>NaN</td>\n",
       "    </tr>\n",
       "    <tr>\n",
       "      <th>8213</th>\n",
       "      <td>7aa3df30c263b19600f1d3bb33e96913f101833a63ab2f...</td>\n",
       "      <td>common_voice_en_19609644.mp3</td>\n",
       "      <td>A fourth volume, \"The Blue Kremlin\", is projec...</td>\n",
       "      <td>2</td>\n",
       "      <td>0</td>\n",
       "      <td>twenties</td>\n",
       "      <td>female</td>\n",
       "      <td>us</td>\n",
       "      <td>en</td>\n",
       "      <td>NaN</td>\n",
       "    </tr>\n",
       "  </tbody>\n",
       "</table>\n",
       "</div>"
      ],
      "text/plain": [
       "                                              client_id  \\\n",
       "65    04a9076ba20997a616bf98eb6d5f87ffaf6b4afd16d2f8...   \n",
       "2365  aaf5d369593020eb67196c5902f44a0db2c54d74bcd2a4...   \n",
       "5578  349a5bba6fb45860ea8530d5e19d5aa69f212beb5f2f84...   \n",
       "6398  4b815c71216f4a1d37e4074c8e7d4effd7ec15376a0faf...   \n",
       "8213  7aa3df30c263b19600f1d3bb33e96913f101833a63ab2f...   \n",
       "\n",
       "                              path  \\\n",
       "65       common_voice_en_16327.mp3   \n",
       "2365  common_voice_en_20529338.mp3   \n",
       "5578    common_voice_en_530181.mp3   \n",
       "6398  common_voice_en_21126145.mp3   \n",
       "8213  common_voice_en_19609644.mp3   \n",
       "\n",
       "                                               sentence  up_votes  down_votes  \\\n",
       "65    He took the fourth part and handed it to the m...         4           0   \n",
       "2365  Both the third Viscount and his younger brothe...         2           1   \n",
       "5578     The human brain is still not fully understood.         2           0   \n",
       "6398  The fourth side bears an inscription to the me...         2           0   \n",
       "8213  A fourth volume, \"The Blue Kremlin\", is projec...         2           0   \n",
       "\n",
       "           age  gender accent locale segment  \n",
       "65         NaN     NaN    NaN     en     NaN  \n",
       "2365       NaN     NaN    NaN     en     NaN  \n",
       "5578       NaN     NaN    NaN     en     NaN  \n",
       "6398       NaN     NaN    NaN     en     NaN  \n",
       "8213  twenties  female     us     en     NaN  "
      ]
     },
     "execution_count": 8,
     "metadata": {},
     "output_type": "execute_result"
    }
   ],
   "source": [
    "fourth_pd.head()"
   ]
  },
  {
   "cell_type": "code",
   "execution_count": 9,
   "id": "c550c90e",
   "metadata": {},
   "outputs": [],
   "source": [
    "fourth_list = fourth_pd['path'].tolist()"
   ]
  },
  {
   "cell_type": "code",
   "execution_count": 10,
   "id": "78ebd4dc",
   "metadata": {},
   "outputs": [],
   "source": [
    "fourth_mp3 = [f\"cv-corpus-6.1-2020-12-11/en/clips/{a}\" for a in fourth_list[:20]]\n",
    "fourth_wav = [f\"/Users/dami.osoba/work/bawk/fourth_sample_wav/{a.replace('mp3','wav')}\" for a in fourth_list]"
   ]
  },
  {
   "cell_type": "code",
   "execution_count": 11,
   "id": "dd71b34d",
   "metadata": {},
   "outputs": [],
   "source": [
    "for a in fourth_list:\n",
    "    wav_file = a.replace('mp3','wav')\n",
    "    os.system(\n",
    "            f'ffmpeg -i /Users/dami.osoba/work/cv-corpus-6.1-2020-12-11/en/clips/{a} -ar 16000 /Users/dami.osoba/work/bawk/fourth_sample_wav/{wav_file} -y'\n",
    "        )   "
   ]
  },
  {
   "cell_type": "code",
   "execution_count": 12,
   "id": "39ba34a6",
   "metadata": {},
   "outputs": [
    {
     "name": "stdout",
     "output_type": "stream",
     "text": [
      "transcribe from file:  a didnt see any pointed by amelia\n",
      "actual: He took the fourth part and handed it to the monk.\n",
      "\n",
      "transcribe from file:  it is also widely used in the toptical media\n",
      "actual: Both the third Viscount and his younger brother, the fourth Viscount, died childless.\n",
      "\n",
      "transcribe from file:  but the contents failed to jell\n",
      "actual: The human brain is still not fully understood.\n",
      "\n",
      "transcribe from file:  the interface was indecipherable\n",
      "actual: The fourth side bears an inscription to the memory of Clarkson.\n",
      "\n",
      "transcribe from file:  he is nicknamed iron what theyre saidinaty been inderit\n",
      "actual: A fourth volume, \"The Blue Kremlin\", is projected.\n",
      "\n",
      "transcribe from file:  i am also will you herse following my destiny\n",
      "actual: The fourth and fifth leading crops are sugar beets and hay.\n",
      "\n",
      "transcribe from file:  now good weekend is edited by amelia lester\n",
      "actual: It is the fourth oldest central bank in the world.\n",
      "\n",
      "transcribe from file:  every daystoned we could be assainated\n",
      "actual: Fenton was the fourth of seven children by his father's first marriage.\n",
      "\n",
      "transcribe from file:  and her  wo dy so   st  \n",
      "actual: Many more fled the country, leading to a brain drain.\n",
      "\n",
      "transcribe from file:  she was neres a common is badion on everist in a cinited\n",
      "actual: Peter was born in Bratislava, the fourth son of Stanislav and Frantiska.\n",
      "\n",
      "transcribe from file:  she was neres a common is badion on everisting not of that\n",
      "actual: That recital made my brain implode.\n",
      "\n",
      "transcribe from file:  i want want want to a twoooower\n",
      "actual: The technique involves using sound waves to entrain brain waves.\n",
      "\n",
      "transcribe from file:  the si cuppoint said it o  \n",
      "actual: He took the fourth part and handed it to the monk.\n",
      "\n",
      "transcribe from file:  i thinke hearplish and said\n",
      "actual: He also finished fourth in the men's discus at the same championships.\n",
      "\n",
      "transcribe from file:  one bridge was only to be seated\n",
      "actual: He took the fourth part and handed it to the monk.\n",
      "\n",
      "transcribe from file:  now good weekend is edited by amelia lester\n",
      "actual: This was the fourth county organized in Mississippi.\n",
      "\n",
      "transcribe from file:  it was an interface was indecipherable\n",
      "actual: He took the fourth part and handed it to the monk.\n",
      "\n",
      "transcribe from file:  theyre do saesion\n",
      "actual: The human brain is still not fully understood.\n",
      "\n",
      "transcribe from file:  never mad a friend indeed it on the rectander\n",
      "actual: He was something of a sickly child by all accounts, never made it past his fourth birthday.\n",
      "\n",
      "transcribe from file:  and where did it come for him\n",
      "actual: This allows the brain to maintain function and memory even when it is damaged.\n",
      "\n"
     ]
    }
   ],
   "source": [
    "for wav in fourth_wav[:20]:\n",
    "    trans = inference_from_file(wav, encoder, decoder,greedy=True)\n",
    "    actuali =  fourth_pd.set_index('path').loc[wav.split('/')[-1].replace('wav','mp3')]['sentence']\n",
    "    print(f\"actual: {actuali}\\n\")"
   ]
  },
  {
   "cell_type": "markdown",
   "id": "f1d1eac4",
   "metadata": {},
   "source": [
    "# pretrained model "
   ]
  },
  {
   "cell_type": "code",
   "execution_count": 63,
   "id": "b463af79",
   "metadata": {},
   "outputs": [
    {
     "name": "stderr",
     "output_type": "stream",
     "text": [
      "[NeMo W 2021-09-09 18:10:29 optimizers:47] Apex was not found. Using the lamb optimizer will error out.\n",
      "[NeMo W 2021-09-09 18:10:32 experimental:28] Module <class 'nemo.collections.asr.data.audio_to_text_dali.AudioToCharDALIDataset'> is experimental, not ready for production and is not fully supported. Use at your own risk.\n"
     ]
    }
   ],
   "source": [
    "import nemo.collections.asr as nemo_asr\n",
    "from nemo.collections.asr.metrics.wer import word_error_rate"
   ]
  },
  {
   "cell_type": "code",
   "execution_count": 64,
   "id": "a2db5d2e",
   "metadata": {},
   "outputs": [
    {
     "name": "stdout",
     "output_type": "stream",
     "text": [
      "[NeMo I 2021-09-09 18:10:50 cloud:56] Found existing object /Users/dami.osoba/.cache/torch/NeMo/NeMo_1.2.0/QuartzNet15x5Base-En/2b066be39e9294d7100fb176ec817722/QuartzNet15x5Base-En.nemo.\n",
      "[NeMo I 2021-09-09 18:10:50 cloud:62] Re-using file from: /Users/dami.osoba/.cache/torch/NeMo/NeMo_1.2.0/QuartzNet15x5Base-En/2b066be39e9294d7100fb176ec817722/QuartzNet15x5Base-En.nemo\n",
      "[NeMo I 2021-09-09 18:10:50 common:676] Instantiating model from pre-trained checkpoint\n",
      "[NeMo I 2021-09-09 18:10:51 features:252] PADDING: 16\n",
      "[NeMo I 2021-09-09 18:10:51 features:269] STFT using torch\n",
      "[NeMo I 2021-09-09 18:10:52 modelPT:438] Model EncDecCTCModel was successfully restored from /Users/dami.osoba/.cache/torch/NeMo/NeMo_1.2.0/QuartzNet15x5Base-En/2b066be39e9294d7100fb176ec817722/QuartzNet15x5Base-En.nemo.\n"
     ]
    }
   ],
   "source": [
    "#better model\n",
    "quartznet = nemo_asr.models.EncDecCTCModel.from_pretrained(model_name=\"QuartzNet15x5Base-En\")"
   ]
  },
  {
   "cell_type": "code",
   "execution_count": 65,
   "id": "3983a33a",
   "metadata": {},
   "outputs": [
    {
     "name": "stdout",
     "output_type": "stream",
     "text": [
      "[NeMo I 2021-09-09 18:11:21 cloud:66] Downloading from: https://api.ngc.nvidia.com/v2/models/nvidia/nemo/stt_en_conformer_ctc_small_ls/versions/1.0.0/files/stt_en_conformer_ctc_small_ls.nemo to /Users/dami.osoba/.cache/torch/NeMo/NeMo_1.2.0/stt_en_conformer_ctc_small_ls/cf1b6bbcc08433257c12442c92b9996a/stt_en_conformer_ctc_small_ls.nemo\n",
      "[NeMo I 2021-09-09 18:11:58 common:676] Instantiating model from pre-trained checkpoint\n",
      "[NeMo I 2021-09-09 18:11:59 mixins:149] Tokenizer SentencePieceTokenizer initialized with 128 tokens\n"
     ]
    },
    {
     "name": "stderr",
     "output_type": "stream",
     "text": [
      "[NeMo W 2021-09-09 18:11:59 modelPT:139] If you intend to do training or fine-tuning, please call the ModelPT.setup_training_data() method and provide a valid configuration file to setup the train data loader.\n",
      "    Train config : \n",
      "    manifest_filepath: /data/Librispeech_SP_Tarred/tarred_audio_manifest.json\n",
      "    sample_rate: 16000\n",
      "    batch_size: 32\n",
      "    shuffle: true\n",
      "    num_workers: 8\n",
      "    pin_memory: true\n",
      "    use_start_end_token: false\n",
      "    trim_silence: false\n",
      "    max_duration: 16.7\n",
      "    min_duration: 0.1\n",
      "    shuffle_n: 2048\n",
      "    is_tarred: true\n",
      "    tarred_audio_filepaths: /data/Librispeech_SP_Tarred/audio__OP_0..511_CL_.tar\n",
      "    \n",
      "[NeMo W 2021-09-09 18:11:59 modelPT:146] If you intend to do validation, please call the ModelPT.setup_validation_data() or ModelPT.setup_multiple_validation_data() method and provide a valid configuration file to setup the validation data loader(s). \n",
      "    Validation config : \n",
      "    manifest_filepath:\n",
      "    - /manifests/librispeech/librivox-dev-other.json\n",
      "    - /manifests/librispeech/librivox-dev-clean.json\n",
      "    - /manifests/librispeech/librivox-test-other.json\n",
      "    - /manifests/librispeech/librivox-test-clean.json\n",
      "    sample_rate: 16000\n",
      "    batch_size: 32\n",
      "    shuffle: false\n",
      "    num_workers: 8\n",
      "    pin_memory: true\n",
      "    use_start_end_token: false\n",
      "    is_tarred: false\n",
      "    tarred_audio_filepaths: /data/LibriSpeech/eval__OP_0..1023_CL_.tar\n",
      "    \n",
      "[NeMo W 2021-09-09 18:11:59 modelPT:152] Please call the ModelPT.setup_test_data() or ModelPT.setup_multiple_test_data() method and provide a valid configuration file to setup the test data loader(s).\n",
      "    Test config : \n",
      "    manifest_filepath:\n",
      "    - /manifests/librispeech/librivox-dev-other.json\n",
      "    - /manifests/librispeech/librivox-dev-clean.json\n",
      "    - /manifests/librispeech/librivox-test-other.json\n",
      "    - /manifests/librispeech/librivox-test-clean.json\n",
      "    sample_rate: 16000\n",
      "    batch_size: 32\n",
      "    shuffle: false\n",
      "    num_workers: 8\n",
      "    pin_memory: true\n",
      "    use_start_end_token: false\n",
      "    is_tarred: false\n",
      "    tarred_audio_filepaths: /data/LibriSpeech/eval__OP_0..1023_CL_.tar\n",
      "    \n"
     ]
    },
    {
     "name": "stdout",
     "output_type": "stream",
     "text": [
      "[NeMo I 2021-09-09 18:11:59 features:252] PADDING: 0\n",
      "[NeMo I 2021-09-09 18:11:59 features:269] STFT using torch\n",
      "[NeMo I 2021-09-09 18:12:00 modelPT:438] Model EncDecCTCModelBPE was successfully restored from /Users/dami.osoba/.cache/torch/NeMo/NeMo_1.2.0/stt_en_conformer_ctc_small_ls/cf1b6bbcc08433257c12442c92b9996a/stt_en_conformer_ctc_small_ls.nemo.\n"
     ]
    }
   ],
   "source": [
    "#worse model\n",
    "asr_model = nemo_asr.models.EncDecCTCModelBPE.from_pretrained(model_name=\"stt_en_conformer_ctc_small_ls\")"
   ]
  },
  {
   "cell_type": "code",
   "execution_count": 80,
   "id": "79147840",
   "metadata": {},
   "outputs": [
    {
     "data": {
      "application/vnd.jupyter.widget-view+json": {
       "model_id": "791d89a8f49540b28291c26926278397",
       "version_major": 2,
       "version_minor": 0
      },
      "text/plain": [
       "Transcribing:   0%|          | 0/1 [00:00<?, ?it/s]"
      ]
     },
     "metadata": {},
     "output_type": "display_data"
    },
    {
     "name": "stdout",
     "output_type": "stream",
     "text": [
      "predicted: he took the boot t and and it thlew the muck \n",
      " actual: He took the fourth part and handed it to the monk.\n",
      "\n"
     ]
    },
    {
     "data": {
      "application/vnd.jupyter.widget-view+json": {
       "model_id": "a47ca8b05bc24c67bf30d0f1c47daccd",
       "version_major": 2,
       "version_minor": 0
      },
      "text/plain": [
       "Transcribing:   0%|          | 0/1 [00:00<?, ?it/s]"
      ]
     },
     "metadata": {},
     "output_type": "display_data"
    },
    {
     "name": "stdout",
     "output_type": "stream",
     "text": [
      "predicted: both the third viscount and his younger brother the fourth viscount died childless \n",
      " actual: Both the third Viscount and his younger brother, the fourth Viscount, died childless.\n",
      "\n"
     ]
    },
    {
     "data": {
      "application/vnd.jupyter.widget-view+json": {
       "model_id": "9615bf160e9141c998762e39b9981536",
       "version_major": 2,
       "version_minor": 0
      },
      "text/plain": [
       "Transcribing:   0%|          | 0/1 [00:00<?, ?it/s]"
      ]
     },
     "metadata": {},
     "output_type": "display_data"
    },
    {
     "name": "stdout",
     "output_type": "stream",
     "text": [
      "predicted: the human brain is still not fully understood \n",
      " actual: The human brain is still not fully understood.\n",
      "\n"
     ]
    },
    {
     "data": {
      "application/vnd.jupyter.widget-view+json": {
       "model_id": "6c61c55a985f43868d3147e9feeca688",
       "version_major": 2,
       "version_minor": 0
      },
      "text/plain": [
       "Transcribing:   0%|          | 0/1 [00:00<?, ?it/s]"
      ]
     },
     "metadata": {},
     "output_type": "display_data"
    },
    {
     "name": "stdout",
     "output_type": "stream",
     "text": [
      "predicted: the fourth side bzin inscriptioned in a memory of quaxin \n",
      " actual: The fourth side bears an inscription to the memory of Clarkson.\n",
      "\n"
     ]
    },
    {
     "data": {
      "application/vnd.jupyter.widget-view+json": {
       "model_id": "d0ad35fe2b5d4de5bef83ccedfe68db9",
       "version_major": 2,
       "version_minor": 0
      },
      "text/plain": [
       "Transcribing:   0%|          | 0/1 [00:00<?, ?it/s]"
      ]
     },
     "metadata": {},
     "output_type": "display_data"
    },
    {
     "name": "stdout",
     "output_type": "stream",
     "text": [
      "predicted: a fort volume the blue crumbling is projected \n",
      " actual: A fourth volume, \"The Blue Kremlin\", is projected.\n",
      "\n"
     ]
    },
    {
     "data": {
      "application/vnd.jupyter.widget-view+json": {
       "model_id": "cef27bb7db6f4995b3b28df73b85fa0e",
       "version_major": 2,
       "version_minor": 0
      },
      "text/plain": [
       "Transcribing:   0%|          | 0/1 [00:00<?, ?it/s]"
      ]
     },
     "metadata": {},
     "output_type": "display_data"
    },
    {
     "name": "stdout",
     "output_type": "stream",
     "text": [
      "predicted: the portentive the leading girl says sugs be sent her \n",
      " actual: The fourth and fifth leading crops are sugar beets and hay.\n",
      "\n"
     ]
    },
    {
     "data": {
      "application/vnd.jupyter.widget-view+json": {
       "model_id": "47dd389abebc4fff97b0e1044774a301",
       "version_major": 2,
       "version_minor": 0
      },
      "text/plain": [
       "Transcribing:   0%|          | 0/1 [00:00<?, ?it/s]"
      ]
     },
     "metadata": {},
     "output_type": "display_data"
    },
    {
     "name": "stdout",
     "output_type": "stream",
     "text": [
      "predicted: he drove the fort all the centre bank in the road \n",
      " actual: It is the fourth oldest central bank in the world.\n",
      "\n"
     ]
    },
    {
     "data": {
      "application/vnd.jupyter.widget-view+json": {
       "model_id": "b4b5b3e6d6ef4e70af911ca46095f3a9",
       "version_major": 2,
       "version_minor": 0
      },
      "text/plain": [
       "Transcribing:   0%|          | 0/1 [00:00<?, ?it/s]"
      ]
     },
     "metadata": {},
     "output_type": "display_data"
    },
    {
     "name": "stdout",
     "output_type": "stream",
     "text": [
      "predicted: freandon was the fourth of seven gogen by his father's first marriage \n",
      " actual: Fenton was the fourth of seven children by his father's first marriage.\n",
      "\n"
     ]
    },
    {
     "data": {
      "application/vnd.jupyter.widget-view+json": {
       "model_id": "5865a17697624211ba8354ac1ea4d9b8",
       "version_major": 2,
       "version_minor": 0
      },
      "text/plain": [
       "Transcribing:   0%|          | 0/1 [00:00<?, ?it/s]"
      ]
     },
     "metadata": {},
     "output_type": "display_data"
    },
    {
     "name": "stdout",
     "output_type": "stream",
     "text": [
      "predicted: manimore fled the country leaving toi a brain drain \n",
      " actual: Many more fled the country, leading to a brain drain.\n",
      "\n"
     ]
    },
    {
     "data": {
      "application/vnd.jupyter.widget-view+json": {
       "model_id": "c85011384e7a4034bd78b3c4a1475847",
       "version_major": 2,
       "version_minor": 0
      },
      "text/plain": [
       "Transcribing:   0%|          | 0/1 [00:00<?, ?it/s]"
      ]
     },
     "metadata": {},
     "output_type": "display_data"
    },
    {
     "name": "stdout",
     "output_type": "stream",
     "text": [
      "predicted: peter was born in bright slower the fth son of stance slw and franticcar \n",
      " actual: Peter was born in Bratislava, the fourth son of Stanislav and Frantiska.\n",
      "\n"
     ]
    }
   ],
   "source": [
    "for wav in fourth_wav[:10]:\n",
    "    trans = asr_model.transcribe(paths2audio_files=[wav])\n",
    "    actuali =  fourth_pd.set_index('path').loc[wav.split('/')[-1].replace('wav','mp3')]['sentence']\n",
    "    print(\"predicted:\",trans[0],\"\\n\",f\"actual: {actuali}\\n\")"
   ]
  },
  {
   "cell_type": "code",
   "execution_count": 79,
   "id": "644efccf",
   "metadata": {},
   "outputs": [
    {
     "data": {
      "application/vnd.jupyter.widget-view+json": {
       "model_id": "3406e6d7d8874ce7ade113347a1d9a90",
       "version_major": 2,
       "version_minor": 0
      },
      "text/plain": [
       "Transcribing:   0%|          | 0/1 [00:00<?, ?it/s]"
      ]
     },
     "metadata": {},
     "output_type": "display_data"
    },
    {
     "name": "stderr",
     "output_type": "stream",
     "text": [
      "[NeMo W 2021-09-09 18:16:40 nemo_logging:349] /Users/dami.osoba/opt/anaconda3/envs/tf/lib/python3.7/site-packages/torch/_tensor.py:575: UserWarning: floor_divide is deprecated, and will be removed in a future version of pytorch. It currently rounds toward 0 (like the 'trunc' function NOT 'floor'). This results in incorrect rounding for negative values.\n",
      "    To keep the current behavior, use torch.div(a, b, rounding_mode='trunc'), or for actual floor division, use torch.div(a, b, rounding_mode='floor'). (Triggered internally at  /Users/distiller/project/conda/conda-bld/pytorch_1623459064158/work/aten/src/ATen/native/BinaryOps.cpp:467.)\n",
      "      return torch.floor_divide(self, other)\n",
      "    \n"
     ]
    },
    {
     "name": "stdout",
     "output_type": "stream",
     "text": [
      "predicted: he took the forte up and handed to the muck \n",
      " actual: He took the fourth part and handed it to the monk.\n",
      "\n"
     ]
    },
    {
     "data": {
      "application/vnd.jupyter.widget-view+json": {
       "model_id": "b1b494d2c42444ba8aafe0a217acd35e",
       "version_major": 2,
       "version_minor": 0
      },
      "text/plain": [
       "Transcribing:   0%|          | 0/1 [00:00<?, ?it/s]"
      ]
     },
     "metadata": {},
     "output_type": "display_data"
    },
    {
     "name": "stdout",
     "output_type": "stream",
     "text": [
      "predicted: both the third viscount and his younger brother e forth discount died childless \n",
      " actual: Both the third Viscount and his younger brother, the fourth Viscount, died childless.\n",
      "\n"
     ]
    },
    {
     "data": {
      "application/vnd.jupyter.widget-view+json": {
       "model_id": "e81b491acb294fddbb7c1fe1a31dd5aa",
       "version_major": 2,
       "version_minor": 0
      },
      "text/plain": [
       "Transcribing:   0%|          | 0/1 [00:00<?, ?it/s]"
      ]
     },
     "metadata": {},
     "output_type": "display_data"
    },
    {
     "name": "stdout",
     "output_type": "stream",
     "text": [
      "predicted: the human brain is still not fully understood \n",
      " actual: The human brain is still not fully understood.\n",
      "\n"
     ]
    },
    {
     "data": {
      "application/vnd.jupyter.widget-view+json": {
       "model_id": "714be2fe47624785982e25997155cbfa",
       "version_major": 2,
       "version_minor": 0
      },
      "text/plain": [
       "Transcribing:   0%|          | 0/1 [00:00<?, ?it/s]"
      ]
     },
     "metadata": {},
     "output_type": "display_data"
    },
    {
     "name": "stdout",
     "output_type": "stream",
     "text": [
      "predicted: the fourt sigy bears an inscription in the memory of clexin \n",
      " actual: The fourth side bears an inscription to the memory of Clarkson.\n",
      "\n"
     ]
    },
    {
     "data": {
      "application/vnd.jupyter.widget-view+json": {
       "model_id": "b3ab820a63974a50b05b0635e4080c76",
       "version_major": 2,
       "version_minor": 0
      },
      "text/plain": [
       "Transcribing:   0%|          | 0/1 [00:00<?, ?it/s]"
      ]
     },
     "metadata": {},
     "output_type": "display_data"
    },
    {
     "name": "stdout",
     "output_type": "stream",
     "text": [
      "predicted: a fort volume the blue crumbling is projected \n",
      " actual: A fourth volume, \"The Blue Kremlin\", is projected.\n",
      "\n"
     ]
    },
    {
     "data": {
      "application/vnd.jupyter.widget-view+json": {
       "model_id": "4b011a72a7ee4e3687deeafc8b620ce8",
       "version_major": 2,
       "version_minor": 0
      },
      "text/plain": [
       "Transcribing:   0%|          | 0/1 [00:00<?, ?it/s]"
      ]
     },
     "metadata": {},
     "output_type": "display_data"
    },
    {
     "name": "stdout",
     "output_type": "stream",
     "text": [
      "predicted: the forth and tif leading toops are sugars bits and fake \n",
      " actual: The fourth and fifth leading crops are sugar beets and hay.\n",
      "\n"
     ]
    },
    {
     "data": {
      "application/vnd.jupyter.widget-view+json": {
       "model_id": "3b62fe07b18b492981f273557b8d4ac4",
       "version_major": 2,
       "version_minor": 0
      },
      "text/plain": [
       "Transcribing:   0%|          | 0/1 [00:00<?, ?it/s]"
      ]
     },
     "metadata": {},
     "output_type": "display_data"
    },
    {
     "name": "stdout",
     "output_type": "stream",
     "text": [
      "predicted: it is the fourth ofdest central bank in the woad \n",
      " actual: It is the fourth oldest central bank in the world.\n",
      "\n"
     ]
    },
    {
     "data": {
      "application/vnd.jupyter.widget-view+json": {
       "model_id": "5b1f0597ff6440b4b7cbe1960d0df65c",
       "version_major": 2,
       "version_minor": 0
      },
      "text/plain": [
       "Transcribing:   0%|          | 0/1 [00:00<?, ?it/s]"
      ]
     },
     "metadata": {},
     "output_type": "display_data"
    },
    {
     "name": "stdout",
     "output_type": "stream",
     "text": [
      "predicted: fanton was the fourth of seven children bis fathers first marriage \n",
      " actual: Fenton was the fourth of seven children by his father's first marriage.\n",
      "\n"
     ]
    },
    {
     "data": {
      "application/vnd.jupyter.widget-view+json": {
       "model_id": "4be036a33a224fd08efc15c0b76be31d",
       "version_major": 2,
       "version_minor": 0
      },
      "text/plain": [
       "Transcribing:   0%|          | 0/1 [00:00<?, ?it/s]"
      ]
     },
     "metadata": {},
     "output_type": "display_data"
    },
    {
     "name": "stdout",
     "output_type": "stream",
     "text": [
      "predicted: manimore fled the country leading to a brain drain \n",
      " actual: Many more fled the country, leading to a brain drain.\n",
      "\n"
     ]
    },
    {
     "data": {
      "application/vnd.jupyter.widget-view+json": {
       "model_id": "a33d760a39ba4fbc9ae973bdc1d2f3dc",
       "version_major": 2,
       "version_minor": 0
      },
      "text/plain": [
       "Transcribing:   0%|          | 0/1 [00:00<?, ?it/s]"
      ]
     },
     "metadata": {},
     "output_type": "display_data"
    },
    {
     "name": "stdout",
     "output_type": "stream",
     "text": [
      "predicted: peter was born in bradslawar the fourth son of stanilav and frandisca \n",
      " actual: Peter was born in Bratislava, the fourth son of Stanislav and Frantiska.\n",
      "\n"
     ]
    }
   ],
   "source": [
    "# hypothesis = asr_model.transcribe(paths2audio_files=files[:100])\n",
    "# better model \n",
    "for wav in fourth_wav[:10]:\n",
    "    trans = quartznet.transcribe(paths2audio_files=[wav])\n",
    "    actuali =  fourth_pd.set_index('path').loc[wav.split('/')[-1].replace('wav','mp3')]['sentence']\n",
    "    print(\"predicted:\",trans[0],\"\\n\",f\"actual: {actuali}\\n\")"
   ]
  },
  {
   "cell_type": "code",
   "execution_count": 78,
   "id": "71891c24",
   "metadata": {},
   "outputs": [
    {
     "name": "stdout",
     "output_type": "stream",
     "text": [
      "0.5\n"
     ]
    }
   ],
   "source": [
    "#get word error rate\n",
    "wer = word_error_rate(hypotheses=[\"manimore fled the country leaving toi a brain drain\"], \n",
    "                      references=[\"Many more fled the country, leading to a brain drain\"])\n",
    "print(wer)"
   ]
  },
  {
   "cell_type": "code",
   "execution_count": null,
   "id": "b2ac6b17",
   "metadata": {},
   "outputs": [],
   "source": []
  }
 ],
 "metadata": {
  "kernelspec": {
   "display_name": "Python 3",
   "language": "python",
   "name": "python3"
  },
  "language_info": {
   "codemirror_mode": {
    "name": "ipython",
    "version": 3
   },
   "file_extension": ".py",
   "mimetype": "text/x-python",
   "name": "python",
   "nbconvert_exporter": "python",
   "pygments_lexer": "ipython3",
   "version": "3.7.10"
  }
 },
 "nbformat": 4,
 "nbformat_minor": 5
}
